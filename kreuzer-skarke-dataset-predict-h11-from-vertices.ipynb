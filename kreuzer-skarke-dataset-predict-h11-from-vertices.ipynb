{
 "cells": [
  {
   "cell_type": "code",
   "execution_count": 1,
   "id": "213e34bd",
   "metadata": {
    "_cell_guid": "b1076dfc-b9ad-4769-8c92-a6c4dae69d19",
    "_uuid": "8f2839f25d086af736a60e9eeb907d3b93b6e0e5",
    "execution": {
     "iopub.execute_input": "2024-03-11T11:34:21.470979Z",
     "iopub.status.busy": "2024-03-11T11:34:21.470627Z",
     "iopub.status.idle": "2024-03-11T11:34:23.880003Z",
     "shell.execute_reply": "2024-03-11T11:34:23.878943Z"
    },
    "papermill": {
     "duration": 2.432553,
     "end_time": "2024-03-11T11:34:23.882570",
     "exception": false,
     "start_time": "2024-03-11T11:34:21.450017",
     "status": "completed"
    },
    "tags": []
   },
   "outputs": [],
   "source": [
    "import os\n",
    "import numpy as np \n",
    "import pandas as pd \n",
    "import seaborn as sns\n",
    "import matplotlib.pyplot as plt\n",
    "%matplotlib inline"
   ]
  },
  {
   "cell_type": "markdown",
   "id": "3afa63c0",
   "metadata": {
    "papermill": {
     "duration": 0.018223,
     "end_time": "2024-03-11T11:34:23.919976",
     "exception": false,
     "start_time": "2024-03-11T11:34:23.901753",
     "status": "completed"
    },
    "tags": []
   },
   "source": [
    "The dataset is from Hugging Face dataset library at the following links:\n",
    "\n",
    "https://huggingface.co/datasets/calabi-yau-data/polytopes-4d\n",
    "\n",
    "https://huggingface.co/datasets/calabi-yau-data/ws-5d (5d polytope)\n",
    "\n",
    "however, trying to load the 4d polytopes dataset always give a TypeError."
   ]
  },
  {
   "cell_type": "code",
   "execution_count": 2,
   "id": "a1a34cb7",
   "metadata": {
    "execution": {
     "iopub.execute_input": "2024-03-11T11:34:23.958356Z",
     "iopub.status.busy": "2024-03-11T11:34:23.957869Z",
     "iopub.status.idle": "2024-03-11T11:34:23.962383Z",
     "shell.execute_reply": "2024-03-11T11:34:23.961445Z"
    },
    "papermill": {
     "duration": 0.025759,
     "end_time": "2024-03-11T11:34:23.964594",
     "exception": false,
     "start_time": "2024-03-11T11:34:23.938835",
     "status": "completed"
    },
    "tags": []
   },
   "outputs": [],
   "source": [
    "#!pip install datasets\n",
    "#!pip show datasets\n",
    "\n",
    "#from datasets import load_dataset\n",
    "#this return a TypeError\n",
    "#dataset = load_dataset(\"calabi-yau-data/polytopes-4d\")"
   ]
  },
  {
   "cell_type": "markdown",
   "id": "332a2d81",
   "metadata": {
    "papermill": {
     "duration": 0.018198,
     "end_time": "2024-03-11T11:34:24.000850",
     "exception": false,
     "start_time": "2024-03-11T11:34:23.982652",
     "status": "completed"
    },
    "tags": []
   },
   "source": [
    "# Load data"
   ]
  },
  {
   "cell_type": "code",
   "execution_count": 3,
   "id": "73fd8d0e",
   "metadata": {
    "execution": {
     "iopub.execute_input": "2024-03-11T11:34:24.039464Z",
     "iopub.status.busy": "2024-03-11T11:34:24.038736Z",
     "iopub.status.idle": "2024-03-11T11:34:44.082246Z",
     "shell.execute_reply": "2024-03-11T11:34:44.081360Z"
    },
    "papermill": {
     "duration": 20.065133,
     "end_time": "2024-03-11T11:34:44.084636",
     "exception": false,
     "start_time": "2024-03-11T11:34:24.019503",
     "status": "completed"
    },
    "tags": []
   },
   "outputs": [],
   "source": [
    "path = '/kaggle/input/kreuzer-skarke-4d-polytopes/'\n",
    "df1 = pd.read_parquet(path+'polytopes-4d-08-vertices.parquet')\n",
    "df2 = pd.read_parquet(path+'polytopes-4d-09-vertices.parquet')"
   ]
  },
  {
   "cell_type": "code",
   "execution_count": 4,
   "id": "57b61b1f",
   "metadata": {
    "execution": {
     "iopub.execute_input": "2024-03-11T11:34:44.123688Z",
     "iopub.status.busy": "2024-03-11T11:34:44.122840Z",
     "iopub.status.idle": "2024-03-11T11:34:44.130601Z",
     "shell.execute_reply": "2024-03-11T11:34:44.129701Z"
    },
    "papermill": {
     "duration": 0.029461,
     "end_time": "2024-03-11T11:34:44.132691",
     "exception": false,
     "start_time": "2024-03-11T11:34:44.103230",
     "status": "completed"
    },
    "tags": []
   },
   "outputs": [
    {
     "data": {
      "text/plain": [
       "Index(['vertices', 'vertex_count', 'facet_count', 'point_count',\n",
       "       'dual_point_count', 'h11', 'h12', 'euler_characteristic'],\n",
       "      dtype='object')"
      ]
     },
     "execution_count": 4,
     "metadata": {},
     "output_type": "execute_result"
    }
   ],
   "source": [
    "df1.columns"
   ]
  },
  {
   "cell_type": "code",
   "execution_count": 5,
   "id": "fd74c448",
   "metadata": {
    "execution": {
     "iopub.execute_input": "2024-03-11T11:34:44.172496Z",
     "iopub.status.busy": "2024-03-11T11:34:44.171715Z",
     "iopub.status.idle": "2024-03-11T11:34:44.178640Z",
     "shell.execute_reply": "2024-03-11T11:34:44.177702Z"
    },
    "papermill": {
     "duration": 0.028801,
     "end_time": "2024-03-11T11:34:44.180770",
     "exception": false,
     "start_time": "2024-03-11T11:34:44.151969",
     "status": "completed"
    },
    "tags": []
   },
   "outputs": [
    {
     "data": {
      "text/plain": [
       "(834638, 2867955, 3702593)"
      ]
     },
     "execution_count": 5,
     "metadata": {},
     "output_type": "execute_result"
    }
   ],
   "source": [
    "len(df1), len(df2), len(df1)+len(df2)"
   ]
  },
  {
   "cell_type": "code",
   "execution_count": 6,
   "id": "b8f35ca3",
   "metadata": {
    "execution": {
     "iopub.execute_input": "2024-03-11T11:34:44.219088Z",
     "iopub.status.busy": "2024-03-11T11:34:44.218766Z",
     "iopub.status.idle": "2024-03-11T11:34:44.335593Z",
     "shell.execute_reply": "2024-03-11T11:34:44.334721Z"
    },
    "papermill": {
     "duration": 0.138489,
     "end_time": "2024-03-11T11:34:44.337833",
     "exception": false,
     "start_time": "2024-03-11T11:34:44.199344",
     "status": "completed"
    },
    "tags": []
   },
   "outputs": [
    {
     "data": {
      "text/plain": [
       "True"
      ]
     },
     "execution_count": 6,
     "metadata": {},
     "output_type": "execute_result"
    }
   ],
   "source": [
    "df = pd.concat([df1, df2], ignore_index=True)\n",
    "len(df)==len(df1)+len(df2)"
   ]
  },
  {
   "cell_type": "code",
   "execution_count": 7,
   "id": "79ede1a5",
   "metadata": {
    "execution": {
     "iopub.execute_input": "2024-03-11T11:34:44.376724Z",
     "iopub.status.busy": "2024-03-11T11:34:44.376360Z",
     "iopub.status.idle": "2024-03-11T11:34:44.435580Z",
     "shell.execute_reply": "2024-03-11T11:34:44.434626Z"
    },
    "papermill": {
     "duration": 0.080968,
     "end_time": "2024-03-11T11:34:44.437850",
     "exception": false,
     "start_time": "2024-03-11T11:34:44.356882",
     "status": "completed"
    },
    "tags": []
   },
   "outputs": [
    {
     "data": {
      "text/html": [
       "<div>\n",
       "<style scoped>\n",
       "    .dataframe tbody tr th:only-of-type {\n",
       "        vertical-align: middle;\n",
       "    }\n",
       "\n",
       "    .dataframe tbody tr th {\n",
       "        vertical-align: top;\n",
       "    }\n",
       "\n",
       "    .dataframe thead th {\n",
       "        text-align: right;\n",
       "    }\n",
       "</style>\n",
       "<table border=\"1\" class=\"dataframe\">\n",
       "  <thead>\n",
       "    <tr style=\"text-align: right;\">\n",
       "      <th></th>\n",
       "      <th>vertices</th>\n",
       "      <th>vertex_count</th>\n",
       "      <th>facet_count</th>\n",
       "      <th>point_count</th>\n",
       "      <th>dual_point_count</th>\n",
       "      <th>h11</th>\n",
       "      <th>h12</th>\n",
       "      <th>euler_characteristic</th>\n",
       "    </tr>\n",
       "  </thead>\n",
       "  <tbody>\n",
       "    <tr>\n",
       "      <th>0</th>\n",
       "      <td>[[1, 0, 0, 0], [1, 2, 0, 0], [1, 2, 4, 0], [1,...</td>\n",
       "      <td>8</td>\n",
       "      <td>6</td>\n",
       "      <td>102</td>\n",
       "      <td>7</td>\n",
       "      <td>2</td>\n",
       "      <td>84</td>\n",
       "      <td>-164</td>\n",
       "    </tr>\n",
       "    <tr>\n",
       "      <th>1</th>\n",
       "      <td>[[1, 0, 0, 0], [1, 2, 0, 0], [1, 0, 4, 0], [1,...</td>\n",
       "      <td>8</td>\n",
       "      <td>6</td>\n",
       "      <td>105</td>\n",
       "      <td>7</td>\n",
       "      <td>2</td>\n",
       "      <td>86</td>\n",
       "      <td>-168</td>\n",
       "    </tr>\n",
       "    <tr>\n",
       "      <th>2</th>\n",
       "      <td>[[1, 0, 0, 0], [1, 4, 0, 0], [1, 0, 4, 0], [0,...</td>\n",
       "      <td>8</td>\n",
       "      <td>6</td>\n",
       "      <td>105</td>\n",
       "      <td>7</td>\n",
       "      <td>2</td>\n",
       "      <td>86</td>\n",
       "      <td>-168</td>\n",
       "    </tr>\n",
       "    <tr>\n",
       "      <th>3</th>\n",
       "      <td>[[1, 0, 0, 0], [0, 1, 0, 0], [3, 2, 4, 0], [3,...</td>\n",
       "      <td>8</td>\n",
       "      <td>6</td>\n",
       "      <td>106</td>\n",
       "      <td>7</td>\n",
       "      <td>2</td>\n",
       "      <td>86</td>\n",
       "      <td>-168</td>\n",
       "    </tr>\n",
       "    <tr>\n",
       "      <th>4</th>\n",
       "      <td>[[1, 0, 0, 0], [1, 3, 0, 0], [1, 0, 3, 0], [1,...</td>\n",
       "      <td>8</td>\n",
       "      <td>6</td>\n",
       "      <td>111</td>\n",
       "      <td>7</td>\n",
       "      <td>2</td>\n",
       "      <td>90</td>\n",
       "      <td>-176</td>\n",
       "    </tr>\n",
       "    <tr>\n",
       "      <th>...</th>\n",
       "      <td>...</td>\n",
       "      <td>...</td>\n",
       "      <td>...</td>\n",
       "      <td>...</td>\n",
       "      <td>...</td>\n",
       "      <td>...</td>\n",
       "      <td>...</td>\n",
       "      <td>...</td>\n",
       "    </tr>\n",
       "    <tr>\n",
       "      <th>3702588</th>\n",
       "      <td>[[1, 0, 0, 0], [0, 1, 0, 0], [0, 0, 1, 0], [-7...</td>\n",
       "      <td>9</td>\n",
       "      <td>9</td>\n",
       "      <td>243</td>\n",
       "      <td>237</td>\n",
       "      <td>168</td>\n",
       "      <td>174</td>\n",
       "      <td>-12</td>\n",
       "    </tr>\n",
       "    <tr>\n",
       "      <th>3702589</th>\n",
       "      <td>[[1, 0, 0, 0], [0, 1, 0, 0], [0, 0, 1, 0], [0,...</td>\n",
       "      <td>9</td>\n",
       "      <td>9</td>\n",
       "      <td>275</td>\n",
       "      <td>249</td>\n",
       "      <td>178</td>\n",
       "      <td>196</td>\n",
       "      <td>-36</td>\n",
       "    </tr>\n",
       "    <tr>\n",
       "      <th>3702590</th>\n",
       "      <td>[[1, 0, 0, 0], [0, 1, 0, 0], [0, 0, 1, 0], [0,...</td>\n",
       "      <td>9</td>\n",
       "      <td>9</td>\n",
       "      <td>249</td>\n",
       "      <td>275</td>\n",
       "      <td>196</td>\n",
       "      <td>178</td>\n",
       "      <td>36</td>\n",
       "    </tr>\n",
       "    <tr>\n",
       "      <th>3702591</th>\n",
       "      <td>[[1, 0, 0, 0], [0, 1, 0, 0], [0, 0, 1, 0], [0,...</td>\n",
       "      <td>9</td>\n",
       "      <td>9</td>\n",
       "      <td>251</td>\n",
       "      <td>251</td>\n",
       "      <td>179</td>\n",
       "      <td>179</td>\n",
       "      <td>0</td>\n",
       "    </tr>\n",
       "    <tr>\n",
       "      <th>3702592</th>\n",
       "      <td>[[1, 0, 0, 0], [0, 1, 0, 0], [0, 0, 1, 0], [0,...</td>\n",
       "      <td>9</td>\n",
       "      <td>9</td>\n",
       "      <td>273</td>\n",
       "      <td>273</td>\n",
       "      <td>195</td>\n",
       "      <td>195</td>\n",
       "      <td>0</td>\n",
       "    </tr>\n",
       "  </tbody>\n",
       "</table>\n",
       "<p>3702593 rows × 8 columns</p>\n",
       "</div>"
      ],
      "text/plain": [
       "                                                  vertices  vertex_count  \\\n",
       "0        [[1, 0, 0, 0], [1, 2, 0, 0], [1, 2, 4, 0], [1,...             8   \n",
       "1        [[1, 0, 0, 0], [1, 2, 0, 0], [1, 0, 4, 0], [1,...             8   \n",
       "2        [[1, 0, 0, 0], [1, 4, 0, 0], [1, 0, 4, 0], [0,...             8   \n",
       "3        [[1, 0, 0, 0], [0, 1, 0, 0], [3, 2, 4, 0], [3,...             8   \n",
       "4        [[1, 0, 0, 0], [1, 3, 0, 0], [1, 0, 3, 0], [1,...             8   \n",
       "...                                                    ...           ...   \n",
       "3702588  [[1, 0, 0, 0], [0, 1, 0, 0], [0, 0, 1, 0], [-7...             9   \n",
       "3702589  [[1, 0, 0, 0], [0, 1, 0, 0], [0, 0, 1, 0], [0,...             9   \n",
       "3702590  [[1, 0, 0, 0], [0, 1, 0, 0], [0, 0, 1, 0], [0,...             9   \n",
       "3702591  [[1, 0, 0, 0], [0, 1, 0, 0], [0, 0, 1, 0], [0,...             9   \n",
       "3702592  [[1, 0, 0, 0], [0, 1, 0, 0], [0, 0, 1, 0], [0,...             9   \n",
       "\n",
       "         facet_count  point_count  dual_point_count  h11  h12  \\\n",
       "0                  6          102                 7    2   84   \n",
       "1                  6          105                 7    2   86   \n",
       "2                  6          105                 7    2   86   \n",
       "3                  6          106                 7    2   86   \n",
       "4                  6          111                 7    2   90   \n",
       "...              ...          ...               ...  ...  ...   \n",
       "3702588            9          243               237  168  174   \n",
       "3702589            9          275               249  178  196   \n",
       "3702590            9          249               275  196  178   \n",
       "3702591            9          251               251  179  179   \n",
       "3702592            9          273               273  195  195   \n",
       "\n",
       "         euler_characteristic  \n",
       "0                        -164  \n",
       "1                        -168  \n",
       "2                        -168  \n",
       "3                        -168  \n",
       "4                        -176  \n",
       "...                       ...  \n",
       "3702588                   -12  \n",
       "3702589                   -36  \n",
       "3702590                    36  \n",
       "3702591                     0  \n",
       "3702592                     0  \n",
       "\n",
       "[3702593 rows x 8 columns]"
      ]
     },
     "execution_count": 7,
     "metadata": {},
     "output_type": "execute_result"
    }
   ],
   "source": [
    "df"
   ]
  },
  {
   "cell_type": "markdown",
   "id": "f387ad98",
   "metadata": {
    "papermill": {
     "duration": 0.018872,
     "end_time": "2024-03-11T11:34:44.475782",
     "exception": false,
     "start_time": "2024-03-11T11:34:44.456910",
     "status": "completed"
    },
    "tags": []
   },
   "source": [
    "# EDA"
   ]
  },
  {
   "cell_type": "markdown",
   "id": "e569ba6a",
   "metadata": {
    "papermill": {
     "duration": 0.018676,
     "end_time": "2024-03-11T11:34:44.513245",
     "exception": false,
     "start_time": "2024-03-11T11:34:44.494569",
     "status": "completed"
    },
    "tags": []
   },
   "source": [
    "## Vertices"
   ]
  },
  {
   "cell_type": "code",
   "execution_count": 8,
   "id": "99a2ae4a",
   "metadata": {
    "execution": {
     "iopub.execute_input": "2024-03-11T11:34:44.558215Z",
     "iopub.status.busy": "2024-03-11T11:34:44.557314Z",
     "iopub.status.idle": "2024-03-11T11:34:44.567056Z",
     "shell.execute_reply": "2024-03-11T11:34:44.566008Z"
    },
    "papermill": {
     "duration": 0.034896,
     "end_time": "2024-03-11T11:34:44.569616",
     "exception": false,
     "start_time": "2024-03-11T11:34:44.534720",
     "status": "completed"
    },
    "tags": []
   },
   "outputs": [
    {
     "data": {
      "text/plain": [
       "(dtype('O'),\n",
       " array([array([1, 0, 0, 0], dtype=int32), array([1, 2, 0, 0], dtype=int32),\n",
       "        array([1, 2, 4, 0], dtype=int32), array([1, 2, 0, 4], dtype=int32),\n",
       "        array([ 0,  1, -1, -1], dtype=int32),\n",
       "        array([ 0,  1,  4, -1], dtype=int32),\n",
       "        array([ 0,  1, -1,  4], dtype=int32),\n",
       "        array([-5, -9, -6, -6], dtype=int32)], dtype=object))"
      ]
     },
     "execution_count": 8,
     "metadata": {},
     "output_type": "execute_result"
    }
   ],
   "source": [
    " df.vertices.iloc[0].dtype, df.vertices.iloc[0]"
   ]
  },
  {
   "cell_type": "code",
   "execution_count": 9,
   "id": "69074c67",
   "metadata": {
    "execution": {
     "iopub.execute_input": "2024-03-11T11:34:44.615339Z",
     "iopub.status.busy": "2024-03-11T11:34:44.614727Z",
     "iopub.status.idle": "2024-03-11T11:34:44.661026Z",
     "shell.execute_reply": "2024-03-11T11:34:44.660046Z"
    },
    "papermill": {
     "duration": 0.070566,
     "end_time": "2024-03-11T11:34:44.663447",
     "exception": false,
     "start_time": "2024-03-11T11:34:44.592881",
     "status": "completed"
    },
    "tags": []
   },
   "outputs": [
    {
     "data": {
      "text/plain": [
       "(2, array([8, 9], dtype=int32))"
      ]
     },
     "execution_count": 9,
     "metadata": {},
     "output_type": "execute_result"
    }
   ],
   "source": [
    "df['vertex_count'].nunique(),df['vertex_count'].unique()"
   ]
  },
  {
   "cell_type": "code",
   "execution_count": 10,
   "id": "14f9ccea",
   "metadata": {
    "execution": {
     "iopub.execute_input": "2024-03-11T11:34:44.708080Z",
     "iopub.status.busy": "2024-03-11T11:34:44.707385Z",
     "iopub.status.idle": "2024-03-11T11:34:44.731925Z",
     "shell.execute_reply": "2024-03-11T11:34:44.730852Z"
    },
    "papermill": {
     "duration": 0.048417,
     "end_time": "2024-03-11T11:34:44.734141",
     "exception": false,
     "start_time": "2024-03-11T11:34:44.685724",
     "status": "completed"
    },
    "tags": []
   },
   "outputs": [
    {
     "data": {
      "text/plain": [
       "array([ 6,  7, 12, 16, 14, 15, 13, 17, 11, 10,  9, 18,  8, 19, 20, 21, 24,\n",
       "       23], dtype=int32)"
      ]
     },
     "execution_count": 10,
     "metadata": {},
     "output_type": "execute_result"
    }
   ],
   "source": [
    "df['facet_count'].unique()"
   ]
  },
  {
   "cell_type": "code",
   "execution_count": 11,
   "id": "c0f07ef6",
   "metadata": {
    "execution": {
     "iopub.execute_input": "2024-03-11T11:34:44.775535Z",
     "iopub.status.busy": "2024-03-11T11:34:44.775159Z",
     "iopub.status.idle": "2024-03-11T11:34:44.819961Z",
     "shell.execute_reply": "2024-03-11T11:34:44.818968Z"
    },
    "papermill": {
     "duration": 0.068341,
     "end_time": "2024-03-11T11:34:44.822172",
     "exception": false,
     "start_time": "2024-03-11T11:34:44.753831",
     "status": "completed"
    },
    "tags": []
   },
   "outputs": [
    {
     "data": {
      "text/plain": [
       "(471,\n",
       " array([102, 105, 106, 111, 129, 130, 136, 156, 159,  81,  80,  85,  88,\n",
       "         90,  94,  87,  99, 100, 110, 120, 126, 122, 131, 132, 144, 147,\n",
       "        153, 155, 171, 224, 214, 186,  29,   9,  53,  57,  59,  63,  74,\n",
       "         66,  64,  10,  69,  75,  76,  70,  91,  79,  86,  96,  92, 103,\n",
       "        107, 114, 115, 112,  95, 113, 117, 108, 123, 124,  97, 116, 127,\n",
       "        137, 139, 141, 134, 140, 143, 145, 154, 169, 177, 175, 182, 172,\n",
       "        200, 166, 191, 226, 262, 277, 275, 293, 311,  37,  42,  46,  52,\n",
       "         47,  51,  55,  56,  58,  62,  11,  65,  67,  12,  61,  71,  83,\n",
       "         78,  84,  89,  93,  68,  82, 101, 104, 118, 125, 119, 128, 135,\n",
       "        138, 142, 160, 158, 161, 163,  13, 162, 183, 185, 188, 219, 221,\n",
       "        222, 236, 234, 241, 253, 251, 254, 270, 271, 281, 288, 294,  33,\n",
       "         41,  45,  49,  44,  48,  50,  54,  14,  60,  72,  77,  73,  98,\n",
       "        133,  15, 148, 149, 152, 146, 165, 174, 109, 173, 178, 167, 180,\n",
       "        179, 196, 208, 210, 211, 212, 194, 209, 213, 202, 206, 231, 230,\n",
       "        235, 228, 240, 247, 245, 238, 243, 242, 250, 257, 258, 276, 284,\n",
       "        306, 309, 314, 342,  27,  28,  32,  31,  39,  36,  43,  40,  16,\n",
       "        121, 150, 170, 168, 184, 164, 193, 199, 207, 203, 192, 201, 197,\n",
       "        195, 204, 215, 205, 216, 218, 229, 227, 232, 246, 244, 239, 249,\n",
       "        252, 265, 264, 269, 274, 283, 282, 304, 339,  30,  38,  34,  35,\n",
       "         17, 157, 151, 176, 181, 187, 190, 223, 233, 260, 259, 268, 290,\n",
       "        334, 333, 328, 346, 345,  23,  26,  18,  19, 220, 217, 255, 248,\n",
       "        266, 272, 292, 291, 308, 327, 325, 341, 340, 344,  25,  20, 189,\n",
       "        198, 225, 237, 287, 285, 286, 316, 317, 312, 321, 326, 330, 329,\n",
       "        365, 394, 404, 443, 482,  22,  21, 263, 256, 273, 278, 289, 305,\n",
       "        313, 354, 353, 371, 476, 480,  24, 261, 267, 279, 298, 356, 436,\n",
       "        439, 435, 457, 453, 299, 315, 396, 398, 395, 412, 411, 400, 399,\n",
       "        357, 355, 372, 393, 390, 389, 387, 378, 376, 558, 307, 349, 366,\n",
       "        363, 360, 359, 397, 401, 517, 518, 534, 535, 296, 302, 343, 350,\n",
       "        379, 383, 386, 478, 477, 495, 493, 494, 511, 512, 297, 310, 320,\n",
       "        338, 438, 437, 454, 455, 452, 471, 470, 472, 301, 332, 335, 413,\n",
       "        414, 415, 430, 429, 432, 448, 318, 358, 373, 374, 375, 370, 391,\n",
       "        392, 388, 408, 488, 331, 351, 352, 348, 347, 367, 421, 465, 469,\n",
       "        485, 295, 368, 381, 380, 410, 427, 428, 319, 336, 369, 462, 466,\n",
       "        280, 300, 364, 418, 419, 422, 420, 423, 426, 424, 425, 447, 303,\n",
       "        323, 337, 377, 385, 361, 384, 324, 407, 409, 444, 442, 322, 382,\n",
       "        403, 405, 416, 362, 402, 441, 456, 433, 519, 431, 505, 406, 445,\n",
       "        467, 458, 417], dtype=int32))"
      ]
     },
     "execution_count": 11,
     "metadata": {},
     "output_type": "execute_result"
    }
   ],
   "source": [
    "df['point_count'].nunique(), df['point_count'].unique()"
   ]
  },
  {
   "cell_type": "markdown",
   "id": "104f880b",
   "metadata": {
    "papermill": {
     "duration": 0.020059,
     "end_time": "2024-03-11T11:34:44.862652",
     "exception": false,
     "start_time": "2024-03-11T11:34:44.842593",
     "status": "completed"
    },
    "tags": []
   },
   "source": [
    "## Hodge number h11"
   ]
  },
  {
   "cell_type": "code",
   "execution_count": 12,
   "id": "35d0e32d",
   "metadata": {
    "execution": {
     "iopub.execute_input": "2024-03-11T11:34:44.904796Z",
     "iopub.status.busy": "2024-03-11T11:34:44.904430Z",
     "iopub.status.idle": "2024-03-11T11:34:44.950245Z",
     "shell.execute_reply": "2024-03-11T11:34:44.949231Z"
    },
    "papermill": {
     "duration": 0.069911,
     "end_time": "2024-03-11T11:34:44.952854",
     "exception": false,
     "start_time": "2024-03-11T11:34:44.882943",
     "status": "completed"
    },
    "tags": []
   },
   "outputs": [
    {
     "data": {
      "text/plain": [
       "(349,\n",
       " array([  2,   3,   4,  28,  36,  44,  46,  49,  52,  54,  55,  56,  58,\n",
       "         59,  60,  61,  62,  63,  64,  65,  66,  67,  68,  69,  70,  71,\n",
       "         72,  73,  74,  76,  77,  78,  79,  80,  81,  82,  84,  85,  86,\n",
       "         88,  89,  90,  91,  92,  93,  94,  96,  97,  98, 100, 101, 102,\n",
       "        104, 106, 108, 110, 112, 114, 116, 118, 121, 124, 128,   5,  35,\n",
       "         37,  39,  40,  41,  43,  45,  47,  50,  51,  53,  57,  75,  83,\n",
       "         87,  95,  99, 103, 105, 107, 109, 111, 113, 115, 117, 119, 122,\n",
       "        123, 125, 127, 129, 131, 133, 135, 137, 139, 141, 143, 145, 149,\n",
       "        153, 161, 165, 173, 177, 179, 185, 189, 197, 201, 215,  26,   6,\n",
       "         30,  32,  33,  34,  38,  42,  48, 120, 126, 132, 136, 138, 140,\n",
       "        142, 144, 148, 150, 152, 156, 160, 162, 164, 168, 171, 172, 174,\n",
       "        176, 180, 182, 184, 186, 192, 196, 198, 204, 210,   7,  27,  29,\n",
       "         31, 147, 151, 154, 155, 157, 159, 163, 167, 169, 175, 178, 181,\n",
       "        183, 187, 193, 199, 205, 211, 217, 219, 227,  22,  24,   8, 130,\n",
       "        134, 146, 158, 166, 170, 188, 190, 194, 202, 206, 216, 218, 226,\n",
       "        242,   9,  21,  25, 191, 213, 221, 223, 225, 233, 237, 239, 240,\n",
       "        249, 267, 294,  18,  20,  10, 208, 214, 220, 222, 230, 232, 244,\n",
       "        292,  19,  11,  23, 195, 203, 207, 235, 248, 263, 275, 291, 319,\n",
       "         12, 200, 212, 234, 246, 258, 262, 264, 290, 318, 330,  17,  13,\n",
       "        209, 229, 245, 261, 273, 289, 301, 313,  14,  16, 228, 260, 272,\n",
       "        284, 404,  15, 231, 243, 255, 271, 283, 375, 387, 224, 238, 250,\n",
       "        252, 254, 346, 358, 370, 386, 241, 251, 253, 269, 317, 329, 341,\n",
       "        369, 236, 268, 288, 300, 312, 324, 340, 356, 259, 295, 339, 266,\n",
       "        302, 308, 310, 326, 279, 285, 297, 309, 311, 321, 345, 256, 274,\n",
       "        280, 282, 296, 334, 338, 247, 265, 287, 303, 305, 323, 331, 270,\n",
       "        276, 306, 257, 277, 316, 320, 315, 286, 304, 314, 293, 307, 278,\n",
       "        298, 299, 281, 357, 377, 328, 366, 327, 355, 332, 322], dtype=int32))"
      ]
     },
     "execution_count": 12,
     "metadata": {},
     "output_type": "execute_result"
    }
   ],
   "source": [
    "df['h11'].nunique(), df['h11'].unique()"
   ]
  },
  {
   "cell_type": "code",
   "execution_count": 13,
   "id": "324022d1",
   "metadata": {
    "execution": {
     "iopub.execute_input": "2024-03-11T11:34:44.998248Z",
     "iopub.status.busy": "2024-03-11T11:34:44.997888Z",
     "iopub.status.idle": "2024-03-11T11:34:48.741967Z",
     "shell.execute_reply": "2024-03-11T11:34:48.740937Z"
    },
    "papermill": {
     "duration": 3.768217,
     "end_time": "2024-03-11T11:34:48.744282",
     "exception": false,
     "start_time": "2024-03-11T11:34:44.976065",
     "status": "completed"
    },
    "tags": []
   },
   "outputs": [
    {
     "name": "stderr",
     "output_type": "stream",
     "text": [
      "/opt/conda/lib/python3.10/site-packages/seaborn/_oldcore.py:1119: FutureWarning: use_inf_as_na option is deprecated and will be removed in a future version. Convert inf values to NaN before operating instead.\n",
      "  with pd.option_context('mode.use_inf_as_na', True):\n"
     ]
    },
    {
     "data": {
      "text/plain": [
       "<Axes: xlabel='h11', ylabel='Count'>"
      ]
     },
     "execution_count": 13,
     "metadata": {},
     "output_type": "execute_result"
    },
    {
     "data": {
      "image/png": "[encoded data removed]",
      "text/plain": [
       "<Figure size 640x480 with 1 Axes>"
      ]
     },
     "metadata": {},
     "output_type": "display_data"
    }
   ],
   "source": [
    "sns.histplot(data=df, x=\"h11\")"
   ]
  },
  {
   "cell_type": "code",
   "execution_count": 14,
   "id": "840c8b71",
   "metadata": {
    "execution": {
     "iopub.execute_input": "2024-03-11T11:34:48.787884Z",
     "iopub.status.busy": "2024-03-11T11:34:48.786976Z",
     "iopub.status.idle": "2024-03-11T11:34:48.867236Z",
     "shell.execute_reply": "2024-03-11T11:34:48.866266Z"
    },
    "papermill": {
     "duration": 0.104216,
     "end_time": "2024-03-11T11:34:48.869529",
     "exception": false,
     "start_time": "2024-03-11T11:34:48.765313",
     "status": "completed"
    },
    "tags": []
   },
   "outputs": [
    {
     "data": {
      "text/plain": [
       "count    3.702593e+06\n",
       "mean     5.117092e+01\n",
       "std      2.863529e+01\n",
       "min      2.000000e+00\n",
       "25%      3.100000e+01\n",
       "50%      4.500000e+01\n",
       "75%      6.400000e+01\n",
       "max      4.040000e+02\n",
       "Name: h11, dtype: float64"
      ]
     },
     "execution_count": 14,
     "metadata": {},
     "output_type": "execute_result"
    }
   ],
   "source": [
    "df.h11.describe()"
   ]
  },
  {
   "cell_type": "markdown",
   "id": "d2b0541d",
   "metadata": {
    "papermill": {
     "duration": 0.020542,
     "end_time": "2024-03-11T11:34:48.910414",
     "exception": false,
     "start_time": "2024-03-11T11:34:48.889872",
     "status": "completed"
    },
    "tags": []
   },
   "source": [
    "## Hodge number h12"
   ]
  },
  {
   "cell_type": "code",
   "execution_count": 15,
   "id": "a8fc90de",
   "metadata": {
    "execution": {
     "iopub.execute_input": "2024-03-11T11:34:48.998166Z",
     "iopub.status.busy": "2024-03-11T11:34:48.997475Z",
     "iopub.status.idle": "2024-03-11T11:34:49.040830Z",
     "shell.execute_reply": "2024-03-11T11:34:49.039913Z"
    },
    "papermill": {
     "duration": 0.112478,
     "end_time": "2024-03-11T11:34:49.043138",
     "exception": false,
     "start_time": "2024-03-11T11:34:48.930660",
     "status": "completed"
    },
    "tags": []
   },
   "outputs": [
    {
     "data": {
      "text/plain": [
       "(349,\n",
       " array([ 84,  86,  90, 102, 106, 122,  69,  72,  73,  75,  77,  81,  87,\n",
       "         99, 111, 115, 127, 165,  28,   4,  44,  52,  58,  60,  64,  66,\n",
       "         68,  70,  74,  76,  80,  82,  88,  94,  98, 100, 104, 108, 110,\n",
       "        112, 114, 116, 128, 130, 136, 148, 166, 194, 202, 214, 226,  35,\n",
       "          5,  39,  41,  43,  47,  49,  51,  53,  55,  59,  61,  62,  63,\n",
       "         65,  67,  71,  79,  83,  85,  89,  91,  93,  95,  97, 101, 105,\n",
       "        107, 109, 113, 119, 125, 133, 135, 137, 139, 161, 173, 179, 185,\n",
       "        197, 205, 209, 213,   6,  30,  34,  38,  42,  46,  48,  50,  54,\n",
       "         78,  92,  96, 118, 120, 124, 126, 132, 138, 142, 144, 150, 152,\n",
       "        156, 160, 162, 168, 174, 176, 180, 182, 186, 188, 192, 204, 210,\n",
       "        222, 228, 248,  25,   7,  27,  29,  31,  33,  37,  40,  45,  57,\n",
       "        103, 121, 123, 131, 141, 143, 145, 147, 151, 153, 155, 157, 159,\n",
       "        163, 167, 169, 171, 175, 181, 187, 193, 199, 223, 247,   8,  26,\n",
       "         32,  36,  56, 134, 140, 146, 154, 158, 164, 170, 178, 184, 190,\n",
       "        206, 216, 242, 250,  21,   9,  23,  24, 117, 129, 149, 177, 183,\n",
       "        189, 191, 201, 225, 237, 239, 249,  10,  22, 172, 196, 208, 220,\n",
       "        230, 232, 236, 244, 264, 292, 320, 348,  11,  19, 203, 211, 215,\n",
       "        221, 227, 235, 263, 275, 347,  18,  12,  20, 198, 234, 246, 318,\n",
       "        330,  13, 195, 217, 229, 245, 289, 301,  16,  14, 200, 212, 218,\n",
       "        260, 272, 284, 404,  15,  17, 207, 231, 243, 255, 267, 271, 291,\n",
       "        375, 387, 238, 262, 280, 282, 346, 358, 370, 386, 233, 251, 253,\n",
       "        269, 317, 329, 341, 369, 224, 240, 288, 300, 312, 324, 340, 356,\n",
       "        241, 259, 283, 295, 319, 339, 355, 254, 266, 290, 302, 308, 310,\n",
       "        326, 338, 350, 219, 261, 273, 279, 285, 297, 309, 311, 256, 268,\n",
       "        274, 296, 334, 265, 287, 303, 305, 323, 331, 258, 270, 276, 306,\n",
       "        257, 277, 294, 316, 315, 286, 304, 314, 293, 307, 278, 298, 299,\n",
       "        281, 252, 321, 313, 357, 377, 328, 366, 327, 345, 332], dtype=int32))"
      ]
     },
     "execution_count": 15,
     "metadata": {},
     "output_type": "execute_result"
    }
   ],
   "source": [
    "df['h12'].nunique(), df['h12'].unique()"
   ]
  },
  {
   "cell_type": "code",
   "execution_count": 16,
   "id": "4aa692ee",
   "metadata": {
    "execution": {
     "iopub.execute_input": "2024-03-11T11:34:49.087011Z",
     "iopub.status.busy": "2024-03-11T11:34:49.086690Z",
     "iopub.status.idle": "2024-03-11T11:34:49.163093Z",
     "shell.execute_reply": "2024-03-11T11:34:49.162023Z"
    },
    "papermill": {
     "duration": 0.101219,
     "end_time": "2024-03-11T11:34:49.165606",
     "exception": false,
     "start_time": "2024-03-11T11:34:49.064387",
     "status": "completed"
    },
    "tags": []
   },
   "outputs": [
    {
     "data": {
      "text/plain": [
       "count    3.702593e+06\n",
       "mean     3.779034e+01\n",
       "std      2.808243e+01\n",
       "min      4.000000e+00\n",
       "25%      1.900000e+01\n",
       "50%      3.000000e+01\n",
       "75%      4.700000e+01\n",
       "max      4.040000e+02\n",
       "Name: h12, dtype: float64"
      ]
     },
     "execution_count": 16,
     "metadata": {},
     "output_type": "execute_result"
    }
   ],
   "source": [
    "df.h12.describe()"
   ]
  },
  {
   "cell_type": "code",
   "execution_count": 17,
   "id": "cb59e09a",
   "metadata": {
    "execution": {
     "iopub.execute_input": "2024-03-11T11:34:49.211734Z",
     "iopub.status.busy": "2024-03-11T11:34:49.211042Z",
     "iopub.status.idle": "2024-03-11T11:34:53.061463Z",
     "shell.execute_reply": "2024-03-11T11:34:53.060570Z"
    },
    "papermill": {
     "duration": 3.876974,
     "end_time": "2024-03-11T11:34:53.063976",
     "exception": false,
     "start_time": "2024-03-11T11:34:49.187002",
     "status": "completed"
    },
    "tags": []
   },
   "outputs": [
    {
     "name": "stderr",
     "output_type": "stream",
     "text": [
      "/opt/conda/lib/python3.10/site-packages/seaborn/_oldcore.py:1119: FutureWarning: use_inf_as_na option is deprecated and will be removed in a future version. Convert inf values to NaN before operating instead.\n",
      "  with pd.option_context('mode.use_inf_as_na', True):\n"
     ]
    },
    {
     "data": {
      "text/plain": [
       "<Axes: xlabel='h12', ylabel='Count'>"
      ]
     },
     "execution_count": 17,
     "metadata": {},
     "output_type": "execute_result"
    },
    {
     "data": {
      "image/png": "[encoded data removed]",
      "text/plain": [
       "<Figure size 640x480 with 1 Axes>"
      ]
     },
     "metadata": {},
     "output_type": "display_data"
    }
   ],
   "source": [
    "sns.histplot(data=df, x=\"h12\")"
   ]
  },
  {
   "cell_type": "markdown",
   "id": "74d71e62",
   "metadata": {
    "papermill": {
     "duration": 0.021938,
     "end_time": "2024-03-11T11:34:53.107596",
     "exception": false,
     "start_time": "2024-03-11T11:34:53.085658",
     "status": "completed"
    },
    "tags": []
   },
   "source": [
    "## Euler Characteristic = 2*h11 - 2*h12"
   ]
  },
  {
   "cell_type": "code",
   "execution_count": 18,
   "id": "98084c18",
   "metadata": {
    "execution": {
     "iopub.execute_input": "2024-03-11T11:34:53.151624Z",
     "iopub.status.busy": "2024-03-11T11:34:53.150940Z",
     "iopub.status.idle": "2024-03-11T11:34:53.183130Z",
     "shell.execute_reply": "2024-03-11T11:34:53.182059Z"
    },
    "papermill": {
     "duration": 0.056921,
     "end_time": "2024-03-11T11:34:53.185558",
     "exception": false,
     "start_time": "2024-03-11T11:34:53.128637",
     "status": "completed"
    },
    "tags": []
   },
   "outputs": [
    {
     "data": {
      "text/plain": [
       "0          True\n",
       "1          True\n",
       "2          True\n",
       "3          True\n",
       "4          True\n",
       "           ... \n",
       "3702588    True\n",
       "3702589    True\n",
       "3702590    True\n",
       "3702591    True\n",
       "3702592    True\n",
       "Length: 3702593, dtype: bool"
      ]
     },
     "execution_count": 18,
     "metadata": {},
     "output_type": "execute_result"
    }
   ],
   "source": [
    "#this column is identical to the Euler characteristic \n",
    "df['2h11-2h12'] = 2*df['h11'] - 2*df['h12']\n",
    "df['2h11-2h12']==df['euler_characteristic']"
   ]
  },
  {
   "cell_type": "markdown",
   "id": "8c9c36e9",
   "metadata": {
    "papermill": {
     "duration": 0.02042,
     "end_time": "2024-03-11T11:34:53.227974",
     "exception": false,
     "start_time": "2024-03-11T11:34:53.207554",
     "status": "completed"
    },
    "tags": []
   },
   "source": [
    "# Prepare data for training"
   ]
  },
  {
   "cell_type": "code",
   "execution_count": 19,
   "id": "60f5c24a",
   "metadata": {
    "execution": {
     "iopub.execute_input": "2024-03-11T11:34:53.272033Z",
     "iopub.status.busy": "2024-03-11T11:34:53.271683Z",
     "iopub.status.idle": "2024-03-11T11:34:53.278411Z",
     "shell.execute_reply": "2024-03-11T11:34:53.277465Z"
    },
    "papermill": {
     "duration": 0.031407,
     "end_time": "2024-03-11T11:34:53.280572",
     "exception": false,
     "start_time": "2024-03-11T11:34:53.249165",
     "status": "completed"
    },
    "tags": []
   },
   "outputs": [
    {
     "data": {
      "text/plain": [
       "Index(['h11', 'h12', 'euler_characteristic', '2h11-2h12'], dtype='object')"
      ]
     },
     "execution_count": 19,
     "metadata": {},
     "output_type": "execute_result"
    }
   ],
   "source": [
    "df.columns[-4:]"
   ]
  },
  {
   "cell_type": "code",
   "execution_count": 20,
   "id": "33a18b52",
   "metadata": {
    "execution": {
     "iopub.execute_input": "2024-03-11T11:34:53.325998Z",
     "iopub.status.busy": "2024-03-11T11:34:53.325270Z",
     "iopub.status.idle": "2024-03-11T11:34:53.332205Z",
     "shell.execute_reply": "2024-03-11T11:34:53.331194Z"
    },
    "papermill": {
     "duration": 0.031632,
     "end_time": "2024-03-11T11:34:53.334283",
     "exception": false,
     "start_time": "2024-03-11T11:34:53.302651",
     "status": "completed"
    },
    "tags": []
   },
   "outputs": [
    {
     "data": {
      "text/plain": [
       "array([  2,   2,   2, ..., 196, 179, 195], dtype=int32)"
      ]
     },
     "execution_count": 20,
     "metadata": {},
     "output_type": "execute_result"
    }
   ],
   "source": [
    "dfy = df['h11']\n",
    "y = dfy.to_numpy()\n",
    "y"
   ]
  },
  {
   "cell_type": "markdown",
   "id": "2407c34f",
   "metadata": {
    "papermill": {
     "duration": 0.021261,
     "end_time": "2024-03-11T11:34:53.377308",
     "exception": false,
     "start_time": "2024-03-11T11:34:53.356047",
     "status": "completed"
    },
    "tags": []
   },
   "source": [
    "# Get rid of the strange format for 'vertices'"
   ]
  },
  {
   "cell_type": "code",
   "execution_count": 21,
   "id": "718692b1",
   "metadata": {
    "execution": {
     "iopub.execute_input": "2024-03-11T11:34:53.422801Z",
     "iopub.status.busy": "2024-03-11T11:34:53.422417Z",
     "iopub.status.idle": "2024-03-11T11:34:53.427089Z",
     "shell.execute_reply": "2024-03-11T11:34:53.426065Z"
    },
    "papermill": {
     "duration": 0.029555,
     "end_time": "2024-03-11T11:34:53.429191",
     "exception": false,
     "start_time": "2024-03-11T11:34:53.399636",
     "status": "completed"
    },
    "tags": []
   },
   "outputs": [],
   "source": [
    "x_ver = df1['vertices'].to_numpy()"
   ]
  },
  {
   "cell_type": "code",
   "execution_count": 22,
   "id": "b26f1a2c",
   "metadata": {
    "execution": {
     "iopub.execute_input": "2024-03-11T11:34:53.474473Z",
     "iopub.status.busy": "2024-03-11T11:34:53.474165Z",
     "iopub.status.idle": "2024-03-11T11:34:53.480415Z",
     "shell.execute_reply": "2024-03-11T11:34:53.479419Z"
    },
    "papermill": {
     "duration": 0.031693,
     "end_time": "2024-03-11T11:34:53.482516",
     "exception": false,
     "start_time": "2024-03-11T11:34:53.450823",
     "status": "completed"
    },
    "tags": []
   },
   "outputs": [
    {
     "data": {
      "text/plain": [
       "((834638,), (8,))"
      ]
     },
     "execution_count": 22,
     "metadata": {},
     "output_type": "execute_result"
    }
   ],
   "source": [
    "x_ver.shape, x_ver[0].shape"
   ]
  },
  {
   "cell_type": "code",
   "execution_count": 23,
   "id": "2697e9f9",
   "metadata": {
    "execution": {
     "iopub.execute_input": "2024-03-11T11:34:53.528260Z",
     "iopub.status.busy": "2024-03-11T11:34:53.527902Z",
     "iopub.status.idle": "2024-03-11T11:35:24.445298Z",
     "shell.execute_reply": "2024-03-11T11:35:24.444262Z"
    },
    "papermill": {
     "duration": 30.943542,
     "end_time": "2024-03-11T11:35:24.447800",
     "exception": false,
     "start_time": "2024-03-11T11:34:53.504258",
     "status": "completed"
    },
    "tags": []
   },
   "outputs": [],
   "source": [
    "#get rid of the strange format with dtype=object\n",
    "#make sure the shape is a square for easy convolution\n",
    "x8 = np.zeros((len(df1), 8, 8))\n",
    "for i in range(len(df1)):\n",
    "    for j in range(8):\n",
    "        for k in range(4):\n",
    "            x8[i, j, k] = x_ver[i][j][k]"
   ]
  },
  {
   "cell_type": "markdown",
   "id": "149622ee",
   "metadata": {
    "papermill": {
     "duration": 0.021761,
     "end_time": "2024-03-11T11:35:24.491806",
     "exception": false,
     "start_time": "2024-03-11T11:35:24.470045",
     "status": "completed"
    },
    "tags": []
   },
   "source": [
    "# Model building: Polytopes with 8 vertices\n",
    "\n",
    "We will train an ANN or a CNN to predict the h11 value of the polytopes with 8 vertices first. The only input is the vertices list and nothing else. "
   ]
  },
  {
   "cell_type": "code",
   "execution_count": 24,
   "id": "33024aac",
   "metadata": {
    "execution": {
     "iopub.execute_input": "2024-03-11T11:35:24.540208Z",
     "iopub.status.busy": "2024-03-11T11:35:24.539300Z",
     "iopub.status.idle": "2024-03-11T11:35:24.549645Z",
     "shell.execute_reply": "2024-03-11T11:35:24.548661Z"
    },
    "papermill": {
     "duration": 0.036763,
     "end_time": "2024-03-11T11:35:24.551991",
     "exception": false,
     "start_time": "2024-03-11T11:35:24.515228",
     "status": "completed"
    },
    "tags": []
   },
   "outputs": [
    {
     "data": {
      "text/plain": [
       "(array([[ 1.,  0.,  0.,  0.,  0.,  0.,  0.,  0.],\n",
       "        [ 1.,  2.,  0.,  0.,  0.,  0.,  0.,  0.],\n",
       "        [ 1.,  2.,  4.,  0.,  0.,  0.,  0.,  0.],\n",
       "        [ 1.,  2.,  0.,  4.,  0.,  0.,  0.,  0.],\n",
       "        [ 0.,  1., -1., -1.,  0.,  0.,  0.,  0.],\n",
       "        [ 0.,  1.,  4., -1.,  0.,  0.,  0.,  0.],\n",
       "        [ 0.,  1., -1.,  4.,  0.,  0.,  0.,  0.],\n",
       "        [-5., -9., -6., -6.,  0.,  0.,  0.,  0.]]),\n",
       " array([[ 1.,  0.,  0.,  0.,  0.,  0.,  0.,  0.],\n",
       "        [ 1.,  4.,  0.,  0.,  0.,  0.,  0.,  0.],\n",
       "        [ 1.,  0.,  4.,  0.,  0.,  0.,  0.,  0.],\n",
       "        [ 0.,  0.,  0.,  1.,  0.,  0.,  0.,  0.],\n",
       "        [ 0.,  0., -4.,  1.,  0.,  0.,  0.,  0.],\n",
       "        [ 0.,  4., -4.,  1.,  0.,  0.,  0.,  0.],\n",
       "        [-1., -4.,  4., -2.,  0.,  0.,  0.,  0.],\n",
       "        [-4., -4., -8.,  1.,  0.,  0.,  0.,  0.]]),\n",
       " array([[  1.,   0.,   0.,   0.,   0.,   0.,   0.,   0.],\n",
       "        [  0.,   1.,   0.,   0.,   0.,   0.,   0.,   0.],\n",
       "        [  0.,   0.,   1.,   0.,   0.,   0.,   0.,   0.],\n",
       "        [  0.,   0.,   0.,   1.,   0.,   0.,   0.,   0.],\n",
       "        [-14.,  -8.,  -4.,  -1.,   0.,   0.,   0.,   0.],\n",
       "        [-15.,  -9.,  -4.,  -1.,   0.,   0.,   0.,   0.],\n",
       "        [-21., -13.,  -6.,  -1.,   0.,   0.,   0.,   0.],\n",
       "        [-21., -42.,  -6.,  28.,   0.,   0.,   0.,   0.]]),\n",
       " array([[   1.,    0.,    0.,    0.,    0.,    0.,    0.,    0.],\n",
       "        [   0.,    1.,    0.,    0.,    0.,    0.,    0.,    0.],\n",
       "        [   0.,    0.,    1.,    0.,    0.,    0.,    0.,    0.],\n",
       "        [   0.,    0.,    0.,    1.,    0.,    0.,    0.,    0.],\n",
       "        [  -3.,   -2.,   -1.,    1.,    0.,    0.,    0.,    0.],\n",
       "        [ -21.,  -14.,   -6.,    0.,    0.,    0.,    0.,    0.],\n",
       "        [ -93.,  -62.,  -24.,   -6.,    0.,    0.,    0.,    0.],\n",
       "        [-471., -314., -126.,  -30.,    0.,    0.,    0.,    0.]]))"
      ]
     },
     "execution_count": 24,
     "metadata": {},
     "output_type": "execute_result"
    }
   ],
   "source": [
    "x8[0], x8[10], x8[-10], x8[-1]"
   ]
  },
  {
   "cell_type": "code",
   "execution_count": 25,
   "id": "c641faf4",
   "metadata": {
    "execution": {
     "iopub.execute_input": "2024-03-11T11:35:24.600739Z",
     "iopub.status.busy": "2024-03-11T11:35:24.599879Z",
     "iopub.status.idle": "2024-03-11T11:35:25.256291Z",
     "shell.execute_reply": "2024-03-11T11:35:25.255351Z"
    },
    "papermill": {
     "duration": 0.682337,
     "end_time": "2024-03-11T11:35:25.258533",
     "exception": false,
     "start_time": "2024-03-11T11:35:24.576196",
     "status": "completed"
    },
    "tags": []
   },
   "outputs": [
    {
     "data": {
      "text/plain": [
       "<matplotlib.image.AxesImage at 0x7ac6884e72b0>"
      ]
     },
     "execution_count": 25,
     "metadata": {},
     "output_type": "execute_result"
    },
    {
     "data": {
      "image/png": "[encoded data removed]",
      "text/plain": [
       "<Figure size 640x480 with 4 Axes>"
      ]
     },
     "metadata": {},
     "output_type": "display_data"
    }
   ],
   "source": [
    "#plt.figsize((12,12))\n",
    "fig, axs = plt.subplots(2, 2)\n",
    "axs[0,0].imshow(x8[0])\n",
    "axs[0,1].imshow(x8[10])\n",
    "axs[1,0].imshow(x8[-10])\n",
    "axs[1,1].imshow(x8[-1])"
   ]
  },
  {
   "cell_type": "markdown",
   "id": "595ae99f",
   "metadata": {
    "papermill": {
     "duration": 0.022654,
     "end_time": "2024-03-11T11:35:25.303408",
     "exception": false,
     "start_time": "2024-03-11T11:35:25.280754",
     "status": "completed"
    },
    "tags": []
   },
   "source": [
    "# Train test split"
   ]
  },
  {
   "cell_type": "code",
   "execution_count": 26,
   "id": "9ad7900f",
   "metadata": {
    "execution": {
     "iopub.execute_input": "2024-03-11T11:35:25.349354Z",
     "iopub.status.busy": "2024-03-11T11:35:25.348749Z",
     "iopub.status.idle": "2024-03-11T11:35:25.354851Z",
     "shell.execute_reply": "2024-03-11T11:35:25.353935Z"
    },
    "papermill": {
     "duration": 0.031368,
     "end_time": "2024-03-11T11:35:25.357086",
     "exception": false,
     "start_time": "2024-03-11T11:35:25.325718",
     "status": "completed"
    },
    "tags": []
   },
   "outputs": [
    {
     "data": {
      "text/plain": [
       "dtype('int32')"
      ]
     },
     "execution_count": 26,
     "metadata": {},
     "output_type": "execute_result"
    }
   ],
   "source": [
    "y8 = y[:len(df1)]\n",
    "y8.dtype"
   ]
  },
  {
   "cell_type": "code",
   "execution_count": 27,
   "id": "14f4c44e",
   "metadata": {
    "execution": {
     "iopub.execute_input": "2024-03-11T11:35:25.402423Z",
     "iopub.status.busy": "2024-03-11T11:35:25.401756Z",
     "iopub.status.idle": "2024-03-11T11:35:25.407619Z",
     "shell.execute_reply": "2024-03-11T11:35:25.406743Z"
    },
    "papermill": {
     "duration": 0.030817,
     "end_time": "2024-03-11T11:35:25.409666",
     "exception": false,
     "start_time": "2024-03-11T11:35:25.378849",
     "status": "completed"
    },
    "tags": []
   },
   "outputs": [
    {
     "data": {
      "text/plain": [
       "((834638, 8, 8), (834638,))"
      ]
     },
     "execution_count": 27,
     "metadata": {},
     "output_type": "execute_result"
    }
   ],
   "source": [
    "#Need to normalize the data\n",
    "x8.shape, y8.shape"
   ]
  },
  {
   "cell_type": "code",
   "execution_count": 28,
   "id": "de2be713",
   "metadata": {
    "execution": {
     "iopub.execute_input": "2024-03-11T11:35:25.460732Z",
     "iopub.status.busy": "2024-03-11T11:35:25.460023Z",
     "iopub.status.idle": "2024-03-11T11:35:25.762529Z",
     "shell.execute_reply": "2024-03-11T11:35:25.761454Z"
    },
    "papermill": {
     "duration": 0.329241,
     "end_time": "2024-03-11T11:35:25.765139",
     "exception": false,
     "start_time": "2024-03-11T11:35:25.435898",
     "status": "completed"
    },
    "tags": []
   },
   "outputs": [],
   "source": [
    "from sklearn.model_selection import train_test_split"
   ]
  },
  {
   "cell_type": "code",
   "execution_count": 29,
   "id": "17efa043",
   "metadata": {
    "execution": {
     "iopub.execute_input": "2024-03-11T11:35:25.815737Z",
     "iopub.status.busy": "2024-03-11T11:35:25.815159Z",
     "iopub.status.idle": "2024-03-11T11:35:26.085751Z",
     "shell.execute_reply": "2024-03-11T11:35:26.084644Z"
    },
    "papermill": {
     "duration": 0.29868,
     "end_time": "2024-03-11T11:35:26.088691",
     "exception": false,
     "start_time": "2024-03-11T11:35:25.790011",
     "status": "completed"
    },
    "tags": []
   },
   "outputs": [],
   "source": [
    "X_train, X_test, y_train, y_test  = train_test_split(x8, y8, test_size=0.2,  random_state=42, shuffle=True)"
   ]
  },
  {
   "cell_type": "code",
   "execution_count": 30,
   "id": "80591757",
   "metadata": {
    "execution": {
     "iopub.execute_input": "2024-03-11T11:35:26.142822Z",
     "iopub.status.busy": "2024-03-11T11:35:26.142469Z",
     "iopub.status.idle": "2024-03-11T11:35:26.149572Z",
     "shell.execute_reply": "2024-03-11T11:35:26.148596Z"
    },
    "papermill": {
     "duration": 0.034336,
     "end_time": "2024-03-11T11:35:26.151661",
     "exception": false,
     "start_time": "2024-03-11T11:35:26.117325",
     "status": "completed"
    },
    "tags": []
   },
   "outputs": [
    {
     "data": {
      "text/plain": [
       "((667710, 8, 8), (667710,), (166928, 8, 8), (166928,))"
      ]
     },
     "execution_count": 30,
     "metadata": {},
     "output_type": "execute_result"
    }
   ],
   "source": [
    "X_train.shape, y_train.shape, X_test.shape, y_test.shape"
   ]
  },
  {
   "cell_type": "markdown",
   "id": "75d73db2",
   "metadata": {
    "papermill": {
     "duration": 0.02357,
     "end_time": "2024-03-11T11:35:26.198434",
     "exception": false,
     "start_time": "2024-03-11T11:35:26.174864",
     "status": "completed"
    },
    "tags": []
   },
   "source": [
    "# Build models"
   ]
  },
  {
   "cell_type": "code",
   "execution_count": 31,
   "id": "8f7911ba",
   "metadata": {
    "execution": {
     "iopub.execute_input": "2024-03-11T11:35:26.246524Z",
     "iopub.status.busy": "2024-03-11T11:35:26.246154Z",
     "iopub.status.idle": "2024-03-11T11:35:33.986437Z",
     "shell.execute_reply": "2024-03-11T11:35:33.985558Z"
    },
    "papermill": {
     "duration": 7.766714,
     "end_time": "2024-03-11T11:35:33.989033",
     "exception": false,
     "start_time": "2024-03-11T11:35:26.222319",
     "status": "completed"
    },
    "tags": []
   },
   "outputs": [],
   "source": [
    "import torch\n",
    "import torchvision\n",
    "\n",
    "import torch.nn as nn\n",
    "import torch.nn.functional as F\n",
    "from torchvision.utils import make_grid\n",
    "#from torchvision import transforms, datasets\n",
    "#from torch.utils.data import Dataset\n",
    "from torch.utils.data.dataloader import DataLoader\n",
    "\n",
    "from torch.utils.data import random_split\n",
    "from sklearn.utils import shuffle\n"
   ]
  },
  {
   "cell_type": "code",
   "execution_count": 32,
   "id": "e5321f89",
   "metadata": {
    "execution": {
     "iopub.execute_input": "2024-03-11T11:35:34.039228Z",
     "iopub.status.busy": "2024-03-11T11:35:34.036820Z",
     "iopub.status.idle": "2024-03-11T11:35:34.127734Z",
     "shell.execute_reply": "2024-03-11T11:35:34.126683Z"
    },
    "papermill": {
     "duration": 0.117098,
     "end_time": "2024-03-11T11:35:34.130004",
     "exception": false,
     "start_time": "2024-03-11T11:35:34.012906",
     "status": "completed"
    },
    "tags": []
   },
   "outputs": [
    {
     "name": "stdout",
     "output_type": "stream",
     "text": [
      "cuda:0\n"
     ]
    }
   ],
   "source": [
    "if torch.cuda.is_available():\n",
    "    device = torch.device('cuda:0')\n",
    "else:\n",
    "    device = torch.device('cpu')\n",
    "\n",
    "print(device)"
   ]
  },
  {
   "cell_type": "code",
   "execution_count": 33,
   "id": "2e8280de",
   "metadata": {
    "execution": {
     "iopub.execute_input": "2024-03-11T11:35:34.179526Z",
     "iopub.status.busy": "2024-03-11T11:35:34.178784Z",
     "iopub.status.idle": "2024-03-11T11:35:34.271088Z",
     "shell.execute_reply": "2024-03-11T11:35:34.270244Z"
    },
    "papermill": {
     "duration": 0.119301,
     "end_time": "2024-03-11T11:35:34.273607",
     "exception": false,
     "start_time": "2024-03-11T11:35:34.154306",
     "status": "completed"
    },
    "tags": []
   },
   "outputs": [],
   "source": [
    "X_train = torch.from_numpy(X_train.astype(np.float32))\n",
    "y_train = torch.from_numpy(y_train.astype(np.float32).reshape(-1, 1))\n",
    "\n",
    "X_test = torch.from_numpy(X_test.astype(np.float32))\n",
    "y_test = torch.from_numpy(y_test.astype(np.float32).reshape(-1, 1))"
   ]
  },
  {
   "cell_type": "code",
   "execution_count": 34,
   "id": "220da63e",
   "metadata": {
    "execution": {
     "iopub.execute_input": "2024-03-11T11:35:34.322343Z",
     "iopub.status.busy": "2024-03-11T11:35:34.321976Z",
     "iopub.status.idle": "2024-03-11T11:35:34.326740Z",
     "shell.execute_reply": "2024-03-11T11:35:34.325751Z"
    },
    "papermill": {
     "duration": 0.031177,
     "end_time": "2024-03-11T11:35:34.328739",
     "exception": false,
     "start_time": "2024-03-11T11:35:34.297562",
     "status": "completed"
    },
    "tags": []
   },
   "outputs": [],
   "source": [
    "if not os.path.exists('saved_models'):\n",
    "    os.makedirs('saved_models')"
   ]
  },
  {
   "cell_type": "markdown",
   "id": "e6ce6b99",
   "metadata": {
    "papermill": {
     "duration": 0.022577,
     "end_time": "2024-03-11T11:35:34.374656",
     "exception": false,
     "start_time": "2024-03-11T11:35:34.352079",
     "status": "completed"
    },
    "tags": []
   },
   "source": [
    "## ANN"
   ]
  },
  {
   "cell_type": "code",
   "execution_count": 35,
   "id": "90d972ab",
   "metadata": {
    "execution": {
     "iopub.execute_input": "2024-03-11T11:35:34.422093Z",
     "iopub.status.busy": "2024-03-11T11:35:34.421738Z",
     "iopub.status.idle": "2024-03-11T11:35:34.429444Z",
     "shell.execute_reply": "2024-03-11T11:35:34.428601Z"
    },
    "papermill": {
     "duration": 0.034041,
     "end_time": "2024-03-11T11:35:34.431595",
     "exception": false,
     "start_time": "2024-03-11T11:35:34.397554",
     "status": "completed"
    },
    "tags": []
   },
   "outputs": [],
   "source": [
    "class ANN_KS_h11(nn.Module):\n",
    "    \n",
    "    def __init__(self):\n",
    "        super().__init__()\n",
    "        self.flat = nn.Flatten()\n",
    "        self.linear1 = nn.Linear(64,1024)\n",
    "        self.linear2 = nn.Linear(1024,512)\n",
    "        self.linear3 = nn.Linear(512,256)\n",
    "        self.linear4 = nn.Linear(256,64)\n",
    "        self.linear5 = nn.Linear(64,1)\n",
    "\n",
    "    def forward(self,x):\n",
    "        x = self.flat(x)\n",
    "        x = F.relu(self.linear1(x))\n",
    "        x = F.relu(self.linear2(x))\n",
    "        x = F.relu(self.linear3(x))\n",
    "        x = F.relu(self.linear4(x))\n",
    "        x = self.linear5(x)\n",
    "        \n",
    "        return x"
   ]
  },
  {
   "cell_type": "markdown",
   "id": "e09da1c3",
   "metadata": {
    "papermill": {
     "duration": 0.022822,
     "end_time": "2024-03-11T11:35:34.477473",
     "exception": false,
     "start_time": "2024-03-11T11:35:34.454651",
     "status": "completed"
    },
    "tags": []
   },
   "source": [
    "## CNN"
   ]
  },
  {
   "cell_type": "code",
   "execution_count": 36,
   "id": "bbfcca27",
   "metadata": {
    "execution": {
     "iopub.execute_input": "2024-03-11T11:35:34.525654Z",
     "iopub.status.busy": "2024-03-11T11:35:34.525047Z",
     "iopub.status.idle": "2024-03-11T11:35:34.534055Z",
     "shell.execute_reply": "2024-03-11T11:35:34.533246Z"
    },
    "papermill": {
     "duration": 0.035469,
     "end_time": "2024-03-11T11:35:34.536141",
     "exception": false,
     "start_time": "2024-03-11T11:35:34.500672",
     "status": "completed"
    },
    "tags": []
   },
   "outputs": [],
   "source": [
    "class CNN_KS_h11(nn.Module):\n",
    "    \n",
    "    def __init__(self):\n",
    "        super().__init__()\n",
    "        self.conv1 = nn.Conv2d(1,64, 3, 1)\n",
    "        self.conv2 = nn.Conv2d(64,32, 2, 1)\n",
    "        self.mxpool = nn.MaxPool2d(2,2)\n",
    "        self.flat = nn.Flatten()\n",
    "        self.conv_total = nn.Sequential(\n",
    "            self.conv1,\n",
    "            self.mxpool,\n",
    "            self.conv2,\n",
    "            self.mxpool\n",
    "        )\n",
    "        \n",
    "        self.linear1 = nn.Linear(32,1024)\n",
    "        self.linear2 = nn.Linear(1024,512)\n",
    "        self.linear3 = nn.Linear(512,128)\n",
    "        self.linear4 = nn.Linear(128,1)\n",
    "\n",
    "    def forward(self,x):\n",
    "        x = F.relu(self.conv_total(x))\n",
    "        x = self.flat(x)\n",
    "        x = F.relu(self.linear1(x))\n",
    "        x = F.relu(self.linear2(x))\n",
    "        x = F.relu(self.linear3(x))\n",
    "        x = self.linear4(x)\n",
    "        \n",
    "        return x"
   ]
  },
  {
   "cell_type": "markdown",
   "id": "a52927c7",
   "metadata": {
    "papermill": {
     "duration": 0.023589,
     "end_time": "2024-03-11T11:35:34.583326",
     "exception": false,
     "start_time": "2024-03-11T11:35:34.559737",
     "status": "completed"
    },
    "tags": []
   },
   "source": [
    "## Define a function for the train loop"
   ]
  },
  {
   "cell_type": "code",
   "execution_count": 37,
   "id": "578c4613",
   "metadata": {
    "execution": {
     "iopub.execute_input": "2024-03-11T11:35:34.631279Z",
     "iopub.status.busy": "2024-03-11T11:35:34.630906Z",
     "iopub.status.idle": "2024-03-11T11:35:34.643989Z",
     "shell.execute_reply": "2024-03-11T11:35:34.643111Z"
    },
    "papermill": {
     "duration": 0.038623,
     "end_time": "2024-03-11T11:35:34.645899",
     "exception": false,
     "start_time": "2024-03-11T11:35:34.607276",
     "status": "completed"
    },
    "tags": []
   },
   "outputs": [],
   "source": [
    "from datetime import datetime\n",
    "def batch_gd(model, criterion, optimizer, X_train, y_train, X_test, y_test, epochs, batch_size, cnn=False):\n",
    "  train_losses = []\n",
    "  test_losses = []\n",
    "\n",
    "  for it in range(epochs):\n",
    "    model.train()\n",
    "    t0 = datetime.now()\n",
    "    train_loss = []\n",
    "    for n in range(len(X_train)//batch_size):    \n",
    "        data = X_train[n*batch_size:(n+1)*batch_size]\n",
    "        target = y_train[n*batch_size:(n+1)*batch_size]\n",
    "        if cnn:\n",
    "            data = data.view(batch_size,1,8,8)\n",
    "        data,target = data.to(device), target.to(device)\n",
    "       \n",
    "        #Perform the prediction\n",
    "        ypred = model(data.float())\n",
    "        loss = criterion(ypred,target)\n",
    "        #Training steps\n",
    "        optimizer.zero_grad()\n",
    "        loss.backward()\n",
    "        optimizer.step()\n",
    "        train_loss.append(loss.item())\n",
    "\n",
    "    # Get train loss and test loss\n",
    "    train_loss = np.mean(train_loss) \n",
    "    \n",
    "    model.eval()\n",
    "    test_loss = []\n",
    "    total_test_loss = 0\n",
    "    for n in range(len(X_test)//batch_size):    \n",
    "        data = X_test[n*batch_size:(n+1)*batch_size]\n",
    "        target = y_test[n*batch_size:(n+1)*batch_size]\n",
    "        if cnn:\n",
    "            data = data.view(batch_size,1,8,8)\n",
    "        data,target = data.to(device), target.to(device)\n",
    "        y_pred_test = model(data.float())\n",
    "        loss = criterion(y_pred_test, target)\n",
    "        test_loss.append(loss.item())\n",
    "    \n",
    "    test_loss = np.mean(test_loss)\n",
    "    # Save losses\n",
    "    train_losses.append(train_loss)\n",
    "    test_losses.append(test_loss)\n",
    "    \n",
    "    dt = datetime.now() - t0\n",
    "    if it%5==0:\n",
    "        print(f'Epoch {it+1}/{epochs}, Train Loss: {train_loss:.4f}, \\\n",
    "          Test Loss: {test_loss:.4f}, Duration: {dt}')\n",
    "    \n",
    "  return train_losses, test_losses"
   ]
  },
  {
   "cell_type": "code",
   "execution_count": 38,
   "id": "2c041621",
   "metadata": {
    "execution": {
     "iopub.execute_input": "2024-03-11T11:35:34.694231Z",
     "iopub.status.busy": "2024-03-11T11:35:34.693857Z",
     "iopub.status.idle": "2024-03-11T11:35:34.704617Z",
     "shell.execute_reply": "2024-03-11T11:35:34.703887Z"
    },
    "papermill": {
     "duration": 0.036529,
     "end_time": "2024-03-11T11:35:34.706587",
     "exception": false,
     "start_time": "2024-03-11T11:35:34.670058",
     "status": "completed"
    },
    "tags": []
   },
   "outputs": [],
   "source": [
    "# CALCULATING ACCURACY\n",
    "# Accuracy\n",
    "def calc_accuracy(model, cnn = False):\n",
    "    model.eval()\n",
    "    n_correct = 0.\n",
    "    n_total = 0.\n",
    "    batch_size =128\n",
    "    for n in range(len(X_train)//batch_size):    \n",
    "        data = X_train[n*batch_size:(n+1)*batch_size]\n",
    "        target = y_train[n*batch_size:(n+1)*batch_size]\n",
    "        if cnn:\n",
    "            data = data.view(batch_size,1,8,8)\n",
    "        data,target = data.to(device), target.to(device)\n",
    "\n",
    "        #Perform the prediction\n",
    "        ypred = model(data.float())\n",
    "        # update counts\n",
    "        n_correct += (ypred == target).sum().item()\n",
    "        n_total += target.shape[0]\n",
    "\n",
    "    train_acc = n_correct / n_total\n",
    "\n",
    "    #TEST SET\n",
    "    n_correct = 0.\n",
    "    n_total = 0.\n",
    "    for n in range(len(X_test)//batch_size):    \n",
    "        data = X_test[n*batch_size:(n+1)*batch_size]\n",
    "        target = y_test[n*batch_size:(n+1)*batch_size]\n",
    "        if cnn:\n",
    "            data = data.view(batch_size,1,8,8)\n",
    "        data,target = data.to(device), target.to(device)\n",
    "       # Forward pass\n",
    "        ypred_test = model(data.float())\n",
    "       # update counts\n",
    "        n_correct += (ypred_test == target).sum().item()\n",
    "        n_total += target.shape[0]\n",
    "\n",
    "    test_acc = n_correct / n_total\n",
    "\n",
    "    return train_acc, test_acc\n",
    "    "
   ]
  },
  {
   "cell_type": "markdown",
   "id": "6db309f7",
   "metadata": {
    "papermill": {
     "duration": 0.022321,
     "end_time": "2024-03-11T11:35:34.754297",
     "exception": false,
     "start_time": "2024-03-11T11:35:34.731976",
     "status": "completed"
    },
    "tags": []
   },
   "source": [
    "# CNN model: Training & Evaluation"
   ]
  },
  {
   "cell_type": "code",
   "execution_count": 39,
   "id": "6c19ea93",
   "metadata": {
    "execution": {
     "iopub.execute_input": "2024-03-11T11:35:34.801124Z",
     "iopub.status.busy": "2024-03-11T11:35:34.800793Z",
     "iopub.status.idle": "2024-03-11T11:35:34.839351Z",
     "shell.execute_reply": "2024-03-11T11:35:34.838523Z"
    },
    "papermill": {
     "duration": 0.065039,
     "end_time": "2024-03-11T11:35:34.841840",
     "exception": false,
     "start_time": "2024-03-11T11:35:34.776801",
     "status": "completed"
    },
    "tags": []
   },
   "outputs": [],
   "source": [
    "model_cnn = CNN_KS_h11()"
   ]
  },
  {
   "cell_type": "code",
   "execution_count": 40,
   "id": "772eb53a",
   "metadata": {
    "execution": {
     "iopub.execute_input": "2024-03-11T11:35:34.889428Z",
     "iopub.status.busy": "2024-03-11T11:35:34.889083Z",
     "iopub.status.idle": "2024-03-11T11:35:35.103326Z",
     "shell.execute_reply": "2024-03-11T11:35:35.102385Z"
    },
    "papermill": {
     "duration": 0.239985,
     "end_time": "2024-03-11T11:35:35.105328",
     "exception": false,
     "start_time": "2024-03-11T11:35:34.865343",
     "status": "completed"
    },
    "tags": []
   },
   "outputs": [
    {
     "name": "stdout",
     "output_type": "stream",
     "text": [
      "cuda:0\n"
     ]
    },
    {
     "data": {
      "text/plain": [
       "CNN_KS_h11(\n",
       "  (conv1): Conv2d(1, 64, kernel_size=(3, 3), stride=(1, 1))\n",
       "  (conv2): Conv2d(64, 32, kernel_size=(2, 2), stride=(1, 1))\n",
       "  (mxpool): MaxPool2d(kernel_size=2, stride=2, padding=0, dilation=1, ceil_mode=False)\n",
       "  (flat): Flatten(start_dim=1, end_dim=-1)\n",
       "  (conv_total): Sequential(\n",
       "    (0): Conv2d(1, 64, kernel_size=(3, 3), stride=(1, 1))\n",
       "    (1): MaxPool2d(kernel_size=2, stride=2, padding=0, dilation=1, ceil_mode=False)\n",
       "    (2): Conv2d(64, 32, kernel_size=(2, 2), stride=(1, 1))\n",
       "    (3): MaxPool2d(kernel_size=2, stride=2, padding=0, dilation=1, ceil_mode=False)\n",
       "  )\n",
       "  (linear1): Linear(in_features=32, out_features=1024, bias=True)\n",
       "  (linear2): Linear(in_features=1024, out_features=512, bias=True)\n",
       "  (linear3): Linear(in_features=512, out_features=128, bias=True)\n",
       "  (linear4): Linear(in_features=128, out_features=1, bias=True)\n",
       ")"
      ]
     },
     "execution_count": 40,
     "metadata": {},
     "output_type": "execute_result"
    }
   ],
   "source": [
    "device = torch.device(\"cuda:0\" if torch.cuda.is_available() else \"cpu\")\n",
    "print(device)\n",
    "model_cnn.to(device)"
   ]
  },
  {
   "cell_type": "code",
   "execution_count": 41,
   "id": "0ac8a2e9",
   "metadata": {
    "execution": {
     "iopub.execute_input": "2024-03-11T11:35:35.153694Z",
     "iopub.status.busy": "2024-03-11T11:35:35.153332Z",
     "iopub.status.idle": "2024-03-11T11:35:35.881834Z",
     "shell.execute_reply": "2024-03-11T11:35:35.880825Z"
    },
    "papermill": {
     "duration": 0.755919,
     "end_time": "2024-03-11T11:35:35.884618",
     "exception": false,
     "start_time": "2024-03-11T11:35:35.128699",
     "status": "completed"
    },
    "tags": []
   },
   "outputs": [
    {
     "name": "stdout",
     "output_type": "stream",
     "text": [
      "Original shape of the image before passing through the network: \n",
      " torch.Size([8, 8])\n",
      "\n",
      "Reshape the size to take in account the batch number\n",
      "The new size is torch.Size([1, 1, 8, 8])\n",
      "\n",
      "Shape of the image after passing through the whole convolution block: \n",
      " torch.Size([1, 32, 1, 1])\n",
      "\n",
      "Shape of the image after passing through the Flatten(start_dim=1, end_dim=-1): \n",
      " torch.Size([1, 32])\n",
      "\n",
      "Shape of the image after passing through the Linear(in_features=32, out_features=1024, bias=True): \n",
      " torch.Size([1, 1024])\n",
      "\n",
      "Shape of the image after passing through the Linear(in_features=1024, out_features=512, bias=True): \n",
      " torch.Size([1, 512])\n",
      "\n",
      "Shape of the image after passing through the Linear(in_features=512, out_features=128, bias=True): \n",
      " torch.Size([1, 128])\n",
      "\n",
      "Shape of the image after passing through the Linear(in_features=128, out_features=1, bias=True): \n",
      " torch.Size([1, 1])\n",
      "\n"
     ]
    }
   ],
   "source": [
    "X = X_train[0].to(device)\n",
    "print(f'Original shape of the image before passing through the network: \\n {X.shape}\\n')\n",
    "print('Reshape the size to take in account the batch number')\n",
    "X = X.view(1,1,8,8)\n",
    "print(f'The new size is {X.shape}\\n')\n",
    "X = model_cnn.conv_total(X)\n",
    "print(f'Shape of the image after passing through the whole convolution block: \\n {X.shape}\\n')\n",
    "\n",
    "X = model_cnn.flat(X)\n",
    "print(f'Shape of the image after passing through the {model_cnn.flat}: \\n {X.shape}\\n')\n",
    "\n",
    "X = model_cnn.linear1(X)\n",
    "print(f'Shape of the image after passing through the {model_cnn.linear1}: \\n {X.shape}\\n')\n",
    "\n",
    "X = model_cnn.linear2(X)\n",
    "print(f'Shape of the image after passing through the {model_cnn.linear2}: \\n {X.shape}\\n')\n",
    "\n",
    "X = model_cnn.linear3(X)\n",
    "print(f'Shape of the image after passing through the {model_cnn.linear3}: \\n {X.shape}\\n')\n",
    "\n",
    "X = model_cnn.linear4(X)\n",
    "print(f'Shape of the image after passing through the {model_cnn.linear4}: \\n {X.shape}\\n')"
   ]
  },
  {
   "cell_type": "code",
   "execution_count": 42,
   "id": "32694d91",
   "metadata": {
    "execution": {
     "iopub.execute_input": "2024-03-11T11:35:35.934329Z",
     "iopub.status.busy": "2024-03-11T11:35:35.933956Z",
     "iopub.status.idle": "2024-03-11T11:35:35.940374Z",
     "shell.execute_reply": "2024-03-11T11:35:35.939307Z"
    },
    "papermill": {
     "duration": 0.03381,
     "end_time": "2024-03-11T11:35:35.942607",
     "exception": false,
     "start_time": "2024-03-11T11:35:35.908797",
     "status": "completed"
    },
    "tags": []
   },
   "outputs": [
    {
     "name": "stdout",
     "output_type": "stream",
     "text": [
      "     576\n",
      "      64\n",
      "    8192\n",
      "      32\n",
      "   32768\n",
      "    1024\n",
      "  524288\n",
      "     512\n",
      "   65536\n",
      "     128\n",
      "     128\n",
      "       1\n",
      "________\n",
      "  633249\n"
     ]
    }
   ],
   "source": [
    "#count the number of parameters in the model\n",
    "params = [p.numel() for p in model_cnn.parameters() if p.requires_grad]\n",
    "for item in params:\n",
    "    print(f'{item:>8}')\n",
    "print(f'________\\n{sum(params):>8}')"
   ]
  },
  {
   "cell_type": "code",
   "execution_count": 43,
   "id": "a846f9da",
   "metadata": {
    "execution": {
     "iopub.execute_input": "2024-03-11T11:35:35.991909Z",
     "iopub.status.busy": "2024-03-11T11:35:35.991553Z",
     "iopub.status.idle": "2024-03-11T11:35:35.996797Z",
     "shell.execute_reply": "2024-03-11T11:35:35.995927Z"
    },
    "papermill": {
     "duration": 0.032787,
     "end_time": "2024-03-11T11:35:35.998974",
     "exception": false,
     "start_time": "2024-03-11T11:35:35.966187",
     "status": "completed"
    },
    "tags": []
   },
   "outputs": [],
   "source": [
    "criterion = nn.MSELoss()\n",
    "optimizer = torch.optim.Adam(model_cnn.parameters())"
   ]
  },
  {
   "cell_type": "code",
   "execution_count": 44,
   "id": "857dbf17",
   "metadata": {
    "execution": {
     "iopub.execute_input": "2024-03-11T11:35:36.050772Z",
     "iopub.status.busy": "2024-03-11T11:35:36.050418Z",
     "iopub.status.idle": "2024-03-11T12:13:56.383658Z",
     "shell.execute_reply": "2024-03-11T12:13:56.382629Z"
    },
    "papermill": {
     "duration": 2300.362471,
     "end_time": "2024-03-11T12:13:56.386614",
     "exception": false,
     "start_time": "2024-03-11T11:35:36.024143",
     "status": "completed"
    },
    "tags": []
   },
   "outputs": [
    {
     "name": "stdout",
     "output_type": "stream",
     "text": [
      "Epoch 1/150, Train Loss: 97.0460,           Test Loss: 53.9367, Duration: 0:00:15.896934\n",
      "Epoch 6/150, Train Loss: 26.6840,           Test Loss: 25.5091, Duration: 0:00:15.311995\n",
      "Epoch 11/150, Train Loss: 21.6041,           Test Loss: 20.6650, Duration: 0:00:15.345922\n",
      "Epoch 16/150, Train Loss: 19.1443,           Test Loss: 19.3492, Duration: 0:00:15.492192\n",
      "Epoch 21/150, Train Loss: 17.5780,           Test Loss: 18.4517, Duration: 0:00:15.277998\n",
      "Epoch 26/150, Train Loss: 16.5795,           Test Loss: 16.9972, Duration: 0:00:15.090004\n",
      "Epoch 31/150, Train Loss: 15.6572,           Test Loss: 16.4791, Duration: 0:00:15.434130\n",
      "Epoch 36/150, Train Loss: 14.9838,           Test Loss: 17.1392, Duration: 0:00:15.282894\n",
      "Epoch 41/150, Train Loss: 14.3168,           Test Loss: 16.4707, Duration: 0:00:15.377468\n",
      "Epoch 46/150, Train Loss: 13.8089,           Test Loss: 15.9750, Duration: 0:00:15.391527\n",
      "Epoch 51/150, Train Loss: 13.3777,           Test Loss: 15.6532, Duration: 0:00:15.617886\n",
      "Epoch 56/150, Train Loss: 12.9657,           Test Loss: 15.6221, Duration: 0:00:15.657355\n",
      "Epoch 61/150, Train Loss: 12.6773,           Test Loss: 15.2324, Duration: 0:00:15.176597\n",
      "Epoch 66/150, Train Loss: 12.3723,           Test Loss: 15.2014, Duration: 0:00:15.468951\n",
      "Epoch 71/150, Train Loss: 12.1045,           Test Loss: 15.1338, Duration: 0:00:15.188091\n",
      "Epoch 76/150, Train Loss: 11.8984,           Test Loss: 14.9562, Duration: 0:00:15.667884\n",
      "Epoch 81/150, Train Loss: 11.6845,           Test Loss: 14.9163, Duration: 0:00:15.375527\n",
      "Epoch 86/150, Train Loss: 11.5389,           Test Loss: 14.6336, Duration: 0:00:15.600733\n",
      "Epoch 91/150, Train Loss: 11.3293,           Test Loss: 14.6148, Duration: 0:00:15.332182\n",
      "Epoch 96/150, Train Loss: 11.2287,           Test Loss: 14.5977, Duration: 0:00:15.533487\n",
      "Epoch 101/150, Train Loss: 11.1000,           Test Loss: 14.4903, Duration: 0:00:15.464510\n",
      "Epoch 106/150, Train Loss: 10.9381,           Test Loss: 14.3205, Duration: 0:00:15.260879\n",
      "Epoch 111/150, Train Loss: 10.8151,           Test Loss: 14.1409, Duration: 0:00:15.293244\n",
      "Epoch 116/150, Train Loss: 10.6834,           Test Loss: 14.1756, Duration: 0:00:15.301506\n",
      "Epoch 121/150, Train Loss: 10.5738,           Test Loss: 14.1280, Duration: 0:00:15.289415\n",
      "Epoch 126/150, Train Loss: 10.4845,           Test Loss: 14.1841, Duration: 0:00:15.267369\n",
      "Epoch 131/150, Train Loss: 10.3849,           Test Loss: 14.0618, Duration: 0:00:15.300967\n",
      "Epoch 136/150, Train Loss: 10.3299,           Test Loss: 14.2978, Duration: 0:00:15.492288\n",
      "Epoch 141/150, Train Loss: 10.2329,           Test Loss: 14.0119, Duration: 0:00:15.122544\n",
      "Epoch 146/150, Train Loss: 10.1689,           Test Loss: 14.0485, Duration: 0:00:15.293555\n"
     ]
    }
   ],
   "source": [
    "train_losses, test_losses=batch_gd(model_cnn, criterion, optimizer, X_train, y_train, X_test, y_test, 150, 128, cnn=True)"
   ]
  },
  {
   "cell_type": "code",
   "execution_count": 45,
   "id": "c153ed99",
   "metadata": {
    "execution": {
     "iopub.execute_input": "2024-03-11T12:13:56.441614Z",
     "iopub.status.busy": "2024-03-11T12:13:56.441276Z",
     "iopub.status.idle": "2024-03-11T12:13:56.456659Z",
     "shell.execute_reply": "2024-03-11T12:13:56.455846Z"
    },
    "papermill": {
     "duration": 0.045159,
     "end_time": "2024-03-11T12:13:56.458690",
     "exception": false,
     "start_time": "2024-03-11T12:13:56.413531",
     "status": "completed"
    },
    "tags": []
   },
   "outputs": [],
   "source": [
    "# SAVE MODEL FOR INFERENCE\n",
    "#https://pytorch.org/tutorials/beginner/saving_loading_models.html\n",
    "torch.save(model_cnn, '/kaggle/working/saved_models/CNN_h11.pt')\n",
    "#model = torch.load(PATH)\n",
    "#model.eval()"
   ]
  },
  {
   "cell_type": "code",
   "execution_count": 46,
   "id": "63ec4b7c",
   "metadata": {
    "execution": {
     "iopub.execute_input": "2024-03-11T12:13:56.513199Z",
     "iopub.status.busy": "2024-03-11T12:13:56.512880Z",
     "iopub.status.idle": "2024-03-11T12:13:56.778685Z",
     "shell.execute_reply": "2024-03-11T12:13:56.777774Z"
    },
    "papermill": {
     "duration": 0.296095,
     "end_time": "2024-03-11T12:13:56.780912",
     "exception": false,
     "start_time": "2024-03-11T12:13:56.484817",
     "status": "completed"
    },
    "tags": []
   },
   "outputs": [
    {
     "data": {
      "image/png": "[encoded data removed]",
      "text/plain": [
       "<Figure size 640x480 with 1 Axes>"
      ]
     },
     "metadata": {},
     "output_type": "display_data"
    }
   ],
   "source": [
    "# Plot the train loss and test loss per iteration\n",
    "plt.plot(train_losses, label='train loss')\n",
    "plt.plot(test_losses, label='test loss')\n",
    "plt.legend()\n",
    "plt.show()"
   ]
  },
  {
   "cell_type": "code",
   "execution_count": 47,
   "id": "eeb179ad",
   "metadata": {
    "execution": {
     "iopub.execute_input": "2024-03-11T12:13:56.835631Z",
     "iopub.status.busy": "2024-03-11T12:13:56.835291Z",
     "iopub.status.idle": "2024-03-11T12:14:01.629505Z",
     "shell.execute_reply": "2024-03-11T12:14:01.628439Z"
    },
    "papermill": {
     "duration": 4.824634,
     "end_time": "2024-03-11T12:14:01.632219",
     "exception": false,
     "start_time": "2024-03-11T12:13:56.807585",
     "status": "completed"
    },
    "tags": []
   },
   "outputs": [
    {
     "name": "stdout",
     "output_type": "stream",
     "text": [
      "Train acc: 0.0000, Test acc: 0.0000\n"
     ]
    }
   ],
   "source": [
    "train_acc, test_acc = calc_accuracy(model_cnn, cnn= True)\n",
    "print(f\"Train acc: {train_acc:.4f}, Test acc: {test_acc:.4f}\")"
   ]
  },
  {
   "cell_type": "markdown",
   "id": "0d9464f5",
   "metadata": {
    "papermill": {
     "duration": 0.027894,
     "end_time": "2024-03-11T12:14:01.687781",
     "exception": false,
     "start_time": "2024-03-11T12:14:01.659887",
     "status": "completed"
    },
    "tags": []
   },
   "source": [
    "# ANN: Training and Evaluation"
   ]
  },
  {
   "cell_type": "code",
   "execution_count": 48,
   "id": "bfe864a1",
   "metadata": {
    "execution": {
     "iopub.execute_input": "2024-03-11T12:14:01.745298Z",
     "iopub.status.busy": "2024-03-11T12:14:01.744929Z",
     "iopub.status.idle": "2024-03-11T12:14:01.758206Z",
     "shell.execute_reply": "2024-03-11T12:14:01.757239Z"
    },
    "papermill": {
     "duration": 0.044181,
     "end_time": "2024-03-11T12:14:01.760442",
     "exception": false,
     "start_time": "2024-03-11T12:14:01.716261",
     "status": "completed"
    },
    "tags": []
   },
   "outputs": [],
   "source": [
    "model_ann = ANN_KS_h11()"
   ]
  },
  {
   "cell_type": "code",
   "execution_count": 49,
   "id": "757a5f8f",
   "metadata": {
    "execution": {
     "iopub.execute_input": "2024-03-11T12:14:01.815508Z",
     "iopub.status.busy": "2024-03-11T12:14:01.814800Z",
     "iopub.status.idle": "2024-03-11T12:14:01.824170Z",
     "shell.execute_reply": "2024-03-11T12:14:01.823253Z"
    },
    "papermill": {
     "duration": 0.039154,
     "end_time": "2024-03-11T12:14:01.826357",
     "exception": false,
     "start_time": "2024-03-11T12:14:01.787203",
     "status": "completed"
    },
    "tags": []
   },
   "outputs": [
    {
     "name": "stdout",
     "output_type": "stream",
     "text": [
      "cuda:0\n"
     ]
    },
    {
     "data": {
      "text/plain": [
       "ANN_KS_h11(\n",
       "  (flat): Flatten(start_dim=1, end_dim=-1)\n",
       "  (linear1): Linear(in_features=64, out_features=1024, bias=True)\n",
       "  (linear2): Linear(in_features=1024, out_features=512, bias=True)\n",
       "  (linear3): Linear(in_features=512, out_features=256, bias=True)\n",
       "  (linear4): Linear(in_features=256, out_features=64, bias=True)\n",
       "  (linear5): Linear(in_features=64, out_features=1, bias=True)\n",
       ")"
      ]
     },
     "execution_count": 49,
     "metadata": {},
     "output_type": "execute_result"
    }
   ],
   "source": [
    "device = torch.device(\"cuda:0\" if torch.cuda.is_available() else \"cpu\")\n",
    "print(device)\n",
    "model_ann.to(device)"
   ]
  },
  {
   "cell_type": "code",
   "execution_count": 50,
   "id": "3a62ca1f",
   "metadata": {
    "execution": {
     "iopub.execute_input": "2024-03-11T12:14:01.883320Z",
     "iopub.status.busy": "2024-03-11T12:14:01.882622Z",
     "iopub.status.idle": "2024-03-11T12:14:01.888626Z",
     "shell.execute_reply": "2024-03-11T12:14:01.887736Z"
    },
    "papermill": {
     "duration": 0.037075,
     "end_time": "2024-03-11T12:14:01.890709",
     "exception": false,
     "start_time": "2024-03-11T12:14:01.853634",
     "status": "completed"
    },
    "tags": []
   },
   "outputs": [
    {
     "name": "stdout",
     "output_type": "stream",
     "text": [
      "   65536\n",
      "    1024\n",
      "  524288\n",
      "     512\n",
      "  131072\n",
      "     256\n",
      "   16384\n",
      "      64\n",
      "      64\n",
      "       1\n",
      "________\n",
      "  739201\n"
     ]
    }
   ],
   "source": [
    "#count the number of parameters in the model\n",
    "params = [p.numel() for p in model_ann.parameters() if p.requires_grad]\n",
    "for item in params:\n",
    "    print(f'{item:>8}')\n",
    "print(f'________\\n{sum(params):>8}')"
   ]
  },
  {
   "cell_type": "code",
   "execution_count": 51,
   "id": "15f2109e",
   "metadata": {
    "execution": {
     "iopub.execute_input": "2024-03-11T12:14:01.945332Z",
     "iopub.status.busy": "2024-03-11T12:14:01.944978Z",
     "iopub.status.idle": "2024-03-11T12:14:01.955522Z",
     "shell.execute_reply": "2024-03-11T12:14:01.954332Z"
    },
    "papermill": {
     "duration": 0.040357,
     "end_time": "2024-03-11T12:14:01.957747",
     "exception": false,
     "start_time": "2024-03-11T12:14:01.917390",
     "status": "completed"
    },
    "tags": []
   },
   "outputs": [
    {
     "name": "stdout",
     "output_type": "stream",
     "text": [
      "Original shape of the image before passing through the network: \n",
      " torch.Size([8, 8])\n",
      "\n",
      "Reshape the size to take in account the batch number\n",
      "The new size is torch.Size([1, 1, 8, 8])\n",
      "\n",
      "Shape of the image after passing through the Flatten(start_dim=1, end_dim=-1): \n",
      " torch.Size([1, 64])\n",
      "\n",
      "Shape of the image after passing through the Linear(in_features=64, out_features=1024, bias=True): \n",
      " torch.Size([1, 1024])\n",
      "\n",
      "Shape of the image after passing through the Linear(in_features=1024, out_features=512, bias=True): \n",
      " torch.Size([1, 512])\n",
      "\n",
      "Shape of the image after passing through the Linear(in_features=512, out_features=256, bias=True): \n",
      " torch.Size([1, 256])\n",
      "\n",
      "Shape of the image after passing through the Linear(in_features=256, out_features=64, bias=True): \n",
      " torch.Size([1, 64])\n",
      "\n",
      "Shape of the image after passing through the Linear(in_features=64, out_features=1, bias=True): \n",
      " torch.Size([1, 1])\n",
      "\n"
     ]
    }
   ],
   "source": [
    "X = X_train[0].to(device)\n",
    "print(f'Original shape of the image before passing through the network: \\n {X.shape}\\n')\n",
    "print('Reshape the size to take in account the batch number')\n",
    "X = X.view(1,1,8,8)\n",
    "print(f'The new size is {X.shape}\\n')\n",
    "\n",
    "X = model_ann.flat(X)\n",
    "print(f'Shape of the image after passing through the {model_ann.flat}: \\n {X.shape}\\n')\n",
    "\n",
    "X = model_ann.linear1(X)\n",
    "print(f'Shape of the image after passing through the {model_ann.linear1}: \\n {X.shape}\\n')\n",
    "\n",
    "X = model_ann.linear2(X)\n",
    "print(f'Shape of the image after passing through the {model_ann.linear2}: \\n {X.shape}\\n')\n",
    "\n",
    "X = model_ann.linear3(X)\n",
    "print(f'Shape of the image after passing through the {model_ann.linear3}: \\n {X.shape}\\n')\n",
    "X = model_ann.linear4(X)\n",
    "print(f'Shape of the image after passing through the {model_ann.linear4}: \\n {X.shape}\\n')\n",
    "X = model_ann.linear5(X)\n",
    "print(f'Shape of the image after passing through the {model_ann.linear5}: \\n {X.shape}\\n')"
   ]
  },
  {
   "cell_type": "code",
   "execution_count": 52,
   "id": "9a1ad48d",
   "metadata": {
    "execution": {
     "iopub.execute_input": "2024-03-11T12:14:02.012816Z",
     "iopub.status.busy": "2024-03-11T12:14:02.012453Z",
     "iopub.status.idle": "2024-03-11T12:14:02.017632Z",
     "shell.execute_reply": "2024-03-11T12:14:02.016733Z"
    },
    "papermill": {
     "duration": 0.035192,
     "end_time": "2024-03-11T12:14:02.019832",
     "exception": false,
     "start_time": "2024-03-11T12:14:01.984640",
     "status": "completed"
    },
    "tags": []
   },
   "outputs": [],
   "source": [
    "criterion = nn.MSELoss()\n",
    "optimizer = torch.optim.Adam(model_ann.parameters())"
   ]
  },
  {
   "cell_type": "code",
   "execution_count": 53,
   "id": "839ad574",
   "metadata": {
    "execution": {
     "iopub.execute_input": "2024-03-11T12:14:02.076839Z",
     "iopub.status.busy": "2024-03-11T12:14:02.075944Z",
     "iopub.status.idle": "2024-03-11T12:45:29.940270Z",
     "shell.execute_reply": "2024-03-11T12:45:29.939446Z"
    },
    "papermill": {
     "duration": 1887.895646,
     "end_time": "2024-03-11T12:45:29.942676",
     "exception": false,
     "start_time": "2024-03-11T12:14:02.047030",
     "status": "completed"
    },
    "tags": []
   },
   "outputs": [
    {
     "name": "stdout",
     "output_type": "stream",
     "text": [
      "Epoch 1/150, Train Loss: 121.0548,           Test Loss: 43.5084, Duration: 0:00:12.493718\n",
      "Epoch 6/150, Train Loss: 19.6621,           Test Loss: 15.4150, Duration: 0:00:12.455942\n",
      "Epoch 11/150, Train Loss: 13.8949,           Test Loss: 12.6623, Duration: 0:00:12.558902\n",
      "Epoch 16/150, Train Loss: 11.4798,           Test Loss: 10.8942, Duration: 0:00:12.589858\n",
      "Epoch 21/150, Train Loss: 10.0559,           Test Loss: 10.1380, Duration: 0:00:12.735500\n",
      "Epoch 26/150, Train Loss: 9.2134,           Test Loss: 9.6392, Duration: 0:00:12.600819\n",
      "Epoch 31/150, Train Loss: 8.4402,           Test Loss: 9.1149, Duration: 0:00:12.506485\n",
      "Epoch 36/150, Train Loss: 7.9377,           Test Loss: 9.0706, Duration: 0:00:12.626896\n",
      "Epoch 41/150, Train Loss: 7.4042,           Test Loss: 8.7711, Duration: 0:00:12.642801\n",
      "Epoch 46/150, Train Loss: 7.1342,           Test Loss: 8.5310, Duration: 0:00:12.626210\n",
      "Epoch 51/150, Train Loss: 6.8241,           Test Loss: 8.6595, Duration: 0:00:12.547897\n",
      "Epoch 56/150, Train Loss: 6.5988,           Test Loss: 8.2609, Duration: 0:00:12.562202\n",
      "Epoch 61/150, Train Loss: 6.3189,           Test Loss: 8.3239, Duration: 0:00:12.600938\n",
      "Epoch 66/150, Train Loss: 6.0550,           Test Loss: 8.2270, Duration: 0:00:12.604419\n",
      "Epoch 71/150, Train Loss: 5.8906,           Test Loss: 7.9201, Duration: 0:00:12.555854\n",
      "Epoch 76/150, Train Loss: 5.7350,           Test Loss: 7.8139, Duration: 0:00:12.519478\n",
      "Epoch 81/150, Train Loss: 5.5910,           Test Loss: 7.8567, Duration: 0:00:12.515212\n",
      "Epoch 86/150, Train Loss: 5.4212,           Test Loss: 7.9901, Duration: 0:00:12.466311\n",
      "Epoch 91/150, Train Loss: 5.3550,           Test Loss: 7.9292, Duration: 0:00:12.468193\n",
      "Epoch 96/150, Train Loss: 5.2284,           Test Loss: 7.9236, Duration: 0:00:12.448441\n",
      "Epoch 101/150, Train Loss: 5.1334,           Test Loss: 7.6869, Duration: 0:00:12.431473\n",
      "Epoch 106/150, Train Loss: 5.0530,           Test Loss: 7.5709, Duration: 0:00:12.515043\n",
      "Epoch 111/150, Train Loss: 4.9113,           Test Loss: 7.8794, Duration: 0:00:12.505188\n",
      "Epoch 116/150, Train Loss: 4.8696,           Test Loss: 7.5398, Duration: 0:00:12.521777\n",
      "Epoch 121/150, Train Loss: 4.8365,           Test Loss: 7.5965, Duration: 0:00:12.517931\n",
      "Epoch 126/150, Train Loss: 4.7541,           Test Loss: 7.5609, Duration: 0:00:12.650988\n",
      "Epoch 131/150, Train Loss: 4.7236,           Test Loss: 7.5764, Duration: 0:00:12.551399\n",
      "Epoch 136/150, Train Loss: 4.6443,           Test Loss: 7.6844, Duration: 0:00:12.483370\n",
      "Epoch 141/150, Train Loss: 4.5882,           Test Loss: 7.4034, Duration: 0:00:12.487713\n",
      "Epoch 146/150, Train Loss: 4.4946,           Test Loss: 7.6974, Duration: 0:00:12.471138\n"
     ]
    }
   ],
   "source": [
    "train_losses, test_losses=batch_gd(model_ann, criterion, optimizer, X_train, y_train, X_test, y_test, 150, 128, cnn=False)"
   ]
  },
  {
   "cell_type": "code",
   "execution_count": 54,
   "id": "4646973a",
   "metadata": {
    "execution": {
     "iopub.execute_input": "2024-03-11T12:45:30.003446Z",
     "iopub.status.busy": "2024-03-11T12:45:30.002807Z",
     "iopub.status.idle": "2024-03-11T12:45:30.286128Z",
     "shell.execute_reply": "2024-03-11T12:45:30.285180Z"
    },
    "papermill": {
     "duration": 0.315555,
     "end_time": "2024-03-11T12:45:30.288242",
     "exception": false,
     "start_time": "2024-03-11T12:45:29.972687",
     "status": "completed"
    },
    "tags": []
   },
   "outputs": [
    {
     "data": {
      "image/png": "[encoded data removed]",
      "text/plain": [
       "<Figure size 640x480 with 1 Axes>"
      ]
     },
     "metadata": {},
     "output_type": "display_data"
    }
   ],
   "source": [
    "# Plot the train loss and test loss per iteration\n",
    "plt.plot(train_losses, label='train loss')\n",
    "plt.plot(test_losses, label='test loss')\n",
    "plt.legend()\n",
    "plt.show()"
   ]
  },
  {
   "cell_type": "code",
   "execution_count": 55,
   "id": "161a6d00",
   "metadata": {
    "execution": {
     "iopub.execute_input": "2024-03-11T12:45:30.349001Z",
     "iopub.status.busy": "2024-03-11T12:45:30.348645Z",
     "iopub.status.idle": "2024-03-11T12:45:33.596433Z",
     "shell.execute_reply": "2024-03-11T12:45:33.595470Z"
    },
    "papermill": {
     "duration": 3.280765,
     "end_time": "2024-03-11T12:45:33.598703",
     "exception": false,
     "start_time": "2024-03-11T12:45:30.317938",
     "status": "completed"
    },
    "tags": []
   },
   "outputs": [
    {
     "name": "stdout",
     "output_type": "stream",
     "text": [
      "Train acc: 0.0000, Test acc: 0.0000\n"
     ]
    }
   ],
   "source": [
    "train_acc, test_acc = calc_accuracy(model_ann, cnn= False)\n",
    "print(f\"Train acc: {train_acc:.4f}, Test acc: {test_acc:.4f}\")"
   ]
  },
  {
   "cell_type": "code",
   "execution_count": 56,
   "id": "e9b81073",
   "metadata": {
    "execution": {
     "iopub.execute_input": "2024-03-11T12:45:33.659730Z",
     "iopub.status.busy": "2024-03-11T12:45:33.659411Z",
     "iopub.status.idle": "2024-03-11T12:45:33.670649Z",
     "shell.execute_reply": "2024-03-11T12:45:33.669687Z"
    },
    "papermill": {
     "duration": 0.043745,
     "end_time": "2024-03-11T12:45:33.672653",
     "exception": false,
     "start_time": "2024-03-11T12:45:33.628908",
     "status": "completed"
    },
    "tags": []
   },
   "outputs": [],
   "source": [
    "# SAVE MODEL FOR INFERENCE\n",
    "#https://pytorch.org/tutorials/beginner/saving_loading_models.html\n",
    "torch.save(model_ann, '/kaggle/working/saved_models/ANN_h11.pt')\n",
    "#model = torch.load(PATH)\n",
    "#model.eval()"
   ]
  },
  {
   "cell_type": "code",
   "execution_count": null,
   "id": "44ee0ae4",
   "metadata": {
    "papermill": {
     "duration": 0.031153,
     "end_time": "2024-03-11T12:45:33.734273",
     "exception": false,
     "start_time": "2024-03-11T12:45:33.703120",
     "status": "completed"
    },
    "tags": []
   },
   "outputs": [],
   "source": []
  }
 ],
 "metadata": {
  "kaggle": {
   "accelerator": "nvidiaTeslaT4",
   "dataSources": [
    {
     "datasetId": 4548921,
     "sourceId": 7777503,
     "sourceType": "datasetVersion"
    }
   ],
   "dockerImageVersionId": 30664,
   "isGpuEnabled": true,
   "isInternetEnabled": true,
   "language": "python",
   "sourceType": "notebook"
  },
  "kernelspec": {
   "display_name": "Python 3",
   "language": "python",
   "name": "python3"
  },
  "language_info": {
   "codemirror_mode": {
    "name": "ipython",
    "version": 3
   },
   "file_extension": ".py",
   "mimetype": "text/x-python",
   "name": "python",
   "nbconvert_exporter": "python",
   "pygments_lexer": "ipython3",
   "version": "3.10.13"
  },
  "papermill": {
   "default_parameters": {},
   "duration": 4278.433612,
   "end_time": "2024-03-11T12:45:36.693705",
   "environment_variables": {},
   "exception": null,
   "input_path": "__notebook__.ipynb",
   "output_path": "__notebook__.ipynb",
   "parameters": {},
   "start_time": "2024-03-11T11:34:18.260093",
   "version": "2.5.0"
  }
 },
 "nbformat": 4,
 "nbformat_minor": 5
}
