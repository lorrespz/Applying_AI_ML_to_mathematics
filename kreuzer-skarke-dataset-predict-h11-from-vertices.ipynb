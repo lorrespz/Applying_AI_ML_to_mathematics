{
 "cells": [
  {
   "cell_type": "code",
   "execution_count": 1,
   "id": "d119f4d4",
   "metadata": {
    "_cell_guid": "b1076dfc-b9ad-4769-8c92-a6c4dae69d19",
    "_uuid": "8f2839f25d086af736a60e9eeb907d3b93b6e0e5",
    "execution": {
     "iopub.execute_input": "2024-03-11T10:43:33.171320Z",
     "iopub.status.busy": "2024-03-11T10:43:33.170961Z",
     "iopub.status.idle": "2024-03-11T10:43:35.266453Z",
     "shell.execute_reply": "2024-03-11T10:43:35.265716Z"
    },
    "papermill": {
     "duration": 2.11625,
     "end_time": "2024-03-11T10:43:35.268810",
     "exception": false,
     "start_time": "2024-03-11T10:43:33.152560",
     "status": "completed"
    },
    "tags": []
   },
   "outputs": [],
   "source": [
    "import os\n",
    "import numpy as np \n",
    "import pandas as pd \n",
    "import seaborn as sns\n",
    "import matplotlib.pyplot as plt\n",
    "%matplotlib inline"
   ]
  },
  {
   "cell_type": "markdown",
   "id": "1596ac1b",
   "metadata": {
    "papermill": {
     "duration": 0.016702,
     "end_time": "2024-03-11T10:43:35.302514",
     "exception": false,
     "start_time": "2024-03-11T10:43:35.285812",
     "status": "completed"
    },
    "tags": []
   },
   "source": [
    "The dataset is from Hugging Face dataset library at the following links:\n",
    "\n",
    "https://huggingface.co/datasets/calabi-yau-data/polytopes-4d\n",
    "\n",
    "https://huggingface.co/datasets/calabi-yau-data/ws-5d (5d polytope)\n",
    "\n",
    "however, trying to load the 4d polytopes dataset always give a TypeError."
   ]
  },
  {
   "cell_type": "code",
   "execution_count": 2,
   "id": "dc6f085d",
   "metadata": {
    "execution": {
     "iopub.execute_input": "2024-03-11T10:43:35.340407Z",
     "iopub.status.busy": "2024-03-11T10:43:35.339411Z",
     "iopub.status.idle": "2024-03-11T10:43:35.343774Z",
     "shell.execute_reply": "2024-03-11T10:43:35.342885Z"
    },
    "papermill": {
     "duration": 0.025007,
     "end_time": "2024-03-11T10:43:35.345892",
     "exception": false,
     "start_time": "2024-03-11T10:43:35.320885",
     "status": "completed"
    },
    "tags": []
   },
   "outputs": [],
   "source": [
    "#!pip install datasets\n",
    "#!pip show datasets\n",
    "\n",
    "#from datasets import load_dataset\n",
    "#this return a TypeError\n",
    "#dataset = load_dataset(\"calabi-yau-data/polytopes-4d\")"
   ]
  },
  {
   "cell_type": "markdown",
   "id": "2f8b51f3",
   "metadata": {
    "papermill": {
     "duration": 0.017017,
     "end_time": "2024-03-11T10:43:35.380796",
     "exception": false,
     "start_time": "2024-03-11T10:43:35.363779",
     "status": "completed"
    },
    "tags": []
   },
   "source": [
    "# Load data"
   ]
  },
  {
   "cell_type": "code",
   "execution_count": 3,
   "id": "9021eda1",
   "metadata": {
    "execution": {
     "iopub.execute_input": "2024-03-11T10:43:35.414708Z",
     "iopub.status.busy": "2024-03-11T10:43:35.414429Z",
     "iopub.status.idle": "2024-03-11T10:43:54.082189Z",
     "shell.execute_reply": "2024-03-11T10:43:54.081228Z"
    },
    "papermill": {
     "duration": 18.687386,
     "end_time": "2024-03-11T10:43:54.084667",
     "exception": false,
     "start_time": "2024-03-11T10:43:35.397281",
     "status": "completed"
    },
    "tags": []
   },
   "outputs": [],
   "source": [
    "path = '/kaggle/input/kreuzer-skarke-4d-polytopes/'\n",
    "df1 = pd.read_parquet(path+'polytopes-4d-08-vertices.parquet')\n",
    "df2 = pd.read_parquet(path+'polytopes-4d-09-vertices.parquet')"
   ]
  },
  {
   "cell_type": "code",
   "execution_count": 4,
   "id": "0edd2367",
   "metadata": {
    "execution": {
     "iopub.execute_input": "2024-03-11T10:43:54.123885Z",
     "iopub.status.busy": "2024-03-11T10:43:54.123558Z",
     "iopub.status.idle": "2024-03-11T10:43:54.131157Z",
     "shell.execute_reply": "2024-03-11T10:43:54.129968Z"
    },
    "papermill": {
     "duration": 0.03147,
     "end_time": "2024-03-11T10:43:54.133161",
     "exception": false,
     "start_time": "2024-03-11T10:43:54.101691",
     "status": "completed"
    },
    "tags": []
   },
   "outputs": [
    {
     "data": {
      "text/plain": [
       "Index(['vertices', 'vertex_count', 'facet_count', 'point_count',\n",
       "       'dual_point_count', 'h11', 'h12', 'euler_characteristic'],\n",
       "      dtype='object')"
      ]
     },
     "execution_count": 4,
     "metadata": {},
     "output_type": "execute_result"
    }
   ],
   "source": [
    "df1.columns"
   ]
  },
  {
   "cell_type": "code",
   "execution_count": 5,
   "id": "1787b0d0",
   "metadata": {
    "execution": {
     "iopub.execute_input": "2024-03-11T10:43:54.172550Z",
     "iopub.status.busy": "2024-03-11T10:43:54.172092Z",
     "iopub.status.idle": "2024-03-11T10:43:54.178361Z",
     "shell.execute_reply": "2024-03-11T10:43:54.177428Z"
    },
    "papermill": {
     "duration": 0.030186,
     "end_time": "2024-03-11T10:43:54.180604",
     "exception": false,
     "start_time": "2024-03-11T10:43:54.150418",
     "status": "completed"
    },
    "tags": []
   },
   "outputs": [
    {
     "data": {
      "text/plain": [
       "(834638, 2867955, 3702593)"
      ]
     },
     "execution_count": 5,
     "metadata": {},
     "output_type": "execute_result"
    }
   ],
   "source": [
    "len(df1), len(df2), len(df1)+len(df2)"
   ]
  },
  {
   "cell_type": "code",
   "execution_count": 6,
   "id": "c7f03c26",
   "metadata": {
    "execution": {
     "iopub.execute_input": "2024-03-11T10:43:54.215047Z",
     "iopub.status.busy": "2024-03-11T10:43:54.214790Z",
     "iopub.status.idle": "2024-03-11T10:43:54.325456Z",
     "shell.execute_reply": "2024-03-11T10:43:54.324444Z"
    },
    "papermill": {
     "duration": 0.130185,
     "end_time": "2024-03-11T10:43:54.327613",
     "exception": false,
     "start_time": "2024-03-11T10:43:54.197428",
     "status": "completed"
    },
    "tags": []
   },
   "outputs": [
    {
     "data": {
      "text/plain": [
       "True"
      ]
     },
     "execution_count": 6,
     "metadata": {},
     "output_type": "execute_result"
    }
   ],
   "source": [
    "df = pd.concat([df1, df2], ignore_index=True)\n",
    "len(df)==len(df1)+len(df2)"
   ]
  },
  {
   "cell_type": "code",
   "execution_count": 7,
   "id": "08cf8c3f",
   "metadata": {
    "execution": {
     "iopub.execute_input": "2024-03-11T10:43:54.363022Z",
     "iopub.status.busy": "2024-03-11T10:43:54.362436Z",
     "iopub.status.idle": "2024-03-11T10:43:54.413474Z",
     "shell.execute_reply": "2024-03-11T10:43:54.412541Z"
    },
    "papermill": {
     "duration": 0.070987,
     "end_time": "2024-03-11T10:43:54.415647",
     "exception": false,
     "start_time": "2024-03-11T10:43:54.344660",
     "status": "completed"
    },
    "tags": []
   },
   "outputs": [
    {
     "data": {
      "text/html": [
       "<div>\n",
       "<style scoped>\n",
       "    .dataframe tbody tr th:only-of-type {\n",
       "        vertical-align: middle;\n",
       "    }\n",
       "\n",
       "    .dataframe tbody tr th {\n",
       "        vertical-align: top;\n",
       "    }\n",
       "\n",
       "    .dataframe thead th {\n",
       "        text-align: right;\n",
       "    }\n",
       "</style>\n",
       "<table border=\"1\" class=\"dataframe\">\n",
       "  <thead>\n",
       "    <tr style=\"text-align: right;\">\n",
       "      <th></th>\n",
       "      <th>vertices</th>\n",
       "      <th>vertex_count</th>\n",
       "      <th>facet_count</th>\n",
       "      <th>point_count</th>\n",
       "      <th>dual_point_count</th>\n",
       "      <th>h11</th>\n",
       "      <th>h12</th>\n",
       "      <th>euler_characteristic</th>\n",
       "    </tr>\n",
       "  </thead>\n",
       "  <tbody>\n",
       "    <tr>\n",
       "      <th>0</th>\n",
       "      <td>[[1, 0, 0, 0], [1, 2, 0, 0], [1, 2, 4, 0], [1,...</td>\n",
       "      <td>8</td>\n",
       "      <td>6</td>\n",
       "      <td>102</td>\n",
       "      <td>7</td>\n",
       "      <td>2</td>\n",
       "      <td>84</td>\n",
       "      <td>-164</td>\n",
       "    </tr>\n",
       "    <tr>\n",
       "      <th>1</th>\n",
       "      <td>[[1, 0, 0, 0], [1, 2, 0, 0], [1, 0, 4, 0], [1,...</td>\n",
       "      <td>8</td>\n",
       "      <td>6</td>\n",
       "      <td>105</td>\n",
       "      <td>7</td>\n",
       "      <td>2</td>\n",
       "      <td>86</td>\n",
       "      <td>-168</td>\n",
       "    </tr>\n",
       "    <tr>\n",
       "      <th>2</th>\n",
       "      <td>[[1, 0, 0, 0], [1, 4, 0, 0], [1, 0, 4, 0], [0,...</td>\n",
       "      <td>8</td>\n",
       "      <td>6</td>\n",
       "      <td>105</td>\n",
       "      <td>7</td>\n",
       "      <td>2</td>\n",
       "      <td>86</td>\n",
       "      <td>-168</td>\n",
       "    </tr>\n",
       "    <tr>\n",
       "      <th>3</th>\n",
       "      <td>[[1, 0, 0, 0], [0, 1, 0, 0], [3, 2, 4, 0], [3,...</td>\n",
       "      <td>8</td>\n",
       "      <td>6</td>\n",
       "      <td>106</td>\n",
       "      <td>7</td>\n",
       "      <td>2</td>\n",
       "      <td>86</td>\n",
       "      <td>-168</td>\n",
       "    </tr>\n",
       "    <tr>\n",
       "      <th>4</th>\n",
       "      <td>[[1, 0, 0, 0], [1, 3, 0, 0], [1, 0, 3, 0], [1,...</td>\n",
       "      <td>8</td>\n",
       "      <td>6</td>\n",
       "      <td>111</td>\n",
       "      <td>7</td>\n",
       "      <td>2</td>\n",
       "      <td>90</td>\n",
       "      <td>-176</td>\n",
       "    </tr>\n",
       "    <tr>\n",
       "      <th>...</th>\n",
       "      <td>...</td>\n",
       "      <td>...</td>\n",
       "      <td>...</td>\n",
       "      <td>...</td>\n",
       "      <td>...</td>\n",
       "      <td>...</td>\n",
       "      <td>...</td>\n",
       "      <td>...</td>\n",
       "    </tr>\n",
       "    <tr>\n",
       "      <th>3702588</th>\n",
       "      <td>[[1, 0, 0, 0], [0, 1, 0, 0], [0, 0, 1, 0], [-7...</td>\n",
       "      <td>9</td>\n",
       "      <td>9</td>\n",
       "      <td>243</td>\n",
       "      <td>237</td>\n",
       "      <td>168</td>\n",
       "      <td>174</td>\n",
       "      <td>-12</td>\n",
       "    </tr>\n",
       "    <tr>\n",
       "      <th>3702589</th>\n",
       "      <td>[[1, 0, 0, 0], [0, 1, 0, 0], [0, 0, 1, 0], [0,...</td>\n",
       "      <td>9</td>\n",
       "      <td>9</td>\n",
       "      <td>275</td>\n",
       "      <td>249</td>\n",
       "      <td>178</td>\n",
       "      <td>196</td>\n",
       "      <td>-36</td>\n",
       "    </tr>\n",
       "    <tr>\n",
       "      <th>3702590</th>\n",
       "      <td>[[1, 0, 0, 0], [0, 1, 0, 0], [0, 0, 1, 0], [0,...</td>\n",
       "      <td>9</td>\n",
       "      <td>9</td>\n",
       "      <td>249</td>\n",
       "      <td>275</td>\n",
       "      <td>196</td>\n",
       "      <td>178</td>\n",
       "      <td>36</td>\n",
       "    </tr>\n",
       "    <tr>\n",
       "      <th>3702591</th>\n",
       "      <td>[[1, 0, 0, 0], [0, 1, 0, 0], [0, 0, 1, 0], [0,...</td>\n",
       "      <td>9</td>\n",
       "      <td>9</td>\n",
       "      <td>251</td>\n",
       "      <td>251</td>\n",
       "      <td>179</td>\n",
       "      <td>179</td>\n",
       "      <td>0</td>\n",
       "    </tr>\n",
       "    <tr>\n",
       "      <th>3702592</th>\n",
       "      <td>[[1, 0, 0, 0], [0, 1, 0, 0], [0, 0, 1, 0], [0,...</td>\n",
       "      <td>9</td>\n",
       "      <td>9</td>\n",
       "      <td>273</td>\n",
       "      <td>273</td>\n",
       "      <td>195</td>\n",
       "      <td>195</td>\n",
       "      <td>0</td>\n",
       "    </tr>\n",
       "  </tbody>\n",
       "</table>\n",
       "<p>3702593 rows × 8 columns</p>\n",
       "</div>"
      ],
      "text/plain": [
       "                                                  vertices  vertex_count  \\\n",
       "0        [[1, 0, 0, 0], [1, 2, 0, 0], [1, 2, 4, 0], [1,...             8   \n",
       "1        [[1, 0, 0, 0], [1, 2, 0, 0], [1, 0, 4, 0], [1,...             8   \n",
       "2        [[1, 0, 0, 0], [1, 4, 0, 0], [1, 0, 4, 0], [0,...             8   \n",
       "3        [[1, 0, 0, 0], [0, 1, 0, 0], [3, 2, 4, 0], [3,...             8   \n",
       "4        [[1, 0, 0, 0], [1, 3, 0, 0], [1, 0, 3, 0], [1,...             8   \n",
       "...                                                    ...           ...   \n",
       "3702588  [[1, 0, 0, 0], [0, 1, 0, 0], [0, 0, 1, 0], [-7...             9   \n",
       "3702589  [[1, 0, 0, 0], [0, 1, 0, 0], [0, 0, 1, 0], [0,...             9   \n",
       "3702590  [[1, 0, 0, 0], [0, 1, 0, 0], [0, 0, 1, 0], [0,...             9   \n",
       "3702591  [[1, 0, 0, 0], [0, 1, 0, 0], [0, 0, 1, 0], [0,...             9   \n",
       "3702592  [[1, 0, 0, 0], [0, 1, 0, 0], [0, 0, 1, 0], [0,...             9   \n",
       "\n",
       "         facet_count  point_count  dual_point_count  h11  h12  \\\n",
       "0                  6          102                 7    2   84   \n",
       "1                  6          105                 7    2   86   \n",
       "2                  6          105                 7    2   86   \n",
       "3                  6          106                 7    2   86   \n",
       "4                  6          111                 7    2   90   \n",
       "...              ...          ...               ...  ...  ...   \n",
       "3702588            9          243               237  168  174   \n",
       "3702589            9          275               249  178  196   \n",
       "3702590            9          249               275  196  178   \n",
       "3702591            9          251               251  179  179   \n",
       "3702592            9          273               273  195  195   \n",
       "\n",
       "         euler_characteristic  \n",
       "0                        -164  \n",
       "1                        -168  \n",
       "2                        -168  \n",
       "3                        -168  \n",
       "4                        -176  \n",
       "...                       ...  \n",
       "3702588                   -12  \n",
       "3702589                   -36  \n",
       "3702590                    36  \n",
       "3702591                     0  \n",
       "3702592                     0  \n",
       "\n",
       "[3702593 rows x 8 columns]"
      ]
     },
     "execution_count": 7,
     "metadata": {},
     "output_type": "execute_result"
    }
   ],
   "source": [
    "df"
   ]
  },
  {
   "cell_type": "markdown",
   "id": "53e9184a",
   "metadata": {
    "papermill": {
     "duration": 0.01673,
     "end_time": "2024-03-11T10:43:54.450199",
     "exception": false,
     "start_time": "2024-03-11T10:43:54.433469",
     "status": "completed"
    },
    "tags": []
   },
   "source": [
    "# EDA"
   ]
  },
  {
   "cell_type": "markdown",
   "id": "76097ef9",
   "metadata": {
    "papermill": {
     "duration": 0.016913,
     "end_time": "2024-03-11T10:43:54.484066",
     "exception": false,
     "start_time": "2024-03-11T10:43:54.467153",
     "status": "completed"
    },
    "tags": []
   },
   "source": [
    "## Vertices"
   ]
  },
  {
   "cell_type": "code",
   "execution_count": 8,
   "id": "07bb6757",
   "metadata": {
    "execution": {
     "iopub.execute_input": "2024-03-11T10:43:54.519515Z",
     "iopub.status.busy": "2024-03-11T10:43:54.518922Z",
     "iopub.status.idle": "2024-03-11T10:43:54.527998Z",
     "shell.execute_reply": "2024-03-11T10:43:54.527121Z"
    },
    "papermill": {
     "duration": 0.028968,
     "end_time": "2024-03-11T10:43:54.529982",
     "exception": false,
     "start_time": "2024-03-11T10:43:54.501014",
     "status": "completed"
    },
    "tags": []
   },
   "outputs": [
    {
     "data": {
      "text/plain": [
       "(dtype('O'),\n",
       " array([array([1, 0, 0, 0], dtype=int32), array([1, 2, 0, 0], dtype=int32),\n",
       "        array([1, 2, 4, 0], dtype=int32), array([1, 2, 0, 4], dtype=int32),\n",
       "        array([ 0,  1, -1, -1], dtype=int32),\n",
       "        array([ 0,  1,  4, -1], dtype=int32),\n",
       "        array([ 0,  1, -1,  4], dtype=int32),\n",
       "        array([-5, -9, -6, -6], dtype=int32)], dtype=object))"
      ]
     },
     "execution_count": 8,
     "metadata": {},
     "output_type": "execute_result"
    }
   ],
   "source": [
    " df.vertices.iloc[0].dtype, df.vertices.iloc[0]"
   ]
  },
  {
   "cell_type": "code",
   "execution_count": 9,
   "id": "001b60c2",
   "metadata": {
    "execution": {
     "iopub.execute_input": "2024-03-11T10:43:54.565682Z",
     "iopub.status.busy": "2024-03-11T10:43:54.565414Z",
     "iopub.status.idle": "2024-03-11T10:43:54.605711Z",
     "shell.execute_reply": "2024-03-11T10:43:54.604906Z"
    },
    "papermill": {
     "duration": 0.060441,
     "end_time": "2024-03-11T10:43:54.607804",
     "exception": false,
     "start_time": "2024-03-11T10:43:54.547363",
     "status": "completed"
    },
    "tags": []
   },
   "outputs": [
    {
     "data": {
      "text/plain": [
       "(2, array([8, 9], dtype=int32))"
      ]
     },
     "execution_count": 9,
     "metadata": {},
     "output_type": "execute_result"
    }
   ],
   "source": [
    "df['vertex_count'].nunique(),df['vertex_count'].unique()"
   ]
  },
  {
   "cell_type": "code",
   "execution_count": 10,
   "id": "fe94008b",
   "metadata": {
    "execution": {
     "iopub.execute_input": "2024-03-11T10:43:54.644718Z",
     "iopub.status.busy": "2024-03-11T10:43:54.644019Z",
     "iopub.status.idle": "2024-03-11T10:43:54.666395Z",
     "shell.execute_reply": "2024-03-11T10:43:54.665526Z"
    },
    "papermill": {
     "duration": 0.042899,
     "end_time": "2024-03-11T10:43:54.668807",
     "exception": false,
     "start_time": "2024-03-11T10:43:54.625908",
     "status": "completed"
    },
    "tags": []
   },
   "outputs": [
    {
     "data": {
      "text/plain": [
       "array([ 6,  7, 12, 16, 14, 15, 13, 17, 11, 10,  9, 18,  8, 19, 20, 21, 24,\n",
       "       23], dtype=int32)"
      ]
     },
     "execution_count": 10,
     "metadata": {},
     "output_type": "execute_result"
    }
   ],
   "source": [
    "df['facet_count'].unique()"
   ]
  },
  {
   "cell_type": "code",
   "execution_count": 11,
   "id": "1955fe05",
   "metadata": {
    "execution": {
     "iopub.execute_input": "2024-03-11T10:43:54.708900Z",
     "iopub.status.busy": "2024-03-11T10:43:54.708631Z",
     "iopub.status.idle": "2024-03-11T10:43:54.748474Z",
     "shell.execute_reply": "2024-03-11T10:43:54.747610Z"
    },
    "papermill": {
     "duration": 0.060167,
     "end_time": "2024-03-11T10:43:54.750503",
     "exception": false,
     "start_time": "2024-03-11T10:43:54.690336",
     "status": "completed"
    },
    "tags": []
   },
   "outputs": [
    {
     "data": {
      "text/plain": [
       "(471,\n",
       " array([102, 105, 106, 111, 129, 130, 136, 156, 159,  81,  80,  85,  88,\n",
       "         90,  94,  87,  99, 100, 110, 120, 126, 122, 131, 132, 144, 147,\n",
       "        153, 155, 171, 224, 214, 186,  29,   9,  53,  57,  59,  63,  74,\n",
       "         66,  64,  10,  69,  75,  76,  70,  91,  79,  86,  96,  92, 103,\n",
       "        107, 114, 115, 112,  95, 113, 117, 108, 123, 124,  97, 116, 127,\n",
       "        137, 139, 141, 134, 140, 143, 145, 154, 169, 177, 175, 182, 172,\n",
       "        200, 166, 191, 226, 262, 277, 275, 293, 311,  37,  42,  46,  52,\n",
       "         47,  51,  55,  56,  58,  62,  11,  65,  67,  12,  61,  71,  83,\n",
       "         78,  84,  89,  93,  68,  82, 101, 104, 118, 125, 119, 128, 135,\n",
       "        138, 142, 160, 158, 161, 163,  13, 162, 183, 185, 188, 219, 221,\n",
       "        222, 236, 234, 241, 253, 251, 254, 270, 271, 281, 288, 294,  33,\n",
       "         41,  45,  49,  44,  48,  50,  54,  14,  60,  72,  77,  73,  98,\n",
       "        133,  15, 148, 149, 152, 146, 165, 174, 109, 173, 178, 167, 180,\n",
       "        179, 196, 208, 210, 211, 212, 194, 209, 213, 202, 206, 231, 230,\n",
       "        235, 228, 240, 247, 245, 238, 243, 242, 250, 257, 258, 276, 284,\n",
       "        306, 309, 314, 342,  27,  28,  32,  31,  39,  36,  43,  40,  16,\n",
       "        121, 150, 170, 168, 184, 164, 193, 199, 207, 203, 192, 201, 197,\n",
       "        195, 204, 215, 205, 216, 218, 229, 227, 232, 246, 244, 239, 249,\n",
       "        252, 265, 264, 269, 274, 283, 282, 304, 339,  30,  38,  34,  35,\n",
       "         17, 157, 151, 176, 181, 187, 190, 223, 233, 260, 259, 268, 290,\n",
       "        334, 333, 328, 346, 345,  23,  26,  18,  19, 220, 217, 255, 248,\n",
       "        266, 272, 292, 291, 308, 327, 325, 341, 340, 344,  25,  20, 189,\n",
       "        198, 225, 237, 287, 285, 286, 316, 317, 312, 321, 326, 330, 329,\n",
       "        365, 394, 404, 443, 482,  22,  21, 263, 256, 273, 278, 289, 305,\n",
       "        313, 354, 353, 371, 476, 480,  24, 261, 267, 279, 298, 356, 436,\n",
       "        439, 435, 457, 453, 299, 315, 396, 398, 395, 412, 411, 400, 399,\n",
       "        357, 355, 372, 393, 390, 389, 387, 378, 376, 558, 307, 349, 366,\n",
       "        363, 360, 359, 397, 401, 517, 518, 534, 535, 296, 302, 343, 350,\n",
       "        379, 383, 386, 478, 477, 495, 493, 494, 511, 512, 297, 310, 320,\n",
       "        338, 438, 437, 454, 455, 452, 471, 470, 472, 301, 332, 335, 413,\n",
       "        414, 415, 430, 429, 432, 448, 318, 358, 373, 374, 375, 370, 391,\n",
       "        392, 388, 408, 488, 331, 351, 352, 348, 347, 367, 421, 465, 469,\n",
       "        485, 295, 368, 381, 380, 410, 427, 428, 319, 336, 369, 462, 466,\n",
       "        280, 300, 364, 418, 419, 422, 420, 423, 426, 424, 425, 447, 303,\n",
       "        323, 337, 377, 385, 361, 384, 324, 407, 409, 444, 442, 322, 382,\n",
       "        403, 405, 416, 362, 402, 441, 456, 433, 519, 431, 505, 406, 445,\n",
       "        467, 458, 417], dtype=int32))"
      ]
     },
     "execution_count": 11,
     "metadata": {},
     "output_type": "execute_result"
    }
   ],
   "source": [
    "df['point_count'].nunique(), df['point_count'].unique()"
   ]
  },
  {
   "cell_type": "markdown",
   "id": "f9d4b465",
   "metadata": {
    "papermill": {
     "duration": 0.018543,
     "end_time": "2024-03-11T10:43:54.789078",
     "exception": false,
     "start_time": "2024-03-11T10:43:54.770535",
     "status": "completed"
    },
    "tags": []
   },
   "source": [
    "## Hodge number h11"
   ]
  },
  {
   "cell_type": "code",
   "execution_count": 12,
   "id": "8e3f509e",
   "metadata": {
    "execution": {
     "iopub.execute_input": "2024-03-11T10:43:54.826822Z",
     "iopub.status.busy": "2024-03-11T10:43:54.826348Z",
     "iopub.status.idle": "2024-03-11T10:43:54.868652Z",
     "shell.execute_reply": "2024-03-11T10:43:54.867706Z"
    },
    "papermill": {
     "duration": 0.063852,
     "end_time": "2024-03-11T10:43:54.870795",
     "exception": false,
     "start_time": "2024-03-11T10:43:54.806943",
     "status": "completed"
    },
    "tags": []
   },
   "outputs": [
    {
     "data": {
      "text/plain": [
       "(349,\n",
       " array([  2,   3,   4,  28,  36,  44,  46,  49,  52,  54,  55,  56,  58,\n",
       "         59,  60,  61,  62,  63,  64,  65,  66,  67,  68,  69,  70,  71,\n",
       "         72,  73,  74,  76,  77,  78,  79,  80,  81,  82,  84,  85,  86,\n",
       "         88,  89,  90,  91,  92,  93,  94,  96,  97,  98, 100, 101, 102,\n",
       "        104, 106, 108, 110, 112, 114, 116, 118, 121, 124, 128,   5,  35,\n",
       "         37,  39,  40,  41,  43,  45,  47,  50,  51,  53,  57,  75,  83,\n",
       "         87,  95,  99, 103, 105, 107, 109, 111, 113, 115, 117, 119, 122,\n",
       "        123, 125, 127, 129, 131, 133, 135, 137, 139, 141, 143, 145, 149,\n",
       "        153, 161, 165, 173, 177, 179, 185, 189, 197, 201, 215,  26,   6,\n",
       "         30,  32,  33,  34,  38,  42,  48, 120, 126, 132, 136, 138, 140,\n",
       "        142, 144, 148, 150, 152, 156, 160, 162, 164, 168, 171, 172, 174,\n",
       "        176, 180, 182, 184, 186, 192, 196, 198, 204, 210,   7,  27,  29,\n",
       "         31, 147, 151, 154, 155, 157, 159, 163, 167, 169, 175, 178, 181,\n",
       "        183, 187, 193, 199, 205, 211, 217, 219, 227,  22,  24,   8, 130,\n",
       "        134, 146, 158, 166, 170, 188, 190, 194, 202, 206, 216, 218, 226,\n",
       "        242,   9,  21,  25, 191, 213, 221, 223, 225, 233, 237, 239, 240,\n",
       "        249, 267, 294,  18,  20,  10, 208, 214, 220, 222, 230, 232, 244,\n",
       "        292,  19,  11,  23, 195, 203, 207, 235, 248, 263, 275, 291, 319,\n",
       "         12, 200, 212, 234, 246, 258, 262, 264, 290, 318, 330,  17,  13,\n",
       "        209, 229, 245, 261, 273, 289, 301, 313,  14,  16, 228, 260, 272,\n",
       "        284, 404,  15, 231, 243, 255, 271, 283, 375, 387, 224, 238, 250,\n",
       "        252, 254, 346, 358, 370, 386, 241, 251, 253, 269, 317, 329, 341,\n",
       "        369, 236, 268, 288, 300, 312, 324, 340, 356, 259, 295, 339, 266,\n",
       "        302, 308, 310, 326, 279, 285, 297, 309, 311, 321, 345, 256, 274,\n",
       "        280, 282, 296, 334, 338, 247, 265, 287, 303, 305, 323, 331, 270,\n",
       "        276, 306, 257, 277, 316, 320, 315, 286, 304, 314, 293, 307, 278,\n",
       "        298, 299, 281, 357, 377, 328, 366, 327, 355, 332, 322], dtype=int32))"
      ]
     },
     "execution_count": 12,
     "metadata": {},
     "output_type": "execute_result"
    }
   ],
   "source": [
    "df['h11'].nunique(), df['h11'].unique()"
   ]
  },
  {
   "cell_type": "code",
   "execution_count": 13,
   "id": "0123c989",
   "metadata": {
    "execution": {
     "iopub.execute_input": "2024-03-11T10:43:54.911108Z",
     "iopub.status.busy": "2024-03-11T10:43:54.910609Z",
     "iopub.status.idle": "2024-03-11T10:43:58.327231Z",
     "shell.execute_reply": "2024-03-11T10:43:58.326160Z"
    },
    "papermill": {
     "duration": 3.439298,
     "end_time": "2024-03-11T10:43:58.329754",
     "exception": false,
     "start_time": "2024-03-11T10:43:54.890456",
     "status": "completed"
    },
    "tags": []
   },
   "outputs": [
    {
     "name": "stderr",
     "output_type": "stream",
     "text": [
      "/opt/conda/lib/python3.10/site-packages/seaborn/_oldcore.py:1119: FutureWarning: use_inf_as_na option is deprecated and will be removed in a future version. Convert inf values to NaN before operating instead.\n",
      "  with pd.option_context('mode.use_inf_as_na', True):\n"
     ]
    },
    {
     "data": {
      "text/plain": [
       "<Axes: xlabel='h11', ylabel='Count'>"
      ]
     },
     "execution_count": 13,
     "metadata": {},
     "output_type": "execute_result"
    },
    {
     "data": {
      "image/png": "[encoded data removed]",
      "text/plain": [
       "<Figure size 640x480 with 1 Axes>"
      ]
     },
     "metadata": {},
     "output_type": "display_data"
    }
   ],
   "source": [
    "sns.histplot(data=df, x=\"h11\")"
   ]
  },
  {
   "cell_type": "code",
   "execution_count": 14,
   "id": "b197c3e5",
   "metadata": {
    "execution": {
     "iopub.execute_input": "2024-03-11T10:43:58.375007Z",
     "iopub.status.busy": "2024-03-11T10:43:58.374640Z",
     "iopub.status.idle": "2024-03-11T10:43:58.450861Z",
     "shell.execute_reply": "2024-03-11T10:43:58.449900Z"
    },
    "papermill": {
     "duration": 0.101358,
     "end_time": "2024-03-11T10:43:58.453052",
     "exception": false,
     "start_time": "2024-03-11T10:43:58.351694",
     "status": "completed"
    },
    "tags": []
   },
   "outputs": [
    {
     "data": {
      "text/plain": [
       "count    3.702593e+06\n",
       "mean     5.117092e+01\n",
       "std      2.863529e+01\n",
       "min      2.000000e+00\n",
       "25%      3.100000e+01\n",
       "50%      4.500000e+01\n",
       "75%      6.400000e+01\n",
       "max      4.040000e+02\n",
       "Name: h11, dtype: float64"
      ]
     },
     "execution_count": 14,
     "metadata": {},
     "output_type": "execute_result"
    }
   ],
   "source": [
    "df.h11.describe()"
   ]
  },
  {
   "cell_type": "markdown",
   "id": "40f0cd74",
   "metadata": {
    "papermill": {
     "duration": 0.018743,
     "end_time": "2024-03-11T10:43:58.491078",
     "exception": false,
     "start_time": "2024-03-11T10:43:58.472335",
     "status": "completed"
    },
    "tags": []
   },
   "source": [
    "## Hodge number h12"
   ]
  },
  {
   "cell_type": "code",
   "execution_count": 15,
   "id": "2ae7a64a",
   "metadata": {
    "execution": {
     "iopub.execute_input": "2024-03-11T10:43:58.570801Z",
     "iopub.status.busy": "2024-03-11T10:43:58.570033Z",
     "iopub.status.idle": "2024-03-11T10:43:58.610963Z",
     "shell.execute_reply": "2024-03-11T10:43:58.610048Z"
    },
    "papermill": {
     "duration": 0.103056,
     "end_time": "2024-03-11T10:43:58.613064",
     "exception": false,
     "start_time": "2024-03-11T10:43:58.510008",
     "status": "completed"
    },
    "tags": []
   },
   "outputs": [
    {
     "data": {
      "text/plain": [
       "(349,\n",
       " array([ 84,  86,  90, 102, 106, 122,  69,  72,  73,  75,  77,  81,  87,\n",
       "         99, 111, 115, 127, 165,  28,   4,  44,  52,  58,  60,  64,  66,\n",
       "         68,  70,  74,  76,  80,  82,  88,  94,  98, 100, 104, 108, 110,\n",
       "        112, 114, 116, 128, 130, 136, 148, 166, 194, 202, 214, 226,  35,\n",
       "          5,  39,  41,  43,  47,  49,  51,  53,  55,  59,  61,  62,  63,\n",
       "         65,  67,  71,  79,  83,  85,  89,  91,  93,  95,  97, 101, 105,\n",
       "        107, 109, 113, 119, 125, 133, 135, 137, 139, 161, 173, 179, 185,\n",
       "        197, 205, 209, 213,   6,  30,  34,  38,  42,  46,  48,  50,  54,\n",
       "         78,  92,  96, 118, 120, 124, 126, 132, 138, 142, 144, 150, 152,\n",
       "        156, 160, 162, 168, 174, 176, 180, 182, 186, 188, 192, 204, 210,\n",
       "        222, 228, 248,  25,   7,  27,  29,  31,  33,  37,  40,  45,  57,\n",
       "        103, 121, 123, 131, 141, 143, 145, 147, 151, 153, 155, 157, 159,\n",
       "        163, 167, 169, 171, 175, 181, 187, 193, 199, 223, 247,   8,  26,\n",
       "         32,  36,  56, 134, 140, 146, 154, 158, 164, 170, 178, 184, 190,\n",
       "        206, 216, 242, 250,  21,   9,  23,  24, 117, 129, 149, 177, 183,\n",
       "        189, 191, 201, 225, 237, 239, 249,  10,  22, 172, 196, 208, 220,\n",
       "        230, 232, 236, 244, 264, 292, 320, 348,  11,  19, 203, 211, 215,\n",
       "        221, 227, 235, 263, 275, 347,  18,  12,  20, 198, 234, 246, 318,\n",
       "        330,  13, 195, 217, 229, 245, 289, 301,  16,  14, 200, 212, 218,\n",
       "        260, 272, 284, 404,  15,  17, 207, 231, 243, 255, 267, 271, 291,\n",
       "        375, 387, 238, 262, 280, 282, 346, 358, 370, 386, 233, 251, 253,\n",
       "        269, 317, 329, 341, 369, 224, 240, 288, 300, 312, 324, 340, 356,\n",
       "        241, 259, 283, 295, 319, 339, 355, 254, 266, 290, 302, 308, 310,\n",
       "        326, 338, 350, 219, 261, 273, 279, 285, 297, 309, 311, 256, 268,\n",
       "        274, 296, 334, 265, 287, 303, 305, 323, 331, 258, 270, 276, 306,\n",
       "        257, 277, 294, 316, 315, 286, 304, 314, 293, 307, 278, 298, 299,\n",
       "        281, 252, 321, 313, 357, 377, 328, 366, 327, 345, 332], dtype=int32))"
      ]
     },
     "execution_count": 15,
     "metadata": {},
     "output_type": "execute_result"
    }
   ],
   "source": [
    "df['h12'].nunique(), df['h12'].unique()"
   ]
  },
  {
   "cell_type": "code",
   "execution_count": 16,
   "id": "71f7b10e",
   "metadata": {
    "execution": {
     "iopub.execute_input": "2024-03-11T10:43:58.654186Z",
     "iopub.status.busy": "2024-03-11T10:43:58.653533Z",
     "iopub.status.idle": "2024-03-11T10:43:58.724099Z",
     "shell.execute_reply": "2024-03-11T10:43:58.723123Z"
    },
    "papermill": {
     "duration": 0.092237,
     "end_time": "2024-03-11T10:43:58.726241",
     "exception": false,
     "start_time": "2024-03-11T10:43:58.634004",
     "status": "completed"
    },
    "tags": []
   },
   "outputs": [
    {
     "data": {
      "text/plain": [
       "count    3.702593e+06\n",
       "mean     3.779034e+01\n",
       "std      2.808243e+01\n",
       "min      4.000000e+00\n",
       "25%      1.900000e+01\n",
       "50%      3.000000e+01\n",
       "75%      4.700000e+01\n",
       "max      4.040000e+02\n",
       "Name: h12, dtype: float64"
      ]
     },
     "execution_count": 16,
     "metadata": {},
     "output_type": "execute_result"
    }
   ],
   "source": [
    "df.h12.describe()"
   ]
  },
  {
   "cell_type": "code",
   "execution_count": 17,
   "id": "b8706aa2",
   "metadata": {
    "execution": {
     "iopub.execute_input": "2024-03-11T10:43:58.766025Z",
     "iopub.status.busy": "2024-03-11T10:43:58.765407Z",
     "iopub.status.idle": "2024-03-11T10:44:02.217040Z",
     "shell.execute_reply": "2024-03-11T10:44:02.216179Z"
    },
    "papermill": {
     "duration": 3.473713,
     "end_time": "2024-03-11T10:44:02.219226",
     "exception": false,
     "start_time": "2024-03-11T10:43:58.745513",
     "status": "completed"
    },
    "tags": []
   },
   "outputs": [
    {
     "name": "stderr",
     "output_type": "stream",
     "text": [
      "/opt/conda/lib/python3.10/site-packages/seaborn/_oldcore.py:1119: FutureWarning: use_inf_as_na option is deprecated and will be removed in a future version. Convert inf values to NaN before operating instead.\n",
      "  with pd.option_context('mode.use_inf_as_na', True):\n"
     ]
    },
    {
     "data": {
      "text/plain": [
       "<Axes: xlabel='h12', ylabel='Count'>"
      ]
     },
     "execution_count": 17,
     "metadata": {},
     "output_type": "execute_result"
    },
    {
     "data": {
      "image/png": "[encoded data removed]",
      "text/plain": [
       "<Figure size 640x480 with 1 Axes>"
      ]
     },
     "metadata": {},
     "output_type": "display_data"
    }
   ],
   "source": [
    "sns.histplot(data=df, x=\"h12\")"
   ]
  },
  {
   "cell_type": "markdown",
   "id": "0d1d3a68",
   "metadata": {
    "papermill": {
     "duration": 0.019596,
     "end_time": "2024-03-11T10:44:02.258571",
     "exception": false,
     "start_time": "2024-03-11T10:44:02.238975",
     "status": "completed"
    },
    "tags": []
   },
   "source": [
    "## Euler Characteristic = 2*h11 - 2*h12"
   ]
  },
  {
   "cell_type": "code",
   "execution_count": 18,
   "id": "0c2f7cd8",
   "metadata": {
    "execution": {
     "iopub.execute_input": "2024-03-11T10:44:02.298786Z",
     "iopub.status.busy": "2024-03-11T10:44:02.298475Z",
     "iopub.status.idle": "2024-03-11T10:44:02.328530Z",
     "shell.execute_reply": "2024-03-11T10:44:02.327622Z"
    },
    "papermill": {
     "duration": 0.052584,
     "end_time": "2024-03-11T10:44:02.330606",
     "exception": false,
     "start_time": "2024-03-11T10:44:02.278022",
     "status": "completed"
    },
    "tags": []
   },
   "outputs": [
    {
     "data": {
      "text/plain": [
       "0          True\n",
       "1          True\n",
       "2          True\n",
       "3          True\n",
       "4          True\n",
       "           ... \n",
       "3702588    True\n",
       "3702589    True\n",
       "3702590    True\n",
       "3702591    True\n",
       "3702592    True\n",
       "Length: 3702593, dtype: bool"
      ]
     },
     "execution_count": 18,
     "metadata": {},
     "output_type": "execute_result"
    }
   ],
   "source": [
    "#this column is identical to the Euler characteristic \n",
    "df['2h11-2h12'] = 2*df['h11'] - 2*df['h12']\n",
    "df['2h11-2h12']==df['euler_characteristic']"
   ]
  },
  {
   "cell_type": "markdown",
   "id": "73c949a5",
   "metadata": {
    "papermill": {
     "duration": 0.019307,
     "end_time": "2024-03-11T10:44:02.370907",
     "exception": false,
     "start_time": "2024-03-11T10:44:02.351600",
     "status": "completed"
    },
    "tags": []
   },
   "source": [
    "# Prepare data for training"
   ]
  },
  {
   "cell_type": "code",
   "execution_count": 19,
   "id": "90218a6a",
   "metadata": {
    "execution": {
     "iopub.execute_input": "2024-03-11T10:44:02.412495Z",
     "iopub.status.busy": "2024-03-11T10:44:02.412218Z",
     "iopub.status.idle": "2024-03-11T10:44:02.418401Z",
     "shell.execute_reply": "2024-03-11T10:44:02.417502Z"
    },
    "papermill": {
     "duration": 0.02984,
     "end_time": "2024-03-11T10:44:02.420512",
     "exception": false,
     "start_time": "2024-03-11T10:44:02.390672",
     "status": "completed"
    },
    "tags": []
   },
   "outputs": [
    {
     "data": {
      "text/plain": [
       "Index(['h11', 'h12', 'euler_characteristic', '2h11-2h12'], dtype='object')"
      ]
     },
     "execution_count": 19,
     "metadata": {},
     "output_type": "execute_result"
    }
   ],
   "source": [
    "df.columns[-4:]"
   ]
  },
  {
   "cell_type": "code",
   "execution_count": 20,
   "id": "891081f3",
   "metadata": {
    "execution": {
     "iopub.execute_input": "2024-03-11T10:44:02.463790Z",
     "iopub.status.busy": "2024-03-11T10:44:02.463501Z",
     "iopub.status.idle": "2024-03-11T10:44:02.469370Z",
     "shell.execute_reply": "2024-03-11T10:44:02.468536Z"
    },
    "papermill": {
     "duration": 0.029477,
     "end_time": "2024-03-11T10:44:02.471273",
     "exception": false,
     "start_time": "2024-03-11T10:44:02.441796",
     "status": "completed"
    },
    "tags": []
   },
   "outputs": [
    {
     "data": {
      "text/plain": [
       "array([  2,   2,   2, ..., 196, 179, 195], dtype=int32)"
      ]
     },
     "execution_count": 20,
     "metadata": {},
     "output_type": "execute_result"
    }
   ],
   "source": [
    "dfy = df['h11']\n",
    "y = dfy.to_numpy()\n",
    "y"
   ]
  },
  {
   "cell_type": "markdown",
   "id": "5c94c831",
   "metadata": {
    "papermill": {
     "duration": 0.019991,
     "end_time": "2024-03-11T10:44:02.511717",
     "exception": false,
     "start_time": "2024-03-11T10:44:02.491726",
     "status": "completed"
    },
    "tags": []
   },
   "source": [
    "# Get rid of the strange format for 'vertices'"
   ]
  },
  {
   "cell_type": "code",
   "execution_count": 21,
   "id": "671a979a",
   "metadata": {
    "execution": {
     "iopub.execute_input": "2024-03-11T10:44:02.552365Z",
     "iopub.status.busy": "2024-03-11T10:44:02.552118Z",
     "iopub.status.idle": "2024-03-11T10:44:02.556058Z",
     "shell.execute_reply": "2024-03-11T10:44:02.555284Z"
    },
    "papermill": {
     "duration": 0.026468,
     "end_time": "2024-03-11T10:44:02.558008",
     "exception": false,
     "start_time": "2024-03-11T10:44:02.531540",
     "status": "completed"
    },
    "tags": []
   },
   "outputs": [],
   "source": [
    "x_ver = df1['vertices'].to_numpy()"
   ]
  },
  {
   "cell_type": "code",
   "execution_count": 22,
   "id": "8aa44fdf",
   "metadata": {
    "execution": {
     "iopub.execute_input": "2024-03-11T10:44:02.600476Z",
     "iopub.status.busy": "2024-03-11T10:44:02.599961Z",
     "iopub.status.idle": "2024-03-11T10:44:02.605699Z",
     "shell.execute_reply": "2024-03-11T10:44:02.604918Z"
    },
    "papermill": {
     "duration": 0.029257,
     "end_time": "2024-03-11T10:44:02.607484",
     "exception": false,
     "start_time": "2024-03-11T10:44:02.578227",
     "status": "completed"
    },
    "tags": []
   },
   "outputs": [
    {
     "data": {
      "text/plain": [
       "((834638,), (8,))"
      ]
     },
     "execution_count": 22,
     "metadata": {},
     "output_type": "execute_result"
    }
   ],
   "source": [
    "x_ver.shape, x_ver[0].shape"
   ]
  },
  {
   "cell_type": "code",
   "execution_count": 23,
   "id": "4fb190bd",
   "metadata": {
    "execution": {
     "iopub.execute_input": "2024-03-11T10:44:02.652548Z",
     "iopub.status.busy": "2024-03-11T10:44:02.652246Z",
     "iopub.status.idle": "2024-03-11T10:44:32.118882Z",
     "shell.execute_reply": "2024-03-11T10:44:32.118066Z"
    },
    "papermill": {
     "duration": 29.493252,
     "end_time": "2024-03-11T10:44:32.121134",
     "exception": false,
     "start_time": "2024-03-11T10:44:02.627882",
     "status": "completed"
    },
    "tags": []
   },
   "outputs": [],
   "source": [
    "#get rid of the strange format with dtype=object\n",
    "#make sure the shape is a square for easy convolution\n",
    "x8 = np.zeros((len(df1), 8, 8))\n",
    "for i in range(len(df1)):\n",
    "    for j in range(8):\n",
    "        for k in range(4):\n",
    "            x8[i, j, k] = x_ver[i][j][k]"
   ]
  },
  {
   "cell_type": "markdown",
   "id": "12697edd",
   "metadata": {
    "papermill": {
     "duration": 0.019771,
     "end_time": "2024-03-11T10:44:32.161810",
     "exception": false,
     "start_time": "2024-03-11T10:44:32.142039",
     "status": "completed"
    },
    "tags": []
   },
   "source": [
    "# Model building: Polytopes with 8 vertices\n",
    "\n",
    "We will train an ANN or a CNN to predict the h11 value of the polytopes with 8 vertices first. The only input is the vertices list and nothing else. "
   ]
  },
  {
   "cell_type": "code",
   "execution_count": 24,
   "id": "e24af1ba",
   "metadata": {
    "execution": {
     "iopub.execute_input": "2024-03-11T10:44:32.203747Z",
     "iopub.status.busy": "2024-03-11T10:44:32.203425Z",
     "iopub.status.idle": "2024-03-11T10:44:32.212705Z",
     "shell.execute_reply": "2024-03-11T10:44:32.211786Z"
    },
    "papermill": {
     "duration": 0.032803,
     "end_time": "2024-03-11T10:44:32.214935",
     "exception": false,
     "start_time": "2024-03-11T10:44:32.182132",
     "status": "completed"
    },
    "tags": []
   },
   "outputs": [
    {
     "data": {
      "text/plain": [
       "(array([[ 1.,  0.,  0.,  0.,  0.,  0.,  0.,  0.],\n",
       "        [ 1.,  2.,  0.,  0.,  0.,  0.,  0.,  0.],\n",
       "        [ 1.,  2.,  4.,  0.,  0.,  0.,  0.,  0.],\n",
       "        [ 1.,  2.,  0.,  4.,  0.,  0.,  0.,  0.],\n",
       "        [ 0.,  1., -1., -1.,  0.,  0.,  0.,  0.],\n",
       "        [ 0.,  1.,  4., -1.,  0.,  0.,  0.,  0.],\n",
       "        [ 0.,  1., -1.,  4.,  0.,  0.,  0.,  0.],\n",
       "        [-5., -9., -6., -6.,  0.,  0.,  0.,  0.]]),\n",
       " array([[ 1.,  0.,  0.,  0.,  0.,  0.,  0.,  0.],\n",
       "        [ 1.,  4.,  0.,  0.,  0.,  0.,  0.,  0.],\n",
       "        [ 1.,  0.,  4.,  0.,  0.,  0.,  0.,  0.],\n",
       "        [ 0.,  0.,  0.,  1.,  0.,  0.,  0.,  0.],\n",
       "        [ 0.,  0., -4.,  1.,  0.,  0.,  0.,  0.],\n",
       "        [ 0.,  4., -4.,  1.,  0.,  0.,  0.,  0.],\n",
       "        [-1., -4.,  4., -2.,  0.,  0.,  0.,  0.],\n",
       "        [-4., -4., -8.,  1.,  0.,  0.,  0.,  0.]]),\n",
       " array([[  1.,   0.,   0.,   0.,   0.,   0.,   0.,   0.],\n",
       "        [  0.,   1.,   0.,   0.,   0.,   0.,   0.,   0.],\n",
       "        [  0.,   0.,   1.,   0.,   0.,   0.,   0.,   0.],\n",
       "        [  0.,   0.,   0.,   1.,   0.,   0.,   0.,   0.],\n",
       "        [-14.,  -8.,  -4.,  -1.,   0.,   0.,   0.,   0.],\n",
       "        [-15.,  -9.,  -4.,  -1.,   0.,   0.,   0.,   0.],\n",
       "        [-21., -13.,  -6.,  -1.,   0.,   0.,   0.,   0.],\n",
       "        [-21., -42.,  -6.,  28.,   0.,   0.,   0.,   0.]]),\n",
       " array([[   1.,    0.,    0.,    0.,    0.,    0.,    0.,    0.],\n",
       "        [   0.,    1.,    0.,    0.,    0.,    0.,    0.,    0.],\n",
       "        [   0.,    0.,    1.,    0.,    0.,    0.,    0.,    0.],\n",
       "        [   0.,    0.,    0.,    1.,    0.,    0.,    0.,    0.],\n",
       "        [  -3.,   -2.,   -1.,    1.,    0.,    0.,    0.,    0.],\n",
       "        [ -21.,  -14.,   -6.,    0.,    0.,    0.,    0.,    0.],\n",
       "        [ -93.,  -62.,  -24.,   -6.,    0.,    0.,    0.,    0.],\n",
       "        [-471., -314., -126.,  -30.,    0.,    0.,    0.,    0.]]))"
      ]
     },
     "execution_count": 24,
     "metadata": {},
     "output_type": "execute_result"
    }
   ],
   "source": [
    "x8[0], x8[10], x8[-10], x8[-1]"
   ]
  },
  {
   "cell_type": "code",
   "execution_count": 25,
   "id": "5c02edca",
   "metadata": {
    "execution": {
     "iopub.execute_input": "2024-03-11T10:44:32.257373Z",
     "iopub.status.busy": "2024-03-11T10:44:32.257105Z",
     "iopub.status.idle": "2024-03-11T10:44:32.861597Z",
     "shell.execute_reply": "2024-03-11T10:44:32.860610Z"
    },
    "papermill": {
     "duration": 0.627545,
     "end_time": "2024-03-11T10:44:32.863687",
     "exception": false,
     "start_time": "2024-03-11T10:44:32.236142",
     "status": "completed"
    },
    "tags": []
   },
   "outputs": [
    {
     "data": {
      "text/plain": [
       "<matplotlib.image.AxesImage at 0x7cda17c1aec0>"
      ]
     },
     "execution_count": 25,
     "metadata": {},
     "output_type": "execute_result"
    },
    {
     "data": {
      "image/png": "[encoded data removed]",
      "text/plain": [
       "<Figure size 640x480 with 4 Axes>"
      ]
     },
     "metadata": {},
     "output_type": "display_data"
    }
   ],
   "source": [
    "#plt.figsize((12,12))\n",
    "fig, axs = plt.subplots(2, 2)\n",
    "axs[0,0].imshow(x8[0])\n",
    "axs[0,1].imshow(x8[10])\n",
    "axs[1,0].imshow(x8[-10])\n",
    "axs[1,1].imshow(x8[-1])"
   ]
  },
  {
   "cell_type": "markdown",
   "id": "504bfff6",
   "metadata": {
    "papermill": {
     "duration": 0.020236,
     "end_time": "2024-03-11T10:44:32.906222",
     "exception": false,
     "start_time": "2024-03-11T10:44:32.885986",
     "status": "completed"
    },
    "tags": []
   },
   "source": [
    "# Train test split"
   ]
  },
  {
   "cell_type": "code",
   "execution_count": 26,
   "id": "c3121a22",
   "metadata": {
    "execution": {
     "iopub.execute_input": "2024-03-11T10:44:32.950408Z",
     "iopub.status.busy": "2024-03-11T10:44:32.949562Z",
     "iopub.status.idle": "2024-03-11T10:44:32.955728Z",
     "shell.execute_reply": "2024-03-11T10:44:32.954948Z"
    },
    "papermill": {
     "duration": 0.029509,
     "end_time": "2024-03-11T10:44:32.957657",
     "exception": false,
     "start_time": "2024-03-11T10:44:32.928148",
     "status": "completed"
    },
    "tags": []
   },
   "outputs": [
    {
     "data": {
      "text/plain": [
       "dtype('int32')"
      ]
     },
     "execution_count": 26,
     "metadata": {},
     "output_type": "execute_result"
    }
   ],
   "source": [
    "y8 = y[:len(df1)]\n",
    "y8.dtype"
   ]
  },
  {
   "cell_type": "code",
   "execution_count": 27,
   "id": "d449445f",
   "metadata": {
    "execution": {
     "iopub.execute_input": "2024-03-11T10:44:33.000109Z",
     "iopub.status.busy": "2024-03-11T10:44:32.999455Z",
     "iopub.status.idle": "2024-03-11T10:44:33.004824Z",
     "shell.execute_reply": "2024-03-11T10:44:33.004013Z"
    },
    "papermill": {
     "duration": 0.028769,
     "end_time": "2024-03-11T10:44:33.006968",
     "exception": false,
     "start_time": "2024-03-11T10:44:32.978199",
     "status": "completed"
    },
    "tags": []
   },
   "outputs": [
    {
     "data": {
      "text/plain": [
       "((834638, 8, 8), (834638,))"
      ]
     },
     "execution_count": 27,
     "metadata": {},
     "output_type": "execute_result"
    }
   ],
   "source": [
    "#Need to normalize the data\n",
    "x8.shape, y8.shape"
   ]
  },
  {
   "cell_type": "code",
   "execution_count": 28,
   "id": "822a65ec",
   "metadata": {
    "execution": {
     "iopub.execute_input": "2024-03-11T10:44:33.050061Z",
     "iopub.status.busy": "2024-03-11T10:44:33.049320Z",
     "iopub.status.idle": "2024-03-11T10:44:33.319021Z",
     "shell.execute_reply": "2024-03-11T10:44:33.318064Z"
    },
    "papermill": {
     "duration": 0.29365,
     "end_time": "2024-03-11T10:44:33.321344",
     "exception": false,
     "start_time": "2024-03-11T10:44:33.027694",
     "status": "completed"
    },
    "tags": []
   },
   "outputs": [],
   "source": [
    "from sklearn.model_selection import train_test_split"
   ]
  },
  {
   "cell_type": "code",
   "execution_count": 29,
   "id": "a38d8fe1",
   "metadata": {
    "execution": {
     "iopub.execute_input": "2024-03-11T10:44:33.366914Z",
     "iopub.status.busy": "2024-03-11T10:44:33.366383Z",
     "iopub.status.idle": "2024-03-11T10:44:33.600692Z",
     "shell.execute_reply": "2024-03-11T10:44:33.599680Z"
    },
    "papermill": {
     "duration": 0.259431,
     "end_time": "2024-03-11T10:44:33.603102",
     "exception": false,
     "start_time": "2024-03-11T10:44:33.343671",
     "status": "completed"
    },
    "tags": []
   },
   "outputs": [],
   "source": [
    "X_train, X_test, y_train, y_test  = train_test_split(x8, y8, test_size=0.2,  random_state=42, shuffle=True)"
   ]
  },
  {
   "cell_type": "code",
   "execution_count": 30,
   "id": "c4bb34d8",
   "metadata": {
    "execution": {
     "iopub.execute_input": "2024-03-11T10:44:33.646798Z",
     "iopub.status.busy": "2024-03-11T10:44:33.646478Z",
     "iopub.status.idle": "2024-03-11T10:44:33.652577Z",
     "shell.execute_reply": "2024-03-11T10:44:33.651729Z"
    },
    "papermill": {
     "duration": 0.029751,
     "end_time": "2024-03-11T10:44:33.654390",
     "exception": false,
     "start_time": "2024-03-11T10:44:33.624639",
     "status": "completed"
    },
    "tags": []
   },
   "outputs": [
    {
     "data": {
      "text/plain": [
       "((667710, 8, 8), (667710,), (166928, 8, 8), (166928,))"
      ]
     },
     "execution_count": 30,
     "metadata": {},
     "output_type": "execute_result"
    }
   ],
   "source": [
    "X_train.shape, y_train.shape, X_test.shape, y_test.shape"
   ]
  },
  {
   "cell_type": "markdown",
   "id": "9fde7860",
   "metadata": {
    "papermill": {
     "duration": 0.020682,
     "end_time": "2024-03-11T10:44:33.696160",
     "exception": false,
     "start_time": "2024-03-11T10:44:33.675478",
     "status": "completed"
    },
    "tags": []
   },
   "source": [
    "# Build models"
   ]
  },
  {
   "cell_type": "code",
   "execution_count": 31,
   "id": "4b240a71",
   "metadata": {
    "execution": {
     "iopub.execute_input": "2024-03-11T10:44:33.739269Z",
     "iopub.status.busy": "2024-03-11T10:44:33.738995Z",
     "iopub.status.idle": "2024-03-11T10:44:41.334322Z",
     "shell.execute_reply": "2024-03-11T10:44:41.333535Z"
    },
    "papermill": {
     "duration": 7.619594,
     "end_time": "2024-03-11T10:44:41.336558",
     "exception": false,
     "start_time": "2024-03-11T10:44:33.716964",
     "status": "completed"
    },
    "tags": []
   },
   "outputs": [],
   "source": [
    "import torch\n",
    "import torchvision\n",
    "\n",
    "import torch.nn as nn\n",
    "import torch.nn.functional as F\n",
    "from torchvision.utils import make_grid\n",
    "#from torchvision import transforms, datasets\n",
    "#from torch.utils.data import Dataset\n",
    "from torch.utils.data.dataloader import DataLoader\n",
    "\n",
    "from torch.utils.data import random_split\n",
    "from sklearn.utils import shuffle\n"
   ]
  },
  {
   "cell_type": "code",
   "execution_count": 32,
   "id": "72bc55e7",
   "metadata": {
    "execution": {
     "iopub.execute_input": "2024-03-11T10:44:41.381410Z",
     "iopub.status.busy": "2024-03-11T10:44:41.379717Z",
     "iopub.status.idle": "2024-03-11T10:44:41.468616Z",
     "shell.execute_reply": "2024-03-11T10:44:41.467774Z"
    },
    "papermill": {
     "duration": 0.112485,
     "end_time": "2024-03-11T10:44:41.470544",
     "exception": false,
     "start_time": "2024-03-11T10:44:41.358059",
     "status": "completed"
    },
    "tags": []
   },
   "outputs": [
    {
     "name": "stdout",
     "output_type": "stream",
     "text": [
      "cuda:0\n"
     ]
    }
   ],
   "source": [
    "if torch.cuda.is_available():\n",
    "    device = torch.device('cuda:0')\n",
    "else:\n",
    "    device = torch.device('cpu')\n",
    "\n",
    "print(device)"
   ]
  },
  {
   "cell_type": "code",
   "execution_count": 33,
   "id": "5d8d317d",
   "metadata": {
    "execution": {
     "iopub.execute_input": "2024-03-11T10:44:41.513961Z",
     "iopub.status.busy": "2024-03-11T10:44:41.513645Z",
     "iopub.status.idle": "2024-03-11T10:44:41.603577Z",
     "shell.execute_reply": "2024-03-11T10:44:41.602786Z"
    },
    "papermill": {
     "duration": 0.114111,
     "end_time": "2024-03-11T10:44:41.605758",
     "exception": false,
     "start_time": "2024-03-11T10:44:41.491647",
     "status": "completed"
    },
    "tags": []
   },
   "outputs": [],
   "source": [
    "X_train = torch.from_numpy(X_train.astype(np.float32))\n",
    "y_train = torch.from_numpy(y_train.astype(np.float32).reshape(-1, 1))\n",
    "\n",
    "X_test = torch.from_numpy(X_test.astype(np.float32))\n",
    "y_test = torch.from_numpy(y_test.astype(np.float32).reshape(-1, 1))"
   ]
  },
  {
   "cell_type": "code",
   "execution_count": 34,
   "id": "e5650238",
   "metadata": {
    "execution": {
     "iopub.execute_input": "2024-03-11T10:44:41.649778Z",
     "iopub.status.busy": "2024-03-11T10:44:41.649437Z",
     "iopub.status.idle": "2024-03-11T10:44:41.653640Z",
     "shell.execute_reply": "2024-03-11T10:44:41.652802Z"
    },
    "papermill": {
     "duration": 0.028395,
     "end_time": "2024-03-11T10:44:41.655581",
     "exception": false,
     "start_time": "2024-03-11T10:44:41.627186",
     "status": "completed"
    },
    "tags": []
   },
   "outputs": [],
   "source": [
    "if not os.path.exists('saved_models'):\n",
    "    os.makedirs('saved_models')"
   ]
  },
  {
   "cell_type": "markdown",
   "id": "610f0882",
   "metadata": {
    "papermill": {
     "duration": 0.020661,
     "end_time": "2024-03-11T10:44:41.697187",
     "exception": false,
     "start_time": "2024-03-11T10:44:41.676526",
     "status": "completed"
    },
    "tags": []
   },
   "source": [
    "## ANN"
   ]
  },
  {
   "cell_type": "code",
   "execution_count": 35,
   "id": "9a0e2e88",
   "metadata": {
    "execution": {
     "iopub.execute_input": "2024-03-11T10:44:41.740998Z",
     "iopub.status.busy": "2024-03-11T10:44:41.740687Z",
     "iopub.status.idle": "2024-03-11T10:44:41.747539Z",
     "shell.execute_reply": "2024-03-11T10:44:41.746773Z"
    },
    "papermill": {
     "duration": 0.031043,
     "end_time": "2024-03-11T10:44:41.749322",
     "exception": false,
     "start_time": "2024-03-11T10:44:41.718279",
     "status": "completed"
    },
    "tags": []
   },
   "outputs": [],
   "source": [
    "class ANN_KS_h11(nn.Module):\n",
    "    \n",
    "    def __init__(self):\n",
    "        super().__init__()\n",
    "        self.flat = nn.Flatten()\n",
    "        self.linear1 = nn.Linear(64,1024)\n",
    "        self.linear2 = nn.Linear(1024,512)\n",
    "        self.linear3 = nn.Linear(512,256)\n",
    "        self.linear4 = nn.Linear(256,64)\n",
    "        self.linear5 = nn.Linear(64,1)\n",
    "\n",
    "    def forward(self,x):\n",
    "        x = self.flat(x)\n",
    "        x = F.relu(self.linear1(x))\n",
    "        x = F.relu(self.linear2(x))\n",
    "        x = F.relu(self.linear3(x))\n",
    "        x = F.relu(self.linear4(x))\n",
    "        x = self.linear5(x)\n",
    "        \n",
    "        return x"
   ]
  },
  {
   "cell_type": "markdown",
   "id": "1a271117",
   "metadata": {
    "papermill": {
     "duration": 0.020592,
     "end_time": "2024-03-11T10:44:41.790698",
     "exception": false,
     "start_time": "2024-03-11T10:44:41.770106",
     "status": "completed"
    },
    "tags": []
   },
   "source": [
    "## CNN"
   ]
  },
  {
   "cell_type": "code",
   "execution_count": 36,
   "id": "941659e5",
   "metadata": {
    "execution": {
     "iopub.execute_input": "2024-03-11T10:44:41.834455Z",
     "iopub.status.busy": "2024-03-11T10:44:41.834170Z",
     "iopub.status.idle": "2024-03-11T10:44:41.842447Z",
     "shell.execute_reply": "2024-03-11T10:44:41.841596Z"
    },
    "papermill": {
     "duration": 0.032495,
     "end_time": "2024-03-11T10:44:41.844403",
     "exception": false,
     "start_time": "2024-03-11T10:44:41.811908",
     "status": "completed"
    },
    "tags": []
   },
   "outputs": [],
   "source": [
    "class CNN_KS_h11(nn.Module):\n",
    "    \n",
    "    def __init__(self):\n",
    "        super().__init__()\n",
    "        self.conv1 = nn.Conv2d(1,64, 3, 1)\n",
    "        self.conv2 = nn.Conv2d(64,32, 2, 1)\n",
    "        self.mxpool = nn.MaxPool2d(2,2)\n",
    "        self.flat = nn.Flatten()\n",
    "        self.conv_total = nn.Sequential(\n",
    "            self.conv1,\n",
    "            self.mxpool,\n",
    "            self.conv2,\n",
    "            self.mxpool\n",
    "        )\n",
    "        \n",
    "        self.linear1 = nn.Linear(32,1024)\n",
    "        self.linear2 = nn.Linear(1024,512)\n",
    "        self.linear3 = nn.Linear(512,128)\n",
    "        self.linear4 = nn.Linear(128,1)\n",
    "\n",
    "    def forward(self,x):\n",
    "        x = F.relu(self.conv_total(x))\n",
    "        x = self.flat(x)\n",
    "        x = F.relu(self.linear1(x))\n",
    "        x = F.relu(self.linear2(x))\n",
    "        x = F.relu(self.linear3(x))\n",
    "        x = self.linear4(x)\n",
    "        \n",
    "        return x"
   ]
  },
  {
   "cell_type": "markdown",
   "id": "1a7c0132",
   "metadata": {
    "papermill": {
     "duration": 0.02146,
     "end_time": "2024-03-11T10:44:41.887389",
     "exception": false,
     "start_time": "2024-03-11T10:44:41.865929",
     "status": "completed"
    },
    "tags": []
   },
   "source": [
    "## Define a function for the train loop"
   ]
  },
  {
   "cell_type": "code",
   "execution_count": 37,
   "id": "0aa04937",
   "metadata": {
    "execution": {
     "iopub.execute_input": "2024-03-11T10:44:41.932283Z",
     "iopub.status.busy": "2024-03-11T10:44:41.931526Z",
     "iopub.status.idle": "2024-03-11T10:44:41.943854Z",
     "shell.execute_reply": "2024-03-11T10:44:41.942975Z"
    },
    "papermill": {
     "duration": 0.037301,
     "end_time": "2024-03-11T10:44:41.946193",
     "exception": false,
     "start_time": "2024-03-11T10:44:41.908892",
     "status": "completed"
    },
    "tags": []
   },
   "outputs": [],
   "source": [
    "from datetime import datetime\n",
    "def batch_gd(model, criterion, optimizer, X_train, y_train, X_test, y_test, epochs, batch_size, cnn=False):\n",
    "  train_losses = []\n",
    "  test_losses = []\n",
    "\n",
    "  for it in range(epochs):\n",
    "    model.train()\n",
    "    t0 = datetime.now()\n",
    "    train_loss = []\n",
    "    for n in range(len(X_train)//batch_size):    \n",
    "        data = X_train[n*batch_size:(n+1)*batch_size]\n",
    "        target = y_train[n*batch_size:(n+1)*batch_size]\n",
    "        if cnn:\n",
    "            data = data.view(batch_size,1,8,8)\n",
    "        data,target = data.to(device), target.to(device)\n",
    "       \n",
    "        #Perform the prediction\n",
    "        ypred = model(data.float())\n",
    "        loss = criterion(ypred,target)\n",
    "        #Training steps\n",
    "        optimizer.zero_grad()\n",
    "        loss.backward()\n",
    "        optimizer.step()\n",
    "        train_loss.append(loss.item())\n",
    "\n",
    "    # Get train loss and test loss\n",
    "    train_loss = np.mean(train_loss) \n",
    "    \n",
    "    model.eval()\n",
    "    test_loss = []\n",
    "    total_test_loss = 0\n",
    "    for n in range(len(X_test)//batch_size):    \n",
    "        data = X_test[n*batch_size:(n+1)*batch_size]\n",
    "        target = y_test[n*batch_size:(n+1)*batch_size]\n",
    "        if cnn:\n",
    "            data = data.view(batch_size,1,8,8)\n",
    "        data,target = data.to(device), target.to(device)\n",
    "        y_pred_test = model(data.float())\n",
    "        loss = criterion(y_pred_test, target)\n",
    "        test_loss.append(loss.item())\n",
    "    \n",
    "    test_loss = np.mean(test_loss)\n",
    "    # Save losses\n",
    "    train_losses.append(train_loss)\n",
    "    test_losses.append(test_loss)\n",
    "    \n",
    "    dt = datetime.now() - t0\n",
    "    if it%5==0:\n",
    "        print(f'Epoch {it+1}/{epochs}, Train Loss: {train_loss:.4f}, \\\n",
    "          Test Loss: {test_loss:.4f}, Duration: {dt}')\n",
    "    \n",
    "  return train_losses, test_losses"
   ]
  },
  {
   "cell_type": "code",
   "execution_count": 38,
   "id": "f286b06b",
   "metadata": {
    "execution": {
     "iopub.execute_input": "2024-03-11T10:44:41.990620Z",
     "iopub.status.busy": "2024-03-11T10:44:41.990336Z",
     "iopub.status.idle": "2024-03-11T10:44:41.999838Z",
     "shell.execute_reply": "2024-03-11T10:44:41.999016Z"
    },
    "papermill": {
     "duration": 0.033626,
     "end_time": "2024-03-11T10:44:42.001685",
     "exception": false,
     "start_time": "2024-03-11T10:44:41.968059",
     "status": "completed"
    },
    "tags": []
   },
   "outputs": [],
   "source": [
    "# CALCULATING ACCURACY\n",
    "# Accuracy\n",
    "def calc_accuracy(model, cnn = False):\n",
    "    model.eval()\n",
    "    n_correct = 0.\n",
    "    n_total = 0.\n",
    "    batch_size =128\n",
    "    for n in range(len(X_train)//batch_size):    \n",
    "        data = X_train[n*batch_size:(n+1)*batch_size]\n",
    "        target = y_train[n*batch_size:(n+1)*batch_size]\n",
    "        if cnn:\n",
    "            data = data.view(batch_size,1,8,8)\n",
    "        data,target = data.to(device), target.to(device)\n",
    "\n",
    "        #Perform the prediction\n",
    "        ypred = model(data.float())\n",
    "        # update counts\n",
    "        n_correct += (ypred == target).sum().item()\n",
    "        n_total += target.shape[0]\n",
    "\n",
    "    train_acc = n_correct / n_total\n",
    "\n",
    "    #TEST SET\n",
    "    n_correct = 0.\n",
    "    n_total = 0.\n",
    "    for n in range(len(X_test)//batch_size):    \n",
    "        data = X_test[n*batch_size:(n+1)*batch_size]\n",
    "        target = y_test[n*batch_size:(n+1)*batch_size]\n",
    "        if cnn:\n",
    "            data = data.view(batch_size,1,8,8)\n",
    "        data,target = data.to(device), target.to(device)\n",
    "       # Forward pass\n",
    "        ypred_test = model(data.float())\n",
    "       # update counts\n",
    "        n_correct += (ypred_test == target).sum().item()\n",
    "        n_total += target.shape[0]\n",
    "\n",
    "    test_acc = n_correct / n_total\n",
    "\n",
    "    return train_acc, test_acc\n",
    "    "
   ]
  },
  {
   "cell_type": "markdown",
   "id": "3e0a3f07",
   "metadata": {
    "papermill": {
     "duration": 0.021184,
     "end_time": "2024-03-11T10:44:42.044286",
     "exception": false,
     "start_time": "2024-03-11T10:44:42.023102",
     "status": "completed"
    },
    "tags": []
   },
   "source": [
    "# CNN model: Training & Evaluation"
   ]
  },
  {
   "cell_type": "code",
   "execution_count": 39,
   "id": "b441b290",
   "metadata": {
    "execution": {
     "iopub.execute_input": "2024-03-11T10:44:42.087440Z",
     "iopub.status.busy": "2024-03-11T10:44:42.087187Z",
     "iopub.status.idle": "2024-03-11T10:44:42.122883Z",
     "shell.execute_reply": "2024-03-11T10:44:42.122187Z"
    },
    "papermill": {
     "duration": 0.059812,
     "end_time": "2024-03-11T10:44:42.124821",
     "exception": false,
     "start_time": "2024-03-11T10:44:42.065009",
     "status": "completed"
    },
    "tags": []
   },
   "outputs": [],
   "source": [
    "model_cnn = CNN_KS_h11()"
   ]
  },
  {
   "cell_type": "code",
   "execution_count": 40,
   "id": "277de26e",
   "metadata": {
    "execution": {
     "iopub.execute_input": "2024-03-11T10:44:42.167808Z",
     "iopub.status.busy": "2024-03-11T10:44:42.167470Z",
     "iopub.status.idle": "2024-03-11T10:44:42.372097Z",
     "shell.execute_reply": "2024-03-11T10:44:42.371200Z"
    },
    "papermill": {
     "duration": 0.2281,
     "end_time": "2024-03-11T10:44:42.374070",
     "exception": false,
     "start_time": "2024-03-11T10:44:42.145970",
     "status": "completed"
    },
    "tags": []
   },
   "outputs": [
    {
     "name": "stdout",
     "output_type": "stream",
     "text": [
      "cuda:0\n"
     ]
    },
    {
     "data": {
      "text/plain": [
       "CNN_KS_h11(\n",
       "  (conv1): Conv2d(1, 64, kernel_size=(3, 3), stride=(1, 1))\n",
       "  (conv2): Conv2d(64, 32, kernel_size=(2, 2), stride=(1, 1))\n",
       "  (mxpool): MaxPool2d(kernel_size=2, stride=2, padding=0, dilation=1, ceil_mode=False)\n",
       "  (flat): Flatten(start_dim=1, end_dim=-1)\n",
       "  (conv_total): Sequential(\n",
       "    (0): Conv2d(1, 64, kernel_size=(3, 3), stride=(1, 1))\n",
       "    (1): MaxPool2d(kernel_size=2, stride=2, padding=0, dilation=1, ceil_mode=False)\n",
       "    (2): Conv2d(64, 32, kernel_size=(2, 2), stride=(1, 1))\n",
       "    (3): MaxPool2d(kernel_size=2, stride=2, padding=0, dilation=1, ceil_mode=False)\n",
       "  )\n",
       "  (linear1): Linear(in_features=32, out_features=1024, bias=True)\n",
       "  (linear2): Linear(in_features=1024, out_features=512, bias=True)\n",
       "  (linear3): Linear(in_features=512, out_features=128, bias=True)\n",
       "  (linear4): Linear(in_features=128, out_features=1, bias=True)\n",
       ")"
      ]
     },
     "execution_count": 40,
     "metadata": {},
     "output_type": "execute_result"
    }
   ],
   "source": [
    "device = torch.device(\"cuda:0\" if torch.cuda.is_available() else \"cpu\")\n",
    "print(device)\n",
    "model_cnn.to(device)"
   ]
  },
  {
   "cell_type": "code",
   "execution_count": 41,
   "id": "14c6586d",
   "metadata": {
    "execution": {
     "iopub.execute_input": "2024-03-11T10:44:42.418107Z",
     "iopub.status.busy": "2024-03-11T10:44:42.417825Z",
     "iopub.status.idle": "2024-03-11T10:44:43.130929Z",
     "shell.execute_reply": "2024-03-11T10:44:43.129859Z"
    },
    "papermill": {
     "duration": 0.737501,
     "end_time": "2024-03-11T10:44:43.133147",
     "exception": false,
     "start_time": "2024-03-11T10:44:42.395646",
     "status": "completed"
    },
    "tags": []
   },
   "outputs": [
    {
     "name": "stdout",
     "output_type": "stream",
     "text": [
      "Original shape of the image before passing through the network: \n",
      " torch.Size([8, 8])\n",
      "\n",
      "Reshape the size to take in account the batch number\n",
      "The new size is torch.Size([1, 1, 8, 8])\n",
      "\n",
      "Shape of the image after passing through the whole convolution block: \n",
      " torch.Size([1, 32, 1, 1])\n",
      "\n",
      "Shape of the image after passing through the Flatten(start_dim=1, end_dim=-1): \n",
      " torch.Size([1, 32])\n",
      "\n",
      "Shape of the image after passing through the Linear(in_features=32, out_features=1024, bias=True): \n",
      " torch.Size([1, 1024])\n",
      "\n",
      "Shape of the image after passing through the Linear(in_features=1024, out_features=512, bias=True): \n",
      " torch.Size([1, 512])\n",
      "\n",
      "Shape of the image after passing through the Linear(in_features=512, out_features=128, bias=True): \n",
      " torch.Size([1, 128])\n",
      "\n",
      "Shape of the image after passing through the Linear(in_features=128, out_features=1, bias=True): \n",
      " torch.Size([1, 1])\n",
      "\n"
     ]
    }
   ],
   "source": [
    "X = X_train[0].to(device)\n",
    "print(f'Original shape of the image before passing through the network: \\n {X.shape}\\n')\n",
    "print('Reshape the size to take in account the batch number')\n",
    "X = X.view(1,1,8,8)\n",
    "print(f'The new size is {X.shape}\\n')\n",
    "X = model_cnn.conv_total(X)\n",
    "print(f'Shape of the image after passing through the whole convolution block: \\n {X.shape}\\n')\n",
    "\n",
    "X = model_cnn.flat(X)\n",
    "print(f'Shape of the image after passing through the {model_cnn.flat}: \\n {X.shape}\\n')\n",
    "\n",
    "X = model_cnn.linear1(X)\n",
    "print(f'Shape of the image after passing through the {model_cnn.linear1}: \\n {X.shape}\\n')\n",
    "\n",
    "X = model_cnn.linear2(X)\n",
    "print(f'Shape of the image after passing through the {model_cnn.linear2}: \\n {X.shape}\\n')\n",
    "\n",
    "X = model_cnn.linear3(X)\n",
    "print(f'Shape of the image after passing through the {model_cnn.linear3}: \\n {X.shape}\\n')\n",
    "\n",
    "X = model_cnn.linear4(X)\n",
    "print(f'Shape of the image after passing through the {model_cnn.linear4}: \\n {X.shape}\\n')"
   ]
  },
  {
   "cell_type": "code",
   "execution_count": 42,
   "id": "61691e58",
   "metadata": {
    "execution": {
     "iopub.execute_input": "2024-03-11T10:44:43.177788Z",
     "iopub.status.busy": "2024-03-11T10:44:43.177468Z",
     "iopub.status.idle": "2024-03-11T10:44:43.182811Z",
     "shell.execute_reply": "2024-03-11T10:44:43.181973Z"
    },
    "papermill": {
     "duration": 0.02973,
     "end_time": "2024-03-11T10:44:43.184862",
     "exception": false,
     "start_time": "2024-03-11T10:44:43.155132",
     "status": "completed"
    },
    "tags": []
   },
   "outputs": [
    {
     "name": "stdout",
     "output_type": "stream",
     "text": [
      "     576\n",
      "      64\n",
      "    8192\n",
      "      32\n",
      "   32768\n",
      "    1024\n",
      "  524288\n",
      "     512\n",
      "   65536\n",
      "     128\n",
      "     128\n",
      "       1\n",
      "________\n",
      "  633249\n"
     ]
    }
   ],
   "source": [
    "#count the number of parameters in the model\n",
    "params = [p.numel() for p in model_cnn.parameters() if p.requires_grad]\n",
    "for item in params:\n",
    "    print(f'{item:>8}')\n",
    "print(f'________\\n{sum(params):>8}')"
   ]
  },
  {
   "cell_type": "code",
   "execution_count": 43,
   "id": "7030b138",
   "metadata": {
    "execution": {
     "iopub.execute_input": "2024-03-11T10:44:43.228880Z",
     "iopub.status.busy": "2024-03-11T10:44:43.228601Z",
     "iopub.status.idle": "2024-03-11T10:44:43.233024Z",
     "shell.execute_reply": "2024-03-11T10:44:43.232296Z"
    },
    "papermill": {
     "duration": 0.028435,
     "end_time": "2024-03-11T10:44:43.234788",
     "exception": false,
     "start_time": "2024-03-11T10:44:43.206353",
     "status": "completed"
    },
    "tags": []
   },
   "outputs": [],
   "source": [
    "criterion = nn.MSELoss()\n",
    "optimizer = torch.optim.Adam(model_cnn.parameters())"
   ]
  },
  {
   "cell_type": "code",
   "execution_count": 44,
   "id": "807d001b",
   "metadata": {
    "execution": {
     "iopub.execute_input": "2024-03-11T10:44:43.279305Z",
     "iopub.status.busy": "2024-03-11T10:44:43.279067Z",
     "iopub.status.idle": "2024-03-11T11:08:27.608340Z",
     "shell.execute_reply": "2024-03-11T11:08:27.607482Z"
    },
    "papermill": {
     "duration": 1424.354428,
     "end_time": "2024-03-11T11:08:27.610661",
     "exception": false,
     "start_time": "2024-03-11T10:44:43.256233",
     "status": "completed"
    },
    "tags": []
   },
   "outputs": [
    {
     "name": "stdout",
     "output_type": "stream",
     "text": [
      "Epoch 1/100, Train Loss: 104.4047,           Test Loss: 55.7957, Duration: 0:00:15.039262\n",
      "Epoch 6/100, Train Loss: 27.8506,           Test Loss: 26.4623, Duration: 0:00:14.328279\n",
      "Epoch 11/100, Train Loss: 22.5921,           Test Loss: 21.3728, Duration: 0:00:14.284642\n",
      "Epoch 16/100, Train Loss: 19.9104,           Test Loss: 19.6937, Duration: 0:00:14.210809\n",
      "Epoch 21/100, Train Loss: 18.2243,           Test Loss: 17.9391, Duration: 0:00:14.083778\n",
      "Epoch 26/100, Train Loss: 16.9978,           Test Loss: 17.3124, Duration: 0:00:14.066679\n",
      "Epoch 31/100, Train Loss: 15.9808,           Test Loss: 16.7978, Duration: 0:00:14.247125\n",
      "Epoch 36/100, Train Loss: 15.2006,           Test Loss: 17.0030, Duration: 0:00:14.253163\n",
      "Epoch 41/100, Train Loss: 14.5311,           Test Loss: 17.8575, Duration: 0:00:14.263401\n",
      "Epoch 46/100, Train Loss: 13.9404,           Test Loss: 18.1998, Duration: 0:00:14.263923\n",
      "Epoch 51/100, Train Loss: 13.4433,           Test Loss: 16.9211, Duration: 0:00:14.230581\n",
      "Epoch 56/100, Train Loss: 13.0775,           Test Loss: 16.9472, Duration: 0:00:14.376177\n",
      "Epoch 61/100, Train Loss: 12.6723,           Test Loss: 16.7478, Duration: 0:00:14.456413\n",
      "Epoch 66/100, Train Loss: 12.3359,           Test Loss: 16.0707, Duration: 0:00:14.030763\n",
      "Epoch 71/100, Train Loss: 12.0054,           Test Loss: 15.6960, Duration: 0:00:14.255200\n",
      "Epoch 76/100, Train Loss: 11.7947,           Test Loss: 14.7671, Duration: 0:00:14.311569\n",
      "Epoch 81/100, Train Loss: 11.5931,           Test Loss: 15.2611, Duration: 0:00:14.242824\n",
      "Epoch 86/100, Train Loss: 11.3305,           Test Loss: 15.0325, Duration: 0:00:14.349988\n",
      "Epoch 91/100, Train Loss: 11.1735,           Test Loss: 14.7647, Duration: 0:00:14.349761\n",
      "Epoch 96/100, Train Loss: 10.9989,           Test Loss: 15.2106, Duration: 0:00:14.333677\n"
     ]
    }
   ],
   "source": [
    "train_losses, test_losses=batch_gd(model_cnn, criterion, optimizer, X_train, y_train, X_test, y_test, 100, 128, cnn=True)"
   ]
  },
  {
   "cell_type": "code",
   "execution_count": 45,
   "id": "41ac5643",
   "metadata": {
    "execution": {
     "iopub.execute_input": "2024-03-11T11:08:27.658662Z",
     "iopub.status.busy": "2024-03-11T11:08:27.658351Z",
     "iopub.status.idle": "2024-03-11T11:08:27.673287Z",
     "shell.execute_reply": "2024-03-11T11:08:27.672539Z"
    },
    "papermill": {
     "duration": 0.040996,
     "end_time": "2024-03-11T11:08:27.675204",
     "exception": false,
     "start_time": "2024-03-11T11:08:27.634208",
     "status": "completed"
    },
    "tags": []
   },
   "outputs": [],
   "source": [
    "# SAVE MODEL FOR INFERENCE\n",
    "#https://pytorch.org/tutorials/beginner/saving_loading_models.html\n",
    "torch.save(model_cnn, '/kaggle/working/saved_models/CNN_h11.pt')\n",
    "#model = torch.load(PATH)\n",
    "#model.eval()"
   ]
  },
  {
   "cell_type": "code",
   "execution_count": 46,
   "id": "d978b9b1",
   "metadata": {
    "execution": {
     "iopub.execute_input": "2024-03-11T11:08:27.723325Z",
     "iopub.status.busy": "2024-03-11T11:08:27.722841Z",
     "iopub.status.idle": "2024-03-11T11:08:27.901857Z",
     "shell.execute_reply": "2024-03-11T11:08:27.900994Z"
    },
    "papermill": {
     "duration": 0.205493,
     "end_time": "2024-03-11T11:08:27.904030",
     "exception": false,
     "start_time": "2024-03-11T11:08:27.698537",
     "status": "completed"
    },
    "tags": []
   },
   "outputs": [
    {
     "data": {
      "image/png": "[encoded data removed]",
      "text/plain": [
       "<Figure size 640x480 with 1 Axes>"
      ]
     },
     "metadata": {},
     "output_type": "display_data"
    }
   ],
   "source": [
    "# Plot the train loss and test loss per iteration\n",
    "plt.plot(train_losses, label='train loss')\n",
    "plt.plot(test_losses, label='test loss')\n",
    "plt.legend()\n",
    "plt.show()"
   ]
  },
  {
   "cell_type": "code",
   "execution_count": 47,
   "id": "fcf0e1f7",
   "metadata": {
    "execution": {
     "iopub.execute_input": "2024-03-11T11:08:27.952721Z",
     "iopub.status.busy": "2024-03-11T11:08:27.952425Z",
     "iopub.status.idle": "2024-03-11T11:08:32.426210Z",
     "shell.execute_reply": "2024-03-11T11:08:32.425245Z"
    },
    "papermill": {
     "duration": 4.500104,
     "end_time": "2024-03-11T11:08:32.428260",
     "exception": false,
     "start_time": "2024-03-11T11:08:27.928156",
     "status": "completed"
    },
    "tags": []
   },
   "outputs": [
    {
     "name": "stdout",
     "output_type": "stream",
     "text": [
      "Train acc: 0.0000, Test acc: 0.0000\n"
     ]
    }
   ],
   "source": [
    "train_acc, test_acc = calc_accuracy(model_cnn, cnn= True)\n",
    "print(f\"Train acc: {train_acc:.4f}, Test acc: {test_acc:.4f}\")"
   ]
  },
  {
   "cell_type": "markdown",
   "id": "f0923089",
   "metadata": {
    "papermill": {
     "duration": 0.024212,
     "end_time": "2024-03-11T11:08:32.476933",
     "exception": false,
     "start_time": "2024-03-11T11:08:32.452721",
     "status": "completed"
    },
    "tags": []
   },
   "source": [
    "# ANN: Training and Evaluation"
   ]
  },
  {
   "cell_type": "code",
   "execution_count": 48,
   "id": "807febb6",
   "metadata": {
    "execution": {
     "iopub.execute_input": "2024-03-11T11:08:32.526249Z",
     "iopub.status.busy": "2024-03-11T11:08:32.525916Z",
     "iopub.status.idle": "2024-03-11T11:08:32.538396Z",
     "shell.execute_reply": "2024-03-11T11:08:32.537678Z"
    },
    "papermill": {
     "duration": 0.039132,
     "end_time": "2024-03-11T11:08:32.540389",
     "exception": false,
     "start_time": "2024-03-11T11:08:32.501257",
     "status": "completed"
    },
    "tags": []
   },
   "outputs": [],
   "source": [
    "model_ann = ANN_KS_h11()"
   ]
  },
  {
   "cell_type": "code",
   "execution_count": 49,
   "id": "3cf21d97",
   "metadata": {
    "execution": {
     "iopub.execute_input": "2024-03-11T11:08:32.588808Z",
     "iopub.status.busy": "2024-03-11T11:08:32.588494Z",
     "iopub.status.idle": "2024-03-11T11:08:32.597476Z",
     "shell.execute_reply": "2024-03-11T11:08:32.596571Z"
    },
    "papermill": {
     "duration": 0.035794,
     "end_time": "2024-03-11T11:08:32.599546",
     "exception": false,
     "start_time": "2024-03-11T11:08:32.563752",
     "status": "completed"
    },
    "tags": []
   },
   "outputs": [
    {
     "name": "stdout",
     "output_type": "stream",
     "text": [
      "cuda:0\n"
     ]
    },
    {
     "data": {
      "text/plain": [
       "ANN_KS_h11(\n",
       "  (flat): Flatten(start_dim=1, end_dim=-1)\n",
       "  (linear1): Linear(in_features=64, out_features=1024, bias=True)\n",
       "  (linear2): Linear(in_features=1024, out_features=512, bias=True)\n",
       "  (linear3): Linear(in_features=512, out_features=256, bias=True)\n",
       "  (linear4): Linear(in_features=256, out_features=64, bias=True)\n",
       "  (linear5): Linear(in_features=64, out_features=1, bias=True)\n",
       ")"
      ]
     },
     "execution_count": 49,
     "metadata": {},
     "output_type": "execute_result"
    }
   ],
   "source": [
    "device = torch.device(\"cuda:0\" if torch.cuda.is_available() else \"cpu\")\n",
    "print(device)\n",
    "model_ann.to(device)"
   ]
  },
  {
   "cell_type": "code",
   "execution_count": 50,
   "id": "9e288f73",
   "metadata": {
    "execution": {
     "iopub.execute_input": "2024-03-11T11:08:32.653531Z",
     "iopub.status.busy": "2024-03-11T11:08:32.653152Z",
     "iopub.status.idle": "2024-03-11T11:08:32.660132Z",
     "shell.execute_reply": "2024-03-11T11:08:32.659177Z"
    },
    "papermill": {
     "duration": 0.038636,
     "end_time": "2024-03-11T11:08:32.662393",
     "exception": false,
     "start_time": "2024-03-11T11:08:32.623757",
     "status": "completed"
    },
    "tags": []
   },
   "outputs": [
    {
     "name": "stdout",
     "output_type": "stream",
     "text": [
      "   65536\n",
      "    1024\n",
      "  524288\n",
      "     512\n",
      "  131072\n",
      "     256\n",
      "   16384\n",
      "      64\n",
      "      64\n",
      "       1\n",
      "________\n",
      "  739201\n"
     ]
    }
   ],
   "source": [
    "#count the number of parameters in the model\n",
    "params = [p.numel() for p in model_ann.parameters() if p.requires_grad]\n",
    "for item in params:\n",
    "    print(f'{item:>8}')\n",
    "print(f'________\\n{sum(params):>8}')"
   ]
  },
  {
   "cell_type": "code",
   "execution_count": 51,
   "id": "876059eb",
   "metadata": {
    "execution": {
     "iopub.execute_input": "2024-03-11T11:08:32.717325Z",
     "iopub.status.busy": "2024-03-11T11:08:32.716983Z",
     "iopub.status.idle": "2024-03-11T11:08:32.727364Z",
     "shell.execute_reply": "2024-03-11T11:08:32.726329Z"
    },
    "papermill": {
     "duration": 0.039062,
     "end_time": "2024-03-11T11:08:32.729280",
     "exception": false,
     "start_time": "2024-03-11T11:08:32.690218",
     "status": "completed"
    },
    "tags": []
   },
   "outputs": [
    {
     "name": "stdout",
     "output_type": "stream",
     "text": [
      "Original shape of the image before passing through the network: \n",
      " torch.Size([8, 8])\n",
      "\n",
      "Reshape the size to take in account the batch number\n",
      "The new size is torch.Size([1, 1, 8, 8])\n",
      "\n",
      "Shape of the image after passing through the Flatten(start_dim=1, end_dim=-1): \n",
      " torch.Size([1, 64])\n",
      "\n",
      "Shape of the image after passing through the Linear(in_features=64, out_features=1024, bias=True): \n",
      " torch.Size([1, 1024])\n",
      "\n",
      "Shape of the image after passing through the Linear(in_features=1024, out_features=512, bias=True): \n",
      " torch.Size([1, 512])\n",
      "\n",
      "Shape of the image after passing through the Linear(in_features=512, out_features=256, bias=True): \n",
      " torch.Size([1, 256])\n",
      "\n",
      "Shape of the image after passing through the Linear(in_features=256, out_features=64, bias=True): \n",
      " torch.Size([1, 64])\n",
      "\n",
      "Shape of the image after passing through the Linear(in_features=64, out_features=1, bias=True): \n",
      " torch.Size([1, 1])\n",
      "\n"
     ]
    }
   ],
   "source": [
    "X = X_train[0].to(device)\n",
    "print(f'Original shape of the image before passing through the network: \\n {X.shape}\\n')\n",
    "print('Reshape the size to take in account the batch number')\n",
    "X = X.view(1,1,8,8)\n",
    "print(f'The new size is {X.shape}\\n')\n",
    "\n",
    "X = model_ann.flat(X)\n",
    "print(f'Shape of the image after passing through the {model_ann.flat}: \\n {X.shape}\\n')\n",
    "\n",
    "X = model_ann.linear1(X)\n",
    "print(f'Shape of the image after passing through the {model_ann.linear1}: \\n {X.shape}\\n')\n",
    "\n",
    "X = model_ann.linear2(X)\n",
    "print(f'Shape of the image after passing through the {model_ann.linear2}: \\n {X.shape}\\n')\n",
    "\n",
    "X = model_ann.linear3(X)\n",
    "print(f'Shape of the image after passing through the {model_ann.linear3}: \\n {X.shape}\\n')\n",
    "X = model_ann.linear4(X)\n",
    "print(f'Shape of the image after passing through the {model_ann.linear4}: \\n {X.shape}\\n')\n",
    "X = model_ann.linear5(X)\n",
    "print(f'Shape of the image after passing through the {model_ann.linear5}: \\n {X.shape}\\n')"
   ]
  },
  {
   "cell_type": "code",
   "execution_count": 52,
   "id": "e4645e0e",
   "metadata": {
    "execution": {
     "iopub.execute_input": "2024-03-11T11:08:32.779452Z",
     "iopub.status.busy": "2024-03-11T11:08:32.778682Z",
     "iopub.status.idle": "2024-03-11T11:08:32.783692Z",
     "shell.execute_reply": "2024-03-11T11:08:32.782762Z"
    },
    "papermill": {
     "duration": 0.032221,
     "end_time": "2024-03-11T11:08:32.785849",
     "exception": false,
     "start_time": "2024-03-11T11:08:32.753628",
     "status": "completed"
    },
    "tags": []
   },
   "outputs": [],
   "source": [
    "criterion = nn.MSELoss()\n",
    "optimizer = torch.optim.Adam(model_ann.parameters())"
   ]
  },
  {
   "cell_type": "code",
   "execution_count": 53,
   "id": "b3edde8b",
   "metadata": {
    "execution": {
     "iopub.execute_input": "2024-03-11T11:08:32.836605Z",
     "iopub.status.busy": "2024-03-11T11:08:32.836079Z",
     "iopub.status.idle": "2024-03-11T11:28:12.559343Z",
     "shell.execute_reply": "2024-03-11T11:28:12.558523Z"
    },
    "papermill": {
     "duration": 1179.75084,
     "end_time": "2024-03-11T11:28:12.561687",
     "exception": false,
     "start_time": "2024-03-11T11:08:32.810847",
     "status": "completed"
    },
    "tags": []
   },
   "outputs": [
    {
     "name": "stdout",
     "output_type": "stream",
     "text": [
      "Epoch 1/100, Train Loss: 119.8198,           Test Loss: 45.1875, Duration: 0:00:11.727014\n",
      "Epoch 6/100, Train Loss: 20.1467,           Test Loss: 16.0588, Duration: 0:00:11.824201\n",
      "Epoch 11/100, Train Loss: 14.5286,           Test Loss: 12.5764, Duration: 0:00:11.762681\n",
      "Epoch 16/100, Train Loss: 12.1357,           Test Loss: 11.2150, Duration: 0:00:11.681516\n",
      "Epoch 21/100, Train Loss: 10.3599,           Test Loss: 10.7549, Duration: 0:00:11.735964\n",
      "Epoch 26/100, Train Loss: 9.4235,           Test Loss: 9.8894, Duration: 0:00:11.891782\n",
      "Epoch 31/100, Train Loss: 8.6322,           Test Loss: 9.5419, Duration: 0:00:12.001624\n",
      "Epoch 36/100, Train Loss: 8.2053,           Test Loss: 9.2052, Duration: 0:00:11.786431\n",
      "Epoch 41/100, Train Loss: 7.7056,           Test Loss: 8.9609, Duration: 0:00:11.932575\n",
      "Epoch 46/100, Train Loss: 7.2681,           Test Loss: 8.6737, Duration: 0:00:11.577729\n",
      "Epoch 51/100, Train Loss: 7.0178,           Test Loss: 8.6691, Duration: 0:00:11.773735\n",
      "Epoch 56/100, Train Loss: 6.6445,           Test Loss: 8.3818, Duration: 0:00:11.705213\n",
      "Epoch 61/100, Train Loss: 6.5099,           Test Loss: 8.3090, Duration: 0:00:11.659252\n",
      "Epoch 66/100, Train Loss: 6.2985,           Test Loss: 8.6692, Duration: 0:00:11.676685\n",
      "Epoch 71/100, Train Loss: 6.0732,           Test Loss: 8.0457, Duration: 0:00:11.818841\n",
      "Epoch 76/100, Train Loss: 5.9877,           Test Loss: 8.0741, Duration: 0:00:11.803966\n",
      "Epoch 81/100, Train Loss: 5.8488,           Test Loss: 7.8965, Duration: 0:00:11.848049\n",
      "Epoch 86/100, Train Loss: 5.7431,           Test Loss: 7.8742, Duration: 0:00:11.701839\n",
      "Epoch 91/100, Train Loss: 5.5688,           Test Loss: 7.8607, Duration: 0:00:11.912438\n",
      "Epoch 96/100, Train Loss: 5.6113,           Test Loss: 7.8483, Duration: 0:00:11.782520\n"
     ]
    }
   ],
   "source": [
    "train_losses, test_losses=batch_gd(model_ann, criterion, optimizer, X_train, y_train, X_test, y_test, 100, 128, cnn=False)"
   ]
  },
  {
   "cell_type": "code",
   "execution_count": 54,
   "id": "f231c8dc",
   "metadata": {
    "execution": {
     "iopub.execute_input": "2024-03-11T11:28:12.615971Z",
     "iopub.status.busy": "2024-03-11T11:28:12.615257Z",
     "iopub.status.idle": "2024-03-11T11:28:12.803617Z",
     "shell.execute_reply": "2024-03-11T11:28:12.802688Z"
    },
    "papermill": {
     "duration": 0.217471,
     "end_time": "2024-03-11T11:28:12.805727",
     "exception": false,
     "start_time": "2024-03-11T11:28:12.588256",
     "status": "completed"
    },
    "tags": []
   },
   "outputs": [
    {
     "data": {
      "image/png": "[encoded data removed]",
      "text/plain": [
       "<Figure size 640x480 with 1 Axes>"
      ]
     },
     "metadata": {},
     "output_type": "display_data"
    }
   ],
   "source": [
    "# Plot the train loss and test loss per iteration\n",
    "plt.plot(train_losses, label='train loss')\n",
    "plt.plot(test_losses, label='test loss')\n",
    "plt.legend()\n",
    "plt.show()"
   ]
  },
  {
   "cell_type": "code",
   "execution_count": 55,
   "id": "dfd583a0",
   "metadata": {
    "execution": {
     "iopub.execute_input": "2024-03-11T11:28:12.860722Z",
     "iopub.status.busy": "2024-03-11T11:28:12.860413Z",
     "iopub.status.idle": "2024-03-11T11:28:15.963051Z",
     "shell.execute_reply": "2024-03-11T11:28:15.961985Z"
    },
    "papermill": {
     "duration": 3.132203,
     "end_time": "2024-03-11T11:28:15.965102",
     "exception": false,
     "start_time": "2024-03-11T11:28:12.832899",
     "status": "completed"
    },
    "tags": []
   },
   "outputs": [
    {
     "name": "stdout",
     "output_type": "stream",
     "text": [
      "Train acc: 0.0000, Test acc: 0.0000\n"
     ]
    }
   ],
   "source": [
    "train_acc, test_acc = calc_accuracy(model_ann, cnn= False)\n",
    "print(f\"Train acc: {train_acc:.4f}, Test acc: {test_acc:.4f}\")"
   ]
  },
  {
   "cell_type": "code",
   "execution_count": 56,
   "id": "266772f5",
   "metadata": {
    "execution": {
     "iopub.execute_input": "2024-03-11T11:28:16.019387Z",
     "iopub.status.busy": "2024-03-11T11:28:16.018880Z",
     "iopub.status.idle": "2024-03-11T11:28:16.029873Z",
     "shell.execute_reply": "2024-03-11T11:28:16.029019Z"
    },
    "papermill": {
     "duration": 0.039815,
     "end_time": "2024-03-11T11:28:16.031653",
     "exception": false,
     "start_time": "2024-03-11T11:28:15.991838",
     "status": "completed"
    },
    "tags": []
   },
   "outputs": [],
   "source": [
    "# SAVE MODEL FOR INFERENCE\n",
    "#https://pytorch.org/tutorials/beginner/saving_loading_models.html\n",
    "torch.save(model_ann, '/kaggle/working/saved_models/ANN_h11.pt')\n",
    "#model = torch.load(PATH)\n",
    "#model.eval()"
   ]
  },
  {
   "cell_type": "code",
   "execution_count": null,
   "id": "c5ea82d7",
   "metadata": {
    "papermill": {
     "duration": 0.026846,
     "end_time": "2024-03-11T11:28:16.084415",
     "exception": false,
     "start_time": "2024-03-11T11:28:16.057569",
     "status": "completed"
    },
    "tags": []
   },
   "outputs": [],
   "source": []
  }
 ],
 "metadata": {
  "kaggle": {
   "accelerator": "nvidiaTeslaT4",
   "dataSources": [
    {
     "datasetId": 4548921,
     "sourceId": 7777503,
     "sourceType": "datasetVersion"
    }
   ],
   "dockerImageVersionId": 30664,
   "isGpuEnabled": true,
   "isInternetEnabled": true,
   "language": "python",
   "sourceType": "notebook"
  },
  "kernelspec": {
   "display_name": "Python 3",
   "language": "python",
   "name": "python3"
  },
  "language_info": {
   "codemirror_mode": {
    "name": "ipython",
    "version": 3
   },
   "file_extension": ".py",
   "mimetype": "text/x-python",
   "name": "python",
   "nbconvert_exporter": "python",
   "pygments_lexer": "ipython3",
   "version": "3.10.13"
  },
  "papermill": {
   "default_parameters": {},
   "duration": 2688.800528,
   "end_time": "2024-03-11T11:28:19.036725",
   "environment_variables": {},
   "exception": null,
   "input_path": "__notebook__.ipynb",
   "output_path": "__notebook__.ipynb",
   "parameters": {},
   "start_time": "2024-03-11T10:43:30.236197",
   "version": "2.5.0"
  }
 },
 "nbformat": 4,
 "nbformat_minor": 5
}
