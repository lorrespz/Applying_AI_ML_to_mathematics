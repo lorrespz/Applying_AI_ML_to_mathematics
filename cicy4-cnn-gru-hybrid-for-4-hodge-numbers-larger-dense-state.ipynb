{
 "cells": [
  {
   "cell_type": "markdown",
   "id": "09b4347b",
   "metadata": {
    "papermill": {
     "duration": 0.007919,
     "end_time": "2024-03-28T06:48:34.021462",
     "exception": false,
     "start_time": "2024-03-28T06:48:34.013543",
     "status": "completed"
    },
    "tags": []
   },
   "source": [
    "# CICY4:CNN-GRU hybrid for 4 Hodge numbers\n",
    "\n",
    "- V1: Use ReduceLROnPlateau with GRU block (20, 64, 6, 4), train loss ~ 9.0\n",
    "- V2: Use OneCycleLR: train loss ~ 900 (bad result)\n",
    "- V3 Use CosineAnnealingLR: train loss ~ 60 (bad result)\n",
    "- V4: Use ReduceLROnPlateau again, but with higher max LR (bad result)\n",
    "- V5/V6: Change the GRU block architecture to have fewer layers, but with larger size for the hidden layer (100 -> 128), increase the size of the dense layers. Use ReduceLROnPlateau with max learning rate of 0.1, min LR of 1e-6. Very good result obtained: (81, 69, 48, 13) accuracy for (h11, h21, h31, h22). Train loss ~ 3.0, test loss ~ 6.0\n",
    "- V7/V8: Increase the hidden size of the GRU block from 128->256 and reduce the num_layer from 4-> 2. Same learning parameters as V5. (84, 74, 52, 19)\n",
    "- V9: Change the CNN block to have filters [128,128,64], GRU block is (20,256,1,4)\n",
    "- V10: Use the same architecture as V8, with more complex dense layers: 1 more layers  (with Relu activation)\n",
    "\n",
    "For GRU block, the standalone best model so far has the parameters (in_channels, hidden_size, num_layers, outputs) =  (20, 64, 6, 4). "
   ]
  },
  {
   "cell_type": "code",
   "execution_count": 1,
   "id": "24e6d7b8",
   "metadata": {
    "_cell_guid": "b1076dfc-b9ad-4769-8c92-a6c4dae69d19",
    "_uuid": "8f2839f25d086af736a60e9eeb907d3b93b6e0e5",
    "execution": {
     "iopub.execute_input": "2024-03-28T06:48:34.037980Z",
     "iopub.status.busy": "2024-03-28T06:48:34.037358Z",
     "iopub.status.idle": "2024-03-28T06:48:39.500081Z",
     "shell.execute_reply": "2024-03-28T06:48:39.499195Z"
    },
    "papermill": {
     "duration": 5.473441,
     "end_time": "2024-03-28T06:48:39.502369",
     "exception": false,
     "start_time": "2024-03-28T06:48:34.028928",
     "status": "completed"
    },
    "tags": []
   },
   "outputs": [],
   "source": [
    "import numpy as np\n",
    "import os as os\n",
    "import matplotlib.pyplot as plt\n",
    "import seaborn as sns\n",
    "from datetime import datetime\n",
    "sns.set_style(\"darkgrid\")\n",
    "\n",
    "import torch\n",
    "import torch.nn as nn\n",
    "import torch.nn.functional as F"
   ]
  },
  {
   "cell_type": "code",
   "execution_count": 2,
   "id": "334e6318",
   "metadata": {
    "execution": {
     "iopub.execute_input": "2024-03-28T06:48:39.519468Z",
     "iopub.status.busy": "2024-03-28T06:48:39.519054Z",
     "iopub.status.idle": "2024-03-28T06:48:58.124285Z",
     "shell.execute_reply": "2024-03-28T06:48:58.123313Z"
    },
    "papermill": {
     "duration": 18.616021,
     "end_time": "2024-03-28T06:48:58.126265",
     "exception": false,
     "start_time": "2024-03-28T06:48:39.510244",
     "status": "completed"
    },
    "tags": []
   },
   "outputs": [
    {
     "data": {
      "text/plain": [
       "((921497, 16, 20), (921497, 4), (921497,))"
      ]
     },
     "execution_count": 2,
     "metadata": {},
     "output_type": "execute_result"
    }
   ],
   "source": [
    "# load data\n",
    "path = '/kaggle/input/calabi-yau-cicy-4-folds/'\n",
    "\n",
    "conf = np.load('/kaggle/input/calabi-yau-cicy-4-folds/conf.npy')\n",
    "hodge = np.load(os.path.join(path, 'hodge.npy'))\n",
    "direct = np.load(os.path.join(path, 'direct.npy'))\n",
    "conf.shape, hodge.shape, direct.shape"
   ]
  },
  {
   "cell_type": "code",
   "execution_count": 3,
   "id": "3698b9d9",
   "metadata": {
    "execution": {
     "iopub.execute_input": "2024-03-28T06:48:58.143066Z",
     "iopub.status.busy": "2024-03-28T06:48:58.142739Z",
     "iopub.status.idle": "2024-03-28T06:48:58.146978Z",
     "shell.execute_reply": "2024-03-28T06:48:58.146140Z"
    },
    "papermill": {
     "duration": 0.014832,
     "end_time": "2024-03-28T06:48:58.148961",
     "exception": false,
     "start_time": "2024-03-28T06:48:58.134129",
     "status": "completed"
    },
    "tags": []
   },
   "outputs": [],
   "source": [
    "if not os.path.exists('saved_models'):\n",
    "    os.makedirs('saved_models')"
   ]
  },
  {
   "cell_type": "code",
   "execution_count": 4,
   "id": "9d1c6bc5",
   "metadata": {
    "execution": {
     "iopub.execute_input": "2024-03-28T06:48:58.164993Z",
     "iopub.status.busy": "2024-03-28T06:48:58.164716Z",
     "iopub.status.idle": "2024-03-28T06:48:58.266228Z",
     "shell.execute_reply": "2024-03-28T06:48:58.265364Z"
    },
    "papermill": {
     "duration": 0.111768,
     "end_time": "2024-03-28T06:48:58.268176",
     "exception": false,
     "start_time": "2024-03-28T06:48:58.156408",
     "status": "completed"
    },
    "tags": []
   },
   "outputs": [],
   "source": [
    "import sys\n",
    "sys.path.append('/kaggle/input/calabi-yau-cicy-4-folds')\n",
    "from CICY4_functions import data_generator, batch_gd_scheduler,  calc_accuracy_mr, plot_losses"
   ]
  },
  {
   "cell_type": "code",
   "execution_count": 5,
   "id": "11a3f4ef",
   "metadata": {
    "execution": {
     "iopub.execute_input": "2024-03-28T06:48:58.285129Z",
     "iopub.status.busy": "2024-03-28T06:48:58.284879Z",
     "iopub.status.idle": "2024-03-28T06:48:58.492068Z",
     "shell.execute_reply": "2024-03-28T06:48:58.491270Z"
    },
    "papermill": {
     "duration": 0.21873,
     "end_time": "2024-03-28T06:48:58.494358",
     "exception": false,
     "start_time": "2024-03-28T06:48:58.275628",
     "status": "completed"
    },
    "tags": []
   },
   "outputs": [],
   "source": [
    "from sklearn.model_selection import train_test_split\n",
    "\n",
    "def train_test(X, y):\n",
    "    X_train,  X_test, y_train, y_test = train_test_split(X, y, test_size = 0.2, random_state = 101, shuffle = True)\n",
    "    \n",
    "    X_train = torch.from_numpy(X_train.astype(np.float32))\n",
    "    #only need reshape if the y dimension is 1\n",
    "    #y_train = torch.from_numpy(y_train.astype(np.float32).reshape(-1, 1))\n",
    "    y_train = torch.from_numpy(y_train.astype(np.float32))\n",
    "\n",
    "    X_test = torch.from_numpy(X_test.astype(np.float32))\n",
    "    #y_test = torch.from_numpy(y_test.astype(np.float32).reshape(-1, 1))\n",
    "    y_test = torch.from_numpy(y_test.astype(np.float32))                         \n",
    "    \n",
    "    print(f'X_train shape: {X_train.shape}, \\n y_train shape:{y_train.shape},\\\n",
    "                 \\n X_test shape: {X_test.shape}, \\n y_test shape:{y_test.shape}')\n",
    "    return X_train, X_test, y_train, y_test"
   ]
  },
  {
   "cell_type": "code",
   "execution_count": 6,
   "id": "60cf99a9",
   "metadata": {
    "execution": {
     "iopub.execute_input": "2024-03-28T06:48:58.512492Z",
     "iopub.status.busy": "2024-03-28T06:48:58.512210Z",
     "iopub.status.idle": "2024-03-28T06:48:59.845555Z",
     "shell.execute_reply": "2024-03-28T06:48:59.844530Z"
    },
    "papermill": {
     "duration": 1.344229,
     "end_time": "2024-03-28T06:48:59.847715",
     "exception": false,
     "start_time": "2024-03-28T06:48:58.503486",
     "status": "completed"
    },
    "tags": []
   },
   "outputs": [
    {
     "name": "stdout",
     "output_type": "stream",
     "text": [
      "X_train shape: torch.Size([737197, 16, 20]), \n",
      " y_train shape:torch.Size([737197, 4]),                 \n",
      " X_test shape: torch.Size([184300, 16, 20]), \n",
      " y_test shape:torch.Size([184300, 4])\n"
     ]
    }
   ],
   "source": [
    "X = conf\n",
    "y = hodge\n",
    "\n",
    "X_train, X_test, y_train, y_test = train_test(X, y)\n",
    "\n",
    "train_gen = lambda: data_generator(X_train, y_train)\n",
    "test_gen = lambda: data_generator(X_test, y_test)"
   ]
  },
  {
   "cell_type": "code",
   "execution_count": 7,
   "id": "87bcc96f",
   "metadata": {
    "execution": {
     "iopub.execute_input": "2024-03-28T06:48:59.864702Z",
     "iopub.status.busy": "2024-03-28T06:48:59.864394Z",
     "iopub.status.idle": "2024-03-28T06:48:59.916705Z",
     "shell.execute_reply": "2024-03-28T06:48:59.915816Z"
    },
    "papermill": {
     "duration": 0.06322,
     "end_time": "2024-03-28T06:48:59.918990",
     "exception": false,
     "start_time": "2024-03-28T06:48:59.855770",
     "status": "completed"
    },
    "tags": []
   },
   "outputs": [
    {
     "name": "stdout",
     "output_type": "stream",
     "text": [
      "cuda:0\n"
     ]
    }
   ],
   "source": [
    "device = torch.device(\"cuda:0\" if torch.cuda.is_available() else \"cpu\")\n",
    "print(device)"
   ]
  },
  {
   "cell_type": "markdown",
   "id": "4b7312a4",
   "metadata": {
    "papermill": {
     "duration": 0.007498,
     "end_time": "2024-03-28T06:48:59.934102",
     "exception": false,
     "start_time": "2024-03-28T06:48:59.926604",
     "status": "completed"
    },
    "tags": []
   },
   "source": [
    "# CNN-RNN hybrid"
   ]
  },
  {
   "cell_type": "code",
   "execution_count": 8,
   "id": "7a7c684f",
   "metadata": {
    "execution": {
     "iopub.execute_input": "2024-03-28T06:48:59.950362Z",
     "iopub.status.busy": "2024-03-28T06:48:59.950070Z",
     "iopub.status.idle": "2024-03-28T06:48:59.957176Z",
     "shell.execute_reply": "2024-03-28T06:48:59.956334Z"
    },
    "papermill": {
     "duration": 0.017361,
     "end_time": "2024-03-28T06:48:59.959025",
     "exception": false,
     "start_time": "2024-03-28T06:48:59.941664",
     "status": "completed"
    },
    "tags": []
   },
   "outputs": [],
   "source": [
    "##################### CNN ###############################\n",
    "class CNN_block(nn.Module):\n",
    "    \n",
    "    def __init__(self):\n",
    "        super().__init__()\n",
    "        self.conv1 = nn.Conv2d(1,128, 4, 1)\n",
    "        #self.bn1 = nn.BatchNorm2d(128)\n",
    "        self.conv2 = nn.Conv2d(128, 64, 3, 1)\n",
    "        #self.bn2 = nn.BatchNorm2d(64)\n",
    "        self.mxpool = nn.MaxPool2d(2,2)\n",
    "        #self.conv3 = nn.Conv2d(128,64, 2, 1)\n",
    "        self.flat = nn.Flatten()\n",
    "        self.conv_total = nn.Sequential(\n",
    "            self.conv1,\n",
    "            #self.bn1,\n",
    "            self.mxpool,\n",
    "            #self.bn2,\n",
    "            self.conv2,\n",
    "            self.mxpool,\n",
    "            #self.conv3,\n",
    "        )\n",
    "\n",
    "    def forward(self,x):\n",
    "        x = F.relu(self.conv_total(x))\n",
    "        #reshape is the same as flat(x)\n",
    "        #x = x.reshape(x.shape[0], -1)\n",
    "        x = self.flat(x)\n",
    "        \n",
    "        return x"
   ]
  },
  {
   "cell_type": "code",
   "execution_count": 9,
   "id": "fd92da77",
   "metadata": {
    "execution": {
     "iopub.execute_input": "2024-03-28T06:48:59.975301Z",
     "iopub.status.busy": "2024-03-28T06:48:59.975031Z",
     "iopub.status.idle": "2024-03-28T06:49:00.156118Z",
     "shell.execute_reply": "2024-03-28T06:49:00.155126Z"
    },
    "papermill": {
     "duration": 0.191557,
     "end_time": "2024-03-28T06:49:00.158141",
     "exception": false,
     "start_time": "2024-03-28T06:48:59.966584",
     "status": "completed"
    },
    "tags": []
   },
   "outputs": [
    {
     "data": {
      "text/plain": [
       "CNN_block(\n",
       "  (conv1): Conv2d(1, 128, kernel_size=(4, 4), stride=(1, 1))\n",
       "  (conv2): Conv2d(128, 64, kernel_size=(3, 3), stride=(1, 1))\n",
       "  (mxpool): MaxPool2d(kernel_size=2, stride=2, padding=0, dilation=1, ceil_mode=False)\n",
       "  (flat): Flatten(start_dim=1, end_dim=-1)\n",
       "  (conv_total): Sequential(\n",
       "    (0): Conv2d(1, 128, kernel_size=(4, 4), stride=(1, 1))\n",
       "    (1): MaxPool2d(kernel_size=2, stride=2, padding=0, dilation=1, ceil_mode=False)\n",
       "    (2): Conv2d(128, 64, kernel_size=(3, 3), stride=(1, 1))\n",
       "    (3): MaxPool2d(kernel_size=2, stride=2, padding=0, dilation=1, ceil_mode=False)\n",
       "  )\n",
       ")"
      ]
     },
     "execution_count": 9,
     "metadata": {},
     "output_type": "execute_result"
    }
   ],
   "source": [
    "cnn_block = CNN_block()\n",
    "cnn_block.to(device)"
   ]
  },
  {
   "cell_type": "code",
   "execution_count": 10,
   "id": "0bb99716",
   "metadata": {
    "execution": {
     "iopub.execute_input": "2024-03-28T06:49:00.175443Z",
     "iopub.status.busy": "2024-03-28T06:49:00.174734Z",
     "iopub.status.idle": "2024-03-28T06:49:00.182253Z",
     "shell.execute_reply": "2024-03-28T06:49:00.181393Z"
    },
    "papermill": {
     "duration": 0.018189,
     "end_time": "2024-03-28T06:49:00.184293",
     "exception": false,
     "start_time": "2024-03-28T06:49:00.166104",
     "status": "completed"
    },
    "tags": []
   },
   "outputs": [],
   "source": [
    "class RNN_block(nn.Module):\n",
    "    def __init__(self, n_inputs, n_hidden, n_rnnlayers, n_outputs):\n",
    "        super(RNN_block,self).__init__()\n",
    "        self.D = n_inputs\n",
    "        self.M = n_hidden\n",
    "        self.K = n_outputs\n",
    "        self.L = n_rnnlayers        \n",
    "        #self.lstm = nn.LSTM(input_size = self.D,\n",
    "        #                   hidden_size = self.M,\n",
    "        #                   num_layers = self.L,\n",
    "        #                   batch_first = True)    \n",
    "        self.gru = nn.GRU(input_size = self.D,\n",
    "                           hidden_size = self.M,\n",
    "                           num_layers = self.L,\n",
    "                           batch_first = True)\n",
    "        #self.fc1 = nn.Linear(self.M, 128)\n",
    "        #self.fc2 = nn.Linear(128, self.K)\n",
    "    def forward(self, X):\n",
    "        #input X is NxTxD\n",
    "        #initial hidden states\n",
    "        h0 = torch.zeros(self.L, X.size(0), self.M).to(device)\n",
    "        #c0 = torch.zeros(self.L, X.size(0), self.M).to(device)\n",
    "        #get LSTM unit output:\n",
    "        #output is NxTxM\n",
    "        #out, _ = self.lstm(X, (h0,c0))\n",
    "        out, _ = self.gru(X, h0)   \n",
    "        #we only want h(T) at the final time step\n",
    "        # output is now of shape (N, M)\n",
    "        out = out[:, -1, :]\n",
    "\n",
    "        return out"
   ]
  },
  {
   "cell_type": "code",
   "execution_count": 11,
   "id": "93704e08",
   "metadata": {
    "execution": {
     "iopub.execute_input": "2024-03-28T06:49:00.200835Z",
     "iopub.status.busy": "2024-03-28T06:49:00.200532Z",
     "iopub.status.idle": "2024-03-28T06:49:00.329897Z",
     "shell.execute_reply": "2024-03-28T06:49:00.328994Z"
    },
    "papermill": {
     "duration": 0.13996,
     "end_time": "2024-03-28T06:49:00.332021",
     "exception": false,
     "start_time": "2024-03-28T06:49:00.192061",
     "status": "completed"
    },
    "tags": []
   },
   "outputs": [
    {
     "data": {
      "text/plain": [
       "RNN_block(\n",
       "  (gru): GRU(20, 256, num_layers=2, batch_first=True)\n",
       ")"
      ]
     },
     "execution_count": 11,
     "metadata": {},
     "output_type": "execute_result"
    }
   ],
   "source": [
    "#gru_block = RNN_block(20, 64, 6, 4)\n",
    "#gru_block = RNN_block(20, 128, 4, 4)\n",
    "gru_block = RNN_block(20, 256, 2, 4)\n",
    "gru_block.to(device)"
   ]
  },
  {
   "cell_type": "code",
   "execution_count": 12,
   "id": "b1edb86b",
   "metadata": {
    "execution": {
     "iopub.execute_input": "2024-03-28T06:49:00.349132Z",
     "iopub.status.busy": "2024-03-28T06:49:00.348847Z",
     "iopub.status.idle": "2024-03-28T06:49:00.356700Z",
     "shell.execute_reply": "2024-03-28T06:49:00.356013Z"
    },
    "papermill": {
     "duration": 0.018444,
     "end_time": "2024-03-28T06:49:00.358469",
     "exception": false,
     "start_time": "2024-03-28T06:49:00.340025",
     "status": "completed"
    },
    "tags": []
   },
   "outputs": [],
   "source": [
    "class CNN_RNN_hybrid(nn.Module):\n",
    "    def __init__(self, cnn_block, rnn_block, feat_vec_size):\n",
    "        super(CNN_RNN_hybrid, self).__init__()\n",
    "        self.cnn_block = cnn_block\n",
    "        self.rnn_block = rnn_block\n",
    "        self.feat_vec_size = feat_vec_size\n",
    "        self.fc1 = nn.Linear(self.feat_vec_size, 1024)\n",
    "        self.fc2 = nn.Linear(1024, 512)\n",
    "        self.fc3 = nn.Linear(512, 4)\n",
    "        \n",
    "    def forward(self, x):\n",
    "        #output of cnn block is (N,384)\n",
    "        x1 = x.view(-1,1, 16,20)\n",
    "        x1 = self.cnn_block(x1)\n",
    "        #output of rnn block is (N,M = 64)\n",
    "        x2 = self.rnn_block(x)\n",
    "        #concatenate the 2 outputs to produce a feat vec (N, M+384)\n",
    "        xx = torch.cat([x1, x2], dim = 1)\n",
    "        # pass through linear layers\n",
    "        xx = F.relu(self.fc1(xx))\n",
    "        xx = F.relu(self.fc2(xx))\n",
    "        #final output is 4\n",
    "        xx = self.fc3(xx)\n",
    "        \n",
    "        return xx"
   ]
  },
  {
   "cell_type": "code",
   "execution_count": 13,
   "id": "e8f7e1b3",
   "metadata": {
    "execution": {
     "iopub.execute_input": "2024-03-28T06:49:00.375250Z",
     "iopub.status.busy": "2024-03-28T06:49:00.375008Z",
     "iopub.status.idle": "2024-03-28T06:49:00.395325Z",
     "shell.execute_reply": "2024-03-28T06:49:00.394531Z"
    },
    "papermill": {
     "duration": 0.030898,
     "end_time": "2024-03-28T06:49:00.397162",
     "exception": false,
     "start_time": "2024-03-28T06:49:00.366264",
     "status": "completed"
    },
    "tags": []
   },
   "outputs": [
    {
     "data": {
      "text/plain": [
       "CNN_RNN_hybrid(\n",
       "  (cnn_block): CNN_block(\n",
       "    (conv1): Conv2d(1, 128, kernel_size=(4, 4), stride=(1, 1))\n",
       "    (conv2): Conv2d(128, 64, kernel_size=(3, 3), stride=(1, 1))\n",
       "    (mxpool): MaxPool2d(kernel_size=2, stride=2, padding=0, dilation=1, ceil_mode=False)\n",
       "    (flat): Flatten(start_dim=1, end_dim=-1)\n",
       "    (conv_total): Sequential(\n",
       "      (0): Conv2d(1, 128, kernel_size=(4, 4), stride=(1, 1))\n",
       "      (1): MaxPool2d(kernel_size=2, stride=2, padding=0, dilation=1, ceil_mode=False)\n",
       "      (2): Conv2d(128, 64, kernel_size=(3, 3), stride=(1, 1))\n",
       "      (3): MaxPool2d(kernel_size=2, stride=2, padding=0, dilation=1, ceil_mode=False)\n",
       "    )\n",
       "  )\n",
       "  (rnn_block): RNN_block(\n",
       "    (gru): GRU(20, 256, num_layers=2, batch_first=True)\n",
       "  )\n",
       "  (fc1): Linear(in_features=640, out_features=1024, bias=True)\n",
       "  (fc2): Linear(in_features=1024, out_features=512, bias=True)\n",
       "  (fc3): Linear(in_features=512, out_features=4, bias=True)\n",
       ")"
      ]
     },
     "execution_count": 13,
     "metadata": {},
     "output_type": "execute_result"
    }
   ],
   "source": [
    "model = CNN_RNN_hybrid(cnn_block, gru_block, 256+384)\n",
    "model.to(device)"
   ]
  },
  {
   "cell_type": "code",
   "execution_count": 14,
   "id": "46dbc9cb",
   "metadata": {
    "execution": {
     "iopub.execute_input": "2024-03-28T06:49:00.414078Z",
     "iopub.status.busy": "2024-03-28T06:49:00.413841Z",
     "iopub.status.idle": "2024-03-28T06:49:00.418373Z",
     "shell.execute_reply": "2024-03-28T06:49:00.417543Z"
    },
    "papermill": {
     "duration": 0.015443,
     "end_time": "2024-03-28T06:49:00.420648",
     "exception": false,
     "start_time": "2024-03-28T06:49:00.405205",
     "status": "completed"
    },
    "tags": []
   },
   "outputs": [
    {
     "name": "stdout",
     "output_type": "stream",
     "text": [
      "1867460\n"
     ]
    }
   ],
   "source": [
    "#count the number of parameters in the model\n",
    "params = [p.numel() for p in model.parameters() if p.requires_grad]\n",
    "print(sum(params))"
   ]
  },
  {
   "cell_type": "markdown",
   "id": "54a84cd8",
   "metadata": {
    "papermill": {
     "duration": 0.007996,
     "end_time": "2024-03-28T06:49:00.436595",
     "exception": false,
     "start_time": "2024-03-28T06:49:00.428599",
     "status": "completed"
    },
    "tags": []
   },
   "source": [
    "# Shape Tracing"
   ]
  },
  {
   "cell_type": "code",
   "execution_count": 15,
   "id": "7ad4b4ce",
   "metadata": {
    "execution": {
     "iopub.execute_input": "2024-03-28T06:49:00.454372Z",
     "iopub.status.busy": "2024-03-28T06:49:00.453736Z",
     "iopub.status.idle": "2024-03-28T06:49:00.580190Z",
     "shell.execute_reply": "2024-03-28T06:49:00.579266Z"
    },
    "papermill": {
     "duration": 0.137793,
     "end_time": "2024-03-28T06:49:00.582377",
     "exception": false,
     "start_time": "2024-03-28T06:49:00.444584",
     "status": "completed"
    },
    "tags": []
   },
   "outputs": [
    {
     "name": "stdout",
     "output_type": "stream",
     "text": [
      "RNN BLOCK SHAPE TRACING\n",
      "Original shape of the image before passing through the network: \n",
      " torch.Size([16, 20])\n",
      "\n",
      "Reshape the size to take in account the batch number\n",
      "The new size is torch.Size([1, 16, 20])\n",
      "\n",
      "Shape of the image after passing through the GRU(20, 256, num_layers=2, batch_first=True): \n",
      " torch.Size([1, 16, 256])\n",
      "\n",
      "The final output shape is torch.Size([1, 256])\n"
     ]
    }
   ],
   "source": [
    "X = X_train[0].to(device)\n",
    "y = y_train[0].to(device)\n",
    "print('RNN BLOCK SHAPE TRACING')\n",
    "print(f'Original shape of the image before passing through the network: \\n {X.shape}\\n')\n",
    "\n",
    "print('Reshape the size to take in account the batch number')\n",
    "X = X.view(1,16,20)\n",
    "print(f'The new size is {X.shape}\\n')\n",
    "\n",
    "h0 = torch.zeros(gru_block.L, X.size(0), gru_block.M).to(device)\n",
    "#c0 = torch.zeros(gru_block.L, X.size(0), gru_block.M).to(device)\n",
    "X, _ = gru_block.gru(X, h0)\n",
    "print(f'Shape of the image after passing through the {gru_block.gru}: \\n {X.shape}\\n')\n",
    "\n",
    "#get only the h(T) at the last time step\n",
    "Xg = X[:, -1, :]\n",
    "print(f'The final output shape is {Xg.shape}')\n",
    "#print(X)\n",
    "#print(f'Target: {y}')"
   ]
  },
  {
   "cell_type": "code",
   "execution_count": 16,
   "id": "d1c0b03f",
   "metadata": {
    "execution": {
     "iopub.execute_input": "2024-03-28T06:49:00.600025Z",
     "iopub.status.busy": "2024-03-28T06:49:00.599726Z",
     "iopub.status.idle": "2024-03-28T06:49:01.011994Z",
     "shell.execute_reply": "2024-03-28T06:49:01.011096Z"
    },
    "papermill": {
     "duration": 0.423422,
     "end_time": "2024-03-28T06:49:01.014077",
     "exception": false,
     "start_time": "2024-03-28T06:49:00.590655",
     "status": "completed"
    },
    "tags": []
   },
   "outputs": [
    {
     "name": "stdout",
     "output_type": "stream",
     "text": [
      "CNN BLOCK SHAPE TRACING\n",
      "Original shape of the image before passing through the network: \n",
      " torch.Size([16, 20])\n",
      "\n",
      "Reshape the size to take in account the batch number\n",
      "The new size is torch.Size([1, 1, 16, 20])\n",
      "\n",
      "Original shape of the image after passing through Sequential(\n",
      "  (0): Conv2d(1, 128, kernel_size=(4, 4), stride=(1, 1))\n",
      "  (1): MaxPool2d(kernel_size=2, stride=2, padding=0, dilation=1, ceil_mode=False)\n",
      "  (2): Conv2d(128, 64, kernel_size=(3, 3), stride=(1, 1))\n",
      "  (3): MaxPool2d(kernel_size=2, stride=2, padding=0, dilation=1, ceil_mode=False)\n",
      "): \n",
      " torch.Size([1, 64, 2, 3])\n",
      "\n",
      "Original shape of the image after passing through Flatten(start_dim=1, end_dim=-1): \n",
      " torch.Size([1, 384])\n",
      "\n"
     ]
    }
   ],
   "source": [
    "X = X_train[0].to(device)\n",
    "print('CNN BLOCK SHAPE TRACING')\n",
    "print(f'Original shape of the image before passing through the network: \\n {X.shape}\\n')\n",
    "\n",
    "print('Reshape the size to take in account the batch number')\n",
    "X = X.view(1,1,16,20)\n",
    "print(f'The new size is {X.shape}\\n')\n",
    "\n",
    "X = cnn_block.conv_total(X)\n",
    "print(f'Original shape of the image after passing through {cnn_block.conv_total}: \\n {X.shape}\\n')\n",
    "\n",
    "#X = X.reshape(X.shape[0], -1)\n",
    "#print(f'After reshaping: {X.shape}') [1,384]\n",
    "Xc = cnn_block.flat(X)\n",
    "print(f'Original shape of the image after passing through {cnn_block.flat}: \\n {Xc.shape}\\n')"
   ]
  },
  {
   "cell_type": "code",
   "execution_count": 17,
   "id": "abd2d904",
   "metadata": {
    "execution": {
     "iopub.execute_input": "2024-03-28T06:49:01.032199Z",
     "iopub.status.busy": "2024-03-28T06:49:01.031924Z",
     "iopub.status.idle": "2024-03-28T06:49:01.059949Z",
     "shell.execute_reply": "2024-03-28T06:49:01.059072Z"
    },
    "papermill": {
     "duration": 0.039108,
     "end_time": "2024-03-28T06:49:01.061754",
     "exception": false,
     "start_time": "2024-03-28T06:49:01.022646",
     "status": "completed"
    },
    "tags": []
   },
   "outputs": [
    {
     "data": {
      "text/plain": [
       "(torch.Size([1, 256]), torch.Size([1, 384]), torch.Size([1, 640]))"
      ]
     },
     "execution_count": 17,
     "metadata": {},
     "output_type": "execute_result"
    }
   ],
   "source": [
    "X_cat = torch.cat([Xc, Xg], dim=1) \n",
    "Xg.shape, Xc.shape, X_cat.shape"
   ]
  },
  {
   "cell_type": "code",
   "execution_count": 18,
   "id": "ed106516",
   "metadata": {
    "execution": {
     "iopub.execute_input": "2024-03-28T06:49:01.079692Z",
     "iopub.status.busy": "2024-03-28T06:49:01.079445Z",
     "iopub.status.idle": "2024-03-28T06:49:01.125840Z",
     "shell.execute_reply": "2024-03-28T06:49:01.124758Z"
    },
    "papermill": {
     "duration": 0.057575,
     "end_time": "2024-03-28T06:49:01.127822",
     "exception": false,
     "start_time": "2024-03-28T06:49:01.070247",
     "status": "completed"
    },
    "tags": []
   },
   "outputs": [
    {
     "name": "stdout",
     "output_type": "stream",
     "text": [
      "CNN-RNN HYBRID BLOCK SHAPE TRACING\n",
      "Original shape of the image before passing through the network: \n",
      " torch.Size([16, 20])\n",
      "\n",
      "Reshape the size to take in account the batch number\n",
      "The new size is torch.Size([1, 16, 20])\n",
      "\n",
      "Shape  after passing through the entire network: \n",
      " torch.Size([1, 4])\n",
      "\n"
     ]
    }
   ],
   "source": [
    "X = X_train[0].to(device)\n",
    "print('CNN-RNN HYBRID BLOCK SHAPE TRACING')\n",
    "print(f'Original shape of the image before passing through the network: \\n {X.shape}\\n')\n",
    "\n",
    "print('Reshape the size to take in account the batch number')\n",
    "X = X.view(1,16,20)\n",
    "print(f'The new size is {X.shape}\\n')\n",
    "\n",
    "X = model(X)\n",
    "print(f'Shape  after passing through the entire network: \\n {X.shape}\\n')"
   ]
  },
  {
   "cell_type": "markdown",
   "id": "35966020",
   "metadata": {
    "papermill": {
     "duration": 0.008295,
     "end_time": "2024-03-28T06:49:01.144743",
     "exception": false,
     "start_time": "2024-03-28T06:49:01.136448",
     "status": "completed"
    },
    "tags": []
   },
   "source": [
    "# Train loop with scheduler\n",
    "\n",
    "https://pytorch.org/docs/stable/generated/torch.optim.lr_scheduler.CosineAnnealingLR.html\n",
    "\n",
    "https://pytorch.org/docs/stable/generated/torch.optim.lr_scheduler.ReduceLROnPlateau.html\n",
    "\n",
    "https://pytorch.org/docs/stable/generated/torch.optim.lr_scheduler.OneCycleLR.html\n",
    "\n",
    "https://residentmario.github.io/pytorch-training-performance-guide/lr-sched-and-optim.html\n",
    "\n"
   ]
  },
  {
   "cell_type": "code",
   "execution_count": 19,
   "id": "4693e598",
   "metadata": {
    "execution": {
     "iopub.execute_input": "2024-03-28T06:49:01.163191Z",
     "iopub.status.busy": "2024-03-28T06:49:01.162650Z",
     "iopub.status.idle": "2024-03-28T06:49:03.561552Z",
     "shell.execute_reply": "2024-03-28T06:49:03.560584Z"
    },
    "papermill": {
     "duration": 2.410479,
     "end_time": "2024-03-28T06:49:03.563869",
     "exception": false,
     "start_time": "2024-03-28T06:49:01.153390",
     "status": "completed"
    },
    "tags": []
   },
   "outputs": [],
   "source": [
    "max_epoch = 300\n",
    "criterion = nn.MSELoss()\n",
    "batch_size = 128\n",
    "import torch.optim.lr_scheduler as lr_scheduler\n",
    "\n",
    "#optimizer = torch.optim.SGD(model.parameters())\n",
    "optimizer = torch.optim.AdamW(model.parameters(), lr = 0.01)\n",
    "\n",
    "scheduler = lr_scheduler.ReduceLROnPlateau(optimizer, 'min', min_lr = 1e-6)\n",
    "#scheduler = lr_scheduler.CosineAnnealingLR(optimizer, T_max=10, eta_min=0)"
   ]
  },
  {
   "cell_type": "code",
   "execution_count": 20,
   "id": "0e7f2fc0",
   "metadata": {
    "execution": {
     "iopub.execute_input": "2024-03-28T06:49:03.583590Z",
     "iopub.status.busy": "2024-03-28T06:49:03.583182Z",
     "iopub.status.idle": "2024-03-28T09:55:34.717799Z",
     "shell.execute_reply": "2024-03-28T09:55:34.716843Z"
    },
    "papermill": {
     "duration": 11191.243512,
     "end_time": "2024-03-28T09:55:34.816932",
     "exception": false,
     "start_time": "2024-03-28T06:49:03.573420",
     "status": "completed"
    },
    "tags": []
   },
   "outputs": [
    {
     "name": "stdout",
     "output_type": "stream",
     "text": [
      "Epoch: 1/300, train loss:  377.6222          test_loss:  199.5626, duration: 0:00:37.810845,           learning rate: (0.01, 0.01)\n",
      "Epoch: 2/300, train loss:  189.0265          test_loss:  190.9440, duration: 0:00:37.237458,           learning rate: (0.01, 0.01)\n",
      "Epoch: 3/300, train loss:  173.8727          test_loss:  144.3783, duration: 0:00:37.213705,           learning rate: (0.01, 0.01)\n",
      "Epoch: 4/300, train loss:  158.5721          test_loss:  163.7347, duration: 0:00:37.355029,           learning rate: (0.01, 0.01)\n",
      "Epoch: 5/300, train loss:  146.9035          test_loss:  138.9262, duration: 0:00:37.858966,           learning rate: (0.01, 0.01)\n",
      "Epoch: 6/300, train loss:  141.1835          test_loss:  123.3905, duration: 0:00:37.071268,           learning rate: (0.01, 0.01)\n",
      "Epoch: 7/300, train loss:  137.3645          test_loss:  148.8776, duration: 0:00:37.165027,           learning rate: (0.01, 0.01)\n",
      "Epoch: 8/300, train loss:  134.4471          test_loss:  123.0403, duration: 0:00:37.162280,           learning rate: (0.01, 0.01)\n",
      "Epoch: 9/300, train loss:  132.0700          test_loss:  133.6972, duration: 0:00:37.092753,           learning rate: (0.01, 0.01)\n",
      "Epoch: 10/300, train loss:  128.7488          test_loss:  124.6067, duration: 0:00:37.244222,           learning rate: (0.01, 0.01)\n",
      "Epoch: 11/300, train loss:  130.3157          test_loss:  131.8964, duration: 0:00:37.317514,           learning rate: (0.01, 0.01)\n",
      "Epoch: 12/300, train loss:  210.9649          test_loss:  149.6220, duration: 0:00:37.141556,           learning rate: (0.01, 0.01)\n",
      "Epoch: 13/300, train loss:  136.2118          test_loss:  123.6381, duration: 0:00:37.286822,           learning rate: (0.01, 0.01)\n",
      "Epoch: 14/300, train loss:  129.2673          test_loss:  121.3862, duration: 0:00:37.420147,           learning rate: (0.01, 0.01)\n",
      "Epoch: 15/300, train loss:  147.2104          test_loss:  124.2350, duration: 0:00:37.376222,           learning rate: (0.01, 0.01)\n",
      "Epoch: 16/300, train loss:  127.4491          test_loss:  116.2356, duration: 0:00:37.254936,           learning rate: (0.01, 0.01)\n",
      "Epoch: 17/300, train loss:  123.3069          test_loss:  119.4259, duration: 0:00:37.394595,           learning rate: (0.01, 0.01)\n",
      "Epoch: 18/300, train loss:  121.7443          test_loss:  128.1308, duration: 0:00:37.195056,           learning rate: (0.01, 0.01)\n",
      "Epoch: 19/300, train loss:  121.5106          test_loss:  113.0740, duration: 0:00:37.234931,           learning rate: (0.01, 0.01)\n",
      "Epoch: 20/300, train loss:  119.3980          test_loss:  110.6440, duration: 0:00:37.218731,           learning rate: (0.01, 0.01)\n",
      "Epoch: 21/300, train loss:  119.2893          test_loss:  111.1050, duration: 0:00:37.318049,           learning rate: (0.01, 0.01)\n",
      "Epoch: 22/300, train loss:  120.5742          test_loss:  128.4186, duration: 0:00:37.237693,           learning rate: (0.01, 0.01)\n",
      "Epoch: 23/300, train loss:  117.7475          test_loss:  137.4693, duration: 0:00:37.279741,           learning rate: (0.01, 0.01)\n",
      "Epoch: 24/300, train loss:  116.6773          test_loss:  107.6796, duration: 0:00:37.083610,           learning rate: (0.01, 0.01)\n",
      "Epoch: 25/300, train loss:  120.3469          test_loss:  114.3444, duration: 0:00:36.992658,           learning rate: (0.01, 0.01)\n",
      "Epoch: 26/300, train loss:  117.2628          test_loss:  116.1042, duration: 0:00:37.152175,           learning rate: (0.01, 0.01)\n",
      "Epoch: 27/300, train loss:  116.9546          test_loss:  107.6470, duration: 0:00:37.225326,           learning rate: (0.01, 0.01)\n",
      "Epoch: 28/300, train loss:  116.9926          test_loss:  114.9758, duration: 0:00:37.572279,           learning rate: (0.01, 0.01)\n",
      "Epoch: 29/300, train loss:  116.1170          test_loss:  112.1352, duration: 0:00:37.304948,           learning rate: (0.01, 0.01)\n",
      "Epoch: 30/300, train loss:  116.6774          test_loss:  113.7192, duration: 0:00:36.929724,           learning rate: (0.01, 0.01)\n",
      "Epoch: 31/300, train loss:  117.2990          test_loss:  130.2279, duration: 0:00:37.306942,           learning rate: (0.01, 0.01)\n",
      "Epoch: 32/300, train loss:  116.5054          test_loss:  104.6730, duration: 0:00:37.300971,           learning rate: (0.01, 0.01)\n",
      "Epoch: 33/300, train loss:  116.5293          test_loss:  113.0271, duration: 0:00:36.969969,           learning rate: (0.01, 0.01)\n",
      "Epoch: 34/300, train loss:  117.1888          test_loss:  107.4057, duration: 0:00:37.220772,           learning rate: (0.01, 0.01)\n",
      "Epoch: 35/300, train loss:  114.6951          test_loss:  137.3021, duration: 0:00:37.365664,           learning rate: (0.01, 0.01)\n",
      "Epoch: 36/300, train loss:  116.1060          test_loss:  116.9996, duration: 0:00:37.105938,           learning rate: (0.01, 0.01)\n",
      "Epoch: 37/300, train loss:  115.8798          test_loss:  120.3714, duration: 0:00:37.314625,           learning rate: (0.01, 0.01)\n",
      "Epoch: 38/300, train loss:  115.5854          test_loss:  123.0826, duration: 0:00:37.383176,           learning rate: (0.01, 0.01)\n",
      "Epoch: 39/300, train loss:  114.4935          test_loss:  110.1083, duration: 0:00:37.548398,           learning rate: (0.01, 0.01)\n",
      "Epoch: 40/300, train loss:  116.0983          test_loss:  108.7502, duration: 0:00:37.157916,           learning rate: (0.01, 0.01)\n",
      "Epoch: 41/300, train loss:  115.3637          test_loss:  114.6154, duration: 0:00:37.334080,           learning rate: (0.01, 0.01)\n",
      "Epoch: 42/300, train loss:  136.0765          test_loss:  117.5138, duration: 0:00:36.983089,           learning rate: (0.01, 0.01)\n",
      "Epoch: 43/300, train loss:  114.2182          test_loss:  108.0929, duration: 0:00:37.031805,           learning rate: (0.01, 0.001)\n",
      "Epoch: 44/300, train loss:  75.8696          test_loss:  76.8292, duration: 0:00:37.198201,           learning rate: (0.001, 0.001)\n",
      "Epoch: 45/300, train loss:  68.7464          test_loss:  72.6652, duration: 0:00:37.014628,           learning rate: (0.001, 0.001)\n",
      "Epoch: 46/300, train loss:  65.2486          test_loss:  70.1000, duration: 0:00:37.163732,           learning rate: (0.001, 0.001)\n",
      "Epoch: 47/300, train loss:  62.6807          test_loss:  69.5063, duration: 0:00:37.094040,           learning rate: (0.001, 0.001)\n",
      "Epoch: 48/300, train loss:  60.7933          test_loss:  67.6904, duration: 0:00:36.988814,           learning rate: (0.001, 0.001)\n",
      "Epoch: 49/300, train loss:  59.3498          test_loss:  66.5465, duration: 0:00:37.044937,           learning rate: (0.001, 0.001)\n",
      "Epoch: 50/300, train loss:  58.1105          test_loss:  67.7668, duration: 0:00:37.388016,           learning rate: (0.001, 0.001)\n",
      "Epoch: 51/300, train loss:  57.0899          test_loss:  63.0916, duration: 0:00:36.948028,           learning rate: (0.001, 0.001)\n",
      "Epoch: 52/300, train loss:  56.3683          test_loss:  64.4462, duration: 0:00:36.795583,           learning rate: (0.001, 0.001)\n",
      "Epoch: 53/300, train loss:  55.4787          test_loss:  63.3608, duration: 0:00:37.168335,           learning rate: (0.001, 0.001)\n",
      "Epoch: 54/300, train loss:  54.6884          test_loss:  63.5602, duration: 0:00:37.144554,           learning rate: (0.001, 0.001)\n",
      "Epoch: 55/300, train loss:  54.3317          test_loss:  63.9526, duration: 0:00:37.159244,           learning rate: (0.001, 0.001)\n",
      "Epoch: 56/300, train loss:  53.6363          test_loss:  65.0542, duration: 0:00:36.812103,           learning rate: (0.001, 0.001)\n",
      "Epoch: 57/300, train loss:  53.0816          test_loss:  63.3551, duration: 0:00:37.225725,           learning rate: (0.001, 0.001)\n",
      "Epoch: 58/300, train loss:  52.5817          test_loss:  59.7035, duration: 0:00:36.883568,           learning rate: (0.001, 0.001)\n",
      "Epoch: 59/300, train loss:  51.9820          test_loss:  66.3971, duration: 0:00:37.044867,           learning rate: (0.001, 0.001)\n",
      "Epoch: 60/300, train loss:  51.6783          test_loss:  60.3414, duration: 0:00:37.121409,           learning rate: (0.001, 0.001)\n",
      "Epoch: 61/300, train loss:  51.0061          test_loss:  67.1774, duration: 0:00:37.340777,           learning rate: (0.001, 0.001)\n",
      "Epoch: 62/300, train loss:  50.7637          test_loss:  59.3728, duration: 0:00:37.302825,           learning rate: (0.001, 0.001)\n",
      "Epoch: 63/300, train loss:  50.4909          test_loss:  58.5464, duration: 0:00:37.058463,           learning rate: (0.001, 0.001)\n",
      "Epoch: 64/300, train loss:  50.1964          test_loss:  63.3777, duration: 0:00:36.999283,           learning rate: (0.001, 0.001)\n",
      "Epoch: 65/300, train loss:  49.7962          test_loss:  63.1408, duration: 0:00:36.907610,           learning rate: (0.001, 0.001)\n",
      "Epoch: 66/300, train loss:  49.6252          test_loss:  56.6169, duration: 0:00:37.231178,           learning rate: (0.001, 0.001)\n",
      "Epoch: 67/300, train loss:  49.3331          test_loss:  59.4166, duration: 0:00:36.979890,           learning rate: (0.001, 0.001)\n",
      "Epoch: 68/300, train loss:  48.9265          test_loss:  57.8629, duration: 0:00:37.119150,           learning rate: (0.001, 0.001)\n",
      "Epoch: 69/300, train loss:  48.6099          test_loss:  56.1942, duration: 0:00:37.056010,           learning rate: (0.001, 0.001)\n",
      "Epoch: 70/300, train loss:  48.4846          test_loss:  56.1020, duration: 0:00:36.962281,           learning rate: (0.001, 0.001)\n",
      "Epoch: 71/300, train loss:  48.1954          test_loss:  55.5101, duration: 0:00:37.161693,           learning rate: (0.001, 0.001)\n",
      "Epoch: 72/300, train loss:  47.6812          test_loss:  56.3468, duration: 0:00:37.088588,           learning rate: (0.001, 0.001)\n",
      "Epoch: 73/300, train loss:  47.6288          test_loss:  57.4543, duration: 0:00:37.166068,           learning rate: (0.001, 0.001)\n",
      "Epoch: 74/300, train loss:  47.3031          test_loss:  53.3940, duration: 0:00:37.169729,           learning rate: (0.001, 0.001)\n",
      "Epoch: 75/300, train loss:  47.0518          test_loss:  57.8024, duration: 0:00:36.874915,           learning rate: (0.001, 0.001)\n",
      "Epoch: 76/300, train loss:  47.0381          test_loss:  54.9615, duration: 0:00:36.974159,           learning rate: (0.001, 0.001)\n",
      "Epoch: 77/300, train loss:  46.5966          test_loss:  53.3761, duration: 0:00:37.258249,           learning rate: (0.001, 0.001)\n",
      "Epoch: 78/300, train loss:  46.3169          test_loss:  56.8216, duration: 0:00:36.868073,           learning rate: (0.001, 0.001)\n",
      "Epoch: 79/300, train loss:  46.0520          test_loss:  56.7741, duration: 0:00:36.844958,           learning rate: (0.001, 0.001)\n",
      "Epoch: 80/300, train loss:  46.0395          test_loss:  56.5544, duration: 0:00:37.074340,           learning rate: (0.001, 0.001)\n",
      "Epoch: 81/300, train loss:  45.5058          test_loss:  56.3656, duration: 0:00:37.251548,           learning rate: (0.001, 0.001)\n",
      "Epoch: 82/300, train loss:  45.5858          test_loss:  56.2148, duration: 0:00:37.669131,           learning rate: (0.001, 0.001)\n",
      "Epoch: 83/300, train loss:  45.5129          test_loss:  53.1338, duration: 0:00:37.066192,           learning rate: (0.001, 0.001)\n",
      "Epoch: 84/300, train loss:  45.1946          test_loss:  59.3918, duration: 0:00:37.358925,           learning rate: (0.001, 0.001)\n",
      "Epoch: 85/300, train loss:  44.9006          test_loss:  53.8527, duration: 0:00:36.848131,           learning rate: (0.001, 0.001)\n",
      "Epoch: 86/300, train loss:  45.0209          test_loss:  55.0667, duration: 0:00:37.076052,           learning rate: (0.001, 0.001)\n",
      "Epoch: 87/300, train loss:  44.6368          test_loss:  52.3631, duration: 0:00:36.955965,           learning rate: (0.001, 0.001)\n",
      "Epoch: 88/300, train loss:  44.4208          test_loss:  52.5857, duration: 0:00:37.109833,           learning rate: (0.001, 0.001)\n",
      "Epoch: 89/300, train loss:  44.3886          test_loss:  56.0317, duration: 0:00:36.895862,           learning rate: (0.001, 0.001)\n",
      "Epoch: 90/300, train loss:  44.0281          test_loss:  51.9188, duration: 0:00:37.164483,           learning rate: (0.001, 0.001)\n",
      "Epoch: 91/300, train loss:  43.9598          test_loss:  54.1000, duration: 0:00:37.091143,           learning rate: (0.001, 0.001)\n",
      "Epoch: 92/300, train loss:  44.1316          test_loss:  52.8120, duration: 0:00:37.158723,           learning rate: (0.001, 0.001)\n",
      "Epoch: 93/300, train loss:  43.5869          test_loss:  60.9100, duration: 0:00:36.908390,           learning rate: (0.001, 0.001)\n",
      "Epoch: 94/300, train loss:  43.8189          test_loss:  50.3890, duration: 0:00:37.172291,           learning rate: (0.001, 0.001)\n",
      "Epoch: 95/300, train loss:  43.9768          test_loss:  51.5900, duration: 0:00:37.131596,           learning rate: (0.001, 0.001)\n",
      "Epoch: 96/300, train loss:  43.4373          test_loss:  52.6727, duration: 0:00:36.858192,           learning rate: (0.001, 0.001)\n",
      "Epoch: 97/300, train loss:  43.4033          test_loss:  51.4820, duration: 0:00:37.321858,           learning rate: (0.001, 0.001)\n",
      "Epoch: 98/300, train loss:  43.2056          test_loss:  59.3337, duration: 0:00:37.336945,           learning rate: (0.001, 0.001)\n",
      "Epoch: 99/300, train loss:  43.2004          test_loss:  56.6469, duration: 0:00:37.213888,           learning rate: (0.001, 0.001)\n",
      "Epoch: 100/300, train loss:  43.3453          test_loss:  51.2984, duration: 0:00:37.757525,           learning rate: (0.001, 0.001)\n",
      "Epoch: 101/300, train loss:  43.0118          test_loss:  51.0770, duration: 0:00:37.333374,           learning rate: (0.001, 0.001)\n",
      "Epoch: 102/300, train loss:  42.7542          test_loss:  52.9028, duration: 0:00:37.406918,           learning rate: (0.001, 0.001)\n",
      "Epoch: 103/300, train loss:  42.5368          test_loss:  50.5782, duration: 0:00:37.523396,           learning rate: (0.001, 0.001)\n",
      "Epoch: 104/300, train loss:  42.8839          test_loss:  50.8116, duration: 0:00:37.049549,           learning rate: (0.001, 0.001)\n",
      "Epoch: 105/300, train loss:  42.7941          test_loss:  56.6625, duration: 0:00:37.131639,           learning rate: (0.001, 0.0001)\n",
      "Epoch: 106/300, train loss:  33.9707          test_loss:  44.5824, duration: 0:00:36.802259,           learning rate: (0.0001, 0.0001)\n",
      "Epoch: 107/300, train loss:  32.4965          test_loss:  44.3206, duration: 0:00:36.957656,           learning rate: (0.0001, 0.0001)\n",
      "Epoch: 108/300, train loss:  31.9385          test_loss:  44.1608, duration: 0:00:36.868772,           learning rate: (0.0001, 0.0001)\n",
      "Epoch: 109/300, train loss:  31.6427          test_loss:  43.9191, duration: 0:00:37.283804,           learning rate: (0.0001, 0.0001)\n",
      "Epoch: 110/300, train loss:  31.3985          test_loss:  44.0413, duration: 0:00:36.886603,           learning rate: (0.0001, 0.0001)\n",
      "Epoch: 111/300, train loss:  31.1632          test_loss:  43.7792, duration: 0:00:37.207163,           learning rate: (0.0001, 0.0001)\n",
      "Epoch: 112/300, train loss:  30.9964          test_loss:  43.4084, duration: 0:00:37.368759,           learning rate: (0.0001, 0.0001)\n",
      "Epoch: 113/300, train loss:  30.8282          test_loss:  44.3292, duration: 0:00:37.204277,           learning rate: (0.0001, 0.0001)\n",
      "Epoch: 114/300, train loss:  30.6992          test_loss:  43.7443, duration: 0:00:37.252434,           learning rate: (0.0001, 0.0001)\n",
      "Epoch: 115/300, train loss:  30.5256          test_loss:  43.9472, duration: 0:00:37.229025,           learning rate: (0.0001, 0.0001)\n",
      "Epoch: 116/300, train loss:  30.4296          test_loss:  43.6436, duration: 0:00:37.037751,           learning rate: (0.0001, 0.0001)\n",
      "Epoch: 117/300, train loss:  30.2811          test_loss:  43.4239, duration: 0:00:36.988118,           learning rate: (0.0001, 0.0001)\n",
      "Epoch: 118/300, train loss:  30.1875          test_loss:  43.3947, duration: 0:00:37.045856,           learning rate: (0.0001, 0.0001)\n",
      "Epoch: 119/300, train loss:  30.0657          test_loss:  43.5470, duration: 0:00:37.309859,           learning rate: (0.0001, 0.0001)\n",
      "Epoch: 120/300, train loss:  29.9802          test_loss:  43.2370, duration: 0:00:37.027930,           learning rate: (0.0001, 0.0001)\n",
      "Epoch: 121/300, train loss:  29.8444          test_loss:  43.3213, duration: 0:00:37.065403,           learning rate: (0.0001, 0.0001)\n",
      "Epoch: 122/300, train loss:  29.7681          test_loss:  43.2022, duration: 0:00:36.991217,           learning rate: (0.0001, 0.0001)\n",
      "Epoch: 123/300, train loss:  29.6974          test_loss:  43.4316, duration: 0:00:37.087281,           learning rate: (0.0001, 0.0001)\n",
      "Epoch: 124/300, train loss:  29.5847          test_loss:  43.6293, duration: 0:00:37.249957,           learning rate: (0.0001, 0.0001)\n",
      "Epoch: 125/300, train loss:  29.5109          test_loss:  43.1255, duration: 0:00:37.495226,           learning rate: (0.0001, 0.0001)\n",
      "Epoch: 126/300, train loss:  29.4007          test_loss:  43.4844, duration: 0:00:37.477416,           learning rate: (0.0001, 0.0001)\n",
      "Epoch: 127/300, train loss:  29.3345          test_loss:  42.9843, duration: 0:00:37.258262,           learning rate: (0.0001, 0.0001)\n",
      "Epoch: 128/300, train loss:  29.2822          test_loss:  43.3702, duration: 0:00:37.306388,           learning rate: (0.0001, 0.0001)\n",
      "Epoch: 129/300, train loss:  29.1985          test_loss:  43.1967, duration: 0:00:37.047290,           learning rate: (0.0001, 0.0001)\n",
      "Epoch: 130/300, train loss:  29.1276          test_loss:  42.8558, duration: 0:00:37.325899,           learning rate: (0.0001, 0.0001)\n",
      "Epoch: 131/300, train loss:  29.0451          test_loss:  42.9831, duration: 0:00:37.300413,           learning rate: (0.0001, 0.0001)\n",
      "Epoch: 132/300, train loss:  28.9599          test_loss:  43.5886, duration: 0:00:37.483413,           learning rate: (0.0001, 0.0001)\n",
      "Epoch: 133/300, train loss:  28.9199          test_loss:  43.2685, duration: 0:00:37.483365,           learning rate: (0.0001, 0.0001)\n",
      "Epoch: 134/300, train loss:  28.8758          test_loss:  42.8914, duration: 0:00:37.302379,           learning rate: (0.0001, 0.0001)\n",
      "Epoch: 135/300, train loss:  28.7848          test_loss:  42.9528, duration: 0:00:37.571096,           learning rate: (0.0001, 0.0001)\n",
      "Epoch: 136/300, train loss:  28.7174          test_loss:  43.6870, duration: 0:00:37.411579,           learning rate: (0.0001, 0.0001)\n",
      "Epoch: 137/300, train loss:  28.6756          test_loss:  43.3965, duration: 0:00:37.314032,           learning rate: (0.0001, 0.0001)\n",
      "Epoch: 138/300, train loss:  28.6035          test_loss:  42.7170, duration: 0:00:37.505064,           learning rate: (0.0001, 0.0001)\n",
      "Epoch: 139/300, train loss:  28.5354          test_loss:  42.6122, duration: 0:00:37.184488,           learning rate: (0.0001, 0.0001)\n",
      "Epoch: 140/300, train loss:  28.4763          test_loss:  43.1205, duration: 0:00:37.592689,           learning rate: (0.0001, 0.0001)\n",
      "Epoch: 141/300, train loss:  28.3934          test_loss:  42.4815, duration: 0:00:37.389282,           learning rate: (0.0001, 0.0001)\n",
      "Epoch: 142/300, train loss:  28.3575          test_loss:  42.6268, duration: 0:00:37.312511,           learning rate: (0.0001, 0.0001)\n",
      "Epoch: 143/300, train loss:  28.3149          test_loss:  42.3813, duration: 0:00:37.318061,           learning rate: (0.0001, 0.0001)\n",
      "Epoch: 144/300, train loss:  28.2385          test_loss:  42.6691, duration: 0:00:37.179549,           learning rate: (0.0001, 0.0001)\n",
      "Epoch: 145/300, train loss:  28.2057          test_loss:  42.2842, duration: 0:00:37.399859,           learning rate: (0.0001, 0.0001)\n",
      "Epoch: 146/300, train loss:  28.1302          test_loss:  42.5815, duration: 0:00:37.167422,           learning rate: (0.0001, 0.0001)\n",
      "Epoch: 147/300, train loss:  28.0839          test_loss:  42.9551, duration: 0:00:37.267448,           learning rate: (0.0001, 0.0001)\n",
      "Epoch: 148/300, train loss:  28.0468          test_loss:  42.5053, duration: 0:00:37.217254,           learning rate: (0.0001, 0.0001)\n",
      "Epoch: 149/300, train loss:  27.9955          test_loss:  42.9651, duration: 0:00:37.415684,           learning rate: (0.0001, 0.0001)\n",
      "Epoch: 150/300, train loss:  27.9057          test_loss:  42.5666, duration: 0:00:37.989900,           learning rate: (0.0001, 0.0001)\n",
      "Epoch: 151/300, train loss:  27.8718          test_loss:  42.4340, duration: 0:00:38.247208,           learning rate: (0.0001, 0.0001)\n",
      "Epoch: 152/300, train loss:  27.8132          test_loss:  42.5047, duration: 0:00:38.023663,           learning rate: (0.0001, 0.0001)\n",
      "Epoch: 153/300, train loss:  27.7441          test_loss:  42.1089, duration: 0:00:37.510785,           learning rate: (0.0001, 0.0001)\n",
      "Epoch: 154/300, train loss:  27.7264          test_loss:  42.2964, duration: 0:00:37.309268,           learning rate: (0.0001, 0.0001)\n",
      "Epoch: 155/300, train loss:  27.6735          test_loss:  42.4922, duration: 0:00:37.645784,           learning rate: (0.0001, 0.0001)\n",
      "Epoch: 156/300, train loss:  27.6039          test_loss:  42.0878, duration: 0:00:37.428069,           learning rate: (0.0001, 0.0001)\n",
      "Epoch: 157/300, train loss:  27.5584          test_loss:  42.2410, duration: 0:00:37.222063,           learning rate: (0.0001, 0.0001)\n",
      "Epoch: 158/300, train loss:  27.5140          test_loss:  42.2509, duration: 0:00:37.548952,           learning rate: (0.0001, 0.0001)\n",
      "Epoch: 159/300, train loss:  27.4436          test_loss:  42.4096, duration: 0:00:37.298639,           learning rate: (0.0001, 0.0001)\n",
      "Epoch: 160/300, train loss:  27.3851          test_loss:  42.4881, duration: 0:00:37.319658,           learning rate: (0.0001, 0.0001)\n",
      "Epoch: 161/300, train loss:  27.3780          test_loss:  42.3266, duration: 0:00:37.524803,           learning rate: (0.0001, 0.0001)\n",
      "Epoch: 162/300, train loss:  27.3209          test_loss:  41.9025, duration: 0:00:37.408283,           learning rate: (0.0001, 0.0001)\n",
      "Epoch: 163/300, train loss:  27.2526          test_loss:  41.8677, duration: 0:00:37.397092,           learning rate: (0.0001, 0.0001)\n",
      "Epoch: 164/300, train loss:  27.2069          test_loss:  42.0068, duration: 0:00:37.462622,           learning rate: (0.0001, 0.0001)\n",
      "Epoch: 165/300, train loss:  27.1688          test_loss:  41.7349, duration: 0:00:37.394660,           learning rate: (0.0001, 0.0001)\n",
      "Epoch: 166/300, train loss:  27.0947          test_loss:  42.4020, duration: 0:00:37.443727,           learning rate: (0.0001, 0.0001)\n",
      "Epoch: 167/300, train loss:  27.0526          test_loss:  41.8069, duration: 0:00:37.543757,           learning rate: (0.0001, 0.0001)\n",
      "Epoch: 168/300, train loss:  27.0231          test_loss:  42.4473, duration: 0:00:37.672718,           learning rate: (0.0001, 0.0001)\n",
      "Epoch: 169/300, train loss:  26.9744          test_loss:  41.8165, duration: 0:00:37.855929,           learning rate: (0.0001, 0.0001)\n",
      "Epoch: 170/300, train loss:  26.9204          test_loss:  41.7268, duration: 0:00:37.950835,           learning rate: (0.0001, 0.0001)\n",
      "Epoch: 171/300, train loss:  26.8594          test_loss:  41.7383, duration: 0:00:37.919598,           learning rate: (0.0001, 0.0001)\n",
      "Epoch: 172/300, train loss:  26.8056          test_loss:  41.9917, duration: 0:00:37.721787,           learning rate: (0.0001, 0.0001)\n",
      "Epoch: 173/300, train loss:  26.7462          test_loss:  41.7932, duration: 0:00:37.465552,           learning rate: (0.0001, 0.0001)\n",
      "Epoch: 174/300, train loss:  26.6975          test_loss:  42.1114, duration: 0:00:37.651977,           learning rate: (0.0001, 0.0001)\n",
      "Epoch: 175/300, train loss:  26.6175          test_loss:  41.6261, duration: 0:00:37.618421,           learning rate: (0.0001, 0.0001)\n",
      "Epoch: 176/300, train loss:  26.6155          test_loss:  41.6276, duration: 0:00:37.220267,           learning rate: (0.0001, 0.0001)\n",
      "Epoch: 177/300, train loss:  26.5033          test_loss:  41.6225, duration: 0:00:37.358863,           learning rate: (0.0001, 0.0001)\n",
      "Epoch: 178/300, train loss:  26.4639          test_loss:  42.0746, duration: 0:00:37.588615,           learning rate: (0.0001, 0.0001)\n",
      "Epoch: 179/300, train loss:  26.4492          test_loss:  41.4410, duration: 0:00:37.817571,           learning rate: (0.0001, 0.0001)\n",
      "Epoch: 180/300, train loss:  26.3537          test_loss:  42.1358, duration: 0:00:38.439656,           learning rate: (0.0001, 0.0001)\n",
      "Epoch: 181/300, train loss:  26.3230          test_loss:  41.0149, duration: 0:00:37.877968,           learning rate: (0.0001, 0.0001)\n",
      "Epoch: 182/300, train loss:  26.2394          test_loss:  42.6737, duration: 0:00:37.828714,           learning rate: (0.0001, 0.0001)\n",
      "Epoch: 183/300, train loss:  26.1868          test_loss:  41.0625, duration: 0:00:37.987929,           learning rate: (0.0001, 0.0001)\n",
      "Epoch: 184/300, train loss:  26.1501          test_loss:  41.0037, duration: 0:00:37.973903,           learning rate: (0.0001, 0.0001)\n",
      "Epoch: 185/300, train loss:  26.1022          test_loss:  40.7920, duration: 0:00:38.469896,           learning rate: (0.0001, 0.0001)\n",
      "Epoch: 186/300, train loss:  26.0331          test_loss:  41.4538, duration: 0:00:38.146205,           learning rate: (0.0001, 0.0001)\n",
      "Epoch: 187/300, train loss:  26.0083          test_loss:  41.1520, duration: 0:00:38.051055,           learning rate: (0.0001, 0.0001)\n",
      "Epoch: 188/300, train loss:  25.9567          test_loss:  41.3041, duration: 0:00:38.231153,           learning rate: (0.0001, 0.0001)\n",
      "Epoch: 189/300, train loss:  25.8874          test_loss:  41.2503, duration: 0:00:37.989259,           learning rate: (0.0001, 0.0001)\n",
      "Epoch: 190/300, train loss:  25.8793          test_loss:  40.4046, duration: 0:00:37.943841,           learning rate: (0.0001, 0.0001)\n",
      "Epoch: 191/300, train loss:  25.8082          test_loss:  40.7817, duration: 0:00:37.658009,           learning rate: (0.0001, 0.0001)\n",
      "Epoch: 192/300, train loss:  25.7203          test_loss:  40.7677, duration: 0:00:37.695220,           learning rate: (0.0001, 0.0001)\n",
      "Epoch: 193/300, train loss:  25.7061          test_loss:  40.7268, duration: 0:00:37.146980,           learning rate: (0.0001, 0.0001)\n",
      "Epoch: 194/300, train loss:  25.6109          test_loss:  40.7654, duration: 0:00:37.117945,           learning rate: (0.0001, 0.0001)\n",
      "Epoch: 195/300, train loss:  25.5964          test_loss:  40.2804, duration: 0:00:37.357942,           learning rate: (0.0001, 0.0001)\n",
      "Epoch: 196/300, train loss:  25.5380          test_loss:  40.9190, duration: 0:00:37.356542,           learning rate: (0.0001, 0.0001)\n",
      "Epoch: 197/300, train loss:  25.4894          test_loss:  40.4946, duration: 0:00:37.575832,           learning rate: (0.0001, 0.0001)\n",
      "Epoch: 198/300, train loss:  25.4239          test_loss:  40.3341, duration: 0:00:37.578887,           learning rate: (0.0001, 0.0001)\n",
      "Epoch: 199/300, train loss:  25.3862          test_loss:  40.5854, duration: 0:00:37.176662,           learning rate: (0.0001, 0.0001)\n",
      "Epoch: 200/300, train loss:  25.3687          test_loss:  40.0132, duration: 0:00:37.399765,           learning rate: (0.0001, 0.0001)\n",
      "Epoch: 201/300, train loss:  25.3079          test_loss:  40.0493, duration: 0:00:37.192127,           learning rate: (0.0001, 0.0001)\n",
      "Epoch: 202/300, train loss:  25.2491          test_loss:  39.9581, duration: 0:00:37.125763,           learning rate: (0.0001, 0.0001)\n",
      "Epoch: 203/300, train loss:  25.1826          test_loss:  40.3088, duration: 0:00:37.223198,           learning rate: (0.0001, 0.0001)\n",
      "Epoch: 204/300, train loss:  25.1291          test_loss:  40.0089, duration: 0:00:37.292443,           learning rate: (0.0001, 0.0001)\n",
      "Epoch: 205/300, train loss:  25.0888          test_loss:  39.8308, duration: 0:00:37.426023,           learning rate: (0.0001, 0.0001)\n",
      "Epoch: 206/300, train loss:  25.0338          test_loss:  39.6500, duration: 0:00:37.156808,           learning rate: (0.0001, 0.0001)\n",
      "Epoch: 207/300, train loss:  24.9880          test_loss:  40.0574, duration: 0:00:37.301783,           learning rate: (0.0001, 0.0001)\n",
      "Epoch: 208/300, train loss:  24.9492          test_loss:  39.9964, duration: 0:00:37.246424,           learning rate: (0.0001, 0.0001)\n",
      "Epoch: 209/300, train loss:  24.8839          test_loss:  39.9220, duration: 0:00:37.041496,           learning rate: (0.0001, 0.0001)\n",
      "Epoch: 210/300, train loss:  24.8590          test_loss:  39.3645, duration: 0:00:37.256891,           learning rate: (0.0001, 0.0001)\n",
      "Epoch: 211/300, train loss:  24.7904          test_loss:  39.4999, duration: 0:00:37.123931,           learning rate: (0.0001, 0.0001)\n",
      "Epoch: 212/300, train loss:  24.7803          test_loss:  39.4751, duration: 0:00:37.036720,           learning rate: (0.0001, 0.0001)\n",
      "Epoch: 213/300, train loss:  24.6896          test_loss:  39.1318, duration: 0:00:37.235174,           learning rate: (0.0001, 0.0001)\n",
      "Epoch: 214/300, train loss:  24.6654          test_loss:  38.8180, duration: 0:00:37.244160,           learning rate: (0.0001, 0.0001)\n",
      "Epoch: 215/300, train loss:  24.5788          test_loss:  38.7746, duration: 0:00:37.012116,           learning rate: (0.0001, 0.0001)\n",
      "Epoch: 216/300, train loss:  24.5333          test_loss:  39.2264, duration: 0:00:37.003422,           learning rate: (0.0001, 0.0001)\n",
      "Epoch: 217/300, train loss:  24.5187          test_loss:  38.6039, duration: 0:00:37.026270,           learning rate: (0.0001, 0.0001)\n",
      "Epoch: 218/300, train loss:  24.4280          test_loss:  38.6657, duration: 0:00:36.922534,           learning rate: (0.0001, 0.0001)\n",
      "Epoch: 219/300, train loss:  24.3974          test_loss:  38.4364, duration: 0:00:37.203641,           learning rate: (0.0001, 0.0001)\n",
      "Epoch: 220/300, train loss:  24.3555          test_loss:  38.7919, duration: 0:00:37.233847,           learning rate: (0.0001, 0.0001)\n",
      "Epoch: 221/300, train loss:  24.2969          test_loss:  38.3859, duration: 0:00:37.840429,           learning rate: (0.0001, 0.0001)\n",
      "Epoch: 222/300, train loss:  24.2426          test_loss:  38.8847, duration: 0:00:37.652009,           learning rate: (0.0001, 0.0001)\n",
      "Epoch: 223/300, train loss:  24.1607          test_loss:  38.5540, duration: 0:00:37.218194,           learning rate: (0.0001, 0.0001)\n",
      "Epoch: 224/300, train loss:  24.0938          test_loss:  38.9310, duration: 0:00:37.041407,           learning rate: (0.0001, 0.0001)\n",
      "Epoch: 225/300, train loss:  24.0356          test_loss:  38.3879, duration: 0:00:37.421640,           learning rate: (0.0001, 0.0001)\n",
      "Epoch: 226/300, train loss:  23.9681          test_loss:  38.0040, duration: 0:00:37.340531,           learning rate: (0.0001, 0.0001)\n",
      "Epoch: 227/300, train loss:  23.9404          test_loss:  38.1943, duration: 0:00:37.125576,           learning rate: (0.0001, 0.0001)\n",
      "Epoch: 228/300, train loss:  23.9053          test_loss:  37.6137, duration: 0:00:37.420545,           learning rate: (0.0001, 0.0001)\n",
      "Epoch: 229/300, train loss:  23.8052          test_loss:  38.1506, duration: 0:00:37.161224,           learning rate: (0.0001, 0.0001)\n",
      "Epoch: 230/300, train loss:  23.7838          test_loss:  37.3494, duration: 0:00:37.395873,           learning rate: (0.0001, 0.0001)\n",
      "Epoch: 231/300, train loss:  23.7053          test_loss:  37.5052, duration: 0:00:37.256681,           learning rate: (0.0001, 0.0001)\n",
      "Epoch: 232/300, train loss:  23.6539          test_loss:  37.8263, duration: 0:00:37.594960,           learning rate: (0.0001, 0.0001)\n",
      "Epoch: 233/300, train loss:  23.5748          test_loss:  38.4124, duration: 0:00:37.337913,           learning rate: (0.0001, 0.0001)\n",
      "Epoch: 234/300, train loss:  23.5201          test_loss:  37.3266, duration: 0:00:37.094690,           learning rate: (0.0001, 0.0001)\n",
      "Epoch: 235/300, train loss:  23.4350          test_loss:  37.1075, duration: 0:00:37.260053,           learning rate: (0.0001, 0.0001)\n",
      "Epoch: 236/300, train loss:  23.3926          test_loss:  37.3188, duration: 0:00:37.207068,           learning rate: (0.0001, 0.0001)\n",
      "Epoch: 237/300, train loss:  23.3544          test_loss:  37.4852, duration: 0:00:37.276190,           learning rate: (0.0001, 0.0001)\n",
      "Epoch: 238/300, train loss:  23.2672          test_loss:  36.9561, duration: 0:00:37.472954,           learning rate: (0.0001, 0.0001)\n",
      "Epoch: 239/300, train loss:  23.2216          test_loss:  36.5558, duration: 0:00:37.161208,           learning rate: (0.0001, 0.0001)\n",
      "Epoch: 240/300, train loss:  23.1217          test_loss:  36.6730, duration: 0:00:37.050884,           learning rate: (0.0001, 0.0001)\n",
      "Epoch: 241/300, train loss:  23.0876          test_loss:  37.4376, duration: 0:00:37.428754,           learning rate: (0.0001, 0.0001)\n",
      "Epoch: 242/300, train loss:  23.0149          test_loss:  36.5534, duration: 0:00:37.411728,           learning rate: (0.0001, 0.0001)\n",
      "Epoch: 243/300, train loss:  22.9385          test_loss:  36.3299, duration: 0:00:36.995329,           learning rate: (0.0001, 0.0001)\n",
      "Epoch: 244/300, train loss:  22.8762          test_loss:  36.1989, duration: 0:00:37.139546,           learning rate: (0.0001, 0.0001)\n",
      "Epoch: 245/300, train loss:  22.8126          test_loss:  35.9456, duration: 0:00:37.179160,           learning rate: (0.0001, 0.0001)\n",
      "Epoch: 246/300, train loss:  22.7496          test_loss:  36.5783, duration: 0:00:37.211404,           learning rate: (0.0001, 0.0001)\n",
      "Epoch: 247/300, train loss:  22.6590          test_loss:  36.4657, duration: 0:00:37.310910,           learning rate: (0.0001, 0.0001)\n",
      "Epoch: 248/300, train loss:  22.5860          test_loss:  36.4350, duration: 0:00:37.356170,           learning rate: (0.0001, 0.0001)\n",
      "Epoch: 249/300, train loss:  22.5373          test_loss:  35.5620, duration: 0:00:37.108662,           learning rate: (0.0001, 0.0001)\n",
      "Epoch: 250/300, train loss:  22.4373          test_loss:  35.6300, duration: 0:00:37.194578,           learning rate: (0.0001, 0.0001)\n",
      "Epoch: 251/300, train loss:  22.3402          test_loss:  35.5755, duration: 0:00:37.408290,           learning rate: (0.0001, 0.0001)\n",
      "Epoch: 252/300, train loss:  22.2980          test_loss:  35.6736, duration: 0:00:37.093900,           learning rate: (0.0001, 0.0001)\n",
      "Epoch: 253/300, train loss:  22.2145          test_loss:  35.9101, duration: 0:00:37.554617,           learning rate: (0.0001, 0.0001)\n",
      "Epoch: 254/300, train loss:  22.0946          test_loss:  35.1799, duration: 0:00:37.713857,           learning rate: (0.0001, 0.0001)\n",
      "Epoch: 255/300, train loss:  22.0592          test_loss:  35.3040, duration: 0:00:37.519740,           learning rate: (0.0001, 0.0001)\n",
      "Epoch: 256/300, train loss:  21.9721          test_loss:  35.2580, duration: 0:00:37.403933,           learning rate: (0.0001, 0.0001)\n",
      "Epoch: 257/300, train loss:  21.9227          test_loss:  34.6173, duration: 0:00:37.333688,           learning rate: (0.0001, 0.0001)\n",
      "Epoch: 258/300, train loss:  21.7985          test_loss:  35.2093, duration: 0:00:37.104055,           learning rate: (0.0001, 0.0001)\n",
      "Epoch: 259/300, train loss:  21.7527          test_loss:  34.4925, duration: 0:00:37.034326,           learning rate: (0.0001, 0.0001)\n",
      "Epoch: 260/300, train loss:  21.6391          test_loss:  34.9112, duration: 0:00:37.149806,           learning rate: (0.0001, 0.0001)\n",
      "Epoch: 261/300, train loss:  21.5647          test_loss:  34.0066, duration: 0:00:37.280671,           learning rate: (0.0001, 0.0001)\n",
      "Epoch: 262/300, train loss:  21.4749          test_loss:  33.9227, duration: 0:00:37.360015,           learning rate: (0.0001, 0.0001)\n",
      "Epoch: 263/300, train loss:  21.3580          test_loss:  33.7554, duration: 0:00:37.267059,           learning rate: (0.0001, 0.0001)\n",
      "Epoch: 264/300, train loss:  21.2926          test_loss:  33.3925, duration: 0:00:37.398400,           learning rate: (0.0001, 0.0001)\n",
      "Epoch: 265/300, train loss:  21.1969          test_loss:  34.0543, duration: 0:00:37.367594,           learning rate: (0.0001, 0.0001)\n",
      "Epoch: 266/300, train loss:  21.0868          test_loss:  35.9950, duration: 0:00:37.147043,           learning rate: (0.0001, 0.0001)\n",
      "Epoch: 267/300, train loss:  21.0409          test_loss:  33.3994, duration: 0:00:37.488017,           learning rate: (0.0001, 0.0001)\n",
      "Epoch: 268/300, train loss:  20.9075          test_loss:  32.5969, duration: 0:00:37.511860,           learning rate: (0.0001, 0.0001)\n",
      "Epoch: 269/300, train loss:  20.7934          test_loss:  33.1416, duration: 0:00:37.512341,           learning rate: (0.0001, 0.0001)\n",
      "Epoch: 270/300, train loss:  20.7079          test_loss:  32.4165, duration: 0:00:37.352298,           learning rate: (0.0001, 0.0001)\n",
      "Epoch: 271/300, train loss:  20.6232          test_loss:  32.5113, duration: 0:00:37.199829,           learning rate: (0.0001, 0.0001)\n",
      "Epoch: 272/300, train loss:  20.5189          test_loss:  32.4847, duration: 0:00:37.078119,           learning rate: (0.0001, 0.0001)\n",
      "Epoch: 273/300, train loss:  20.4008          test_loss:  33.0157, duration: 0:00:37.454657,           learning rate: (0.0001, 0.0001)\n",
      "Epoch: 274/300, train loss:  20.2928          test_loss:  31.8694, duration: 0:00:37.219729,           learning rate: (0.0001, 0.0001)\n",
      "Epoch: 275/300, train loss:  20.1810          test_loss:  32.1326, duration: 0:00:37.410369,           learning rate: (0.0001, 0.0001)\n",
      "Epoch: 276/300, train loss:  20.0404          test_loss:  31.7371, duration: 0:00:37.411088,           learning rate: (0.0001, 0.0001)\n",
      "Epoch: 277/300, train loss:  19.9939          test_loss:  32.1176, duration: 0:00:37.294824,           learning rate: (0.0001, 0.0001)\n",
      "Epoch: 278/300, train loss:  19.8101          test_loss:  32.2994, duration: 0:00:37.149263,           learning rate: (0.0001, 0.0001)\n",
      "Epoch: 279/300, train loss:  19.7589          test_loss:  31.3953, duration: 0:00:37.186529,           learning rate: (0.0001, 0.0001)\n",
      "Epoch: 280/300, train loss:  19.6638          test_loss:  30.9894, duration: 0:00:37.188015,           learning rate: (0.0001, 0.0001)\n",
      "Epoch: 281/300, train loss:  19.5026          test_loss:  30.7439, duration: 0:00:37.060663,           learning rate: (0.0001, 0.0001)\n",
      "Epoch: 282/300, train loss:  19.3984          test_loss:  30.8646, duration: 0:00:37.838743,           learning rate: (0.0001, 0.0001)\n",
      "Epoch: 283/300, train loss:  19.3351          test_loss:  32.4472, duration: 0:00:37.769964,           learning rate: (0.0001, 0.0001)\n",
      "Epoch: 284/300, train loss:  19.1670          test_loss:  30.4563, duration: 0:00:37.524440,           learning rate: (0.0001, 0.0001)\n",
      "Epoch: 285/300, train loss:  19.0681          test_loss:  31.4579, duration: 0:00:37.261972,           learning rate: (0.0001, 0.0001)\n",
      "Epoch: 286/300, train loss:  18.9808          test_loss:  30.0517, duration: 0:00:37.174408,           learning rate: (0.0001, 0.0001)\n",
      "Epoch: 287/300, train loss:  18.8781          test_loss:  29.9205, duration: 0:00:37.467114,           learning rate: (0.0001, 0.0001)\n",
      "Epoch: 288/300, train loss:  18.7599          test_loss:  30.8434, duration: 0:00:37.287514,           learning rate: (0.0001, 0.0001)\n",
      "Epoch: 289/300, train loss:  18.6241          test_loss:  30.2804, duration: 0:00:37.077995,           learning rate: (0.0001, 0.0001)\n",
      "Epoch: 290/300, train loss:  18.5400          test_loss:  29.5105, duration: 0:00:37.062152,           learning rate: (0.0001, 0.0001)\n",
      "Epoch: 291/300, train loss:  18.4216          test_loss:  29.5530, duration: 0:00:37.146275,           learning rate: (0.0001, 0.0001)\n",
      "Epoch: 292/300, train loss:  18.3465          test_loss:  29.1015, duration: 0:00:37.307156,           learning rate: (0.0001, 0.0001)\n",
      "Epoch: 293/300, train loss:  18.2474          test_loss:  32.0414, duration: 0:00:37.341432,           learning rate: (0.0001, 0.0001)\n",
      "Epoch: 294/300, train loss:  18.1398          test_loss:  30.5341, duration: 0:00:37.501369,           learning rate: (0.0001, 0.0001)\n",
      "Epoch: 295/300, train loss:  18.0345          test_loss:  29.0113, duration: 0:00:37.199952,           learning rate: (0.0001, 0.0001)\n",
      "Epoch: 296/300, train loss:  17.9714          test_loss:  28.6904, duration: 0:00:37.526369,           learning rate: (0.0001, 0.0001)\n",
      "Epoch: 297/300, train loss:  17.8152          test_loss:  28.1298, duration: 0:00:37.545787,           learning rate: (0.0001, 0.0001)\n",
      "Epoch: 298/300, train loss:  17.7135          test_loss:  28.1333, duration: 0:00:37.244523,           learning rate: (0.0001, 0.0001)\n",
      "Epoch: 299/300, train loss:  17.6710          test_loss:  28.0018, duration: 0:00:37.256747,           learning rate: (0.0001, 0.0001)\n",
      "Epoch: 300/300, train loss:  17.5470          test_loss:  27.2577, duration: 0:00:37.181907,           learning rate: (0.0001, 0.0001)\n"
     ]
    }
   ],
   "source": [
    "train_losses, test_losses=batch_gd_scheduler(model, criterion, optimizer, train_gen, test_gen, scheduler, \n",
    "                                             max_epoch, device,  cnn=False)"
   ]
  },
  {
   "cell_type": "code",
   "execution_count": 21,
   "id": "18337ad4",
   "metadata": {
    "execution": {
     "iopub.execute_input": "2024-03-28T09:55:34.881892Z",
     "iopub.status.busy": "2024-03-28T09:55:34.881198Z",
     "iopub.status.idle": "2024-03-28T09:55:34.904241Z",
     "shell.execute_reply": "2024-03-28T09:55:34.903372Z"
    },
    "papermill": {
     "duration": 0.057871,
     "end_time": "2024-03-28T09:55:34.906447",
     "exception": false,
     "start_time": "2024-03-28T09:55:34.848576",
     "status": "completed"
    },
    "tags": []
   },
   "outputs": [
    {
     "data": {
      "text/html": [
       "<div>\n",
       "<style scoped>\n",
       "    .dataframe tbody tr th:only-of-type {\n",
       "        vertical-align: middle;\n",
       "    }\n",
       "\n",
       "    .dataframe tbody tr th {\n",
       "        vertical-align: top;\n",
       "    }\n",
       "\n",
       "    .dataframe thead th {\n",
       "        text-align: right;\n",
       "    }\n",
       "</style>\n",
       "<table border=\"1\" class=\"dataframe\">\n",
       "  <thead>\n",
       "    <tr style=\"text-align: right;\">\n",
       "      <th></th>\n",
       "      <th>train_loss</th>\n",
       "      <th>test_loss</th>\n",
       "    </tr>\n",
       "  </thead>\n",
       "  <tbody>\n",
       "    <tr>\n",
       "      <th>0</th>\n",
       "      <td>377.622157</td>\n",
       "      <td>199.562614</td>\n",
       "    </tr>\n",
       "    <tr>\n",
       "      <th>1</th>\n",
       "      <td>189.026494</td>\n",
       "      <td>190.944042</td>\n",
       "    </tr>\n",
       "    <tr>\n",
       "      <th>2</th>\n",
       "      <td>173.872692</td>\n",
       "      <td>144.378279</td>\n",
       "    </tr>\n",
       "    <tr>\n",
       "      <th>3</th>\n",
       "      <td>158.572064</td>\n",
       "      <td>163.734670</td>\n",
       "    </tr>\n",
       "    <tr>\n",
       "      <th>4</th>\n",
       "      <td>146.903493</td>\n",
       "      <td>138.926152</td>\n",
       "    </tr>\n",
       "  </tbody>\n",
       "</table>\n",
       "</div>"
      ],
      "text/plain": [
       "   train_loss   test_loss\n",
       "0  377.622157  199.562614\n",
       "1  189.026494  190.944042\n",
       "2  173.872692  144.378279\n",
       "3  158.572064  163.734670\n",
       "4  146.903493  138.926152"
      ]
     },
     "execution_count": 21,
     "metadata": {},
     "output_type": "execute_result"
    }
   ],
   "source": [
    "import pandas as pd\n",
    "loss_dict = {'train_loss': train_losses, 'test_loss': test_losses}\n",
    "dd = pd.DataFrame(loss_dict)\n",
    "dd.to_csv('loss_dict.csv', index = False)\n",
    "dd.head()"
   ]
  },
  {
   "cell_type": "code",
   "execution_count": 22,
   "id": "f2c14c62",
   "metadata": {
    "execution": {
     "iopub.execute_input": "2024-03-28T09:55:34.971918Z",
     "iopub.status.busy": "2024-03-28T09:55:34.971282Z",
     "iopub.status.idle": "2024-03-28T09:55:35.260287Z",
     "shell.execute_reply": "2024-03-28T09:55:35.259349Z"
    },
    "papermill": {
     "duration": 0.323556,
     "end_time": "2024-03-28T09:55:35.262373",
     "exception": false,
     "start_time": "2024-03-28T09:55:34.938817",
     "status": "completed"
    },
    "tags": []
   },
   "outputs": [
    {
     "data": {
      "image/png": "[encoded data removed]",
      "text/plain": [
       "<Figure size 640x480 with 1 Axes>"
      ]
     },
     "metadata": {},
     "output_type": "display_data"
    }
   ],
   "source": [
    "plot_losses(train_losses, test_losses)"
   ]
  },
  {
   "cell_type": "code",
   "execution_count": 23,
   "id": "dc84a491",
   "metadata": {
    "execution": {
     "iopub.execute_input": "2024-03-28T09:55:35.331039Z",
     "iopub.status.busy": "2024-03-28T09:55:35.330415Z",
     "iopub.status.idle": "2024-03-28T09:55:52.245598Z",
     "shell.execute_reply": "2024-03-28T09:55:52.244702Z"
    },
    "papermill": {
     "duration": 16.951388,
     "end_time": "2024-03-28T09:55:52.247884",
     "exception": false,
     "start_time": "2024-03-28T09:55:35.296496",
     "status": "completed"
    },
    "tags": []
   },
   "outputs": [
    {
     "name": "stdout",
     "output_type": "stream",
     "text": [
      "Train accuracy for h11:0.4721, Test accuracy for h11: 0.4715\n",
      "Train accuracy for h21:0.6062, Test accuracy for h21: 0.6039\n",
      "Train accuracy for h31:0.2472, Test accuracy for h31: 0.2337\n",
      "Train accuracy for h22:0.0889, Test accuracy for h22: 0.0848\n"
     ]
    }
   ],
   "source": [
    "train_acc, test_acc = calc_accuracy_mr(model, train_gen , test_gen, device = device, cnn= False)\n",
    "print(f'Train accuracy for h11:{train_acc[0]:.4f}, Test accuracy for h11: {test_acc[0]:.4f}')\n",
    "print(f'Train accuracy for h21:{train_acc[1]:.4f}, Test accuracy for h21: {test_acc[1]:.4f}')\n",
    "print(f'Train accuracy for h31:{train_acc[2]:.4f}, Test accuracy for h31: {test_acc[2]:.4f}')\n",
    "print(f'Train accuracy for h22:{train_acc[3]:.4f}, Test accuracy for h22: {test_acc[3]:.4f}')"
   ]
  },
  {
   "cell_type": "code",
   "execution_count": 24,
   "id": "899d8a68",
   "metadata": {
    "execution": {
     "iopub.execute_input": "2024-03-28T09:55:52.314855Z",
     "iopub.status.busy": "2024-03-28T09:55:52.314100Z",
     "iopub.status.idle": "2024-03-28T09:55:52.333407Z",
     "shell.execute_reply": "2024-03-28T09:55:52.332511Z"
    },
    "papermill": {
     "duration": 0.054308,
     "end_time": "2024-03-28T09:55:52.335296",
     "exception": false,
     "start_time": "2024-03-28T09:55:52.280988",
     "status": "completed"
    },
    "tags": []
   },
   "outputs": [],
   "source": [
    "torch.save(model, '/kaggle/working/saved_models/CNN_GRU_hybrid_cicy4_Hodge_v7.pt')"
   ]
  }
 ],
 "metadata": {
  "kaggle": {
   "accelerator": "gpu",
   "dataSources": [
    {
     "datasetId": 4575883,
     "sourceId": 7953742,
     "sourceType": "datasetVersion"
    }
   ],
   "dockerImageVersionId": 30674,
   "isGpuEnabled": true,
   "isInternetEnabled": true,
   "language": "python",
   "sourceType": "notebook"
  },
  "kernelspec": {
   "display_name": "Python 3",
   "language": "python",
   "name": "python3"
  },
  "language_info": {
   "codemirror_mode": {
    "name": "ipython",
    "version": 3
   },
   "file_extension": ".py",
   "mimetype": "text/x-python",
   "name": "python",
   "nbconvert_exporter": "python",
   "pygments_lexer": "ipython3",
   "version": "3.10.13"
  },
  "papermill": {
   "default_parameters": {},
   "duration": 11242.810907,
   "end_time": "2024-03-28T09:55:54.116044",
   "environment_variables": {},
   "exception": null,
   "input_path": "__notebook__.ipynb",
   "output_path": "__notebook__.ipynb",
   "parameters": {},
   "start_time": "2024-03-28T06:48:31.305137",
   "version": "2.5.0"
  }
 },
 "nbformat": 4,
 "nbformat_minor": 5
}
