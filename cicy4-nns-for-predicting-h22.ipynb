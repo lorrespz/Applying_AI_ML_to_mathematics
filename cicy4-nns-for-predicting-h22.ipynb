{
 "cells": [
  {
   "cell_type": "code",
   "execution_count": 1,
   "id": "b4cca506",
   "metadata": {
    "_cell_guid": "b1076dfc-b9ad-4769-8c92-a6c4dae69d19",
    "_uuid": "8f2839f25d086af736a60e9eeb907d3b93b6e0e5",
    "execution": {
     "iopub.execute_input": "2024-03-17T06:42:16.599347Z",
     "iopub.status.busy": "2024-03-17T06:42:16.598998Z",
     "iopub.status.idle": "2024-03-17T06:42:22.512951Z",
     "shell.execute_reply": "2024-03-17T06:42:22.512088Z"
    },
    "papermill": {
     "duration": 5.926577,
     "end_time": "2024-03-17T06:42:22.515380",
     "exception": false,
     "start_time": "2024-03-17T06:42:16.588803",
     "status": "completed"
    },
    "tags": []
   },
   "outputs": [],
   "source": [
    "import numpy as np\n",
    "import os as os\n",
    "import matplotlib.pyplot as plt\n",
    "import seaborn as sns\n",
    "from datetime import datetime\n",
    "sns.set_style(\"darkgrid\")\n",
    "\n",
    "import torch\n",
    "import torch.nn as nn\n",
    "import torch.nn.functional as F"
   ]
  },
  {
   "cell_type": "code",
   "execution_count": 2,
   "id": "58f8033e",
   "metadata": {
    "execution": {
     "iopub.execute_input": "2024-03-17T06:42:22.534135Z",
     "iopub.status.busy": "2024-03-17T06:42:22.533671Z",
     "iopub.status.idle": "2024-03-17T06:42:46.117378Z",
     "shell.execute_reply": "2024-03-17T06:42:46.116378Z"
    },
    "papermill": {
     "duration": 23.595391,
     "end_time": "2024-03-17T06:42:46.119714",
     "exception": false,
     "start_time": "2024-03-17T06:42:22.524323",
     "status": "completed"
    },
    "tags": []
   },
   "outputs": [
    {
     "data": {
      "text/plain": [
       "((921497, 16, 20), (921497, 4), (921497,))"
      ]
     },
     "execution_count": 2,
     "metadata": {},
     "output_type": "execute_result"
    }
   ],
   "source": [
    "# load data\n",
    "path = '/kaggle/input/calabi-yau-cicy-4-folds'\n",
    "conf = np.load(os.path.join(path, 'conf.npy'))\n",
    "hodge = np.load(os.path.join(path, 'hodge.npy'))\n",
    "direct = np.load(os.path.join(path, 'direct.npy'))\n",
    "conf.shape, hodge.shape, direct.shape"
   ]
  },
  {
   "cell_type": "code",
   "execution_count": 3,
   "id": "71f51077",
   "metadata": {
    "execution": {
     "iopub.execute_input": "2024-03-17T06:42:46.139853Z",
     "iopub.status.busy": "2024-03-17T06:42:46.139061Z",
     "iopub.status.idle": "2024-03-17T06:42:46.143829Z",
     "shell.execute_reply": "2024-03-17T06:42:46.142822Z"
    },
    "papermill": {
     "duration": 0.016727,
     "end_time": "2024-03-17T06:42:46.145775",
     "exception": false,
     "start_time": "2024-03-17T06:42:46.129048",
     "status": "completed"
    },
    "tags": []
   },
   "outputs": [],
   "source": [
    "X = conf\n",
    "h21 = hodge[:,1]\n",
    "h22 = hodge[:,3]\n",
    "h31 = hodge[:,2]"
   ]
  },
  {
   "cell_type": "markdown",
   "id": "4c615952",
   "metadata": {
    "papermill": {
     "duration": 0.008534,
     "end_time": "2024-03-17T06:42:46.163263",
     "exception": false,
     "start_time": "2024-03-17T06:42:46.154729",
     "status": "completed"
    },
    "tags": []
   },
   "source": [
    "# Utility functions: Model, Train Loop, Accuracy"
   ]
  },
  {
   "cell_type": "code",
   "execution_count": 4,
   "id": "24800f64",
   "metadata": {
    "execution": {
     "iopub.execute_input": "2024-03-17T06:42:46.182853Z",
     "iopub.status.busy": "2024-03-17T06:42:46.181998Z",
     "iopub.status.idle": "2024-03-17T06:42:46.186962Z",
     "shell.execute_reply": "2024-03-17T06:42:46.186074Z"
    },
    "papermill": {
     "duration": 0.016929,
     "end_time": "2024-03-17T06:42:46.189044",
     "exception": false,
     "start_time": "2024-03-17T06:42:46.172115",
     "status": "completed"
    },
    "tags": []
   },
   "outputs": [],
   "source": [
    "if not os.path.exists('saved_models'):\n",
    "    os.makedirs('saved_models')"
   ]
  },
  {
   "cell_type": "code",
   "execution_count": 5,
   "id": "ec66573f",
   "metadata": {
    "execution": {
     "iopub.execute_input": "2024-03-17T06:42:46.208193Z",
     "iopub.status.busy": "2024-03-17T06:42:46.207905Z",
     "iopub.status.idle": "2024-03-17T06:42:46.275185Z",
     "shell.execute_reply": "2024-03-17T06:42:46.274274Z"
    },
    "papermill": {
     "duration": 0.079413,
     "end_time": "2024-03-17T06:42:46.277607",
     "exception": false,
     "start_time": "2024-03-17T06:42:46.198194",
     "status": "completed"
    },
    "tags": []
   },
   "outputs": [
    {
     "name": "stdout",
     "output_type": "stream",
     "text": [
      "cuda:0\n"
     ]
    }
   ],
   "source": [
    "device = torch.device(\"cuda:0\" if torch.cuda.is_available() else \"cpu\")\n",
    "print(device)"
   ]
  },
  {
   "cell_type": "code",
   "execution_count": 6,
   "id": "276e98dd",
   "metadata": {
    "execution": {
     "iopub.execute_input": "2024-03-17T06:42:46.298150Z",
     "iopub.status.busy": "2024-03-17T06:42:46.297814Z",
     "iopub.status.idle": "2024-03-17T06:42:46.410844Z",
     "shell.execute_reply": "2024-03-17T06:42:46.409783Z"
    },
    "papermill": {
     "duration": 0.125542,
     "end_time": "2024-03-17T06:42:46.413501",
     "exception": false,
     "start_time": "2024-03-17T06:42:46.287959",
     "status": "completed"
    },
    "tags": []
   },
   "outputs": [],
   "source": [
    "import sys\n",
    "sys.path.append('/kaggle/input/calabi-yau-cicy-4-folds')\n",
    "from CICY4_functions import data_generator, batch_gd,  calc_accuracy"
   ]
  },
  {
   "cell_type": "code",
   "execution_count": 7,
   "id": "95a2ba50",
   "metadata": {
    "execution": {
     "iopub.execute_input": "2024-03-17T06:42:46.432300Z",
     "iopub.status.busy": "2024-03-17T06:42:46.431972Z",
     "iopub.status.idle": "2024-03-17T06:42:46.655166Z",
     "shell.execute_reply": "2024-03-17T06:42:46.654105Z"
    },
    "papermill": {
     "duration": 0.235229,
     "end_time": "2024-03-17T06:42:46.657600",
     "exception": false,
     "start_time": "2024-03-17T06:42:46.422371",
     "status": "completed"
    },
    "tags": []
   },
   "outputs": [],
   "source": [
    "from sklearn.model_selection import train_test_split\n",
    "def train_test(X, y):\n",
    "    X_train,  X_test, y_train, y_test = train_test_split(X, y, test_size = 0.2, random_state = 101, shuffle = True)\n",
    "    \n",
    "    X_train = torch.from_numpy(X_train.astype(np.float32))\n",
    "    y_train = torch.from_numpy(y_train.astype(np.float32).reshape(-1, 1))\n",
    "\n",
    "    X_test = torch.from_numpy(X_test.astype(np.float32))\n",
    "    y_test = torch.from_numpy(y_test.astype(np.float32).reshape(-1, 1))\n",
    "    \n",
    "    print(X_train.shape, y_train.shape, X_test.shape, y_test.shape)\n",
    "    return X_train, X_test, y_train, y_test"
   ]
  },
  {
   "cell_type": "code",
   "execution_count": 8,
   "id": "b04778a2",
   "metadata": {
    "execution": {
     "iopub.execute_input": "2024-03-17T06:42:46.676520Z",
     "iopub.status.busy": "2024-03-17T06:42:46.676180Z",
     "iopub.status.idle": "2024-03-17T06:42:46.681126Z",
     "shell.execute_reply": "2024-03-17T06:42:46.680176Z"
    },
    "papermill": {
     "duration": 0.016814,
     "end_time": "2024-03-17T06:42:46.683274",
     "exception": false,
     "start_time": "2024-03-17T06:42:46.666460",
     "status": "completed"
    },
    "tags": []
   },
   "outputs": [],
   "source": [
    "def plot_losses(train_losses, test_losses):\n",
    "    # Plot the train loss and test loss per iteration\n",
    "    plt.plot(train_losses, label='train loss')\n",
    "    plt.plot(test_losses, label='test loss')\n",
    "    plt.legend()\n",
    "    plt.show()"
   ]
  },
  {
   "cell_type": "code",
   "execution_count": 9,
   "id": "6f9ed607",
   "metadata": {
    "execution": {
     "iopub.execute_input": "2024-03-17T06:42:46.702141Z",
     "iopub.status.busy": "2024-03-17T06:42:46.701500Z",
     "iopub.status.idle": "2024-03-17T06:42:48.014885Z",
     "shell.execute_reply": "2024-03-17T06:42:48.013665Z"
    },
    "papermill": {
     "duration": 1.32519,
     "end_time": "2024-03-17T06:42:48.017154",
     "exception": false,
     "start_time": "2024-03-17T06:42:46.691964",
     "status": "completed"
    },
    "tags": []
   },
   "outputs": [
    {
     "name": "stdout",
     "output_type": "stream",
     "text": [
      "torch.Size([737197, 16, 20]) torch.Size([737197, 1]) torch.Size([184300, 16, 20]) torch.Size([184300, 1])\n"
     ]
    }
   ],
   "source": [
    "X_train, X_test, y_train, y_test = train_test(X, h22)\n",
    "train_gen = lambda: data_generator(X_train, y_train)\n",
    "test_gen = lambda: data_generator(X_test, y_test)"
   ]
  },
  {
   "cell_type": "markdown",
   "id": "4f13eaa0",
   "metadata": {
    "papermill": {
     "duration": 0.008677,
     "end_time": "2024-03-17T06:42:48.035635",
     "exception": false,
     "start_time": "2024-03-17T06:42:48.026958",
     "status": "completed"
    },
    "tags": []
   },
   "source": [
    "# RNN Model for h22 with LSTM layers"
   ]
  },
  {
   "cell_type": "code",
   "execution_count": 10,
   "id": "b358bccd",
   "metadata": {
    "execution": {
     "iopub.execute_input": "2024-03-17T06:42:48.055614Z",
     "iopub.status.busy": "2024-03-17T06:42:48.055216Z",
     "iopub.status.idle": "2024-03-17T06:42:48.066213Z",
     "shell.execute_reply": "2024-03-17T06:42:48.065359Z"
    },
    "papermill": {
     "duration": 0.02328,
     "end_time": "2024-03-17T06:42:48.068127",
     "exception": false,
     "start_time": "2024-03-17T06:42:48.044847",
     "status": "completed"
    },
    "tags": []
   },
   "outputs": [],
   "source": [
    "class RNN_cicy4(nn.Module):\n",
    "    def __init__(self, n_inputs, n_hidden, n_rnnlayers, n_outputs, is_lstm=True):\n",
    "        super(RNN_cicy4,self).__init__()\n",
    "        self.D = n_inputs\n",
    "        self.M = n_hidden\n",
    "        self.K = n_outputs\n",
    "        self.L = n_rnnlayers\n",
    "        self.is_lstm = is_lstm\n",
    "        \n",
    "        self.lstm = nn.LSTM(input_size = self.D,\n",
    "                           hidden_size = self.M,\n",
    "                           num_layers = self.L,\n",
    "                           batch_first = True)\n",
    "        \n",
    "        self.gru = nn.GRU(input_size = self.D,\n",
    "                           hidden_size = self.M,\n",
    "                           num_layers = self.L,\n",
    "                           batch_first = True)\n",
    "        self.fc1 = nn.Linear(self.M, 128)\n",
    "        self.fc2 = nn.Linear(128, self.K)\n",
    "       \n",
    "    def forward(self, X):\n",
    "        #input X is NxTxD\n",
    "        #initial hidden states\n",
    "        h0 = torch.zeros(self.L, X.size(0), self.M).to(device)\n",
    "        c0 = torch.zeros(self.L, X.size(0), self.M).to(device)\n",
    "        #get LSTM unit output:\n",
    "        #output is NxTxM\n",
    "        if self.is_lstm:\n",
    "            out, _ = self.lstm(X, (h0,c0))\n",
    "        else:\n",
    "            out, _ = self.gru(X, h0)\n",
    "        \n",
    "        #we only want h(T) at the final time step\n",
    "        out = out[:, -1, :]\n",
    "        out = F.relu(self.fc1(out))\n",
    "        out = self.fc2(out)\n",
    "\n",
    "        return out"
   ]
  },
  {
   "cell_type": "code",
   "execution_count": 11,
   "id": "0a10901d",
   "metadata": {
    "execution": {
     "iopub.execute_input": "2024-03-17T06:42:48.087513Z",
     "iopub.status.busy": "2024-03-17T06:42:48.087183Z",
     "iopub.status.idle": "2024-03-17T06:42:48.426758Z",
     "shell.execute_reply": "2024-03-17T06:42:48.425721Z"
    },
    "papermill": {
     "duration": 0.351716,
     "end_time": "2024-03-17T06:42:48.428908",
     "exception": false,
     "start_time": "2024-03-17T06:42:48.077192",
     "status": "completed"
    },
    "tags": []
   },
   "outputs": [
    {
     "data": {
      "text/plain": [
       "RNN_cicy4(\n",
       "  (lstm): LSTM(20, 64, num_layers=3, batch_first=True)\n",
       "  (gru): GRU(20, 64, num_layers=3, batch_first=True)\n",
       "  (fc1): Linear(in_features=64, out_features=128, bias=True)\n",
       "  (fc2): Linear(in_features=128, out_features=1, bias=True)\n",
       ")"
      ]
     },
     "execution_count": 11,
     "metadata": {},
     "output_type": "execute_result"
    }
   ],
   "source": [
    "# ( n_inputs, n_hidden, n_rnnlayers, n_outputs)\n",
    "# n_inputs = D = # of columns: 20, T = 16\n",
    "#input shape is NxTxD: Nx16x20\n",
    "model1 = RNN_cicy4(20, 64, 3, 1 )\n",
    "model1.to(device)"
   ]
  },
  {
   "cell_type": "code",
   "execution_count": 12,
   "id": "a712ed69",
   "metadata": {
    "execution": {
     "iopub.execute_input": "2024-03-17T06:42:48.448685Z",
     "iopub.status.busy": "2024-03-17T06:42:48.448348Z",
     "iopub.status.idle": "2024-03-17T06:42:48.454314Z",
     "shell.execute_reply": "2024-03-17T06:42:48.453187Z"
    },
    "papermill": {
     "duration": 0.017826,
     "end_time": "2024-03-17T06:42:48.456152",
     "exception": false,
     "start_time": "2024-03-17T06:42:48.438326",
     "status": "completed"
    },
    "tags": []
   },
   "outputs": [
    {
     "name": "stdout",
     "output_type": "stream",
     "text": [
      "[5120, 16384, 256, 256, 16384, 16384, 256, 256, 16384, 16384, 256, 256, 3840, 12288, 192, 192, 12288, 12288, 192, 192, 12288, 12288, 192, 192, 8192, 128, 128, 1]\n",
      "Total number of parameters is 163457\n"
     ]
    }
   ],
   "source": [
    "#count the number of parameters in the model\n",
    "params = [p.numel() for p in model1.parameters() if p.requires_grad]\n",
    "#for item in params:\n",
    "#    print(f'{item:>8}')\n",
    "#print(f'________\\n{sum(params):>8}')\n",
    "print(params)\n",
    "print(f'Total number of parameters is {sum(params)}')"
   ]
  },
  {
   "cell_type": "markdown",
   "id": "8a429d01",
   "metadata": {
    "papermill": {
     "duration": 0.008775,
     "end_time": "2024-03-17T06:42:48.474598",
     "exception": false,
     "start_time": "2024-03-17T06:42:48.465823",
     "status": "completed"
    },
    "tags": []
   },
   "source": [
    "## Shape tracing"
   ]
  },
  {
   "cell_type": "code",
   "execution_count": 13,
   "id": "f451efc3",
   "metadata": {
    "execution": {
     "iopub.execute_input": "2024-03-17T06:42:48.493968Z",
     "iopub.status.busy": "2024-03-17T06:42:48.493644Z",
     "iopub.status.idle": "2024-03-17T06:42:48.636383Z",
     "shell.execute_reply": "2024-03-17T06:42:48.635386Z"
    },
    "papermill": {
     "duration": 0.155501,
     "end_time": "2024-03-17T06:42:48.638902",
     "exception": false,
     "start_time": "2024-03-17T06:42:48.483401",
     "status": "completed"
    },
    "tags": []
   },
   "outputs": [
    {
     "name": "stdout",
     "output_type": "stream",
     "text": [
      "Original shape of the image before passing through the network: \n",
      " torch.Size([16, 20])\n",
      "\n",
      "Reshape the size to take in account the batch number\n",
      "The new size is torch.Size([1, 16, 20])\n",
      "\n",
      "Hidden states h0, c0: (torch.Size([3, 1, 64]), torch.Size([3, 1, 64]))\n",
      "Shape of the image after passing through the LSTM(20, 64, num_layers=3, batch_first=True): \n",
      " torch.Size([1, 16, 64])\n",
      "\n",
      "Shape of the image after passing through the Linear(in_features=64, out_features=128, bias=True): \n",
      " torch.Size([1, 16, 128])\n",
      "\n",
      "Shape of the image after passing through the Linear(in_features=64, out_features=128, bias=True): \n",
      " torch.Size([1, 16, 1])\n",
      "\n"
     ]
    }
   ],
   "source": [
    "X = X_train[0].to(device)\n",
    "print(f'Original shape of the image before passing through the network: \\n {X.shape}\\n')\n",
    "print('Reshape the size to take in account the batch number')\n",
    "X = X.view(1,16,20)\n",
    "print(f'The new size is {X.shape}\\n')\n",
    "\n",
    " #initial hidden states\n",
    "h0 = torch.zeros(model1.L, X.size(0), model1.M).to(device)\n",
    "c0 = torch.zeros(model1.L, X.size(0), model1.M).to(device)\n",
    "print(f'Hidden states h0, c0: {h0.shape, c0.shape}')\n",
    "\n",
    "X, _ = model1.lstm(X, (h0, c0))\n",
    "print(f'Shape of the image after passing through the {model1.lstm}: \\n {X.shape}\\n')\n",
    "\n",
    "X = model1.fc1(X)\n",
    "print(f'Shape of the image after passing through the {model1.fc1}: \\n {X.shape}\\n')\n",
    "\n",
    "X = model1.fc2(X)\n",
    "print(f'Shape of the image after passing through the {model1.fc1}: \\n {X.shape}\\n')"
   ]
  },
  {
   "cell_type": "markdown",
   "id": "72211797",
   "metadata": {
    "papermill": {
     "duration": 0.009563,
     "end_time": "2024-03-17T06:42:48.658045",
     "exception": false,
     "start_time": "2024-03-17T06:42:48.648482",
     "status": "completed"
    },
    "tags": []
   },
   "source": [
    "## Training loop"
   ]
  },
  {
   "cell_type": "code",
   "execution_count": 14,
   "id": "7ce09462",
   "metadata": {
    "execution": {
     "iopub.execute_input": "2024-03-17T06:42:48.678371Z",
     "iopub.status.busy": "2024-03-17T06:42:48.678033Z",
     "iopub.status.idle": "2024-03-17T06:42:51.345583Z",
     "shell.execute_reply": "2024-03-17T06:42:51.344481Z"
    },
    "papermill": {
     "duration": 2.680515,
     "end_time": "2024-03-17T06:42:51.348089",
     "exception": false,
     "start_time": "2024-03-17T06:42:48.667574",
     "status": "completed"
    },
    "tags": []
   },
   "outputs": [],
   "source": [
    "criterion = nn.MSELoss()\n",
    "optimizer = torch.optim.Adam(model1.parameters())"
   ]
  },
  {
   "cell_type": "code",
   "execution_count": 15,
   "id": "1aba8994",
   "metadata": {
    "execution": {
     "iopub.execute_input": "2024-03-17T06:42:51.368889Z",
     "iopub.status.busy": "2024-03-17T06:42:51.368426Z",
     "iopub.status.idle": "2024-03-17T07:06:43.229465Z",
     "shell.execute_reply": "2024-03-17T07:06:43.228449Z"
    },
    "papermill": {
     "duration": 1431.890872,
     "end_time": "2024-03-17T07:06:43.248748",
     "exception": false,
     "start_time": "2024-03-17T06:42:51.357876",
     "status": "completed"
    },
    "tags": []
   },
   "outputs": [
    {
     "name": "stdout",
     "output_type": "stream",
     "text": [
      "Epoch: 1/80, train loss:  4353.6701          test_loss:  3394.3689, duration: 0:00:18.505854\n",
      "Epoch: 2/80, train loss:  3401.1026          test_loss:  3419.2619, duration: 0:00:17.978214\n",
      "Epoch: 3/80, train loss:  3400.9504          test_loss:  3410.0336, duration: 0:00:17.904490\n",
      "Epoch: 4/80, train loss:  3401.4491          test_loss:  3395.5761, duration: 0:00:18.147251\n",
      "Epoch: 5/80, train loss:  3175.3711          test_loss:  2720.4834, duration: 0:00:18.048437\n",
      "Epoch: 6/80, train loss:  2104.8231          test_loss:  1664.4761, duration: 0:00:17.868774\n",
      "Epoch: 7/80, train loss:  1514.6066          test_loss:  1293.0851, duration: 0:00:17.954043\n",
      "Epoch: 8/80, train loss:  1141.3075          test_loss:  898.0446, duration: 0:00:18.093684\n",
      "Epoch: 9/80, train loss:  829.5378          test_loss:  682.4810, duration: 0:00:18.034457\n",
      "Epoch: 10/80, train loss:  627.4464          test_loss:  611.9676, duration: 0:00:17.815050\n",
      "Epoch: 11/80, train loss:  525.0511          test_loss:  476.3854, duration: 0:00:18.028345\n",
      "Epoch: 12/80, train loss:  472.6403          test_loss:  388.8255, duration: 0:00:18.331652\n",
      "Epoch: 13/80, train loss:  374.7497          test_loss:  295.8337, duration: 0:00:17.950024\n",
      "Epoch: 14/80, train loss:  320.4484          test_loss:  281.8019, duration: 0:00:17.846510\n",
      "Epoch: 15/80, train loss:  276.8050          test_loss:  241.2438, duration: 0:00:18.110395\n",
      "Epoch: 16/80, train loss:  267.6353          test_loss:  297.5326, duration: 0:00:17.955479\n",
      "Epoch: 17/80, train loss:  236.3663          test_loss:  199.3544, duration: 0:00:18.151034\n",
      "Epoch: 18/80, train loss:  214.6500          test_loss:  200.3239, duration: 0:00:18.016524\n",
      "Epoch: 19/80, train loss:  195.6137          test_loss:  182.9947, duration: 0:00:17.911287\n",
      "Epoch: 20/80, train loss:  179.4198          test_loss:  169.5233, duration: 0:00:18.111534\n",
      "Epoch: 21/80, train loss:  173.3606          test_loss:  153.2135, duration: 0:00:17.862860\n",
      "Epoch: 22/80, train loss:  186.8496          test_loss:  167.6558, duration: 0:00:18.090125\n",
      "Epoch: 23/80, train loss:  150.4840          test_loss:  143.9648, duration: 0:00:17.791475\n",
      "Epoch: 24/80, train loss:  143.6495          test_loss:  156.9404, duration: 0:00:17.876046\n",
      "Epoch: 25/80, train loss:  138.6353          test_loss:  140.5159, duration: 0:00:17.773732\n",
      "Epoch: 26/80, train loss:  140.7026          test_loss:  128.6988, duration: 0:00:17.744539\n",
      "Epoch: 27/80, train loss:  122.3650          test_loss:  134.2077, duration: 0:00:17.968379\n",
      "Epoch: 28/80, train loss:  117.4658          test_loss:  134.6608, duration: 0:00:17.914376\n",
      "Epoch: 29/80, train loss:  115.0606          test_loss:  136.0475, duration: 0:00:17.911645\n",
      "Epoch: 30/80, train loss:  121.6230          test_loss:  108.9064, duration: 0:00:17.881386\n",
      "Epoch: 31/80, train loss:  102.7299          test_loss:  103.9834, duration: 0:00:17.962136\n",
      "Epoch: 32/80, train loss:  109.0607          test_loss:  95.6680, duration: 0:00:17.935878\n",
      "Epoch: 33/80, train loss:  102.1004          test_loss:  94.6896, duration: 0:00:17.855385\n",
      "Epoch: 34/80, train loss:  100.9979          test_loss:  111.6778, duration: 0:00:18.113067\n",
      "Epoch: 35/80, train loss:  93.3332          test_loss:  93.7474, duration: 0:00:17.767975\n",
      "Epoch: 36/80, train loss:  97.3807          test_loss:  108.9759, duration: 0:00:17.843159\n",
      "Epoch: 37/80, train loss:  91.8380          test_loss:  90.3436, duration: 0:00:17.773899\n",
      "Epoch: 38/80, train loss:  90.0824          test_loss:  86.9166, duration: 0:00:17.900648\n",
      "Epoch: 39/80, train loss:  91.3730          test_loss:  81.0246, duration: 0:00:18.034859\n",
      "Epoch: 40/80, train loss:  86.1315          test_loss:  109.3672, duration: 0:00:17.774874\n",
      "Epoch: 41/80, train loss:  87.2532          test_loss:  81.0476, duration: 0:00:17.839585\n",
      "Epoch: 42/80, train loss:  79.8987          test_loss:  80.5772, duration: 0:00:17.733071\n",
      "Epoch: 43/80, train loss:  78.6737          test_loss:  75.9700, duration: 0:00:17.970881\n",
      "Epoch: 44/80, train loss:  78.4483          test_loss:  85.4649, duration: 0:00:17.710356\n",
      "Epoch: 45/80, train loss:  75.5417          test_loss:  74.1678, duration: 0:00:17.895915\n",
      "Epoch: 46/80, train loss:  76.4845          test_loss:  102.1064, duration: 0:00:17.914953\n",
      "Epoch: 47/80, train loss:  74.9402          test_loss:  73.5612, duration: 0:00:17.792964\n",
      "Epoch: 48/80, train loss:  69.3218          test_loss:  176.4359, duration: 0:00:17.841936\n",
      "Epoch: 49/80, train loss:  67.7925          test_loss:  81.5155, duration: 0:00:17.685242\n",
      "Epoch: 50/80, train loss:  66.6859          test_loss:  68.7115, duration: 0:00:17.783265\n",
      "Epoch: 51/80, train loss:  72.8808          test_loss:  65.2331, duration: 0:00:17.659188\n",
      "Epoch: 52/80, train loss:  64.6805          test_loss:  74.4275, duration: 0:00:17.794392\n",
      "Epoch: 53/80, train loss:  68.0781          test_loss:  63.4942, duration: 0:00:17.795216\n",
      "Epoch: 54/80, train loss:  60.1716          test_loss:  66.9886, duration: 0:00:17.722996\n",
      "Epoch: 55/80, train loss:  70.2245          test_loss:  60.1373, duration: 0:00:17.832382\n",
      "Epoch: 56/80, train loss:  59.2419          test_loss:  60.1558, duration: 0:00:17.749438\n",
      "Epoch: 57/80, train loss:  76.7851          test_loss:  78.5256, duration: 0:00:17.962754\n",
      "Epoch: 58/80, train loss:  56.8244          test_loss:  68.2177, duration: 0:00:17.744480\n",
      "Epoch: 59/80, train loss:  59.0336          test_loss:  60.2767, duration: 0:00:17.875382\n",
      "Epoch: 60/80, train loss:  58.5804          test_loss:  71.8847, duration: 0:00:17.938504\n",
      "Epoch: 61/80, train loss:  57.0005          test_loss:  60.6334, duration: 0:00:17.921765\n",
      "Epoch: 62/80, train loss:  57.4475          test_loss:  66.2991, duration: 0:00:17.995919\n",
      "Epoch: 63/80, train loss:  52.0324          test_loss:  59.0045, duration: 0:00:17.666511\n",
      "Epoch: 64/80, train loss:  51.4953          test_loss:  61.0950, duration: 0:00:17.911057\n",
      "Epoch: 65/80, train loss:  61.6132          test_loss:  55.5854, duration: 0:00:17.760660\n",
      "Epoch: 66/80, train loss:  55.4826          test_loss:  54.5246, duration: 0:00:17.874191\n",
      "Epoch: 67/80, train loss:  53.4026          test_loss:  55.9537, duration: 0:00:17.782720\n",
      "Epoch: 68/80, train loss:  51.3224          test_loss:  53.9309, duration: 0:00:17.756468\n",
      "Epoch: 69/80, train loss:  54.6179          test_loss:  54.3293, duration: 0:00:17.950841\n",
      "Epoch: 70/80, train loss:  49.3430          test_loss:  54.6871, duration: 0:00:17.653626\n",
      "Epoch: 71/80, train loss:  51.0963          test_loss:  56.4968, duration: 0:00:17.821052\n",
      "Epoch: 72/80, train loss:  47.8527          test_loss:  59.6915, duration: 0:00:17.743900\n",
      "Epoch: 73/80, train loss:  61.2734          test_loss:  59.3639, duration: 0:00:17.733565\n",
      "Epoch: 74/80, train loss:  51.4789          test_loss:  54.9732, duration: 0:00:17.933707\n",
      "Epoch: 75/80, train loss:  49.4858          test_loss:  51.7812, duration: 0:00:17.875446\n",
      "Epoch: 76/80, train loss:  45.2154          test_loss:  60.6291, duration: 0:00:17.925827\n",
      "Epoch: 77/80, train loss:  43.9943          test_loss:  53.5626, duration: 0:00:17.777317\n",
      "Epoch: 78/80, train loss:  43.6315          test_loss:  47.1902, duration: 0:00:18.020651\n",
      "Epoch: 79/80, train loss:  44.6200          test_loss:  83.4913, duration: 0:00:17.761734\n",
      "Epoch: 80/80, train loss:  47.5440          test_loss:  55.0409, duration: 0:00:18.196407\n"
     ]
    }
   ],
   "source": [
    "train_losses, test_losses=batch_gd(model1, criterion, optimizer,train_gen, test_gen, 80, device = device, cnn=False)"
   ]
  },
  {
   "cell_type": "code",
   "execution_count": 16,
   "id": "05226804",
   "metadata": {
    "execution": {
     "iopub.execute_input": "2024-03-17T07:06:43.285483Z",
     "iopub.status.busy": "2024-03-17T07:06:43.285070Z",
     "iopub.status.idle": "2024-03-17T07:06:43.688604Z",
     "shell.execute_reply": "2024-03-17T07:06:43.687533Z"
    },
    "papermill": {
     "duration": 0.424668,
     "end_time": "2024-03-17T07:06:43.690859",
     "exception": false,
     "start_time": "2024-03-17T07:06:43.266191",
     "status": "completed"
    },
    "tags": []
   },
   "outputs": [
    {
     "data": {
      "image/png": "[encoded data removed]",
      "text/plain": [
       "<Figure size 640x480 with 1 Axes>"
      ]
     },
     "metadata": {},
     "output_type": "display_data"
    }
   ],
   "source": [
    "plot_losses(train_losses, test_losses)"
   ]
  },
  {
   "cell_type": "code",
   "execution_count": 17,
   "id": "0d9dcfc4",
   "metadata": {
    "execution": {
     "iopub.execute_input": "2024-03-17T07:06:43.727041Z",
     "iopub.status.busy": "2024-03-17T07:06:43.726215Z",
     "iopub.status.idle": "2024-03-17T07:06:51.224190Z",
     "shell.execute_reply": "2024-03-17T07:06:51.223258Z"
    },
    "papermill": {
     "duration": 7.518262,
     "end_time": "2024-03-17T07:06:51.226299",
     "exception": false,
     "start_time": "2024-03-17T07:06:43.708037",
     "status": "completed"
    },
    "tags": []
   },
   "outputs": [
    {
     "name": "stdout",
     "output_type": "stream",
     "text": [
      "Train acc: 0.1009, Test acc: 0.0996\n"
     ]
    }
   ],
   "source": [
    "train_acc, test_acc = calc_accuracy(model1, train_gen, test_gen, device = device, cnn= False)\n",
    "print(f\"Train acc: {train_acc:.4f}, Test acc: {test_acc:.4f}\")"
   ]
  },
  {
   "cell_type": "code",
   "execution_count": 18,
   "id": "81b6757e",
   "metadata": {
    "execution": {
     "iopub.execute_input": "2024-03-17T07:06:51.263345Z",
     "iopub.status.busy": "2024-03-17T07:06:51.262657Z",
     "iopub.status.idle": "2024-03-17T07:06:51.273487Z",
     "shell.execute_reply": "2024-03-17T07:06:51.272686Z"
    },
    "papermill": {
     "duration": 0.030785,
     "end_time": "2024-03-17T07:06:51.275973",
     "exception": false,
     "start_time": "2024-03-17T07:06:51.245188",
     "status": "completed"
    },
    "tags": []
   },
   "outputs": [],
   "source": [
    "torch.save(model1, '/kaggle/working/saved_models/LSTM_cicy4_h22.pt')"
   ]
  },
  {
   "cell_type": "markdown",
   "id": "a9c4613c",
   "metadata": {
    "papermill": {
     "duration": 0.015382,
     "end_time": "2024-03-17T07:06:51.307638",
     "exception": false,
     "start_time": "2024-03-17T07:06:51.292256",
     "status": "completed"
    },
    "tags": []
   },
   "source": [
    "# CNN Model for h22 "
   ]
  },
  {
   "cell_type": "code",
   "execution_count": 19,
   "id": "94f07d3e",
   "metadata": {
    "execution": {
     "iopub.execute_input": "2024-03-17T07:06:51.342345Z",
     "iopub.status.busy": "2024-03-17T07:06:51.341769Z",
     "iopub.status.idle": "2024-03-17T07:06:51.350423Z",
     "shell.execute_reply": "2024-03-17T07:06:51.349491Z"
    },
    "papermill": {
     "duration": 0.028567,
     "end_time": "2024-03-17T07:06:51.352478",
     "exception": false,
     "start_time": "2024-03-17T07:06:51.323911",
     "status": "completed"
    },
    "tags": []
   },
   "outputs": [],
   "source": [
    "#same as CNN for h11\n",
    "class CNN_cicy4(nn.Module):\n",
    "    \n",
    "    def __init__(self):\n",
    "        super().__init__()\n",
    "        self.conv1 = nn.Conv2d(1,128, 4, 1)\n",
    "        self.conv2 = nn.Conv2d(128,64, 3, 1)\n",
    "        self.mxpool = nn.MaxPool2d(2,2)\n",
    "        self.flat = nn.Flatten()\n",
    "        self.conv_total = nn.Sequential(\n",
    "            self.conv1,\n",
    "            self.mxpool,\n",
    "            self.conv2,\n",
    "            self.mxpool,\n",
    "        )\n",
    "        self.linear1 = nn.Linear(384,512)\n",
    "        self.linear2 = nn.Linear(512,128)\n",
    "        self.linear3 = nn.Linear(128,1)\n",
    "\n",
    "\n",
    "    def forward(self,x):\n",
    "        x = F.relu(self.conv_total(x))\n",
    "        x = self.flat(x)\n",
    "        x = F.relu(self.linear1(x))\n",
    "        x = F.relu(self.linear2(x))\n",
    "        x = self.linear3(x)\n",
    "        \n",
    "        return x\n"
   ]
  },
  {
   "cell_type": "code",
   "execution_count": 20,
   "id": "33ddac6a",
   "metadata": {
    "execution": {
     "iopub.execute_input": "2024-03-17T07:06:51.386002Z",
     "iopub.status.busy": "2024-03-17T07:06:51.385413Z",
     "iopub.status.idle": "2024-03-17T07:06:51.397069Z",
     "shell.execute_reply": "2024-03-17T07:06:51.396054Z"
    },
    "papermill": {
     "duration": 0.031087,
     "end_time": "2024-03-17T07:06:51.399168",
     "exception": false,
     "start_time": "2024-03-17T07:06:51.368081",
     "status": "completed"
    },
    "tags": []
   },
   "outputs": [
    {
     "data": {
      "text/plain": [
       "CNN_cicy4(\n",
       "  (conv1): Conv2d(1, 128, kernel_size=(4, 4), stride=(1, 1))\n",
       "  (conv2): Conv2d(128, 64, kernel_size=(3, 3), stride=(1, 1))\n",
       "  (mxpool): MaxPool2d(kernel_size=2, stride=2, padding=0, dilation=1, ceil_mode=False)\n",
       "  (flat): Flatten(start_dim=1, end_dim=-1)\n",
       "  (conv_total): Sequential(\n",
       "    (0): Conv2d(1, 128, kernel_size=(4, 4), stride=(1, 1))\n",
       "    (1): MaxPool2d(kernel_size=2, stride=2, padding=0, dilation=1, ceil_mode=False)\n",
       "    (2): Conv2d(128, 64, kernel_size=(3, 3), stride=(1, 1))\n",
       "    (3): MaxPool2d(kernel_size=2, stride=2, padding=0, dilation=1, ceil_mode=False)\n",
       "  )\n",
       "  (linear1): Linear(in_features=384, out_features=512, bias=True)\n",
       "  (linear2): Linear(in_features=512, out_features=128, bias=True)\n",
       "  (linear3): Linear(in_features=128, out_features=1, bias=True)\n",
       ")"
      ]
     },
     "execution_count": 20,
     "metadata": {},
     "output_type": "execute_result"
    }
   ],
   "source": [
    "# ( n_inputs, n_hidden, n_rnnlayers, n_outputs)\n",
    "# n_inputs = D = # of columns: 20, T = 16\n",
    "#input shape is NxTxD: Nx16x20\n",
    "model2 = CNN_cicy4()\n",
    "model2.to(device)"
   ]
  },
  {
   "cell_type": "code",
   "execution_count": 21,
   "id": "9dd564bd",
   "metadata": {
    "execution": {
     "iopub.execute_input": "2024-03-17T07:06:51.433899Z",
     "iopub.status.busy": "2024-03-17T07:06:51.433615Z",
     "iopub.status.idle": "2024-03-17T07:06:51.438837Z",
     "shell.execute_reply": "2024-03-17T07:06:51.437810Z"
    },
    "papermill": {
     "duration": 0.025248,
     "end_time": "2024-03-17T07:06:51.441061",
     "exception": false,
     "start_time": "2024-03-17T07:06:51.415813",
     "status": "completed"
    },
    "tags": []
   },
   "outputs": [
    {
     "name": "stdout",
     "output_type": "stream",
     "text": [
      "[2048, 128, 73728, 64, 196608, 512, 65536, 128, 128, 1]\n",
      "Total number of parameters is 338881\n"
     ]
    }
   ],
   "source": [
    "#count the number of parameters in the model\n",
    "params = [p.numel() for p in model2.parameters() if p.requires_grad]\n",
    "print(params)\n",
    "print(f'Total number of parameters is {sum(params)}')"
   ]
  },
  {
   "cell_type": "code",
   "execution_count": 22,
   "id": "c3706cc6",
   "metadata": {
    "execution": {
     "iopub.execute_input": "2024-03-17T07:06:51.475595Z",
     "iopub.status.busy": "2024-03-17T07:06:51.475332Z",
     "iopub.status.idle": "2024-03-17T07:06:51.895845Z",
     "shell.execute_reply": "2024-03-17T07:06:51.894701Z"
    },
    "papermill": {
     "duration": 0.440708,
     "end_time": "2024-03-17T07:06:51.898380",
     "exception": false,
     "start_time": "2024-03-17T07:06:51.457672",
     "status": "completed"
    },
    "tags": []
   },
   "outputs": [
    {
     "name": "stdout",
     "output_type": "stream",
     "text": [
      "Original shape of the image before passing through the network: \n",
      " torch.Size([16, 20])\n",
      "\n",
      "Reshape the size to take in account the batch number\n",
      "The new size is torch.Size([1, 1, 16, 20])\n",
      "\n",
      "Shape of the image after passing through Sequential(\n",
      "  (0): Conv2d(1, 128, kernel_size=(4, 4), stride=(1, 1))\n",
      "  (1): MaxPool2d(kernel_size=2, stride=2, padding=0, dilation=1, ceil_mode=False)\n",
      "  (2): Conv2d(128, 64, kernel_size=(3, 3), stride=(1, 1))\n",
      "  (3): MaxPool2d(kernel_size=2, stride=2, padding=0, dilation=1, ceil_mode=False)\n",
      "): \n",
      " torch.Size([1, 64, 2, 3])\n",
      "\n",
      "Shape of the image after passing through Flatten(start_dim=1, end_dim=-1): \n",
      " torch.Size([1, 384])\n",
      "\n",
      "Shape of the image after passing through  Linear(in_features=384, out_features=512, bias=True): \n",
      " torch.Size([1, 512])\n",
      "\n",
      "Shape of the image after passing through Linear(in_features=512, out_features=128, bias=True): \n",
      " torch.Size([1, 128])\n",
      "\n",
      "Shape of the image after passing through Linear(in_features=128, out_features=1, bias=True): \n",
      " torch.Size([1, 1])\n",
      "\n"
     ]
    }
   ],
   "source": [
    "X= X_train[0].to(device)\n",
    "print(f'Original shape of the image before passing through the network: \\n {X.shape}\\n')\n",
    "print('Reshape the size to take in account the batch number')\n",
    "X = X.view(1,1,16,20)\n",
    "print(f'The new size is {X.shape}\\n')\n",
    "\n",
    "X = model2.conv_total(X)\n",
    "print(f'Shape of the image after passing through {model2.conv_total}: \\n {X.shape}\\n')\n",
    "\n",
    "X = model2.flat(X)\n",
    "print(f'Shape of the image after passing through {model2.flat}: \\n {X.shape}\\n')\n",
    "\n",
    "X = model2.linear1(X)\n",
    "print(f'Shape of the image after passing through  {model2.linear1}: \\n {X.shape}\\n')\n",
    "\n",
    "X = model2.linear2(X)\n",
    "print(f'Shape of the image after passing through {model2.linear2}: \\n {X.shape}\\n')\n",
    "\n",
    "X = model2.linear3(X)\n",
    "print(f'Shape of the image after passing through {model2.linear3}: \\n {X.shape}\\n')"
   ]
  },
  {
   "cell_type": "markdown",
   "id": "1b7fc3a5",
   "metadata": {
    "papermill": {
     "duration": 0.017205,
     "end_time": "2024-03-17T07:06:51.933389",
     "exception": false,
     "start_time": "2024-03-17T07:06:51.916184",
     "status": "completed"
    },
    "tags": []
   },
   "source": [
    "## Training Loop"
   ]
  },
  {
   "cell_type": "code",
   "execution_count": 23,
   "id": "31b6d980",
   "metadata": {
    "execution": {
     "iopub.execute_input": "2024-03-17T07:06:51.968763Z",
     "iopub.status.busy": "2024-03-17T07:06:51.968200Z",
     "iopub.status.idle": "2024-03-17T07:06:51.974321Z",
     "shell.execute_reply": "2024-03-17T07:06:51.973574Z"
    },
    "papermill": {
     "duration": 0.02572,
     "end_time": "2024-03-17T07:06:51.976210",
     "exception": false,
     "start_time": "2024-03-17T07:06:51.950490",
     "status": "completed"
    },
    "tags": []
   },
   "outputs": [],
   "source": [
    "criterion = nn.MSELoss()\n",
    "optimizer = torch.optim.Adam(model2.parameters())"
   ]
  },
  {
   "cell_type": "code",
   "execution_count": 24,
   "id": "b1081c77",
   "metadata": {
    "execution": {
     "iopub.execute_input": "2024-03-17T07:06:52.011795Z",
     "iopub.status.busy": "2024-03-17T07:06:52.011488Z",
     "iopub.status.idle": "2024-03-17T07:29:11.775432Z",
     "shell.execute_reply": "2024-03-17T07:29:11.774288Z"
    },
    "papermill": {
     "duration": 1339.80601,
     "end_time": "2024-03-17T07:29:11.799350",
     "exception": false,
     "start_time": "2024-03-17T07:06:51.993340",
     "status": "completed"
    },
    "tags": []
   },
   "outputs": [
    {
     "name": "stdout",
     "output_type": "stream",
     "text": [
      "Epoch: 1/80, train loss:  2565.0293          test_loss:  2017.8555, duration: 0:00:17.321060\n",
      "Epoch: 2/80, train loss:  1817.2849          test_loss:  1483.1138, duration: 0:00:16.824621\n",
      "Epoch: 3/80, train loss:  1136.7165          test_loss:  884.4423, duration: 0:00:17.023267\n",
      "Epoch: 4/80, train loss:  819.0422          test_loss:  767.8747, duration: 0:00:16.890808\n",
      "Epoch: 5/80, train loss:  649.0496          test_loss:  563.8293, duration: 0:00:16.902751\n",
      "Epoch: 6/80, train loss:  545.8984          test_loss:  519.5619, duration: 0:00:16.810793\n",
      "Epoch: 7/80, train loss:  473.4822          test_loss:  447.7584, duration: 0:00:16.842631\n",
      "Epoch: 8/80, train loss:  413.5579          test_loss:  398.2149, duration: 0:00:16.817073\n",
      "Epoch: 9/80, train loss:  365.7753          test_loss:  359.3526, duration: 0:00:16.691536\n",
      "Epoch: 10/80, train loss:  330.8578          test_loss:  331.2160, duration: 0:00:16.725822\n",
      "Epoch: 11/80, train loss:  306.3070          test_loss:  327.6748, duration: 0:00:16.732707\n",
      "Epoch: 12/80, train loss:  282.4626          test_loss:  338.8990, duration: 0:00:16.901325\n",
      "Epoch: 13/80, train loss:  265.0581          test_loss:  291.6957, duration: 0:00:16.743209\n",
      "Epoch: 14/80, train loss:  252.5890          test_loss:  280.7499, duration: 0:00:16.875981\n",
      "Epoch: 15/80, train loss:  240.6318          test_loss:  263.5557, duration: 0:00:16.827263\n",
      "Epoch: 16/80, train loss:  230.7610          test_loss:  265.4699, duration: 0:00:16.808828\n",
      "Epoch: 17/80, train loss:  222.0906          test_loss:  245.7127, duration: 0:00:16.772001\n",
      "Epoch: 18/80, train loss:  213.2473          test_loss:  237.2277, duration: 0:00:16.849756\n",
      "Epoch: 19/80, train loss:  208.1790          test_loss:  273.1156, duration: 0:00:16.792329\n",
      "Epoch: 20/80, train loss:  202.6674          test_loss:  241.0145, duration: 0:00:16.766730\n",
      "Epoch: 21/80, train loss:  197.6989          test_loss:  257.0661, duration: 0:00:16.735760\n",
      "Epoch: 22/80, train loss:  191.2992          test_loss:  212.9162, duration: 0:00:16.868402\n",
      "Epoch: 23/80, train loss:  187.5025          test_loss:  211.0863, duration: 0:00:16.699912\n",
      "Epoch: 24/80, train loss:  183.9645          test_loss:  223.0096, duration: 0:00:16.656266\n",
      "Epoch: 25/80, train loss:  178.3679          test_loss:  221.1552, duration: 0:00:16.783405\n",
      "Epoch: 26/80, train loss:  176.7559          test_loss:  215.5232, duration: 0:00:16.775103\n",
      "Epoch: 27/80, train loss:  172.8036          test_loss:  199.6041, duration: 0:00:16.759494\n",
      "Epoch: 28/80, train loss:  168.8779          test_loss:  208.5753, duration: 0:00:16.750906\n",
      "Epoch: 29/80, train loss:  166.2455          test_loss:  206.3538, duration: 0:00:16.832028\n",
      "Epoch: 30/80, train loss:  161.7407          test_loss:  202.8830, duration: 0:00:16.835081\n",
      "Epoch: 31/80, train loss:  161.3047          test_loss:  226.3031, duration: 0:00:16.713886\n",
      "Epoch: 32/80, train loss:  158.2212          test_loss:  209.8934, duration: 0:00:16.608683\n",
      "Epoch: 33/80, train loss:  157.2709          test_loss:  202.6305, duration: 0:00:16.707490\n",
      "Epoch: 34/80, train loss:  153.7216          test_loss:  187.6286, duration: 0:00:16.713718\n",
      "Epoch: 35/80, train loss:  151.9425          test_loss:  221.2085, duration: 0:00:16.706179\n",
      "Epoch: 36/80, train loss:  149.2383          test_loss:  194.0049, duration: 0:00:16.778085\n",
      "Epoch: 37/80, train loss:  148.7127          test_loss:  205.1955, duration: 0:00:16.644945\n",
      "Epoch: 38/80, train loss:  146.5487          test_loss:  184.7935, duration: 0:00:16.718236\n",
      "Epoch: 39/80, train loss:  144.3464          test_loss:  201.5618, duration: 0:00:16.678017\n",
      "Epoch: 40/80, train loss:  143.1680          test_loss:  181.8674, duration: 0:00:16.780351\n",
      "Epoch: 41/80, train loss:  141.5695          test_loss:  186.1900, duration: 0:00:16.639839\n",
      "Epoch: 42/80, train loss:  139.7375          test_loss:  205.9248, duration: 0:00:16.701787\n",
      "Epoch: 43/80, train loss:  137.3266          test_loss:  182.5494, duration: 0:00:16.635250\n",
      "Epoch: 44/80, train loss:  135.4594          test_loss:  188.7138, duration: 0:00:16.742939\n",
      "Epoch: 45/80, train loss:  135.2761          test_loss:  181.7753, duration: 0:00:16.678653\n",
      "Epoch: 46/80, train loss:  133.6190          test_loss:  176.7261, duration: 0:00:16.797164\n",
      "Epoch: 47/80, train loss:  132.0798          test_loss:  175.7459, duration: 0:00:16.653401\n",
      "Epoch: 48/80, train loss:  128.8609          test_loss:  171.4610, duration: 0:00:16.793277\n",
      "Epoch: 49/80, train loss:  130.0059          test_loss:  178.6709, duration: 0:00:16.766877\n",
      "Epoch: 50/80, train loss:  127.8799          test_loss:  180.2285, duration: 0:00:16.668317\n",
      "Epoch: 51/80, train loss:  127.8260          test_loss:  180.9648, duration: 0:00:16.747479\n",
      "Epoch: 52/80, train loss:  126.2600          test_loss:  173.0183, duration: 0:00:16.676287\n",
      "Epoch: 53/80, train loss:  124.7687          test_loss:  174.8423, duration: 0:00:16.781431\n",
      "Epoch: 54/80, train loss:  124.5216          test_loss:  168.8992, duration: 0:00:16.613586\n",
      "Epoch: 55/80, train loss:  122.9191          test_loss:  172.4972, duration: 0:00:16.847690\n",
      "Epoch: 56/80, train loss:  122.1534          test_loss:  169.8993, duration: 0:00:16.638445\n",
      "Epoch: 57/80, train loss:  121.4444          test_loss:  167.3140, duration: 0:00:16.639276\n",
      "Epoch: 58/80, train loss:  120.9602          test_loss:  172.2673, duration: 0:00:16.639714\n",
      "Epoch: 59/80, train loss:  118.5860          test_loss:  167.9762, duration: 0:00:16.736843\n",
      "Epoch: 60/80, train loss:  118.0459          test_loss:  164.8603, duration: 0:00:16.630531\n",
      "Epoch: 61/80, train loss:  116.8008          test_loss:  162.2939, duration: 0:00:16.741622\n",
      "Epoch: 62/80, train loss:  115.6567          test_loss:  165.5516, duration: 0:00:16.759810\n",
      "Epoch: 63/80, train loss:  117.5964          test_loss:  168.6523, duration: 0:00:16.755510\n",
      "Epoch: 64/80, train loss:  115.0511          test_loss:  166.8175, duration: 0:00:16.696280\n",
      "Epoch: 65/80, train loss:  114.7526          test_loss:  164.2466, duration: 0:00:16.812385\n",
      "Epoch: 66/80, train loss:  114.2303          test_loss:  164.8169, duration: 0:00:16.757305\n",
      "Epoch: 67/80, train loss:  113.9474          test_loss:  161.0051, duration: 0:00:16.772558\n",
      "Epoch: 68/80, train loss:  113.5833          test_loss:  165.1392, duration: 0:00:16.673632\n",
      "Epoch: 69/80, train loss:  111.1967          test_loss:  168.6938, duration: 0:00:16.612701\n",
      "Epoch: 70/80, train loss:  111.3318          test_loss:  172.5026, duration: 0:00:16.747652\n",
      "Epoch: 71/80, train loss:  110.9013          test_loss:  161.4689, duration: 0:00:16.693992\n",
      "Epoch: 72/80, train loss:  110.9971          test_loss:  158.5389, duration: 0:00:16.662002\n",
      "Epoch: 73/80, train loss:  109.3175          test_loss:  172.6200, duration: 0:00:16.667041\n",
      "Epoch: 74/80, train loss:  108.7998          test_loss:  159.5070, duration: 0:00:16.674774\n",
      "Epoch: 75/80, train loss:  108.1254          test_loss:  164.8872, duration: 0:00:16.653904\n",
      "Epoch: 76/80, train loss:  106.9156          test_loss:  161.3781, duration: 0:00:16.740951\n",
      "Epoch: 77/80, train loss:  108.6733          test_loss:  162.2278, duration: 0:00:16.573474\n",
      "Epoch: 78/80, train loss:  105.0322          test_loss:  169.2803, duration: 0:00:16.703651\n",
      "Epoch: 79/80, train loss:  106.2648          test_loss:  210.9450, duration: 0:00:16.604606\n",
      "Epoch: 80/80, train loss:  104.8988          test_loss:  165.0459, duration: 0:00:16.749419\n"
     ]
    }
   ],
   "source": [
    "train_losses, test_losses=batch_gd(model2, criterion, optimizer,train_gen, test_gen, 80, device = device, cnn=True)"
   ]
  },
  {
   "cell_type": "code",
   "execution_count": 25,
   "id": "0313fecd",
   "metadata": {
    "execution": {
     "iopub.execute_input": "2024-03-17T07:29:11.847431Z",
     "iopub.status.busy": "2024-03-17T07:29:11.846795Z",
     "iopub.status.idle": "2024-03-17T07:29:12.227876Z",
     "shell.execute_reply": "2024-03-17T07:29:12.226943Z"
    },
    "papermill": {
     "duration": 0.407596,
     "end_time": "2024-03-17T07:29:12.229968",
     "exception": false,
     "start_time": "2024-03-17T07:29:11.822372",
     "status": "completed"
    },
    "tags": []
   },
   "outputs": [
    {
     "data": {
      "image/png": "[encoded data removed]",
      "text/plain": [
       "<Figure size 640x480 with 1 Axes>"
      ]
     },
     "metadata": {},
     "output_type": "display_data"
    }
   ],
   "source": [
    "plot_losses(train_losses, test_losses)"
   ]
  },
  {
   "cell_type": "code",
   "execution_count": 26,
   "id": "83f1141c",
   "metadata": {
    "execution": {
     "iopub.execute_input": "2024-03-17T07:29:12.282469Z",
     "iopub.status.busy": "2024-03-17T07:29:12.281850Z",
     "iopub.status.idle": "2024-03-17T07:29:17.931134Z",
     "shell.execute_reply": "2024-03-17T07:29:17.930127Z"
    },
    "papermill": {
     "duration": 5.677777,
     "end_time": "2024-03-17T07:29:17.933562",
     "exception": false,
     "start_time": "2024-03-17T07:29:12.255785",
     "status": "completed"
    },
    "tags": []
   },
   "outputs": [
    {
     "name": "stdout",
     "output_type": "stream",
     "text": [
      "Train acc: 0.0583, Test acc: 0.0551\n"
     ]
    }
   ],
   "source": [
    "train_acc, test_acc = calc_accuracy(model2, train_gen, test_gen, device = device, cnn= True)\n",
    "print(f\"Train acc: {train_acc:.4f}, Test acc: {test_acc:.4f}\")"
   ]
  },
  {
   "cell_type": "code",
   "execution_count": 27,
   "id": "009aa119",
   "metadata": {
    "execution": {
     "iopub.execute_input": "2024-03-17T07:29:17.983921Z",
     "iopub.status.busy": "2024-03-17T07:29:17.983536Z",
     "iopub.status.idle": "2024-03-17T07:29:17.992789Z",
     "shell.execute_reply": "2024-03-17T07:29:17.991872Z"
    },
    "papermill": {
     "duration": 0.036577,
     "end_time": "2024-03-17T07:29:17.994726",
     "exception": false,
     "start_time": "2024-03-17T07:29:17.958149",
     "status": "completed"
    },
    "tags": []
   },
   "outputs": [],
   "source": [
    "torch.save(model2, '/kaggle/working/saved_models/CNN_cicy4_h22.pt')"
   ]
  }
 ],
 "metadata": {
  "kaggle": {
   "accelerator": "gpu",
   "dataSources": [
    {
     "datasetId": 4575883,
     "sourceId": 7824074,
     "sourceType": "datasetVersion"
    }
   ],
   "dockerImageVersionId": 30664,
   "isGpuEnabled": true,
   "isInternetEnabled": true,
   "language": "python",
   "sourceType": "notebook"
  },
  "kernelspec": {
   "display_name": "Python 3",
   "language": "python",
   "name": "python3"
  },
  "language_info": {
   "codemirror_mode": {
    "name": "ipython",
    "version": 3
   },
   "file_extension": ".py",
   "mimetype": "text/x-python",
   "name": "python",
   "nbconvert_exporter": "python",
   "pygments_lexer": "ipython3",
   "version": "3.10.13"
  },
  "papermill": {
   "default_parameters": {},
   "duration": 2826.139913,
   "end_time": "2024-03-17T07:29:19.848128",
   "environment_variables": {},
   "exception": null,
   "input_path": "__notebook__.ipynb",
   "output_path": "__notebook__.ipynb",
   "parameters": {},
   "start_time": "2024-03-17T06:42:13.708215",
   "version": "2.5.0"
  }
 },
 "nbformat": 4,
 "nbformat_minor": 5
}
