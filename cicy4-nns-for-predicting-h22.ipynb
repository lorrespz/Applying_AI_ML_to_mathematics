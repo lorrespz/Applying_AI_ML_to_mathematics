{
 "cells": [
  {
   "cell_type": "code",
   "execution_count": 1,
   "id": "35d1bd4b",
   "metadata": {
    "_cell_guid": "b1076dfc-b9ad-4769-8c92-a6c4dae69d19",
    "_uuid": "8f2839f25d086af736a60e9eeb907d3b93b6e0e5",
    "execution": {
     "iopub.execute_input": "2024-03-16T10:03:22.016548Z",
     "iopub.status.busy": "2024-03-16T10:03:22.015563Z",
     "iopub.status.idle": "2024-03-16T10:03:28.322855Z",
     "shell.execute_reply": "2024-03-16T10:03:28.321945Z"
    },
    "papermill": {
     "duration": 6.32035,
     "end_time": "2024-03-16T10:03:28.325380",
     "exception": false,
     "start_time": "2024-03-16T10:03:22.005030",
     "status": "completed"
    },
    "tags": []
   },
   "outputs": [],
   "source": [
    "import numpy as np\n",
    "import os as os\n",
    "import matplotlib.pyplot as plt\n",
    "import seaborn as sns\n",
    "from datetime import datetime\n",
    "sns.set_style(\"darkgrid\")\n",
    "\n",
    "import torch\n",
    "import torch.nn as nn\n",
    "import torch.nn.functional as F"
   ]
  },
  {
   "cell_type": "code",
   "execution_count": 2,
   "id": "d786dd46",
   "metadata": {
    "execution": {
     "iopub.execute_input": "2024-03-16T10:03:28.344048Z",
     "iopub.status.busy": "2024-03-16T10:03:28.343580Z",
     "iopub.status.idle": "2024-03-16T10:03:45.210026Z",
     "shell.execute_reply": "2024-03-16T10:03:45.208881Z"
    },
    "papermill": {
     "duration": 16.878223,
     "end_time": "2024-03-16T10:03:45.212410",
     "exception": false,
     "start_time": "2024-03-16T10:03:28.334187",
     "status": "completed"
    },
    "tags": []
   },
   "outputs": [
    {
     "data": {
      "text/plain": [
       "((921497, 16, 20), (921497, 4), (921497,))"
      ]
     },
     "execution_count": 2,
     "metadata": {},
     "output_type": "execute_result"
    }
   ],
   "source": [
    "# load data\n",
    "path = '/kaggle/input/calabi-yau-cicy-4-folds'\n",
    "conf = np.load(os.path.join(path, 'conf.npy'))\n",
    "hodge = np.load(os.path.join(path, 'hodge.npy'))\n",
    "direct = np.load(os.path.join(path, 'direct.npy'))\n",
    "conf.shape, hodge.shape, direct.shape"
   ]
  },
  {
   "cell_type": "code",
   "execution_count": 3,
   "id": "be58fb7b",
   "metadata": {
    "execution": {
     "iopub.execute_input": "2024-03-16T10:03:45.232765Z",
     "iopub.status.busy": "2024-03-16T10:03:45.232336Z",
     "iopub.status.idle": "2024-03-16T10:03:45.237605Z",
     "shell.execute_reply": "2024-03-16T10:03:45.236579Z"
    },
    "papermill": {
     "duration": 0.018142,
     "end_time": "2024-03-16T10:03:45.239904",
     "exception": false,
     "start_time": "2024-03-16T10:03:45.221762",
     "status": "completed"
    },
    "tags": []
   },
   "outputs": [],
   "source": [
    "X = conf\n",
    "h21 = hodge[:,1]\n",
    "h22 = hodge[:,3]\n",
    "h31 = hodge[:,2]"
   ]
  },
  {
   "cell_type": "markdown",
   "id": "c5710875",
   "metadata": {
    "papermill": {
     "duration": 0.008248,
     "end_time": "2024-03-16T10:03:45.257308",
     "exception": false,
     "start_time": "2024-03-16T10:03:45.249060",
     "status": "completed"
    },
    "tags": []
   },
   "source": [
    "# Utility functions: Model, Train Loop, Accuracy"
   ]
  },
  {
   "cell_type": "code",
   "execution_count": 4,
   "id": "3162c765",
   "metadata": {
    "execution": {
     "iopub.execute_input": "2024-03-16T10:03:45.275368Z",
     "iopub.status.busy": "2024-03-16T10:03:45.275047Z",
     "iopub.status.idle": "2024-03-16T10:03:45.279500Z",
     "shell.execute_reply": "2024-03-16T10:03:45.278534Z"
    },
    "papermill": {
     "duration": 0.015912,
     "end_time": "2024-03-16T10:03:45.281643",
     "exception": false,
     "start_time": "2024-03-16T10:03:45.265731",
     "status": "completed"
    },
    "tags": []
   },
   "outputs": [],
   "source": [
    "if not os.path.exists('saved_models'):\n",
    "    os.makedirs('saved_models')"
   ]
  },
  {
   "cell_type": "code",
   "execution_count": 5,
   "id": "f1e0cc5b",
   "metadata": {
    "execution": {
     "iopub.execute_input": "2024-03-16T10:03:45.300642Z",
     "iopub.status.busy": "2024-03-16T10:03:45.299955Z",
     "iopub.status.idle": "2024-03-16T10:03:45.366240Z",
     "shell.execute_reply": "2024-03-16T10:03:45.365209Z"
    },
    "papermill": {
     "duration": 0.078538,
     "end_time": "2024-03-16T10:03:45.368579",
     "exception": false,
     "start_time": "2024-03-16T10:03:45.290041",
     "status": "completed"
    },
    "tags": []
   },
   "outputs": [
    {
     "name": "stdout",
     "output_type": "stream",
     "text": [
      "cuda:0\n"
     ]
    }
   ],
   "source": [
    "device = torch.device(\"cuda:0\" if torch.cuda.is_available() else \"cpu\")\n",
    "print(device)"
   ]
  },
  {
   "cell_type": "code",
   "execution_count": 6,
   "id": "60f507d9",
   "metadata": {
    "execution": {
     "iopub.execute_input": "2024-03-16T10:03:45.388729Z",
     "iopub.status.busy": "2024-03-16T10:03:45.387945Z",
     "iopub.status.idle": "2024-03-16T10:03:45.514894Z",
     "shell.execute_reply": "2024-03-16T10:03:45.514030Z"
    },
    "papermill": {
     "duration": 0.14013,
     "end_time": "2024-03-16T10:03:45.517374",
     "exception": false,
     "start_time": "2024-03-16T10:03:45.377244",
     "status": "completed"
    },
    "tags": []
   },
   "outputs": [],
   "source": [
    "import sys\n",
    "sys.path.append('/kaggle/input/calabi-yau-cicy-4-folds')\n",
    "from CICY4_functions import data_generator, batch_gd,  calc_accuracy"
   ]
  },
  {
   "cell_type": "code",
   "execution_count": 7,
   "id": "62e61808",
   "metadata": {
    "execution": {
     "iopub.execute_input": "2024-03-16T10:03:45.536547Z",
     "iopub.status.busy": "2024-03-16T10:03:45.536176Z",
     "iopub.status.idle": "2024-03-16T10:03:45.778373Z",
     "shell.execute_reply": "2024-03-16T10:03:45.777416Z"
    },
    "papermill": {
     "duration": 0.254709,
     "end_time": "2024-03-16T10:03:45.780983",
     "exception": false,
     "start_time": "2024-03-16T10:03:45.526274",
     "status": "completed"
    },
    "tags": []
   },
   "outputs": [],
   "source": [
    "from sklearn.model_selection import train_test_split\n",
    "def train_test(X, y):\n",
    "    X_train,  X_test, y_train, y_test = train_test_split(X, y, test_size = 0.2, random_state = 101, shuffle = True)\n",
    "    \n",
    "    X_train = torch.from_numpy(X_train.astype(np.float32))\n",
    "    y_train = torch.from_numpy(y_train.astype(np.float32).reshape(-1, 1))\n",
    "\n",
    "    X_test = torch.from_numpy(X_test.astype(np.float32))\n",
    "    y_test = torch.from_numpy(y_test.astype(np.float32).reshape(-1, 1))\n",
    "    \n",
    "    print(X_train.shape, y_train.shape, X_test.shape, y_test.shape)\n",
    "    return X_train, X_test, y_train, y_test"
   ]
  },
  {
   "cell_type": "code",
   "execution_count": 8,
   "id": "1ba834db",
   "metadata": {
    "execution": {
     "iopub.execute_input": "2024-03-16T10:03:45.799098Z",
     "iopub.status.busy": "2024-03-16T10:03:45.798773Z",
     "iopub.status.idle": "2024-03-16T10:03:45.809301Z",
     "shell.execute_reply": "2024-03-16T10:03:45.808401Z"
    },
    "papermill": {
     "duration": 0.021907,
     "end_time": "2024-03-16T10:03:45.811463",
     "exception": false,
     "start_time": "2024-03-16T10:03:45.789556",
     "status": "completed"
    },
    "tags": []
   },
   "outputs": [],
   "source": [
    "class RNN_cicy4(nn.Module):\n",
    "    def __init__(self, n_inputs, n_hidden, n_rnnlayers, n_outputs, is_lstm=True):\n",
    "        super(RNN_cicy4,self).__init__()\n",
    "        self.D = n_inputs\n",
    "        self.M = n_hidden\n",
    "        self.K = n_outputs\n",
    "        self.L = n_rnnlayers\n",
    "        self.is_lstm = is_lstm\n",
    "        \n",
    "        self.lstm = nn.LSTM(input_size = self.D,\n",
    "                           hidden_size = self.M,\n",
    "                           num_layers = self.L,\n",
    "                           batch_first = True)\n",
    "        \n",
    "        self.gru = nn.GRU(input_size = self.D,\n",
    "                           hidden_size = self.M,\n",
    "                           num_layers = self.L,\n",
    "                           batch_first = True)\n",
    "        self.fc1 = nn.Linear(self.M, 128)\n",
    "        self.fc2 = nn.Linear(128, self.K)\n",
    "       \n",
    "    def forward(self, X):\n",
    "        #input X is NxTxD\n",
    "        #initial hidden states\n",
    "        h0 = torch.zeros(self.L, X.size(0), self.M).to(device)\n",
    "        c0 = torch.zeros(self.L, X.size(0), self.M).to(device)\n",
    "        #get LSTM unit output:\n",
    "        #output is NxTxM\n",
    "        if self.is_lstm:\n",
    "            out, _ = self.lstm(X, (h0,c0))\n",
    "        else:\n",
    "            out, _ = self.gru(X, h0)\n",
    "        \n",
    "        #we only want h(T) at the final time step\n",
    "        out = out[:, -1, :]\n",
    "        out = F.relu(self.fc1(out))\n",
    "        out = self.fc2(out)\n",
    "\n",
    "        return out"
   ]
  },
  {
   "cell_type": "code",
   "execution_count": 9,
   "id": "e78d1c9f",
   "metadata": {
    "execution": {
     "iopub.execute_input": "2024-03-16T10:03:45.829540Z",
     "iopub.status.busy": "2024-03-16T10:03:45.829226Z",
     "iopub.status.idle": "2024-03-16T10:03:45.835242Z",
     "shell.execute_reply": "2024-03-16T10:03:45.834217Z"
    },
    "papermill": {
     "duration": 0.017428,
     "end_time": "2024-03-16T10:03:45.837345",
     "exception": false,
     "start_time": "2024-03-16T10:03:45.819917",
     "status": "completed"
    },
    "tags": []
   },
   "outputs": [],
   "source": [
    "def plot_losses(train_losses, test_losses):\n",
    "    # Plot the train loss and test loss per iteration\n",
    "    plt.plot(train_losses, label='train loss')\n",
    "    plt.plot(test_losses, label='test loss')\n",
    "    plt.legend()\n",
    "    plt.show()"
   ]
  },
  {
   "cell_type": "markdown",
   "id": "f10f2bbc",
   "metadata": {
    "papermill": {
     "duration": 0.008458,
     "end_time": "2024-03-16T10:03:45.854677",
     "exception": false,
     "start_time": "2024-03-16T10:03:45.846219",
     "status": "completed"
    },
    "tags": []
   },
   "source": [
    "# RNN Model for h22 with LSTM layers"
   ]
  },
  {
   "cell_type": "code",
   "execution_count": 10,
   "id": "bb6434b2",
   "metadata": {
    "execution": {
     "iopub.execute_input": "2024-03-16T10:03:45.873597Z",
     "iopub.status.busy": "2024-03-16T10:03:45.873208Z",
     "iopub.status.idle": "2024-03-16T10:03:47.199454Z",
     "shell.execute_reply": "2024-03-16T10:03:47.198482Z"
    },
    "papermill": {
     "duration": 1.33848,
     "end_time": "2024-03-16T10:03:47.201749",
     "exception": false,
     "start_time": "2024-03-16T10:03:45.863269",
     "status": "completed"
    },
    "tags": []
   },
   "outputs": [
    {
     "name": "stdout",
     "output_type": "stream",
     "text": [
      "torch.Size([737197, 16, 20]) torch.Size([737197, 1]) torch.Size([184300, 16, 20]) torch.Size([184300, 1])\n"
     ]
    }
   ],
   "source": [
    "X_train, X_test, y_train, y_test = train_test(X, h22)\n",
    "train_gen = lambda: data_generator(X_train, y_train)\n",
    "test_gen = lambda: data_generator(X_test, y_test)"
   ]
  },
  {
   "cell_type": "code",
   "execution_count": 11,
   "id": "53754b08",
   "metadata": {
    "execution": {
     "iopub.execute_input": "2024-03-16T10:03:47.221212Z",
     "iopub.status.busy": "2024-03-16T10:03:47.220851Z",
     "iopub.status.idle": "2024-03-16T10:03:47.557254Z",
     "shell.execute_reply": "2024-03-16T10:03:47.556286Z"
    },
    "papermill": {
     "duration": 0.349406,
     "end_time": "2024-03-16T10:03:47.559658",
     "exception": false,
     "start_time": "2024-03-16T10:03:47.210252",
     "status": "completed"
    },
    "tags": []
   },
   "outputs": [
    {
     "data": {
      "text/plain": [
       "RNN_cicy4(\n",
       "  (lstm): LSTM(20, 64, num_layers=3, batch_first=True)\n",
       "  (gru): GRU(20, 64, num_layers=3, batch_first=True)\n",
       "  (fc1): Linear(in_features=64, out_features=128, bias=True)\n",
       "  (fc2): Linear(in_features=128, out_features=1, bias=True)\n",
       ")"
      ]
     },
     "execution_count": 11,
     "metadata": {},
     "output_type": "execute_result"
    }
   ],
   "source": [
    "# ( n_inputs, n_hidden, n_rnnlayers, n_outputs)\n",
    "# n_inputs = D = # of columns: 20, T = 16\n",
    "#input shape is NxTxD: Nx16x20\n",
    "model1 = RNN_cicy4(20, 64, 3, 1 )\n",
    "model1.to(device)"
   ]
  },
  {
   "cell_type": "code",
   "execution_count": 12,
   "id": "15812d44",
   "metadata": {
    "execution": {
     "iopub.execute_input": "2024-03-16T10:03:47.580008Z",
     "iopub.status.busy": "2024-03-16T10:03:47.579702Z",
     "iopub.status.idle": "2024-03-16T10:03:47.585405Z",
     "shell.execute_reply": "2024-03-16T10:03:47.584461Z"
    },
    "papermill": {
     "duration": 0.01845,
     "end_time": "2024-03-16T10:03:47.587767",
     "exception": false,
     "start_time": "2024-03-16T10:03:47.569317",
     "status": "completed"
    },
    "tags": []
   },
   "outputs": [
    {
     "name": "stdout",
     "output_type": "stream",
     "text": [
      "[5120, 16384, 256, 256, 16384, 16384, 256, 256, 16384, 16384, 256, 256, 3840, 12288, 192, 192, 12288, 12288, 192, 192, 12288, 12288, 192, 192, 8192, 128, 128, 1]\n",
      "Total number of parameters is 163457\n"
     ]
    }
   ],
   "source": [
    "#count the number of parameters in the model\n",
    "params = [p.numel() for p in model1.parameters() if p.requires_grad]\n",
    "#for item in params:\n",
    "#    print(f'{item:>8}')\n",
    "#print(f'________\\n{sum(params):>8}')\n",
    "print(params)\n",
    "print(f'Total number of parameters is {sum(params)}')"
   ]
  },
  {
   "cell_type": "markdown",
   "id": "cb908b86",
   "metadata": {
    "papermill": {
     "duration": 0.008999,
     "end_time": "2024-03-16T10:03:47.605685",
     "exception": false,
     "start_time": "2024-03-16T10:03:47.596686",
     "status": "completed"
    },
    "tags": []
   },
   "source": [
    "## Shape tracing"
   ]
  },
  {
   "cell_type": "code",
   "execution_count": 13,
   "id": "ca837714",
   "metadata": {
    "execution": {
     "iopub.execute_input": "2024-03-16T10:03:47.625896Z",
     "iopub.status.busy": "2024-03-16T10:03:47.625544Z",
     "iopub.status.idle": "2024-03-16T10:03:47.771358Z",
     "shell.execute_reply": "2024-03-16T10:03:47.770270Z"
    },
    "papermill": {
     "duration": 0.159443,
     "end_time": "2024-03-16T10:03:47.774011",
     "exception": false,
     "start_time": "2024-03-16T10:03:47.614568",
     "status": "completed"
    },
    "tags": []
   },
   "outputs": [
    {
     "name": "stdout",
     "output_type": "stream",
     "text": [
      "Original shape of the image before passing through the network: \n",
      " torch.Size([16, 20])\n",
      "\n",
      "Reshape the size to take in account the batch number\n",
      "The new size is torch.Size([1, 16, 20])\n",
      "\n",
      "Hidden states h0, c0: (torch.Size([3, 1, 64]), torch.Size([3, 1, 64]))\n",
      "Shape of the image after passing through the LSTM(20, 64, num_layers=3, batch_first=True): \n",
      " torch.Size([1, 16, 64])\n",
      "\n",
      "Shape of the image after passing through the Linear(in_features=64, out_features=128, bias=True): \n",
      " torch.Size([1, 16, 128])\n",
      "\n",
      "Shape of the image after passing through the Linear(in_features=64, out_features=128, bias=True): \n",
      " torch.Size([1, 16, 1])\n",
      "\n"
     ]
    }
   ],
   "source": [
    "X = X_train[0].to(device)\n",
    "print(f'Original shape of the image before passing through the network: \\n {X.shape}\\n')\n",
    "print('Reshape the size to take in account the batch number')\n",
    "X = X.view(1,16,20)\n",
    "print(f'The new size is {X.shape}\\n')\n",
    "\n",
    " #initial hidden states\n",
    "h0 = torch.zeros(model1.L, X.size(0), model1.M).to(device)\n",
    "c0 = torch.zeros(model1.L, X.size(0), model1.M).to(device)\n",
    "print(f'Hidden states h0, c0: {h0.shape, c0.shape}')\n",
    "\n",
    "X, _ = model1.lstm(X, (h0, c0))\n",
    "print(f'Shape of the image after passing through the {model1.lstm}: \\n {X.shape}\\n')\n",
    "\n",
    "X = model1.fc1(X)\n",
    "print(f'Shape of the image after passing through the {model1.fc1}: \\n {X.shape}\\n')\n",
    "\n",
    "X = model1.fc2(X)\n",
    "print(f'Shape of the image after passing through the {model1.fc1}: \\n {X.shape}\\n')"
   ]
  },
  {
   "cell_type": "markdown",
   "id": "de5922c2",
   "metadata": {
    "papermill": {
     "duration": 0.009272,
     "end_time": "2024-03-16T10:03:47.792984",
     "exception": false,
     "start_time": "2024-03-16T10:03:47.783712",
     "status": "completed"
    },
    "tags": []
   },
   "source": [
    "## Training loop"
   ]
  },
  {
   "cell_type": "code",
   "execution_count": 14,
   "id": "6092621c",
   "metadata": {
    "execution": {
     "iopub.execute_input": "2024-03-16T10:03:47.814083Z",
     "iopub.status.busy": "2024-03-16T10:03:47.813108Z",
     "iopub.status.idle": "2024-03-16T10:03:50.536731Z",
     "shell.execute_reply": "2024-03-16T10:03:50.535767Z"
    },
    "papermill": {
     "duration": 2.736768,
     "end_time": "2024-03-16T10:03:50.539156",
     "exception": false,
     "start_time": "2024-03-16T10:03:47.802388",
     "status": "completed"
    },
    "tags": []
   },
   "outputs": [],
   "source": [
    "criterion = nn.MSELoss()\n",
    "optimizer = torch.optim.Adam(model1.parameters())"
   ]
  },
  {
   "cell_type": "code",
   "execution_count": 15,
   "id": "b6f665c4",
   "metadata": {
    "execution": {
     "iopub.execute_input": "2024-03-16T10:03:50.561272Z",
     "iopub.status.busy": "2024-03-16T10:03:50.560755Z",
     "iopub.status.idle": "2024-03-16T10:27:21.118071Z",
     "shell.execute_reply": "2024-03-16T10:27:21.116932Z"
    },
    "papermill": {
     "duration": 1410.586076,
     "end_time": "2024-03-16T10:27:21.136158",
     "exception": false,
     "start_time": "2024-03-16T10:03:50.550082",
     "status": "completed"
    },
    "tags": []
   },
   "outputs": [
    {
     "name": "stdout",
     "output_type": "stream",
     "text": [
      "Epoch: 1/80, train loss:  4295.8169          test_loss:  3398.0113, duration: 0:00:18.230452\n",
      "Epoch: 2/80, train loss:  3402.0438          test_loss:  3414.3729, duration: 0:00:17.905547\n",
      "Epoch: 3/80, train loss:  3401.5657          test_loss:  3395.5294, duration: 0:00:17.758063\n",
      "Epoch: 4/80, train loss:  2806.4457          test_loss:  2628.9802, duration: 0:00:17.854418\n",
      "Epoch: 5/80, train loss:  2058.5417          test_loss:  1726.8443, duration: 0:00:17.792765\n",
      "Epoch: 6/80, train loss:  1559.2101          test_loss:  1451.2600, duration: 0:00:17.640099\n",
      "Epoch: 7/80, train loss:  1259.9904          test_loss:  1095.0983, duration: 0:00:17.598061\n",
      "Epoch: 8/80, train loss:  971.2631          test_loss:  850.1352, duration: 0:00:17.587623\n",
      "Epoch: 9/80, train loss:  749.3460          test_loss:  611.0662, duration: 0:00:17.850680\n",
      "Epoch: 10/80, train loss:  554.2643          test_loss:  620.6495, duration: 0:00:17.749994\n",
      "Epoch: 11/80, train loss:  460.6277          test_loss:  527.6019, duration: 0:00:17.648899\n",
      "Epoch: 12/80, train loss:  367.2187          test_loss:  363.8566, duration: 0:00:17.676695\n",
      "Epoch: 13/80, train loss:  320.2180          test_loss:  273.5049, duration: 0:00:17.632238\n",
      "Epoch: 14/80, train loss:  298.2724          test_loss:  258.1251, duration: 0:00:17.690063\n",
      "Epoch: 15/80, train loss:  263.7346          test_loss:  229.3791, duration: 0:00:17.520183\n",
      "Epoch: 16/80, train loss:  237.5814          test_loss:  231.4925, duration: 0:00:17.776583\n",
      "Epoch: 17/80, train loss:  208.7030          test_loss:  288.9852, duration: 0:00:17.497331\n",
      "Epoch: 18/80, train loss:  199.0396          test_loss:  192.9506, duration: 0:00:17.700176\n",
      "Epoch: 19/80, train loss:  184.7980          test_loss:  215.4767, duration: 0:00:17.734911\n",
      "Epoch: 20/80, train loss:  170.3816          test_loss:  166.8936, duration: 0:00:17.826174\n",
      "Epoch: 21/80, train loss:  170.9379          test_loss:  259.1053, duration: 0:00:17.642620\n",
      "Epoch: 22/80, train loss:  163.6104          test_loss:  150.3951, duration: 0:00:17.645178\n",
      "Epoch: 23/80, train loss:  157.9113          test_loss:  133.8105, duration: 0:00:17.917245\n",
      "Epoch: 24/80, train loss:  146.3544          test_loss:  130.6233, duration: 0:00:17.789643\n",
      "Epoch: 25/80, train loss:  140.8089          test_loss:  126.6542, duration: 0:00:17.765621\n",
      "Epoch: 26/80, train loss:  132.2052          test_loss:  126.1155, duration: 0:00:17.774533\n",
      "Epoch: 27/80, train loss:  122.5202          test_loss:  149.1874, duration: 0:00:17.734225\n",
      "Epoch: 28/80, train loss:  124.1150          test_loss:  121.0514, duration: 0:00:17.804612\n",
      "Epoch: 29/80, train loss:  117.5095          test_loss:  131.1348, duration: 0:00:17.577731\n",
      "Epoch: 30/80, train loss:  116.8762          test_loss:  106.0884, duration: 0:00:17.853866\n",
      "Epoch: 31/80, train loss:  112.6112          test_loss:  116.0004, duration: 0:00:17.610198\n",
      "Epoch: 32/80, train loss:  105.9181          test_loss:  110.1101, duration: 0:00:17.725646\n",
      "Epoch: 33/80, train loss:  106.0818          test_loss:  100.4720, duration: 0:00:17.539997\n",
      "Epoch: 34/80, train loss:  97.6017          test_loss:  91.8246, duration: 0:00:17.637052\n",
      "Epoch: 35/80, train loss:  98.0237          test_loss:  92.7231, duration: 0:00:17.640537\n",
      "Epoch: 36/80, train loss:  94.8835          test_loss:  100.5006, duration: 0:00:17.623458\n",
      "Epoch: 37/80, train loss:  95.3097          test_loss:  88.4234, duration: 0:00:17.656043\n",
      "Epoch: 38/80, train loss:  89.8083          test_loss:  99.5176, duration: 0:00:17.690736\n",
      "Epoch: 39/80, train loss:  90.0982          test_loss:  115.8595, duration: 0:00:17.812010\n",
      "Epoch: 40/80, train loss:  89.9713          test_loss:  90.8273, duration: 0:00:17.611561\n",
      "Epoch: 41/80, train loss:  84.3194          test_loss:  84.9509, duration: 0:00:17.856697\n",
      "Epoch: 42/80, train loss:  84.0237          test_loss:  81.5920, duration: 0:00:17.425870\n",
      "Epoch: 43/80, train loss:  76.4898          test_loss:  78.6876, duration: 0:00:17.475925\n",
      "Epoch: 44/80, train loss:  83.2579          test_loss:  97.5065, duration: 0:00:17.544612\n",
      "Epoch: 45/80, train loss:  97.1398          test_loss:  83.1911, duration: 0:00:17.496111\n",
      "Epoch: 46/80, train loss:  76.7654          test_loss:  74.0739, duration: 0:00:17.494716\n",
      "Epoch: 47/80, train loss:  74.6337          test_loss:  76.5373, duration: 0:00:17.449583\n",
      "Epoch: 48/80, train loss:  73.5683          test_loss:  75.5891, duration: 0:00:17.652989\n",
      "Epoch: 49/80, train loss:  74.3122          test_loss:  71.7576, duration: 0:00:17.519424\n",
      "Epoch: 50/80, train loss:  71.8246          test_loss:  71.1799, duration: 0:00:17.645670\n",
      "Epoch: 51/80, train loss:  73.9658          test_loss:  74.2522, duration: 0:00:17.711998\n",
      "Epoch: 52/80, train loss:  68.3928          test_loss:  102.4115, duration: 0:00:17.271680\n",
      "Epoch: 53/80, train loss:  69.9839          test_loss:  81.7275, duration: 0:00:17.654180\n",
      "Epoch: 54/80, train loss:  67.4104          test_loss:  75.5838, duration: 0:00:17.404697\n",
      "Epoch: 55/80, train loss:  64.4233          test_loss:  70.7677, duration: 0:00:17.560924\n",
      "Epoch: 56/80, train loss:  66.7423          test_loss:  63.9477, duration: 0:00:17.385160\n",
      "Epoch: 57/80, train loss:  75.5736          test_loss:  71.2431, duration: 0:00:17.464414\n",
      "Epoch: 58/80, train loss:  64.1069          test_loss:  69.1634, duration: 0:00:17.239745\n",
      "Epoch: 59/80, train loss:  64.7824          test_loss:  63.1146, duration: 0:00:17.473465\n",
      "Epoch: 60/80, train loss:  64.4733          test_loss:  64.3268, duration: 0:00:17.470741\n",
      "Epoch: 61/80, train loss:  58.1007          test_loss:  67.6215, duration: 0:00:17.479807\n",
      "Epoch: 62/80, train loss:  66.7616          test_loss:  63.0401, duration: 0:00:17.501726\n",
      "Epoch: 63/80, train loss:  59.1161          test_loss:  94.5929, duration: 0:00:17.554472\n",
      "Epoch: 64/80, train loss:  64.8312          test_loss:  65.2705, duration: 0:00:17.734451\n",
      "Epoch: 65/80, train loss:  59.6714          test_loss:  64.4787, duration: 0:00:17.471684\n",
      "Epoch: 66/80, train loss:  55.6036          test_loss:  59.2587, duration: 0:00:17.682788\n",
      "Epoch: 67/80, train loss:  64.0154          test_loss:  57.9570, duration: 0:00:17.737690\n",
      "Epoch: 68/80, train loss:  58.7838          test_loss:  59.8140, duration: 0:00:17.710814\n",
      "Epoch: 69/80, train loss:  54.1535          test_loss:  61.0031, duration: 0:00:17.602070\n",
      "Epoch: 70/80, train loss:  53.1636          test_loss:  57.7669, duration: 0:00:17.604440\n",
      "Epoch: 71/80, train loss:  56.9184          test_loss:  146.2253, duration: 0:00:17.872912\n",
      "Epoch: 72/80, train loss:  54.7006          test_loss:  60.5893, duration: 0:00:17.612242\n",
      "Epoch: 73/80, train loss:  50.5818          test_loss:  57.6417, duration: 0:00:17.586687\n",
      "Epoch: 74/80, train loss:  50.7082          test_loss:  55.2760, duration: 0:00:17.500832\n",
      "Epoch: 75/80, train loss:  58.2400          test_loss:  59.1642, duration: 0:00:17.435296\n",
      "Epoch: 76/80, train loss:  53.6050          test_loss:  56.9463, duration: 0:00:17.546222\n",
      "Epoch: 77/80, train loss:  55.3894          test_loss:  59.2867, duration: 0:00:17.288692\n",
      "Epoch: 78/80, train loss:  47.9414          test_loss:  58.7892, duration: 0:00:17.489095\n",
      "Epoch: 79/80, train loss:  53.4040          test_loss:  59.0760, duration: 0:00:17.488474\n",
      "Epoch: 80/80, train loss:  47.8077          test_loss:  56.4679, duration: 0:00:17.719393\n"
     ]
    }
   ],
   "source": [
    "train_losses, test_losses=batch_gd(model1, criterion, optimizer,train_gen, test_gen, 80, device = device, cnn=False)"
   ]
  },
  {
   "cell_type": "code",
   "execution_count": 16,
   "id": "f406cf01",
   "metadata": {
    "execution": {
     "iopub.execute_input": "2024-03-16T10:27:21.171191Z",
     "iopub.status.busy": "2024-03-16T10:27:21.170809Z",
     "iopub.status.idle": "2024-03-16T10:27:21.580131Z",
     "shell.execute_reply": "2024-03-16T10:27:21.579224Z"
    },
    "papermill": {
     "duration": 0.429497,
     "end_time": "2024-03-16T10:27:21.582440",
     "exception": false,
     "start_time": "2024-03-16T10:27:21.152943",
     "status": "completed"
    },
    "tags": []
   },
   "outputs": [
    {
     "data": {
      "image/png": "[encoded data removed]",
      "text/plain": [
       "<Figure size 640x480 with 1 Axes>"
      ]
     },
     "metadata": {},
     "output_type": "display_data"
    }
   ],
   "source": [
    "plot_losses(train_losses, test_losses)"
   ]
  },
  {
   "cell_type": "code",
   "execution_count": 17,
   "id": "2f528ac5",
   "metadata": {
    "execution": {
     "iopub.execute_input": "2024-03-16T10:27:21.616412Z",
     "iopub.status.busy": "2024-03-16T10:27:21.616053Z",
     "iopub.status.idle": "2024-03-16T10:27:29.032814Z",
     "shell.execute_reply": "2024-03-16T10:27:29.031701Z"
    },
    "papermill": {
     "duration": 7.43635,
     "end_time": "2024-03-16T10:27:29.034856",
     "exception": false,
     "start_time": "2024-03-16T10:27:21.598506",
     "status": "completed"
    },
    "tags": []
   },
   "outputs": [
    {
     "name": "stdout",
     "output_type": "stream",
     "text": [
      "Train acc: 0.0980, Test acc: 0.0970\n"
     ]
    }
   ],
   "source": [
    "train_acc, test_acc = calc_accuracy(model1, train_gen, test_gen, device = device, cnn= False)\n",
    "print(f\"Train acc: {train_acc:.4f}, Test acc: {test_acc:.4f}\")"
   ]
  },
  {
   "cell_type": "code",
   "execution_count": 18,
   "id": "f65e801d",
   "metadata": {
    "execution": {
     "iopub.execute_input": "2024-03-16T10:27:29.067070Z",
     "iopub.status.busy": "2024-03-16T10:27:29.066789Z",
     "iopub.status.idle": "2024-03-16T10:27:29.076912Z",
     "shell.execute_reply": "2024-03-16T10:27:29.075978Z"
    },
    "papermill": {
     "duration": 0.028312,
     "end_time": "2024-03-16T10:27:29.078725",
     "exception": false,
     "start_time": "2024-03-16T10:27:29.050413",
     "status": "completed"
    },
    "tags": []
   },
   "outputs": [],
   "source": [
    "torch.save(model1, '/kaggle/working/saved_models/LSTM_cicy4_h22.pt')"
   ]
  },
  {
   "cell_type": "markdown",
   "id": "65b47dcb",
   "metadata": {
    "papermill": {
     "duration": 0.015497,
     "end_time": "2024-03-16T10:27:29.110324",
     "exception": false,
     "start_time": "2024-03-16T10:27:29.094827",
     "status": "completed"
    },
    "tags": []
   },
   "source": [
    "# RNN Model for h22 with GRU layer"
   ]
  },
  {
   "cell_type": "code",
   "execution_count": 19,
   "id": "6d31105b",
   "metadata": {
    "execution": {
     "iopub.execute_input": "2024-03-16T10:27:29.143687Z",
     "iopub.status.busy": "2024-03-16T10:27:29.143324Z",
     "iopub.status.idle": "2024-03-16T10:27:29.156356Z",
     "shell.execute_reply": "2024-03-16T10:27:29.155438Z"
    },
    "papermill": {
     "duration": 0.031828,
     "end_time": "2024-03-16T10:27:29.158385",
     "exception": false,
     "start_time": "2024-03-16T10:27:29.126557",
     "status": "completed"
    },
    "tags": []
   },
   "outputs": [
    {
     "data": {
      "text/plain": [
       "RNN_cicy4(\n",
       "  (lstm): LSTM(20, 64, num_layers=3, batch_first=True)\n",
       "  (gru): GRU(20, 64, num_layers=3, batch_first=True)\n",
       "  (fc1): Linear(in_features=64, out_features=128, bias=True)\n",
       "  (fc2): Linear(in_features=128, out_features=1, bias=True)\n",
       ")"
      ]
     },
     "execution_count": 19,
     "metadata": {},
     "output_type": "execute_result"
    }
   ],
   "source": [
    "# ( n_inputs, n_hidden, n_rnnlayers, n_outputs)\n",
    "# n_inputs = D = # of columns: 20, T = 16\n",
    "#input shape is NxTxD: Nx16x20\n",
    "model2 = RNN_cicy4(20, 64, 3, 1, is_lstm = False )\n",
    "model2.to(device)"
   ]
  },
  {
   "cell_type": "code",
   "execution_count": 20,
   "id": "5804a04b",
   "metadata": {
    "execution": {
     "iopub.execute_input": "2024-03-16T10:27:29.192233Z",
     "iopub.status.busy": "2024-03-16T10:27:29.191492Z",
     "iopub.status.idle": "2024-03-16T10:27:29.196938Z",
     "shell.execute_reply": "2024-03-16T10:27:29.196071Z"
    },
    "papermill": {
     "duration": 0.024786,
     "end_time": "2024-03-16T10:27:29.199126",
     "exception": false,
     "start_time": "2024-03-16T10:27:29.174340",
     "status": "completed"
    },
    "tags": []
   },
   "outputs": [
    {
     "name": "stdout",
     "output_type": "stream",
     "text": [
      "[5120, 16384, 256, 256, 16384, 16384, 256, 256, 16384, 16384, 256, 256, 3840, 12288, 192, 192, 12288, 12288, 192, 192, 12288, 12288, 192, 192, 8192, 128, 128, 1]\n",
      "Total number of parameters is 163457\n"
     ]
    }
   ],
   "source": [
    "#count the number of parameters in the model\n",
    "params = [p.numel() for p in model2.parameters() if p.requires_grad]\n",
    "print(params)\n",
    "print(f'Total number of parameters is {sum(params)}')"
   ]
  },
  {
   "cell_type": "code",
   "execution_count": 21,
   "id": "24ac1bba",
   "metadata": {
    "execution": {
     "iopub.execute_input": "2024-03-16T10:27:29.235037Z",
     "iopub.status.busy": "2024-03-16T10:27:29.234712Z",
     "iopub.status.idle": "2024-03-16T10:27:29.259126Z",
     "shell.execute_reply": "2024-03-16T10:27:29.257923Z"
    },
    "papermill": {
     "duration": 0.045799,
     "end_time": "2024-03-16T10:27:29.261280",
     "exception": false,
     "start_time": "2024-03-16T10:27:29.215481",
     "status": "completed"
    },
    "tags": []
   },
   "outputs": [
    {
     "name": "stdout",
     "output_type": "stream",
     "text": [
      "Original shape of the image before passing through the network: \n",
      " torch.Size([16, 20])\n",
      "\n",
      "Reshape the size to take in account the batch number\n",
      "The new size is torch.Size([1, 16, 20])\n",
      "\n",
      "Hidden states h0, c0: (torch.Size([3, 1, 64]), torch.Size([3, 1, 64]))\n",
      "Shape of the image after passing through the GRU(20, 64, num_layers=3, batch_first=True): \n",
      " torch.Size([1, 16, 64])\n",
      "\n",
      "Shape of the image after passing through the Linear(in_features=64, out_features=128, bias=True): \n",
      " torch.Size([1, 16, 128])\n",
      "\n",
      "Shape of the image after passing through the Linear(in_features=64, out_features=128, bias=True): \n",
      " torch.Size([1, 16, 1])\n",
      "\n"
     ]
    }
   ],
   "source": [
    "X= X_train[0].to(device)\n",
    "print(f'Original shape of the image before passing through the network: \\n {X.shape}\\n')\n",
    "print('Reshape the size to take in account the batch number')\n",
    "X = X.view(1,16,20)\n",
    "print(f'The new size is {X.shape}\\n')\n",
    "\n",
    " #initial hidden states\n",
    "h0 = torch.zeros(model2.L, X.size(0), model2.M).to(device)\n",
    "#c0 = torch.zeros(model2.L, X.size(0), model2.M).to(device)\n",
    "print(f'Hidden states h0, c0: {h0.shape, c0.shape}')\n",
    "\n",
    "X, _ = model2.gru(X, h0)\n",
    "print(f'Shape of the image after passing through the {model2.gru}: \\n {X.shape}\\n')\n",
    "\n",
    "X = model2.fc1(X)\n",
    "print(f'Shape of the image after passing through the {model2.fc1}: \\n {X.shape}\\n')\n",
    "\n",
    "X = model2.fc2(X)\n",
    "print(f'Shape of the image after passing through the {model2.fc1}: \\n {X.shape}\\n')"
   ]
  },
  {
   "cell_type": "markdown",
   "id": "2df071bd",
   "metadata": {
    "papermill": {
     "duration": 0.01762,
     "end_time": "2024-03-16T10:27:29.296984",
     "exception": false,
     "start_time": "2024-03-16T10:27:29.279364",
     "status": "completed"
    },
    "tags": []
   },
   "source": [
    "## Training Loop"
   ]
  },
  {
   "cell_type": "code",
   "execution_count": 22,
   "id": "f8c82900",
   "metadata": {
    "execution": {
     "iopub.execute_input": "2024-03-16T10:27:29.335010Z",
     "iopub.status.busy": "2024-03-16T10:27:29.334614Z",
     "iopub.status.idle": "2024-03-16T10:27:29.340483Z",
     "shell.execute_reply": "2024-03-16T10:27:29.339456Z"
    },
    "papermill": {
     "duration": 0.02749,
     "end_time": "2024-03-16T10:27:29.342657",
     "exception": false,
     "start_time": "2024-03-16T10:27:29.315167",
     "status": "completed"
    },
    "tags": []
   },
   "outputs": [],
   "source": [
    "criterion = nn.MSELoss()\n",
    "optimizer = torch.optim.Adam(model2.parameters())"
   ]
  },
  {
   "cell_type": "code",
   "execution_count": 23,
   "id": "e9ea87fe",
   "metadata": {
    "execution": {
     "iopub.execute_input": "2024-03-16T10:27:29.381539Z",
     "iopub.status.busy": "2024-03-16T10:27:29.381155Z",
     "iopub.status.idle": "2024-03-16T10:50:33.813430Z",
     "shell.execute_reply": "2024-03-16T10:50:33.812424Z"
    },
    "papermill": {
     "duration": 1384.476017,
     "end_time": "2024-03-16T10:50:33.837464",
     "exception": false,
     "start_time": "2024-03-16T10:27:29.361447",
     "status": "completed"
    },
    "tags": []
   },
   "outputs": [
    {
     "name": "stdout",
     "output_type": "stream",
     "text": [
      "Epoch: 1/80, train loss:  4425.8237          test_loss:  3396.3044, duration: 0:00:17.435619\n",
      "Epoch: 2/80, train loss:  3344.2856          test_loss:  2810.3951, duration: 0:00:17.243856\n",
      "Epoch: 3/80, train loss:  1957.9689          test_loss:  1484.1439, duration: 0:00:17.455530\n",
      "Epoch: 4/80, train loss:  1244.3066          test_loss:  1158.2930, duration: 0:00:17.212575\n",
      "Epoch: 5/80, train loss:  858.6664          test_loss:  694.5843, duration: 0:00:17.370282\n",
      "Epoch: 6/80, train loss:  585.5171          test_loss:  499.1119, duration: 0:00:17.380689\n",
      "Epoch: 7/80, train loss:  452.3155          test_loss:  393.4929, duration: 0:00:17.603635\n",
      "Epoch: 8/80, train loss:  361.9358          test_loss:  326.3677, duration: 0:00:17.447998\n",
      "Epoch: 9/80, train loss:  298.9434          test_loss:  250.3858, duration: 0:00:17.321948\n",
      "Epoch: 10/80, train loss:  254.8541          test_loss:  218.7052, duration: 0:00:17.640740\n",
      "Epoch: 11/80, train loss:  218.8262          test_loss:  223.9581, duration: 0:00:17.295126\n",
      "Epoch: 12/80, train loss:  202.5155          test_loss:  218.5570, duration: 0:00:17.220429\n",
      "Epoch: 13/80, train loss:  185.8756          test_loss:  177.8433, duration: 0:00:17.137798\n",
      "Epoch: 14/80, train loss:  174.8707          test_loss:  159.1854, duration: 0:00:17.296094\n",
      "Epoch: 15/80, train loss:  164.3379          test_loss:  143.6724, duration: 0:00:17.123012\n",
      "Epoch: 16/80, train loss:  152.3593          test_loss:  170.6509, duration: 0:00:17.262173\n",
      "Epoch: 17/80, train loss:  150.6371          test_loss:  145.9036, duration: 0:00:17.179289\n",
      "Epoch: 18/80, train loss:  139.6039          test_loss:  143.9512, duration: 0:00:17.022282\n",
      "Epoch: 19/80, train loss:  127.3801          test_loss:  125.8233, duration: 0:00:17.263319\n",
      "Epoch: 20/80, train loss:  129.0551          test_loss:  122.9915, duration: 0:00:16.969212\n",
      "Epoch: 21/80, train loss:  123.9213          test_loss:  126.5057, duration: 0:00:17.143653\n",
      "Epoch: 22/80, train loss:  115.7594          test_loss:  117.8324, duration: 0:00:17.024664\n",
      "Epoch: 23/80, train loss:  120.7523          test_loss:  116.9966, duration: 0:00:17.090551\n",
      "Epoch: 24/80, train loss:  117.0236          test_loss:  109.1910, duration: 0:00:17.159934\n",
      "Epoch: 25/80, train loss:  107.8347          test_loss:  111.4706, duration: 0:00:17.223061\n",
      "Epoch: 26/80, train loss:  104.0466          test_loss:  113.2253, duration: 0:00:17.375430\n",
      "Epoch: 27/80, train loss:  103.4808          test_loss:  100.6948, duration: 0:00:17.238276\n",
      "Epoch: 28/80, train loss:  98.9078          test_loss:  123.7878, duration: 0:00:17.554777\n",
      "Epoch: 29/80, train loss:  94.4648          test_loss:  94.0686, duration: 0:00:17.245730\n",
      "Epoch: 30/80, train loss:  100.7951          test_loss:  109.4554, duration: 0:00:17.497320\n",
      "Epoch: 31/80, train loss:  95.5700          test_loss:  105.6235, duration: 0:00:17.356694\n",
      "Epoch: 32/80, train loss:  90.1931          test_loss:  97.0444, duration: 0:00:17.643158\n",
      "Epoch: 33/80, train loss:  90.8390          test_loss:  92.6211, duration: 0:00:17.511472\n",
      "Epoch: 34/80, train loss:  96.6197          test_loss:  322.5273, duration: 0:00:17.362893\n",
      "Epoch: 35/80, train loss:  92.9742          test_loss:  94.1042, duration: 0:00:17.453613\n",
      "Epoch: 36/80, train loss:  80.9144          test_loss:  93.4625, duration: 0:00:17.367078\n",
      "Epoch: 37/80, train loss:  84.8718          test_loss:  86.2357, duration: 0:00:17.401453\n",
      "Epoch: 38/80, train loss:  83.4320          test_loss:  90.4938, duration: 0:00:17.334620\n",
      "Epoch: 39/80, train loss:  77.5954          test_loss:  84.9447, duration: 0:00:17.370820\n",
      "Epoch: 40/80, train loss:  80.5946          test_loss:  88.5996, duration: 0:00:17.265110\n",
      "Epoch: 41/80, train loss:  87.0721          test_loss:  83.3448, duration: 0:00:17.488648\n",
      "Epoch: 42/80, train loss:  76.2722          test_loss:  79.6264, duration: 0:00:17.080357\n",
      "Epoch: 43/80, train loss:  78.8076          test_loss:  98.5835, duration: 0:00:17.409188\n",
      "Epoch: 44/80, train loss:  78.2102          test_loss:  83.5355, duration: 0:00:17.656592\n",
      "Epoch: 45/80, train loss:  72.0912          test_loss:  79.1914, duration: 0:00:17.307631\n",
      "Epoch: 46/80, train loss:  74.9198          test_loss:  87.2165, duration: 0:00:17.477809\n",
      "Epoch: 47/80, train loss:  67.6253          test_loss:  76.7284, duration: 0:00:17.311027\n",
      "Epoch: 48/80, train loss:  68.1801          test_loss:  78.1218, duration: 0:00:17.358740\n",
      "Epoch: 49/80, train loss:  74.3303          test_loss:  79.7421, duration: 0:00:17.491103\n",
      "Epoch: 50/80, train loss:  66.6912          test_loss:  125.2189, duration: 0:00:17.395365\n",
      "Epoch: 51/80, train loss:  67.0551          test_loss:  71.9524, duration: 0:00:17.329416\n",
      "Epoch: 52/80, train loss:  74.8592          test_loss:  75.0406, duration: 0:00:17.301975\n",
      "Epoch: 53/80, train loss:  80.1962          test_loss:  77.3964, duration: 0:00:17.228245\n",
      "Epoch: 54/80, train loss:  68.6975          test_loss:  90.2984, duration: 0:00:16.945453\n",
      "Epoch: 55/80, train loss:  69.1961          test_loss:  88.5103, duration: 0:00:17.081749\n",
      "Epoch: 56/80, train loss:  67.0387          test_loss:  78.3057, duration: 0:00:16.889462\n",
      "Epoch: 57/80, train loss:  66.4373          test_loss:  77.8224, duration: 0:00:17.227306\n",
      "Epoch: 58/80, train loss:  65.7484          test_loss:  69.8368, duration: 0:00:17.049005\n",
      "Epoch: 59/80, train loss:  64.9020          test_loss:  69.3162, duration: 0:00:17.251469\n",
      "Epoch: 60/80, train loss:  62.9670          test_loss:  66.4667, duration: 0:00:17.153025\n",
      "Epoch: 61/80, train loss:  63.9445          test_loss:  169.2022, duration: 0:00:17.145058\n",
      "Epoch: 62/80, train loss:  72.2794          test_loss:  71.4664, duration: 0:00:17.217849\n",
      "Epoch: 63/80, train loss:  58.3807          test_loss:  69.2673, duration: 0:00:17.441987\n",
      "Epoch: 64/80, train loss:  69.7177          test_loss:  67.2610, duration: 0:00:17.389165\n",
      "Epoch: 65/80, train loss:  58.9045          test_loss:  73.5034, duration: 0:00:17.176746\n",
      "Epoch: 66/80, train loss:  59.6077          test_loss:  67.2421, duration: 0:00:17.445164\n",
      "Epoch: 67/80, train loss:  58.4486          test_loss:  169.9356, duration: 0:00:17.076001\n",
      "Epoch: 68/80, train loss:  66.5283          test_loss:  70.9002, duration: 0:00:17.396004\n",
      "Epoch: 69/80, train loss:  66.7422          test_loss:  66.2024, duration: 0:00:17.252400\n",
      "Epoch: 70/80, train loss:  55.4223          test_loss:  65.1465, duration: 0:00:17.450389\n",
      "Epoch: 71/80, train loss:  60.7543          test_loss:  67.3260, duration: 0:00:17.349253\n",
      "Epoch: 72/80, train loss:  73.8991          test_loss:  64.0782, duration: 0:00:17.839982\n",
      "Epoch: 73/80, train loss:  53.4534          test_loss:  66.3779, duration: 0:00:17.739039\n",
      "Epoch: 74/80, train loss:  53.4298          test_loss:  63.0012, duration: 0:00:17.194075\n",
      "Epoch: 75/80, train loss:  65.7126          test_loss:  62.9213, duration: 0:00:17.199504\n",
      "Epoch: 76/80, train loss:  68.2965          test_loss:  123.6600, duration: 0:00:17.309298\n",
      "Epoch: 77/80, train loss:  57.6589          test_loss:  64.2422, duration: 0:00:17.403920\n",
      "Epoch: 78/80, train loss:  52.4795          test_loss:  62.0619, duration: 0:00:17.054532\n",
      "Epoch: 79/80, train loss:  51.7123          test_loss:  64.8925, duration: 0:00:17.260554\n",
      "Epoch: 80/80, train loss:  51.2006          test_loss:  63.1798, duration: 0:00:17.141659\n"
     ]
    }
   ],
   "source": [
    "train_losses, test_losses=batch_gd(model2, criterion, optimizer,train_gen, test_gen, 80, device = device, cnn=False)"
   ]
  },
  {
   "cell_type": "code",
   "execution_count": 24,
   "id": "f27c70d5",
   "metadata": {
    "execution": {
     "iopub.execute_input": "2024-03-16T10:50:33.882586Z",
     "iopub.status.busy": "2024-03-16T10:50:33.882249Z",
     "iopub.status.idle": "2024-03-16T10:50:34.271029Z",
     "shell.execute_reply": "2024-03-16T10:50:34.269879Z"
    },
    "papermill": {
     "duration": 0.413761,
     "end_time": "2024-03-16T10:50:34.273491",
     "exception": false,
     "start_time": "2024-03-16T10:50:33.859730",
     "status": "completed"
    },
    "tags": []
   },
   "outputs": [
    {
     "data": {
      "image/png": "[encoded data removed]",
      "text/plain": [
       "<Figure size 640x480 with 1 Axes>"
      ]
     },
     "metadata": {},
     "output_type": "display_data"
    }
   ],
   "source": [
    "plot_losses(train_losses, test_losses)"
   ]
  },
  {
   "cell_type": "code",
   "execution_count": 25,
   "id": "881764d5",
   "metadata": {
    "execution": {
     "iopub.execute_input": "2024-03-16T10:50:34.338719Z",
     "iopub.status.busy": "2024-03-16T10:50:34.338339Z",
     "iopub.status.idle": "2024-03-16T10:50:40.925721Z",
     "shell.execute_reply": "2024-03-16T10:50:40.924700Z"
    },
    "papermill": {
     "duration": 6.621707,
     "end_time": "2024-03-16T10:50:40.927984",
     "exception": false,
     "start_time": "2024-03-16T10:50:34.306277",
     "status": "completed"
    },
    "tags": []
   },
   "outputs": [
    {
     "name": "stdout",
     "output_type": "stream",
     "text": [
      "Train acc: 0.0959, Test acc: 0.0941\n"
     ]
    }
   ],
   "source": [
    "train_acc, test_acc = calc_accuracy(model2, train_gen, test_gen, device = device, cnn= False)\n",
    "print(f\"Train acc: {train_acc:.4f}, Test acc: {test_acc:.4f}\")"
   ]
  },
  {
   "cell_type": "code",
   "execution_count": 26,
   "id": "077c373f",
   "metadata": {
    "execution": {
     "iopub.execute_input": "2024-03-16T10:50:40.976259Z",
     "iopub.status.busy": "2024-03-16T10:50:40.975676Z",
     "iopub.status.idle": "2024-03-16T10:50:40.984477Z",
     "shell.execute_reply": "2024-03-16T10:50:40.983606Z"
    },
    "papermill": {
     "duration": 0.034779,
     "end_time": "2024-03-16T10:50:40.986480",
     "exception": false,
     "start_time": "2024-03-16T10:50:40.951701",
     "status": "completed"
    },
    "tags": []
   },
   "outputs": [],
   "source": [
    "torch.save(model1, '/kaggle/working/saved_models/GRU_cicy4_h22.pt')"
   ]
  }
 ],
 "metadata": {
  "kaggle": {
   "accelerator": "gpu",
   "dataSources": [
    {
     "datasetId": 4575883,
     "sourceId": 7824074,
     "sourceType": "datasetVersion"
    }
   ],
   "dockerImageVersionId": 30664,
   "isGpuEnabled": true,
   "isInternetEnabled": true,
   "language": "python",
   "sourceType": "notebook"
  },
  "kernelspec": {
   "display_name": "Python 3",
   "language": "python",
   "name": "python3"
  },
  "language_info": {
   "codemirror_mode": {
    "name": "ipython",
    "version": 3
   },
   "file_extension": ".py",
   "mimetype": "text/x-python",
   "name": "python",
   "nbconvert_exporter": "python",
   "pygments_lexer": "ipython3",
   "version": "3.10.13"
  },
  "papermill": {
   "default_parameters": {},
   "duration": 2844.56137,
   "end_time": "2024-03-16T10:50:43.542053",
   "environment_variables": {},
   "exception": null,
   "input_path": "__notebook__.ipynb",
   "output_path": "__notebook__.ipynb",
   "parameters": {},
   "start_time": "2024-03-16T10:03:18.980683",
   "version": "2.5.0"
  }
 },
 "nbformat": 4,
 "nbformat_minor": 5
}
