{
 "cells": [
  {
   "cell_type": "markdown",
   "id": "bb390f85",
   "metadata": {
    "papermill": {
     "duration": 0.009685,
     "end_time": "2024-03-23T18:33:37.258343",
     "exception": false,
     "start_time": "2024-03-23T18:33:37.248658",
     "status": "completed"
    },
    "tags": []
   },
   "source": [
    "# CICY4: GRU-based for h11, h21, h31, h22\n",
    "\n",
    "In this version, we do a retraining of the best model so far (v5), obtained from the previous version of the notebook. "
   ]
  },
  {
   "cell_type": "code",
   "execution_count": 1,
   "id": "cc5d5bb5",
   "metadata": {
    "_cell_guid": "b1076dfc-b9ad-4769-8c92-a6c4dae69d19",
    "_uuid": "8f2839f25d086af736a60e9eeb907d3b93b6e0e5",
    "execution": {
     "iopub.execute_input": "2024-03-23T18:33:37.278960Z",
     "iopub.status.busy": "2024-03-23T18:33:37.278571Z",
     "iopub.status.idle": "2024-03-23T18:33:43.211694Z",
     "shell.execute_reply": "2024-03-23T18:33:43.210902Z"
    },
    "papermill": {
     "duration": 5.946454,
     "end_time": "2024-03-23T18:33:43.214117",
     "exception": false,
     "start_time": "2024-03-23T18:33:37.267663",
     "status": "completed"
    },
    "tags": []
   },
   "outputs": [],
   "source": [
    "import numpy as np\n",
    "import os as os\n",
    "import matplotlib.pyplot as plt\n",
    "import seaborn as sns\n",
    "from datetime import datetime\n",
    "sns.set_style(\"darkgrid\")\n",
    "\n",
    "import torch\n",
    "import torch.nn as nn\n",
    "import torch.nn.functional as F\n",
    "import torch.optim.lr_scheduler as lr_scheduler"
   ]
  },
  {
   "cell_type": "code",
   "execution_count": 2,
   "id": "0cd5779e",
   "metadata": {
    "execution": {
     "iopub.execute_input": "2024-03-23T18:33:43.233368Z",
     "iopub.status.busy": "2024-03-23T18:33:43.232868Z",
     "iopub.status.idle": "2024-03-23T18:33:55.855707Z",
     "shell.execute_reply": "2024-03-23T18:33:55.854753Z"
    },
    "papermill": {
     "duration": 12.634703,
     "end_time": "2024-03-23T18:33:55.857971",
     "exception": false,
     "start_time": "2024-03-23T18:33:43.223268",
     "status": "completed"
    },
    "tags": []
   },
   "outputs": [
    {
     "data": {
      "text/plain": [
       "((921497, 16, 20), (921497, 4), (921497,))"
      ]
     },
     "execution_count": 2,
     "metadata": {},
     "output_type": "execute_result"
    }
   ],
   "source": [
    "# load data\n",
    "path = '/kaggle/input/calabi-yau-cicy-4-folds'\n",
    "conf = np.load(os.path.join(path, 'conf.npy'))\n",
    "hodge = np.load(os.path.join(path, 'hodge.npy'))\n",
    "direct = np.load(os.path.join(path, 'direct.npy'))\n",
    "conf.shape, hodge.shape, direct.shape"
   ]
  },
  {
   "cell_type": "code",
   "execution_count": 3,
   "id": "8f7fa768",
   "metadata": {
    "execution": {
     "iopub.execute_input": "2024-03-23T18:33:55.878633Z",
     "iopub.status.busy": "2024-03-23T18:33:55.878296Z",
     "iopub.status.idle": "2024-03-23T18:33:55.900838Z",
     "shell.execute_reply": "2024-03-23T18:33:55.899794Z"
    },
    "papermill": {
     "duration": 0.035768,
     "end_time": "2024-03-23T18:33:55.903330",
     "exception": false,
     "start_time": "2024-03-23T18:33:55.867562",
     "status": "completed"
    },
    "tags": []
   },
   "outputs": [
    {
     "name": "stdout",
     "output_type": "stream",
     "text": [
      "Max h11: 24, Min h11: 0 \n",
      "Max h21: 33, Min h21: 0 \n",
      "Max h31: 426, Min h31: 0 \n",
      "Max h22: 1752, Min h22: 0 \n"
     ]
    }
   ],
   "source": [
    "X = conf\n",
    "h11 = hodge[:,0]\n",
    "h21 = hodge[:,1]\n",
    "h22 = hodge[:,3]\n",
    "h31 = hodge[:,2]\n",
    "h11max = np.max(hodge[:,0])\n",
    "h11min = np.min(hodge[:,0])\n",
    "print(f'Max h11: {h11max}, Min h11: {h11min} ')\n",
    "h21max = np.max(hodge[:,1])\n",
    "h21min = np.min(hodge[:,1])\n",
    "print(f'Max h21: {h21max}, Min h21: {h21min} ')\n",
    "h31max = np.max(hodge[:,2])\n",
    "h31min = np.min(hodge[:,2])\n",
    "print(f'Max h31: {h31max}, Min h31: {h31min} ')\n",
    "h22max = np.max(hodge[:,3])\n",
    "h22min = np.min(hodge[:,3])\n",
    "print(f'Max h22: {h22max}, Min h22: {h22min} ')"
   ]
  },
  {
   "cell_type": "markdown",
   "id": "32a8d1ad",
   "metadata": {
    "papermill": {
     "duration": 0.009244,
     "end_time": "2024-03-23T18:33:55.922255",
     "exception": false,
     "start_time": "2024-03-23T18:33:55.913011",
     "status": "completed"
    },
    "tags": []
   },
   "source": [
    "# Training loop with learning rate scheduler\n",
    "\n",
    "https://machinelearningmastery.com/using-learning-rate-schedule-in-pytorch-training/"
   ]
  },
  {
   "cell_type": "code",
   "execution_count": 4,
   "id": "dde0a31e",
   "metadata": {
    "execution": {
     "iopub.execute_input": "2024-03-23T18:33:55.942365Z",
     "iopub.status.busy": "2024-03-23T18:33:55.942033Z",
     "iopub.status.idle": "2024-03-23T18:33:55.953866Z",
     "shell.execute_reply": "2024-03-23T18:33:55.952990Z"
    },
    "papermill": {
     "duration": 0.024303,
     "end_time": "2024-03-23T18:33:55.955852",
     "exception": false,
     "start_time": "2024-03-23T18:33:55.931549",
     "status": "completed"
    },
    "tags": []
   },
   "outputs": [],
   "source": [
    "\n",
    "################## TRAINING LOOP #####################\n",
    "def batch_gd_scheduler(model, criterion, optimizer, train_gen, test_gen, scheduler, \n",
    "             epochs, device, batch_size=128,  cnn = False):\n",
    "  train_losses = np.zeros(epochs)\n",
    "  test_losses = np.zeros(epochs)\n",
    "  model.train()\n",
    "\n",
    "  for i in range(epochs):\n",
    "    t0 = datetime.now()\n",
    "    train_loss = []\n",
    "    for inputs, target in train_gen():\n",
    "        if cnn:\n",
    "            inputs = inputs.view(batch_size,1,16,20)\n",
    "        inputs, target = inputs.to(device), target.to(device)\n",
    "\n",
    "        optimizer.zero_grad()\n",
    "        out = model(inputs)\n",
    "        loss = criterion(out, target)\n",
    "        loss.backward()\n",
    "        optimizer.step() \n",
    "        train_loss.append(loss.item())\n",
    "\n",
    "    train_loss = np.mean(train_loss)\n",
    "\n",
    "    test_loss = []\n",
    "    for inputs, target in test_gen():\n",
    "        if cnn:\n",
    "            inputs = inputs.view(batch_size,1,16,20)\n",
    "        inputs, target = inputs.to(device), target.to(device)\n",
    "        out = model(inputs)\n",
    "        loss = criterion(out, target)\n",
    "        test_loss.append(loss.item())\n",
    "        \n",
    "    test_loss = np.mean(test_loss) \n",
    "    train_losses[i] = train_loss\n",
    "    test_losses[i] = test_loss\n",
    "    \n",
    "    #Apply scheduler after the train+validate parts\n",
    "    before_lr = optimizer.param_groups[0][\"lr\"]\n",
    "    scheduler.step(test_loss)\n",
    "    after_lr = optimizer.param_groups[0][\"lr\"]\n",
    "\n",
    "    dt = datetime.now()-t0\n",
    "    print(f'Epoch: {i+1}/{epochs}, train loss: {train_loss: .4f}\\\n",
    "          test_loss: {test_loss: .4f}, duration: {dt}, \\\n",
    "          learning rate: {before_lr, after_lr}')\n",
    "  return train_losses, test_losses"
   ]
  },
  {
   "cell_type": "code",
   "execution_count": 5,
   "id": "94eedea6",
   "metadata": {
    "execution": {
     "iopub.execute_input": "2024-03-23T18:33:55.976025Z",
     "iopub.status.busy": "2024-03-23T18:33:55.975770Z",
     "iopub.status.idle": "2024-03-23T18:33:55.982378Z",
     "shell.execute_reply": "2024-03-23T18:33:55.981591Z"
    },
    "papermill": {
     "duration": 0.018755,
     "end_time": "2024-03-23T18:33:55.984242",
     "exception": false,
     "start_time": "2024-03-23T18:33:55.965487",
     "status": "completed"
    },
    "tags": []
   },
   "outputs": [],
   "source": [
    "def train_from_scratch_or_load(load_model_weight,  cnn = False):\n",
    "    \n",
    "    if load_model_weight==None:\n",
    "        criterion = nn.MSELoss()\n",
    "        optimizer = torch.optim.Adam(model.parameters())\n",
    "        train_losses, test_losses=batch_gd_scheduler(model, criterion, \n",
    "                                                     optimizer,train_gen, test_gen,\n",
    "                                                      scheduler, epochs, \n",
    "                                                       device = device, cnn=cnn)\n",
    "        return train_losses, test_losses\n",
    "    else:\n",
    "        if torch.cuda.is_available():\n",
    "            trained_model = torch.load(load_model_weight)     \n",
    "        else:\n",
    "            trained_model = torch.load(load_model_weight, map_location=torch.device('cpu'))       \n",
    "        return trained_model"
   ]
  },
  {
   "cell_type": "code",
   "execution_count": 6,
   "id": "55abd4c6",
   "metadata": {
    "execution": {
     "iopub.execute_input": "2024-03-23T18:33:56.003409Z",
     "iopub.status.busy": "2024-03-23T18:33:56.002866Z",
     "iopub.status.idle": "2024-03-23T18:33:56.009169Z",
     "shell.execute_reply": "2024-03-23T18:33:56.008402Z"
    },
    "papermill": {
     "duration": 0.017933,
     "end_time": "2024-03-23T18:33:56.011097",
     "exception": false,
     "start_time": "2024-03-23T18:33:55.993164",
     "status": "completed"
    },
    "tags": []
   },
   "outputs": [],
   "source": [
    "def load_and_retrain(load_model_weight, new_model_name, epochs, cnn=False):\n",
    "    trained_model = torch.load(load_model_weight) \n",
    "    criterion = nn.MSELoss()\n",
    "    optimizer = torch.optim.Adam(trained_model.parameters(),lr=0.0001)\n",
    "    scheduler = lr_scheduler.ReduceLROnPlateau(optimizer, 'min', factor=0.1, patience=5, threshold=0.001)\n",
    "    trained_model.train()\n",
    "    train_losses, test_losses=batch_gd_scheduler(trained_model, criterion, optimizer,\n",
    "                                                 train_gen, test_gen, \n",
    "                                                 scheduler, epochs, \n",
    "                                                device = device, cnn=cnn)\n",
    "    torch.save(trained_model,f'/kaggle/working/saved_models/{new_model_name}.pt')\n",
    "    print(f'Moved saved as {new_model_name}')\n",
    "    return trained_model, train_losses, test_losses"
   ]
  },
  {
   "cell_type": "markdown",
   "id": "84fc4000",
   "metadata": {
    "papermill": {
     "duration": 0.008895,
     "end_time": "2024-03-23T18:33:56.028915",
     "exception": false,
     "start_time": "2024-03-23T18:33:56.020020",
     "status": "completed"
    },
    "tags": []
   },
   "source": [
    "# Import predefined functions and prepare data"
   ]
  },
  {
   "cell_type": "code",
   "execution_count": 7,
   "id": "248ce929",
   "metadata": {
    "execution": {
     "iopub.execute_input": "2024-03-23T18:33:56.047939Z",
     "iopub.status.busy": "2024-03-23T18:33:56.047689Z",
     "iopub.status.idle": "2024-03-23T18:33:56.166620Z",
     "shell.execute_reply": "2024-03-23T18:33:56.165890Z"
    },
    "papermill": {
     "duration": 0.131143,
     "end_time": "2024-03-23T18:33:56.168965",
     "exception": false,
     "start_time": "2024-03-23T18:33:56.037822",
     "status": "completed"
    },
    "tags": []
   },
   "outputs": [],
   "source": [
    "import sys\n",
    "sys.path.append('/kaggle/input/calabi-yau-cicy-4-folds')\n",
    "from CICY4_functions import data_generator"
   ]
  },
  {
   "cell_type": "code",
   "execution_count": 8,
   "id": "a110276f",
   "metadata": {
    "execution": {
     "iopub.execute_input": "2024-03-23T18:33:56.188467Z",
     "iopub.status.busy": "2024-03-23T18:33:56.188184Z",
     "iopub.status.idle": "2024-03-23T18:33:56.416723Z",
     "shell.execute_reply": "2024-03-23T18:33:56.415938Z"
    },
    "papermill": {
     "duration": 0.240824,
     "end_time": "2024-03-23T18:33:56.419005",
     "exception": false,
     "start_time": "2024-03-23T18:33:56.178181",
     "status": "completed"
    },
    "tags": []
   },
   "outputs": [],
   "source": [
    "from sklearn.model_selection import train_test_split\n",
    "\n",
    "def train_test(X, y):\n",
    "    X_train,  X_test, y_train, y_test = train_test_split(X, y, test_size = 0.2, random_state = 101, shuffle = True)\n",
    "    \n",
    "    X_train = torch.from_numpy(X_train.astype(np.float32))\n",
    "    #only need reshape if the y dimension is 1\n",
    "    #y_train = torch.from_numpy(y_train.astype(np.float32).reshape(-1, 1))\n",
    "    y_train = torch.from_numpy(y_train.astype(np.float32))\n",
    "\n",
    "    X_test = torch.from_numpy(X_test.astype(np.float32))\n",
    "    #y_test = torch.from_numpy(y_test.astype(np.float32).reshape(-1, 1))\n",
    "    y_test = torch.from_numpy(y_test.astype(np.float32))                         \n",
    "    \n",
    "    print(f'X_train shape: {X_train.shape}, \\n y_train shape:{y_train.shape},\\\n",
    "                 \\n X_test shape: {X_test.shape}, \\n y_test shape:{y_test.shape}')\n",
    "    return X_train, X_test, y_train, y_test"
   ]
  },
  {
   "cell_type": "code",
   "execution_count": 9,
   "id": "70789839",
   "metadata": {
    "execution": {
     "iopub.execute_input": "2024-03-23T18:33:56.438418Z",
     "iopub.status.busy": "2024-03-23T18:33:56.438151Z",
     "iopub.status.idle": "2024-03-23T18:33:56.442561Z",
     "shell.execute_reply": "2024-03-23T18:33:56.441803Z"
    },
    "papermill": {
     "duration": 0.016418,
     "end_time": "2024-03-23T18:33:56.444522",
     "exception": false,
     "start_time": "2024-03-23T18:33:56.428104",
     "status": "completed"
    },
    "tags": []
   },
   "outputs": [],
   "source": [
    "if not os.path.exists('saved_models'):\n",
    "    os.makedirs('saved_models')"
   ]
  },
  {
   "cell_type": "code",
   "execution_count": 10,
   "id": "3cd692af",
   "metadata": {
    "execution": {
     "iopub.execute_input": "2024-03-23T18:33:56.463634Z",
     "iopub.status.busy": "2024-03-23T18:33:56.463330Z",
     "iopub.status.idle": "2024-03-23T18:33:56.519524Z",
     "shell.execute_reply": "2024-03-23T18:33:56.518547Z"
    },
    "papermill": {
     "duration": 0.068548,
     "end_time": "2024-03-23T18:33:56.521825",
     "exception": false,
     "start_time": "2024-03-23T18:33:56.453277",
     "status": "completed"
    },
    "tags": []
   },
   "outputs": [
    {
     "name": "stdout",
     "output_type": "stream",
     "text": [
      "cuda:0\n"
     ]
    }
   ],
   "source": [
    "device = torch.device(\"cuda:0\" if torch.cuda.is_available() else \"cpu\")\n",
    "print(device)"
   ]
  },
  {
   "cell_type": "code",
   "execution_count": 11,
   "id": "9161bf2a",
   "metadata": {
    "execution": {
     "iopub.execute_input": "2024-03-23T18:33:56.541585Z",
     "iopub.status.busy": "2024-03-23T18:33:56.541248Z",
     "iopub.status.idle": "2024-03-23T18:33:56.545889Z",
     "shell.execute_reply": "2024-03-23T18:33:56.545044Z"
    },
    "papermill": {
     "duration": 0.016702,
     "end_time": "2024-03-23T18:33:56.547819",
     "exception": false,
     "start_time": "2024-03-23T18:33:56.531117",
     "status": "completed"
    },
    "tags": []
   },
   "outputs": [],
   "source": [
    "def plot_losses(train_losses, test_losses):\n",
    "    # Plot the train loss and test loss per iteration\n",
    "    plt.plot(train_losses, label='train loss')\n",
    "    plt.plot(test_losses, label='test loss')\n",
    "    plt.legend()\n",
    "    plt.show()"
   ]
  },
  {
   "cell_type": "code",
   "execution_count": 12,
   "id": "ccecbd64",
   "metadata": {
    "execution": {
     "iopub.execute_input": "2024-03-23T18:33:56.568170Z",
     "iopub.status.busy": "2024-03-23T18:33:56.567758Z",
     "iopub.status.idle": "2024-03-23T18:33:56.585317Z",
     "shell.execute_reply": "2024-03-23T18:33:56.584335Z"
    },
    "papermill": {
     "duration": 0.030275,
     "end_time": "2024-03-23T18:33:56.587412",
     "exception": false,
     "start_time": "2024-03-23T18:33:56.557137",
     "status": "completed"
    },
    "tags": []
   },
   "outputs": [],
   "source": [
    "################## ACCURACY CALCULATION #####################\n",
    "def calc_accuracy_mr(model, train_gen, test_gen, device, cnn = False):\n",
    "    model.eval()\n",
    "    n_correct_h11 = 0.\n",
    "    n_total_h11 = 0.\n",
    "    n_correct_h21 = 0.\n",
    "    n_total_h21 = 0.\n",
    "    n_correct_h31 = 0.\n",
    "    n_total_h31 = 0.\n",
    "    n_correct_h22 = 0.\n",
    "    n_total_h22 = 0.\n",
    "    \n",
    "    batch_size =128\n",
    "    \n",
    "    for inputs, target in train_gen():\n",
    "        if cnn:\n",
    "            inputs = inputs.view(batch_size,1,16,20)\n",
    "        inputs, target = inputs.to(device), target.to(device)\n",
    "        #Perform the prediction\n",
    "        #round up the prediction to the nearest integer\n",
    "        ypred = torch.round(model(inputs))\n",
    "        yp_h11 = ypred[:,0]\n",
    "        yp_h21 = ypred[:,1]\n",
    "        yp_h31 = ypred[:,2]\n",
    "        yp_h22 = ypred[:,3]\n",
    "        tg_h11 = target[:,0]\n",
    "        tg_h21 = target[:,1]\n",
    "        tg_h31 = target[:,2]\n",
    "        tg_h22 = target[:,3]\n",
    "        # update counts\n",
    "        n_correct_h11 += (yp_h11 == tg_h11).sum().item()\n",
    "        n_total_h11 += tg_h11.shape[0]\n",
    "        n_correct_h21 += (yp_h21 == tg_h21).sum().item()\n",
    "        n_total_h21 += tg_h21.shape[0]\n",
    "        n_correct_h31 += (yp_h31 == tg_h31).sum().item()\n",
    "        n_total_h31 += tg_h31.shape[0]\n",
    "        n_correct_h22 += (yp_h22 == tg_h22).sum().item()\n",
    "        n_total_h22 += tg_h22.shape[0]\n",
    "    train_acc_h11 = n_correct_h11 / n_total_h11\n",
    "    train_acc_h21 = n_correct_h21 / n_total_h21\n",
    "    train_acc_h31 = n_correct_h31 / n_total_h31\n",
    "    train_acc_h22 = n_correct_h22 / n_total_h22\n",
    "    \n",
    "    #TEST SET\n",
    "    n_correct_h11 = 0.\n",
    "    n_total_h11 = 0.\n",
    "    n_correct_h21 = 0.\n",
    "    n_total_h21 = 0.\n",
    "    n_correct_h31 = 0.\n",
    "    n_total_h31 = 0.\n",
    "    n_correct_h22 = 0.\n",
    "    n_total_h22 = 0.\n",
    "    for inputs, target in test_gen():\n",
    "        if cnn:\n",
    "            inputs = inputs.view(batch_size,1,16,20)\n",
    "        inputs, target = inputs.to(device), target.to(device)\n",
    "        \n",
    "        # Forward pass\n",
    "        ypred = torch.round(model(inputs))\n",
    "        yp_h11 = ypred[:,0]\n",
    "        yp_h21 = ypred[:,1]\n",
    "        yp_h31 = ypred[:,2]\n",
    "        yp_h22 = ypred[:,3]\n",
    "        tg_h11 = target[:,0]\n",
    "        tg_h21 = target[:,1]\n",
    "        tg_h31 = target[:,2]\n",
    "        tg_h22 = target[:,3]\n",
    "        # update counts\n",
    "        n_correct_h11 += (yp_h11 == tg_h11).sum().item()\n",
    "        n_total_h11 += tg_h11.shape[0]\n",
    "        n_correct_h21 += (yp_h21 == tg_h21).sum().item()\n",
    "        n_total_h21 += tg_h21.shape[0]\n",
    "        n_correct_h31 += (yp_h31 == tg_h31).sum().item()\n",
    "        n_total_h31 += tg_h31.shape[0]\n",
    "        n_correct_h22 += (yp_h22 == tg_h22).sum().item()\n",
    "        n_total_h22 += tg_h22.shape[0]\n",
    "    test_acc_h11 = n_correct_h11 / n_total_h11\n",
    "    test_acc_h21 = n_correct_h21 / n_total_h21\n",
    "    test_acc_h31 = n_correct_h31 / n_total_h31\n",
    "    test_acc_h22 = n_correct_h22 / n_total_h22\n",
    "    \n",
    "    train_acc = [train_acc_h11,train_acc_h21,train_acc_h31,train_acc_h22]\n",
    "    test_acc = [test_acc_h11,test_acc_h21,test_acc_h31,test_acc_h22]\n",
    "\n",
    "    return train_acc, test_acc"
   ]
  },
  {
   "cell_type": "markdown",
   "id": "5ef7eb48",
   "metadata": {
    "papermill": {
     "duration": 0.009193,
     "end_time": "2024-03-23T18:33:56.606124",
     "exception": false,
     "start_time": "2024-03-23T18:33:56.596931",
     "status": "completed"
    },
    "tags": []
   },
   "source": [
    "# Check train/test data distribution"
   ]
  },
  {
   "cell_type": "code",
   "execution_count": 13,
   "id": "0f01f90a",
   "metadata": {
    "execution": {
     "iopub.execute_input": "2024-03-23T18:33:56.625827Z",
     "iopub.status.busy": "2024-03-23T18:33:56.625533Z",
     "iopub.status.idle": "2024-03-23T18:33:56.662405Z",
     "shell.execute_reply": "2024-03-23T18:33:56.661460Z"
    },
    "papermill": {
     "duration": 0.048985,
     "end_time": "2024-03-23T18:33:56.664727",
     "exception": false,
     "start_time": "2024-03-23T18:33:56.615742",
     "status": "completed"
    },
    "tags": []
   },
   "outputs": [],
   "source": [
    "y = np.zeros((921497,4))\n",
    "y[:,0] = h11\n",
    "y[:,1] = h21\n",
    "y[:,2] = h31\n",
    "y[:,3] = h22"
   ]
  },
  {
   "cell_type": "code",
   "execution_count": 14,
   "id": "ebc7c0fe",
   "metadata": {
    "execution": {
     "iopub.execute_input": "2024-03-23T18:33:56.684305Z",
     "iopub.status.busy": "2024-03-23T18:33:56.684030Z",
     "iopub.status.idle": "2024-03-23T18:33:58.019121Z",
     "shell.execute_reply": "2024-03-23T18:33:58.018181Z"
    },
    "papermill": {
     "duration": 1.347259,
     "end_time": "2024-03-23T18:33:58.021341",
     "exception": false,
     "start_time": "2024-03-23T18:33:56.674082",
     "status": "completed"
    },
    "tags": []
   },
   "outputs": [
    {
     "name": "stdout",
     "output_type": "stream",
     "text": [
      "X_train shape: torch.Size([737197, 16, 20]), \n",
      " y_train shape:torch.Size([737197, 4]),                 \n",
      " X_test shape: torch.Size([184300, 16, 20]), \n",
      " y_test shape:torch.Size([184300, 4])\n"
     ]
    }
   ],
   "source": [
    "X_train, X_test, y_train, y_test = train_test(X, y)"
   ]
  },
  {
   "cell_type": "code",
   "execution_count": 15,
   "id": "72ea940b",
   "metadata": {
    "execution": {
     "iopub.execute_input": "2024-03-23T18:33:58.041030Z",
     "iopub.status.busy": "2024-03-23T18:33:58.040474Z",
     "iopub.status.idle": "2024-03-23T18:33:58.044902Z",
     "shell.execute_reply": "2024-03-23T18:33:58.044011Z"
    },
    "papermill": {
     "duration": 0.016661,
     "end_time": "2024-03-23T18:33:58.047023",
     "exception": false,
     "start_time": "2024-03-23T18:33:58.030362",
     "status": "completed"
    },
    "tags": []
   },
   "outputs": [],
   "source": [
    "train_gen = lambda: data_generator(X_train, y_train)\n",
    "test_gen = lambda: data_generator(X_test, y_test)"
   ]
  },
  {
   "cell_type": "code",
   "execution_count": 16,
   "id": "3322e9b2",
   "metadata": {
    "execution": {
     "iopub.execute_input": "2024-03-23T18:33:58.066699Z",
     "iopub.status.busy": "2024-03-23T18:33:58.066395Z",
     "iopub.status.idle": "2024-03-23T18:34:12.110492Z",
     "shell.execute_reply": "2024-03-23T18:34:12.109545Z"
    },
    "papermill": {
     "duration": 14.05625,
     "end_time": "2024-03-23T18:34:12.112615",
     "exception": false,
     "start_time": "2024-03-23T18:33:58.056365",
     "status": "completed"
    },
    "tags": []
   },
   "outputs": [
    {
     "data": {
      "image/png": "[encoded data removed]",
      "text/plain": [
       "<Figure size 1600x1600 with 4 Axes>"
      ]
     },
     "metadata": {},
     "output_type": "display_data"
    }
   ],
   "source": [
    "fig, ax = plt.subplots(2,2, figsize = (16,16))\n",
    "ax[0,0].hist(y_test[:,0], bins=range(h11min, h11max+1), alpha=0.5)\n",
    "ax[0,0].set_title('$h^{(1,1)}$')\n",
    "#ax[0,0].ylabel('count')\n",
    "ax[0,0].set_yscale('log')\n",
    "\n",
    "ax[0,1].hist(y_test[:,1], bins=range(h21min, h21max+1), alpha=0.5)\n",
    "ax[0,1].set_title('$h^{(2,1)}$')\n",
    "#ax[0,0].ylabel('count')\n",
    "ax[0,1].set_yscale('log')\n",
    "\n",
    "ax[1,0].hist(y_test[:,2], bins=range(h31min, h31max+1, 2), alpha=0.5)\n",
    "ax[1,0].set_title('$h^{(3,1)}$')\n",
    "#ax[0,0].ylabel('count')\n",
    "ax[1,0].set_yscale('log')\n",
    "\n",
    "ax[1,1].hist(y_test[:,3], bins=range(h22min, h22max+1,10), alpha=0.5)\n",
    "ax[1,1].set_title('$h^{(2,2)}$')\n",
    "#ax[0,0].ylabel('count')\n",
    "ax[1,1].set_yscale('log')"
   ]
  },
  {
   "cell_type": "code",
   "execution_count": 17,
   "id": "5619d38b",
   "metadata": {
    "execution": {
     "iopub.execute_input": "2024-03-23T18:34:12.133626Z",
     "iopub.status.busy": "2024-03-23T18:34:12.133333Z",
     "iopub.status.idle": "2024-03-23T18:34:55.042959Z",
     "shell.execute_reply": "2024-03-23T18:34:55.042045Z"
    },
    "papermill": {
     "duration": 42.933619,
     "end_time": "2024-03-23T18:34:55.056168",
     "exception": false,
     "start_time": "2024-03-23T18:34:12.122549",
     "status": "completed"
    },
    "tags": []
   },
   "outputs": [
    {
     "data": {
      "image/png": "[encoded data removed]",
      "text/plain": [
       "<Figure size 1600x1600 with 4 Axes>"
      ]
     },
     "metadata": {},
     "output_type": "display_data"
    }
   ],
   "source": [
    "fig, ax = plt.subplots(2,2, figsize = (16,16))\n",
    "ax[0,0].hist(y_train[:,0], bins=range(h11min, h11max+1), alpha=0.5)\n",
    "ax[0,0].set_title('$h^{(1,1)}$')\n",
    "#ax[0,0].ylabel('count')\n",
    "ax[0,0].set_yscale('log')\n",
    "\n",
    "ax[0,1].hist(y_train[:,1], bins=range(h21min, h21max+1), alpha=0.5)\n",
    "ax[0,1].set_title('$h^{(2,1)}$')\n",
    "#ax[0,0].ylabel('count')\n",
    "ax[0,1].set_yscale('log')\n",
    "\n",
    "ax[1,0].hist(y_train[:,2], bins=range(h31min, h31max+1, 2), alpha=0.5)\n",
    "ax[1,0].set_title('$h^{(3,1)}$')\n",
    "#ax[0,0].ylabel('count')\n",
    "ax[1,0].set_yscale('log')\n",
    "\n",
    "ax[1,1].hist(y_train[:,3], bins=range(h22min, h22max+1,10), alpha=0.5)\n",
    "ax[1,1].set_title('$h^{(2,2)}$')\n",
    "#ax[0,0].ylabel('count')\n",
    "ax[1,1].set_yscale('log')"
   ]
  },
  {
   "cell_type": "markdown",
   "id": "2d415082",
   "metadata": {
    "papermill": {
     "duration": 0.010258,
     "end_time": "2024-03-23T18:34:55.077128",
     "exception": false,
     "start_time": "2024-03-23T18:34:55.066870",
     "status": "completed"
    },
    "tags": []
   },
   "source": [
    "Both the distributions corresponding to the train and test labels look similar, which is what we want."
   ]
  },
  {
   "cell_type": "markdown",
   "id": "dd5ea8fc",
   "metadata": {
    "papermill": {
     "duration": 0.010425,
     "end_time": "2024-03-23T18:34:55.098556",
     "exception": false,
     "start_time": "2024-03-23T18:34:55.088131",
     "status": "completed"
    },
    "tags": []
   },
   "source": [
    "# RNN model with GRU layers"
   ]
  },
  {
   "cell_type": "code",
   "execution_count": 18,
   "id": "30d63d96",
   "metadata": {
    "execution": {
     "iopub.execute_input": "2024-03-23T18:34:55.121310Z",
     "iopub.status.busy": "2024-03-23T18:34:55.120960Z",
     "iopub.status.idle": "2024-03-23T18:34:55.130043Z",
     "shell.execute_reply": "2024-03-23T18:34:55.129116Z"
    },
    "papermill": {
     "duration": 0.023039,
     "end_time": "2024-03-23T18:34:55.132024",
     "exception": false,
     "start_time": "2024-03-23T18:34:55.108985",
     "status": "completed"
    },
    "tags": []
   },
   "outputs": [],
   "source": [
    "class RNN_cicy4(nn.Module):\n",
    "    def __init__(self, n_inputs, n_hidden, n_rnnlayers, n_outputs):\n",
    "        super(RNN_cicy4,self).__init__()\n",
    "        self.D = n_inputs\n",
    "        self.M = n_hidden\n",
    "        self.K = n_outputs\n",
    "        self.L = n_rnnlayers        \n",
    "        #self.lstm = nn.LSTM(input_size = self.D,\n",
    "        #                   hidden_size = self.M,\n",
    "        #                   num_layers = self.L,\n",
    "        #                   batch_first = True)    \n",
    "        self.gru = nn.GRU(input_size = self.D,\n",
    "                           hidden_size = self.M,\n",
    "                           num_layers = self.L,\n",
    "                           batch_first = True)\n",
    "        self.fc1 = nn.Linear(self.M, 128)\n",
    "        self.fc2 = nn.Linear(128, self.K)\n",
    "       \n",
    "    def forward(self, X):\n",
    "        #input X is NxTxD\n",
    "        #initial hidden states\n",
    "        h0 = torch.zeros(self.L, X.size(0), self.M).to(device)\n",
    "        #c0 = torch.zeros(self.L, X.size(0), self.M).to(device)\n",
    "        #get LSTM unit output:\n",
    "        #output is NxTxM\n",
    "        #out, _ = self.lstm(X, (h0,c0))\n",
    "        out, _ = self.gru(X, h0)   \n",
    "        #we only want h(T) at the final time step\n",
    "        out = out[:, -1, :]\n",
    "        out = F.relu(self.fc1(out))\n",
    "        out = self.fc2(out)\n",
    "\n",
    "        return out"
   ]
  },
  {
   "cell_type": "code",
   "execution_count": 19,
   "id": "577e85be",
   "metadata": {
    "execution": {
     "iopub.execute_input": "2024-03-23T18:34:55.154677Z",
     "iopub.status.busy": "2024-03-23T18:34:55.154369Z",
     "iopub.status.idle": "2024-03-23T18:34:55.158422Z",
     "shell.execute_reply": "2024-03-23T18:34:55.157536Z"
    },
    "papermill": {
     "duration": 0.017762,
     "end_time": "2024-03-23T18:34:55.160429",
     "exception": false,
     "start_time": "2024-03-23T18:34:55.142667",
     "status": "completed"
    },
    "tags": []
   },
   "outputs": [],
   "source": [
    "#( n_inputs, n_hidden, n_rnnlayers, n_outputs)\n",
    "# n_inputs = D = # of columns: 20, T = 16\n",
    "#input shape is NxTxD: Nx16x20\n",
    "#model = RNN_cicy4(20, 128, 10, 4)\n",
    "#model = RNN_cicy4(20, 100, 8, 4)\n",
    "#model.to(device)"
   ]
  },
  {
   "cell_type": "code",
   "execution_count": 20,
   "id": "dd831de5",
   "metadata": {
    "execution": {
     "iopub.execute_input": "2024-03-23T18:34:55.183778Z",
     "iopub.status.busy": "2024-03-23T18:34:55.183407Z",
     "iopub.status.idle": "2024-03-23T18:34:55.188653Z",
     "shell.execute_reply": "2024-03-23T18:34:55.187881Z"
    },
    "papermill": {
     "duration": 0.019313,
     "end_time": "2024-03-23T18:34:55.190691",
     "exception": false,
     "start_time": "2024-03-23T18:34:55.171378",
     "status": "completed"
    },
    "tags": []
   },
   "outputs": [],
   "source": [
    "#count the number of parameters in the model\n",
    "#params = [p.numel() for p in model.parameters() if p.requires_grad]\n",
    "#print(sum(params))"
   ]
  },
  {
   "cell_type": "markdown",
   "id": "82b2d2c7",
   "metadata": {
    "papermill": {
     "duration": 0.010769,
     "end_time": "2024-03-23T18:34:55.212320",
     "exception": false,
     "start_time": "2024-03-23T18:34:55.201551",
     "status": "completed"
    },
    "tags": []
   },
   "source": [
    "# Load and retrain model"
   ]
  },
  {
   "cell_type": "code",
   "execution_count": 21,
   "id": "b81f1c05",
   "metadata": {
    "execution": {
     "iopub.execute_input": "2024-03-23T18:34:55.234981Z",
     "iopub.status.busy": "2024-03-23T18:34:55.234645Z",
     "iopub.status.idle": "2024-03-23T18:34:55.442829Z",
     "shell.execute_reply": "2024-03-23T18:34:55.441841Z"
    },
    "papermill": {
     "duration": 0.2222,
     "end_time": "2024-03-23T18:34:55.445235",
     "exception": false,
     "start_time": "2024-03-23T18:34:55.223035",
     "status": "completed"
    },
    "tags": []
   },
   "outputs": [],
   "source": [
    "gru_model_weight = '/kaggle/input/calabi-yau-cicy-4-folds/GRU_cicy4_Hodge_v5.pt'\n",
    "trained_gru = train_from_scratch_or_load(gru_model_weight, cnn = False)"
   ]
  },
  {
   "cell_type": "code",
   "execution_count": 22,
   "id": "70ca902f",
   "metadata": {
    "execution": {
     "iopub.execute_input": "2024-03-23T18:34:55.467953Z",
     "iopub.status.busy": "2024-03-23T18:34:55.467653Z",
     "iopub.status.idle": "2024-03-23T18:34:55.474592Z",
     "shell.execute_reply": "2024-03-23T18:34:55.473758Z"
    },
    "papermill": {
     "duration": 0.020363,
     "end_time": "2024-03-23T18:34:55.476587",
     "exception": false,
     "start_time": "2024-03-23T18:34:55.456224",
     "status": "completed"
    },
    "tags": []
   },
   "outputs": [
    {
     "data": {
      "text/plain": [
       "RNN_cicy4(\n",
       "  (gru): GRU(20, 100, num_layers=8, batch_first=True)\n",
       "  (fc1): Linear(in_features=100, out_features=128, bias=True)\n",
       "  (fc2): Linear(in_features=128, out_features=4, bias=True)\n",
       ")"
      ]
     },
     "execution_count": 22,
     "metadata": {},
     "output_type": "execute_result"
    }
   ],
   "source": [
    "trained_gru"
   ]
  },
  {
   "cell_type": "code",
   "execution_count": 23,
   "id": "58d57ce5",
   "metadata": {
    "execution": {
     "iopub.execute_input": "2024-03-23T18:34:55.498929Z",
     "iopub.status.busy": "2024-03-23T18:34:55.498652Z",
     "iopub.status.idle": "2024-03-23T18:35:16.061270Z",
     "shell.execute_reply": "2024-03-23T18:35:16.060287Z"
    },
    "papermill": {
     "duration": 20.576297,
     "end_time": "2024-03-23T18:35:16.063422",
     "exception": false,
     "start_time": "2024-03-23T18:34:55.487125",
     "status": "completed"
    },
    "tags": []
   },
   "outputs": [
    {
     "name": "stdout",
     "output_type": "stream",
     "text": [
      "Train accuracy for h11:0.7202, Test accuracy for h11: 0.7194\n",
      "Train accuracy for h21:0.6606, Test accuracy for h21: 0.6564\n",
      "Train accuracy for h31:0.3886, Test accuracy for h31: 0.3659\n",
      "Train accuracy for h22:0.1638, Test accuracy for h22: 0.1545\n"
     ]
    }
   ],
   "source": [
    "prev_train_acc, prev_test_acc = calc_accuracy_mr(trained_gru, train_gen , test_gen, device = device, cnn= False)\n",
    "print(f'Train accuracy for h11:{prev_train_acc[0]:.4f}, Test accuracy for h11: {prev_test_acc[0]:.4f}')\n",
    "print(f'Train accuracy for h21:{prev_train_acc[1]:.4f}, Test accuracy for h21: {prev_test_acc[1]:.4f}')\n",
    "print(f'Train accuracy for h31:{prev_train_acc[2]:.4f}, Test accuracy for h31: {prev_test_acc[2]:.4f}')\n",
    "print(f'Train accuracy for h22:{prev_train_acc[3]:.4f}, Test accuracy for h22: {prev_test_acc[3]:.4f}')"
   ]
  },
  {
   "cell_type": "code",
   "execution_count": 24,
   "id": "9e6c1d19",
   "metadata": {
    "execution": {
     "iopub.execute_input": "2024-03-23T18:35:16.086508Z",
     "iopub.status.busy": "2024-03-23T18:35:16.086231Z",
     "iopub.status.idle": "2024-03-23T19:35:31.072380Z",
     "shell.execute_reply": "2024-03-23T19:35:31.071393Z"
    },
    "papermill": {
     "duration": 3615.019044,
     "end_time": "2024-03-23T19:35:31.093443",
     "exception": false,
     "start_time": "2024-03-23T18:35:16.074399",
     "status": "completed"
    },
    "tags": []
   },
   "outputs": [
    {
     "name": "stdout",
     "output_type": "stream",
     "text": [
      "Epoch: 1/100, train loss:  5.8401          test_loss:  9.6406, duration: 0:00:36.538807,           learning rate: (0.0001, 0.0001)\n",
      "Epoch: 2/100, train loss:  5.7763          test_loss:  9.6935, duration: 0:00:36.098843,           learning rate: (0.0001, 0.0001)\n",
      "Epoch: 3/100, train loss:  6.1259          test_loss:  9.5780, duration: 0:00:36.067994,           learning rate: (0.0001, 0.0001)\n",
      "Epoch: 4/100, train loss:  5.8239          test_loss:  9.6040, duration: 0:00:36.142790,           learning rate: (0.0001, 0.0001)\n",
      "Epoch: 5/100, train loss:  5.9404          test_loss:  9.9707, duration: 0:00:36.145054,           learning rate: (0.0001, 0.0001)\n",
      "Epoch: 6/100, train loss:  5.9790          test_loss:  9.4239, duration: 0:00:36.142418,           learning rate: (0.0001, 0.0001)\n",
      "Epoch: 7/100, train loss:  6.0221          test_loss:  9.6912, duration: 0:00:36.073697,           learning rate: (0.0001, 0.0001)\n",
      "Epoch: 8/100, train loss:  5.7784          test_loss:  9.6383, duration: 0:00:36.026286,           learning rate: (0.0001, 0.0001)\n",
      "Epoch: 9/100, train loss:  5.8099          test_loss:  9.6993, duration: 0:00:36.028990,           learning rate: (0.0001, 0.0001)\n",
      "Epoch: 10/100, train loss:  5.8396          test_loss:  9.6973, duration: 0:00:35.996571,           learning rate: (0.0001, 0.0001)\n",
      "Epoch: 11/100, train loss:  5.8913          test_loss:  9.4495, duration: 0:00:36.212893,           learning rate: (0.0001, 0.0001)\n",
      "Epoch: 12/100, train loss:  5.8319          test_loss:  9.3696, duration: 0:00:36.194465,           learning rate: (0.0001, 0.0001)\n",
      "Epoch: 13/100, train loss:  5.9055          test_loss:  9.4096, duration: 0:00:36.042787,           learning rate: (0.0001, 0.0001)\n",
      "Epoch: 14/100, train loss:  5.8394          test_loss:  9.5825, duration: 0:00:36.064290,           learning rate: (0.0001, 0.0001)\n",
      "Epoch: 15/100, train loss:  5.7890          test_loss:  9.8192, duration: 0:00:36.075002,           learning rate: (0.0001, 0.0001)\n",
      "Epoch: 16/100, train loss:  5.7160          test_loss:  9.4599, duration: 0:00:36.083874,           learning rate: (0.0001, 0.0001)\n",
      "Epoch: 17/100, train loss:  5.7031          test_loss:  9.5945, duration: 0:00:36.172793,           learning rate: (0.0001, 0.0001)\n",
      "Epoch: 18/100, train loss:  5.7526          test_loss:  9.4781, duration: 0:00:36.196069,           learning rate: (0.0001, 1e-05)\n",
      "Epoch: 19/100, train loss:  5.4890          test_loss:  9.3002, duration: 0:00:36.052216,           learning rate: (1e-05, 1e-05)\n",
      "Epoch: 20/100, train loss:  5.4418          test_loss:  9.3094, duration: 0:00:36.043470,           learning rate: (1e-05, 1e-05)\n",
      "Epoch: 21/100, train loss:  5.4254          test_loss:  9.3287, duration: 0:00:36.137909,           learning rate: (1e-05, 1e-05)\n",
      "Epoch: 22/100, train loss:  5.4020          test_loss:  9.2614, duration: 0:00:36.047203,           learning rate: (1e-05, 1e-05)\n",
      "Epoch: 23/100, train loss:  5.3862          test_loss:  9.3045, duration: 0:00:36.106618,           learning rate: (1e-05, 1e-05)\n",
      "Epoch: 24/100, train loss:  5.3777          test_loss:  9.2789, duration: 0:00:36.101042,           learning rate: (1e-05, 1e-05)\n",
      "Epoch: 25/100, train loss:  5.3718          test_loss:  9.2302, duration: 0:00:36.020596,           learning rate: (1e-05, 1e-05)\n",
      "Epoch: 26/100, train loss:  5.3622          test_loss:  9.2557, duration: 0:00:36.149563,           learning rate: (1e-05, 1e-05)\n",
      "Epoch: 27/100, train loss:  5.3502          test_loss:  9.2843, duration: 0:00:36.109523,           learning rate: (1e-05, 1e-05)\n",
      "Epoch: 28/100, train loss:  5.3502          test_loss:  9.2449, duration: 0:00:36.166020,           learning rate: (1e-05, 1e-05)\n",
      "Epoch: 29/100, train loss:  5.3442          test_loss:  9.2256, duration: 0:00:36.116988,           learning rate: (1e-05, 1e-05)\n",
      "Epoch: 30/100, train loss:  5.3418          test_loss:  9.2231, duration: 0:00:36.189790,           learning rate: (1e-05, 1e-05)\n",
      "Epoch: 31/100, train loss:  5.3392          test_loss:  9.2521, duration: 0:00:36.150375,           learning rate: (1e-05, 1.0000000000000002e-06)\n",
      "Epoch: 32/100, train loss:  5.3053          test_loss:  9.2319, duration: 0:00:36.107507,           learning rate: (1.0000000000000002e-06, 1.0000000000000002e-06)\n",
      "Epoch: 33/100, train loss:  5.3018          test_loss:  9.2234, duration: 0:00:36.087831,           learning rate: (1.0000000000000002e-06, 1.0000000000000002e-06)\n",
      "Epoch: 34/100, train loss:  5.3012          test_loss:  9.2180, duration: 0:00:36.092510,           learning rate: (1.0000000000000002e-06, 1.0000000000000002e-06)\n",
      "Epoch: 35/100, train loss:  5.3010          test_loss:  9.2207, duration: 0:00:36.051502,           learning rate: (1.0000000000000002e-06, 1.0000000000000002e-06)\n",
      "Epoch: 36/100, train loss:  5.3003          test_loss:  9.2199, duration: 0:00:36.109407,           learning rate: (1.0000000000000002e-06, 1.0000000000000002e-06)\n",
      "Epoch: 37/100, train loss:  5.3003          test_loss:  9.2202, duration: 0:00:36.141566,           learning rate: (1.0000000000000002e-06, 1.0000000000000002e-06)\n",
      "Epoch: 38/100, train loss:  5.2997          test_loss:  9.2174, duration: 0:00:36.173787,           learning rate: (1.0000000000000002e-06, 1.0000000000000002e-06)\n",
      "Epoch: 39/100, train loss:  5.2995          test_loss:  9.2141, duration: 0:00:36.184847,           learning rate: (1.0000000000000002e-06, 1.0000000000000002e-06)\n",
      "Epoch: 40/100, train loss:  5.2990          test_loss:  9.2053, duration: 0:00:36.119331,           learning rate: (1.0000000000000002e-06, 1.0000000000000002e-06)\n",
      "Epoch: 41/100, train loss:  5.2987          test_loss:  9.2053, duration: 0:00:36.145350,           learning rate: (1.0000000000000002e-06, 1.0000000000000002e-06)\n",
      "Epoch: 42/100, train loss:  5.2984          test_loss:  9.2045, duration: 0:00:36.147379,           learning rate: (1.0000000000000002e-06, 1.0000000000000002e-06)\n",
      "Epoch: 43/100, train loss:  5.2981          test_loss:  9.2037, duration: 0:00:36.107291,           learning rate: (1.0000000000000002e-06, 1.0000000000000002e-06)\n",
      "Epoch: 44/100, train loss:  5.2978          test_loss:  9.2062, duration: 0:00:36.117931,           learning rate: (1.0000000000000002e-06, 1.0000000000000002e-06)\n",
      "Epoch: 45/100, train loss:  5.2975          test_loss:  9.2111, duration: 0:00:36.113519,           learning rate: (1.0000000000000002e-06, 1.0000000000000002e-06)\n",
      "Epoch: 46/100, train loss:  5.2975          test_loss:  9.2045, duration: 0:00:36.067118,           learning rate: (1.0000000000000002e-06, 1.0000000000000002e-07)\n",
      "Epoch: 47/100, train loss:  5.2934          test_loss:  9.2029, duration: 0:00:36.127458,           learning rate: (1.0000000000000002e-07, 1.0000000000000002e-07)\n",
      "Epoch: 48/100, train loss:  5.2930          test_loss:  9.2017, duration: 0:00:36.102639,           learning rate: (1.0000000000000002e-07, 1.0000000000000002e-07)\n",
      "Epoch: 49/100, train loss:  5.2929          test_loss:  9.2040, duration: 0:00:36.093919,           learning rate: (1.0000000000000002e-07, 1.0000000000000002e-07)\n",
      "Epoch: 50/100, train loss:  5.2927          test_loss:  9.2040, duration: 0:00:36.011426,           learning rate: (1.0000000000000002e-07, 1.0000000000000002e-07)\n",
      "Epoch: 51/100, train loss:  5.2927          test_loss:  9.2052, duration: 0:00:36.103941,           learning rate: (1.0000000000000002e-07, 1.0000000000000002e-07)\n",
      "Epoch: 52/100, train loss:  5.2928          test_loss:  9.2035, duration: 0:00:36.016177,           learning rate: (1.0000000000000002e-07, 1.0000000000000004e-08)\n",
      "Epoch: 53/100, train loss:  5.2920          test_loss:  9.2054, duration: 0:00:36.106959,           learning rate: (1.0000000000000004e-08, 1.0000000000000004e-08)\n",
      "Epoch: 54/100, train loss:  5.2922          test_loss:  9.2034, duration: 0:00:36.163113,           learning rate: (1.0000000000000004e-08, 1.0000000000000004e-08)\n",
      "Epoch: 55/100, train loss:  5.2923          test_loss:  9.2047, duration: 0:00:36.170512,           learning rate: (1.0000000000000004e-08, 1.0000000000000004e-08)\n",
      "Epoch: 56/100, train loss:  5.2922          test_loss:  9.2044, duration: 0:00:36.111351,           learning rate: (1.0000000000000004e-08, 1.0000000000000004e-08)\n",
      "Epoch: 57/100, train loss:  5.2922          test_loss:  9.2037, duration: 0:00:36.105456,           learning rate: (1.0000000000000004e-08, 1.0000000000000004e-08)\n",
      "Epoch: 58/100, train loss:  5.2922          test_loss:  9.2033, duration: 0:00:36.373932,           learning rate: (1.0000000000000004e-08, 1.0000000000000004e-08)\n",
      "Epoch: 59/100, train loss:  5.2923          test_loss:  9.2042, duration: 0:00:36.092897,           learning rate: (1.0000000000000004e-08, 1.0000000000000004e-08)\n",
      "Epoch: 60/100, train loss:  5.2921          test_loss:  9.2028, duration: 0:00:36.160652,           learning rate: (1.0000000000000004e-08, 1.0000000000000004e-08)\n",
      "Epoch: 61/100, train loss:  5.2923          test_loss:  9.2063, duration: 0:00:36.115215,           learning rate: (1.0000000000000004e-08, 1.0000000000000004e-08)\n",
      "Epoch: 62/100, train loss:  5.2922          test_loss:  9.2040, duration: 0:00:36.105351,           learning rate: (1.0000000000000004e-08, 1.0000000000000004e-08)\n",
      "Epoch: 63/100, train loss:  5.2922          test_loss:  9.2050, duration: 0:00:36.075107,           learning rate: (1.0000000000000004e-08, 1.0000000000000004e-08)\n",
      "Epoch: 64/100, train loss:  5.2921          test_loss:  9.2041, duration: 0:00:36.189286,           learning rate: (1.0000000000000004e-08, 1.0000000000000004e-08)\n",
      "Epoch: 65/100, train loss:  5.2923          test_loss:  9.2018, duration: 0:00:36.124951,           learning rate: (1.0000000000000004e-08, 1.0000000000000004e-08)\n",
      "Epoch: 66/100, train loss:  5.2923          test_loss:  9.2025, duration: 0:00:36.122386,           learning rate: (1.0000000000000004e-08, 1.0000000000000004e-08)\n",
      "Epoch: 67/100, train loss:  5.2921          test_loss:  9.2012, duration: 0:00:36.092370,           learning rate: (1.0000000000000004e-08, 1.0000000000000004e-08)\n",
      "Epoch: 68/100, train loss:  5.2923          test_loss:  9.2043, duration: 0:00:36.090692,           learning rate: (1.0000000000000004e-08, 1.0000000000000004e-08)\n",
      "Epoch: 69/100, train loss:  5.2922          test_loss:  9.2034, duration: 0:00:36.040026,           learning rate: (1.0000000000000004e-08, 1.0000000000000004e-08)\n",
      "Epoch: 70/100, train loss:  5.2921          test_loss:  9.2040, duration: 0:00:36.108147,           learning rate: (1.0000000000000004e-08, 1.0000000000000004e-08)\n",
      "Epoch: 71/100, train loss:  5.2922          test_loss:  9.2052, duration: 0:00:36.228206,           learning rate: (1.0000000000000004e-08, 1.0000000000000004e-08)\n",
      "Epoch: 72/100, train loss:  5.2921          test_loss:  9.2049, duration: 0:00:36.037670,           learning rate: (1.0000000000000004e-08, 1.0000000000000004e-08)\n",
      "Epoch: 73/100, train loss:  5.2923          test_loss:  9.2040, duration: 0:00:36.070508,           learning rate: (1.0000000000000004e-08, 1.0000000000000004e-08)\n",
      "Epoch: 74/100, train loss:  5.2922          test_loss:  9.2052, duration: 0:00:36.033024,           learning rate: (1.0000000000000004e-08, 1.0000000000000004e-08)\n",
      "Epoch: 75/100, train loss:  5.2919          test_loss:  9.2039, duration: 0:00:36.147933,           learning rate: (1.0000000000000004e-08, 1.0000000000000004e-08)\n",
      "Epoch: 76/100, train loss:  5.2922          test_loss:  9.2040, duration: 0:00:36.124810,           learning rate: (1.0000000000000004e-08, 1.0000000000000004e-08)\n",
      "Epoch: 77/100, train loss:  5.2924          test_loss:  9.2050, duration: 0:00:36.068964,           learning rate: (1.0000000000000004e-08, 1.0000000000000004e-08)\n",
      "Epoch: 78/100, train loss:  5.2921          test_loss:  9.2002, duration: 0:00:36.136630,           learning rate: (1.0000000000000004e-08, 1.0000000000000004e-08)\n",
      "Epoch: 79/100, train loss:  5.2923          test_loss:  9.2052, duration: 0:00:36.177855,           learning rate: (1.0000000000000004e-08, 1.0000000000000004e-08)\n",
      "Epoch: 80/100, train loss:  5.2923          test_loss:  9.2036, duration: 0:00:36.101313,           learning rate: (1.0000000000000004e-08, 1.0000000000000004e-08)\n",
      "Epoch: 81/100, train loss:  5.2922          test_loss:  9.2042, duration: 0:00:36.173556,           learning rate: (1.0000000000000004e-08, 1.0000000000000004e-08)\n",
      "Epoch: 82/100, train loss:  5.2922          test_loss:  9.2048, duration: 0:00:36.137935,           learning rate: (1.0000000000000004e-08, 1.0000000000000004e-08)\n",
      "Epoch: 83/100, train loss:  5.2923          test_loss:  9.2038, duration: 0:00:36.131241,           learning rate: (1.0000000000000004e-08, 1.0000000000000004e-08)\n",
      "Epoch: 84/100, train loss:  5.2922          test_loss:  9.2041, duration: 0:00:36.189677,           learning rate: (1.0000000000000004e-08, 1.0000000000000004e-08)\n",
      "Epoch: 85/100, train loss:  5.2923          test_loss:  9.2029, duration: 0:00:36.261297,           learning rate: (1.0000000000000004e-08, 1.0000000000000004e-08)\n",
      "Epoch: 86/100, train loss:  5.2924          test_loss:  9.2030, duration: 0:00:36.123757,           learning rate: (1.0000000000000004e-08, 1.0000000000000004e-08)\n",
      "Epoch: 87/100, train loss:  5.2923          test_loss:  9.2048, duration: 0:00:36.121017,           learning rate: (1.0000000000000004e-08, 1.0000000000000004e-08)\n",
      "Epoch: 88/100, train loss:  5.2920          test_loss:  9.2060, duration: 0:00:36.139145,           learning rate: (1.0000000000000004e-08, 1.0000000000000004e-08)\n",
      "Epoch: 89/100, train loss:  5.2923          test_loss:  9.2044, duration: 0:00:36.108175,           learning rate: (1.0000000000000004e-08, 1.0000000000000004e-08)\n",
      "Epoch: 90/100, train loss:  5.2922          test_loss:  9.2036, duration: 0:00:36.182944,           learning rate: (1.0000000000000004e-08, 1.0000000000000004e-08)\n",
      "Epoch: 91/100, train loss:  5.2923          test_loss:  9.2038, duration: 0:00:36.159540,           learning rate: (1.0000000000000004e-08, 1.0000000000000004e-08)\n",
      "Epoch: 92/100, train loss:  5.2922          test_loss:  9.2034, duration: 0:00:36.250552,           learning rate: (1.0000000000000004e-08, 1.0000000000000004e-08)\n",
      "Epoch: 93/100, train loss:  5.2920          test_loss:  9.2034, duration: 0:00:36.129430,           learning rate: (1.0000000000000004e-08, 1.0000000000000004e-08)\n",
      "Epoch: 94/100, train loss:  5.2923          test_loss:  9.2042, duration: 0:00:36.108092,           learning rate: (1.0000000000000004e-08, 1.0000000000000004e-08)\n",
      "Epoch: 95/100, train loss:  5.2922          test_loss:  9.2050, duration: 0:00:36.131889,           learning rate: (1.0000000000000004e-08, 1.0000000000000004e-08)\n",
      "Epoch: 96/100, train loss:  5.2922          test_loss:  9.2029, duration: 0:00:36.129934,           learning rate: (1.0000000000000004e-08, 1.0000000000000004e-08)\n",
      "Epoch: 97/100, train loss:  5.2922          test_loss:  9.2051, duration: 0:00:36.119508,           learning rate: (1.0000000000000004e-08, 1.0000000000000004e-08)\n",
      "Epoch: 98/100, train loss:  5.2923          test_loss:  9.2051, duration: 0:00:36.083986,           learning rate: (1.0000000000000004e-08, 1.0000000000000004e-08)\n",
      "Epoch: 99/100, train loss:  5.2923          test_loss:  9.2047, duration: 0:00:36.167783,           learning rate: (1.0000000000000004e-08, 1.0000000000000004e-08)\n",
      "Epoch: 100/100, train loss:  5.2923          test_loss:  9.2056, duration: 0:00:36.166143,           learning rate: (1.0000000000000004e-08, 1.0000000000000004e-08)\n",
      "Moved saved as GRU_cicy4_v5_retrained\n"
     ]
    }
   ],
   "source": [
    "#Previously: Epoch: 250/250, train loss:  5.4694, test_loss:  9.2729,\n",
    "#duration: 0:00:34.825869,  learning rate: (1e-06, 1e-06)\n",
    "trained_gru, train_loss_gru, test_loss_gru = load_and_retrain(gru_model_weight, \n",
    "                                                 'GRU_cicy4_v5_retrained', \n",
    "                                                   epochs = 100, cnn=False)"
   ]
  },
  {
   "cell_type": "code",
   "execution_count": 25,
   "id": "21aa5865",
   "metadata": {
    "execution": {
     "iopub.execute_input": "2024-03-23T19:35:31.133481Z",
     "iopub.status.busy": "2024-03-23T19:35:31.132951Z",
     "iopub.status.idle": "2024-03-23T19:35:31.443444Z",
     "shell.execute_reply": "2024-03-23T19:35:31.442526Z"
    },
    "papermill": {
     "duration": 0.333133,
     "end_time": "2024-03-23T19:35:31.445678",
     "exception": false,
     "start_time": "2024-03-23T19:35:31.112545",
     "status": "completed"
    },
    "tags": []
   },
   "outputs": [
    {
     "data": {
      "image/png": "[encoded data removed]",
      "text/plain": [
       "<Figure size 640x480 with 1 Axes>"
      ]
     },
     "metadata": {},
     "output_type": "display_data"
    }
   ],
   "source": [
    "plot_losses(train_loss_gru, test_loss_gru)"
   ]
  },
  {
   "cell_type": "code",
   "execution_count": 26,
   "id": "e145ec4a",
   "metadata": {
    "execution": {
     "iopub.execute_input": "2024-03-23T19:35:31.485971Z",
     "iopub.status.busy": "2024-03-23T19:35:31.485648Z",
     "iopub.status.idle": "2024-03-23T19:35:51.914953Z",
     "shell.execute_reply": "2024-03-23T19:35:51.913923Z"
    },
    "papermill": {
     "duration": 20.451464,
     "end_time": "2024-03-23T19:35:51.916929",
     "exception": false,
     "start_time": "2024-03-23T19:35:31.465465",
     "status": "completed"
    },
    "tags": []
   },
   "outputs": [
    {
     "name": "stdout",
     "output_type": "stream",
     "text": [
      "Train accuracy for h11:0.7255, Test accuracy for h11: 0.7242\n",
      "Train accuracy for h21:0.6703, Test accuracy for h21: 0.6653\n",
      "Train accuracy for h31:0.3927, Test accuracy for h31: 0.3689\n",
      "Train accuracy for h22:0.1681, Test accuracy for h22: 0.1572\n"
     ]
    }
   ],
   "source": [
    "train_acc, test_acc = calc_accuracy_mr(trained_gru, train_gen , test_gen, device = device, cnn= False)\n",
    "print(f'Train accuracy for h11:{train_acc[0]:.4f}, Test accuracy for h11: {test_acc[0]:.4f}')\n",
    "print(f'Train accuracy for h21:{train_acc[1]:.4f}, Test accuracy for h21: {test_acc[1]:.4f}')\n",
    "print(f'Train accuracy for h31:{train_acc[2]:.4f}, Test accuracy for h31: {test_acc[2]:.4f}')\n",
    "print(f'Train accuracy for h22:{train_acc[3]:.4f}, Test accuracy for h22: {test_acc[3]:.4f}')"
   ]
  },
  {
   "cell_type": "code",
   "execution_count": 27,
   "id": "49c773b1",
   "metadata": {
    "execution": {
     "iopub.execute_input": "2024-03-23T19:35:51.956832Z",
     "iopub.status.busy": "2024-03-23T19:35:51.956504Z",
     "iopub.status.idle": "2024-03-23T19:35:51.967481Z",
     "shell.execute_reply": "2024-03-23T19:35:51.966728Z"
    },
    "papermill": {
     "duration": 0.033348,
     "end_time": "2024-03-23T19:35:51.969390",
     "exception": false,
     "start_time": "2024-03-23T19:35:51.936042",
     "status": "completed"
    },
    "tags": []
   },
   "outputs": [],
   "source": [
    "torch.save(trained_gru, '/kaggle/working/saved_models/GRU_cicy4_Hodge_retrained_v5.pt')"
   ]
  }
 ],
 "metadata": {
  "kaggle": {
   "accelerator": "gpu",
   "dataSources": [
    {
     "databundleVersionId": 8032645,
     "datasetId": 4575883,
     "sourceId": 7924456,
     "sourceType": "datasetVersion"
    }
   ],
   "dockerImageVersionId": 30665,
   "isGpuEnabled": true,
   "isInternetEnabled": true,
   "language": "python",
   "sourceType": "notebook"
  },
  "kernelspec": {
   "display_name": "Python 3",
   "language": "python",
   "name": "python3"
  },
  "language_info": {
   "codemirror_mode": {
    "name": "ipython",
    "version": 3
   },
   "file_extension": ".py",
   "mimetype": "text/x-python",
   "name": "python",
   "nbconvert_exporter": "python",
   "pygments_lexer": "ipython3",
   "version": "3.10.13"
  },
  "papermill": {
   "default_parameters": {},
   "duration": 3739.858629,
   "end_time": "2024-03-23T19:35:54.222076",
   "environment_variables": {},
   "exception": null,
   "input_path": "__notebook__.ipynb",
   "output_path": "__notebook__.ipynb",
   "parameters": {},
   "start_time": "2024-03-23T18:33:34.363447",
   "version": "2.5.0"
  }
 },
 "nbformat": 4,
 "nbformat_minor": 5
}
