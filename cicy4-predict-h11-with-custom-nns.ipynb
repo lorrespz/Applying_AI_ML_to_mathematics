{
 "cells": [
  {
   "cell_type": "markdown",
   "id": "462b6db4",
   "metadata": {
    "papermill": {
     "duration": 0.009919,
     "end_time": "2024-03-11T18:32:13.485631",
     "exception": false,
     "start_time": "2024-03-11T18:32:13.475712",
     "status": "completed"
    },
    "tags": []
   },
   "source": [
    "# Exploring CICY4 4-folds\n",
    "\n",
    "In this notebook we explore the distribution of hodge numbers and number of favourable configurations."
   ]
  },
  {
   "cell_type": "code",
   "execution_count": 1,
   "id": "b5eee736",
   "metadata": {
    "_cell_guid": "b1076dfc-b9ad-4769-8c92-a6c4dae69d19",
    "_uuid": "8f2839f25d086af736a60e9eeb907d3b93b6e0e5",
    "execution": {
     "iopub.execute_input": "2024-03-11T18:32:13.507273Z",
     "iopub.status.busy": "2024-03-11T18:32:13.506564Z",
     "iopub.status.idle": "2024-03-11T18:32:16.819118Z",
     "shell.execute_reply": "2024-03-11T18:32:16.818239Z"
    },
    "papermill": {
     "duration": 3.325423,
     "end_time": "2024-03-11T18:32:16.821486",
     "exception": false,
     "start_time": "2024-03-11T18:32:13.496063",
     "status": "completed"
    },
    "tags": []
   },
   "outputs": [],
   "source": [
    "import numpy as np\n",
    "import os as os\n",
    "import matplotlib.pyplot as plt\n",
    "import seaborn as sns\n",
    "sns.set_style(\"darkgrid\")\n",
    "from datetime import datetime"
   ]
  },
  {
   "cell_type": "code",
   "execution_count": 2,
   "id": "ccdaed27",
   "metadata": {
    "execution": {
     "iopub.execute_input": "2024-03-11T18:32:16.841447Z",
     "iopub.status.busy": "2024-03-11T18:32:16.841083Z",
     "iopub.status.idle": "2024-03-11T18:32:23.190519Z",
     "shell.execute_reply": "2024-03-11T18:32:23.189619Z"
    },
    "papermill": {
     "duration": 6.362105,
     "end_time": "2024-03-11T18:32:23.192930",
     "exception": false,
     "start_time": "2024-03-11T18:32:16.830825",
     "status": "completed"
    },
    "tags": []
   },
   "outputs": [],
   "source": [
    "import torch\n",
    "import torch.nn as nn\n",
    "import torch.nn.functional as F"
   ]
  },
  {
   "cell_type": "code",
   "execution_count": 3,
   "id": "0447c06d",
   "metadata": {
    "execution": {
     "iopub.execute_input": "2024-03-11T18:32:23.213522Z",
     "iopub.status.busy": "2024-03-11T18:32:23.212773Z",
     "iopub.status.idle": "2024-03-11T18:32:38.870197Z",
     "shell.execute_reply": "2024-03-11T18:32:38.869317Z"
    },
    "papermill": {
     "duration": 15.669984,
     "end_time": "2024-03-11T18:32:38.872506",
     "exception": false,
     "start_time": "2024-03-11T18:32:23.202522",
     "status": "completed"
    },
    "tags": []
   },
   "outputs": [
    {
     "data": {
      "text/plain": [
       "((921497, 16, 20), (921497, 4), (921497,))"
      ]
     },
     "execution_count": 3,
     "metadata": {},
     "output_type": "execute_result"
    }
   ],
   "source": [
    "# load data\n",
    "path = '/kaggle/input/calabi-yau-cicy-4-folds'\n",
    "conf = np.load(os.path.join(path, 'conf.npy'))\n",
    "hodge = np.load(os.path.join(path, 'hodge.npy'))\n",
    "direct = np.load(os.path.join(path, 'direct.npy'))\n",
    "conf.shape, hodge.shape, direct.shape"
   ]
  },
  {
   "cell_type": "code",
   "execution_count": 4,
   "id": "16def83e",
   "metadata": {
    "execution": {
     "iopub.execute_input": "2024-03-11T18:32:38.892757Z",
     "iopub.status.busy": "2024-03-11T18:32:38.892074Z",
     "iopub.status.idle": "2024-03-11T18:32:38.901402Z",
     "shell.execute_reply": "2024-03-11T18:32:38.900453Z"
    },
    "papermill": {
     "duration": 0.02132,
     "end_time": "2024-03-11T18:32:38.903407",
     "exception": false,
     "start_time": "2024-03-11T18:32:38.882087",
     "status": "completed"
    },
    "tags": []
   },
   "outputs": [
    {
     "data": {
      "text/plain": [
       "(False,\n",
       " array([[1., 0., 0., 0., 0., 0., 0., 0., 0., 0., 0., 0., 0., 0., 0., 0.,\n",
       "         0., 0., 0., 0.],\n",
       "        [0., 0., 0., 0., 0., 0., 0., 0., 0., 0., 0., 0., 0., 0., 0., 0.,\n",
       "         0., 0., 0., 0.],\n",
       "        [0., 0., 0., 0., 0., 0., 0., 0., 0., 0., 0., 0., 0., 0., 0., 0.,\n",
       "         0., 0., 0., 0.],\n",
       "        [0., 0., 0., 0., 0., 0., 0., 0., 0., 0., 0., 0., 0., 0., 0., 0.,\n",
       "         0., 0., 0., 0.],\n",
       "        [0., 0., 0., 0., 0., 0., 0., 0., 0., 0., 0., 0., 0., 0., 0., 0.,\n",
       "         0., 0., 0., 0.],\n",
       "        [0., 0., 0., 0., 0., 0., 0., 0., 0., 0., 0., 0., 0., 0., 0., 0.,\n",
       "         0., 0., 0., 0.],\n",
       "        [0., 0., 0., 0., 0., 0., 0., 0., 0., 0., 0., 0., 0., 0., 0., 0.,\n",
       "         0., 0., 0., 0.],\n",
       "        [0., 0., 0., 0., 0., 0., 0., 0., 0., 0., 0., 0., 0., 0., 0., 0.,\n",
       "         0., 0., 0., 0.],\n",
       "        [0., 0., 0., 0., 0., 0., 0., 0., 0., 0., 0., 0., 0., 0., 0., 0.,\n",
       "         0., 0., 0., 0.],\n",
       "        [0., 0., 0., 0., 0., 0., 0., 0., 0., 0., 0., 0., 0., 0., 0., 0.,\n",
       "         0., 0., 0., 0.],\n",
       "        [0., 0., 0., 0., 0., 0., 0., 0., 0., 0., 0., 0., 0., 0., 0., 0.,\n",
       "         0., 0., 0., 0.],\n",
       "        [0., 0., 0., 0., 0., 0., 0., 0., 0., 0., 0., 0., 0., 0., 0., 0.,\n",
       "         0., 0., 0., 0.],\n",
       "        [0., 0., 0., 0., 0., 0., 0., 0., 0., 0., 0., 0., 0., 0., 0., 0.,\n",
       "         0., 0., 0., 0.],\n",
       "        [0., 0., 0., 0., 0., 0., 0., 0., 0., 0., 0., 0., 0., 0., 0., 0.,\n",
       "         0., 0., 0., 0.],\n",
       "        [0., 0., 0., 0., 0., 0., 0., 0., 0., 0., 0., 0., 0., 0., 0., 0.,\n",
       "         0., 0., 0., 0.],\n",
       "        [0., 0., 0., 0., 0., 0., 0., 0., 0., 0., 0., 0., 0., 0., 0., 0.,\n",
       "         0., 0., 0., 0.]]),\n",
       " array([   1,    0,  426, 1752]))"
      ]
     },
     "execution_count": 4,
     "metadata": {},
     "output_type": "execute_result"
    }
   ],
   "source": [
    "direct[0], conf[0], hodge[0]"
   ]
  },
  {
   "cell_type": "code",
   "execution_count": 5,
   "id": "f681fba2",
   "metadata": {
    "execution": {
     "iopub.execute_input": "2024-03-11T18:32:38.923637Z",
     "iopub.status.busy": "2024-03-11T18:32:38.923346Z",
     "iopub.status.idle": "2024-03-11T18:32:39.666741Z",
     "shell.execute_reply": "2024-03-11T18:32:39.665674Z"
    },
    "papermill": {
     "duration": 0.755954,
     "end_time": "2024-03-11T18:32:39.668926",
     "exception": false,
     "start_time": "2024-03-11T18:32:38.912972",
     "status": "completed"
    },
    "tags": []
   },
   "outputs": [
    {
     "data": {
      "text/plain": [
       "((905684, 16, 20), (905684, 4))"
      ]
     },
     "execution_count": 5,
     "metadata": {},
     "output_type": "execute_result"
    }
   ],
   "source": [
    "# PICK ONLY THOSE WITH 'direct = True'\n",
    "conf = conf[~direct]\n",
    "hodge = hodge[~direct]\n",
    "conf.shape, hodge.shape"
   ]
  },
  {
   "cell_type": "markdown",
   "id": "e570a475",
   "metadata": {
    "papermill": {
     "duration": 0.009467,
     "end_time": "2024-03-11T18:32:39.690087",
     "exception": false,
     "start_time": "2024-03-11T18:32:39.680620",
     "status": "completed"
    },
    "tags": []
   },
   "source": [
    "## How many favourable configs are there?"
   ]
  },
  {
   "cell_type": "code",
   "execution_count": 6,
   "id": "6c5edc6a",
   "metadata": {
    "execution": {
     "iopub.execute_input": "2024-03-11T18:32:39.710201Z",
     "iopub.status.busy": "2024-03-11T18:32:39.709894Z",
     "iopub.status.idle": "2024-03-11T18:32:40.811992Z",
     "shell.execute_reply": "2024-03-11T18:32:40.811030Z"
    },
    "papermill": {
     "duration": 1.114535,
     "end_time": "2024-03-11T18:32:40.814184",
     "exception": false,
     "start_time": "2024-03-11T18:32:39.699649",
     "status": "completed"
    },
    "tags": []
   },
   "outputs": [
    {
     "data": {
      "text/plain": [
       "((905684, 16), (905684,))"
      ]
     },
     "execution_count": 6,
     "metadata": {},
     "output_type": "execute_result"
    }
   ],
   "source": [
    "#sum up the last dimension consecutively\n",
    "np.sum(conf, axis=-1).shape, np.sum(np.sum(conf, axis=-1) > 0, axis=-1).shape"
   ]
  },
  {
   "cell_type": "code",
   "execution_count": 7,
   "id": "98ccbdc5",
   "metadata": {
    "execution": {
     "iopub.execute_input": "2024-03-11T18:32:40.835155Z",
     "iopub.status.busy": "2024-03-11T18:32:40.834883Z",
     "iopub.status.idle": "2024-03-11T18:32:41.416458Z",
     "shell.execute_reply": "2024-03-11T18:32:41.415490Z"
    },
    "papermill": {
     "duration": 0.594388,
     "end_time": "2024-03-11T18:32:41.418609",
     "exception": false,
     "start_time": "2024-03-11T18:32:40.824221",
     "status": "completed"
    },
    "tags": []
   },
   "outputs": [
    {
     "name": "stdout",
     "output_type": "stream",
     "text": [
      "The percentage of fav conf is: 0.5449384111897748.\n"
     ]
    }
   ],
   "source": [
    "number_proj = np.sum(np.sum(conf, axis=-1) > 0, axis=-1)\n",
    "n_fav = np.sum(number_proj == hodge[:,0])\n",
    "print('The percentage of fav conf is: {}.'.format(n_fav/len(hodge)))"
   ]
  },
  {
   "cell_type": "code",
   "execution_count": 8,
   "id": "6ea30bf9",
   "metadata": {
    "execution": {
     "iopub.execute_input": "2024-03-11T18:32:41.439865Z",
     "iopub.status.busy": "2024-03-11T18:32:41.439570Z",
     "iopub.status.idle": "2024-03-11T18:32:41.462117Z",
     "shell.execute_reply": "2024-03-11T18:32:41.461146Z"
    },
    "papermill": {
     "duration": 0.035473,
     "end_time": "2024-03-11T18:32:41.464132",
     "exception": false,
     "start_time": "2024-03-11T18:32:41.428659",
     "status": "completed"
    },
    "tags": []
   },
   "outputs": [
    {
     "data": {
      "text/plain": [
       "(24, 1, 33, 0, 426, 20, 1752, 204)"
      ]
     },
     "execution_count": 8,
     "metadata": {},
     "output_type": "execute_result"
    }
   ],
   "source": [
    "h11max = np.max(hodge[:,0])\n",
    "h11min = np.min(hodge[:,0])\n",
    "h21max = np.max(hodge[:,1])\n",
    "h21min = np.min(hodge[:,1])\n",
    "h31max = np.max(hodge[:,2])\n",
    "h31min = np.min(hodge[:,2])\n",
    "h22max = np.max(hodge[:,3])\n",
    "h22min = np.min(hodge[:,3])\n",
    "h11max, h11min, h21max, h21min, h31max, h31min, h22max, h22min"
   ]
  },
  {
   "cell_type": "markdown",
   "id": "8446a070",
   "metadata": {
    "papermill": {
     "duration": 0.010267,
     "end_time": "2024-03-11T18:32:41.485149",
     "exception": false,
     "start_time": "2024-03-11T18:32:41.474882",
     "status": "completed"
    },
    "tags": []
   },
   "source": [
    "# Histograms of Hodge numbers"
   ]
  },
  {
   "cell_type": "code",
   "execution_count": 9,
   "id": "f3ab3482",
   "metadata": {
    "execution": {
     "iopub.execute_input": "2024-03-11T18:32:41.507041Z",
     "iopub.status.busy": "2024-03-11T18:32:41.506327Z",
     "iopub.status.idle": "2024-03-11T18:32:41.510637Z",
     "shell.execute_reply": "2024-03-11T18:32:41.509820Z"
    },
    "papermill": {
     "duration": 0.017402,
     "end_time": "2024-03-11T18:32:41.512737",
     "exception": false,
     "start_time": "2024-03-11T18:32:41.495335",
     "status": "completed"
    },
    "tags": []
   },
   "outputs": [],
   "source": [
    "if not os.path.exists('plots'):\n",
    "    os.makedirs('plots')"
   ]
  },
  {
   "cell_type": "code",
   "execution_count": 10,
   "id": "967aa4a9",
   "metadata": {
    "execution": {
     "iopub.execute_input": "2024-03-11T18:32:41.533768Z",
     "iopub.status.busy": "2024-03-11T18:32:41.533492Z",
     "iopub.status.idle": "2024-03-11T18:32:43.375009Z",
     "shell.execute_reply": "2024-03-11T18:32:43.373972Z"
    },
    "papermill": {
     "duration": 1.854496,
     "end_time": "2024-03-11T18:32:43.377364",
     "exception": false,
     "start_time": "2024-03-11T18:32:41.522868",
     "status": "completed"
    },
    "tags": []
   },
   "outputs": [
    {
     "data": {
      "image/png": "[encoded data removed]",
      "text/plain": [
       "<Figure size 640x480 with 1 Axes>"
      ]
     },
     "metadata": {},
     "output_type": "display_data"
    }
   ],
   "source": [
    "plt.hist(hodge[:,0], bins=range(h11min, h11max+1), alpha=0.5)\n",
    "plt.xlabel('$h^{(1,1)}$')\n",
    "plt.ylabel('count')\n",
    "plt.yscale('log')\n",
    "plt.savefig(os.path.join('plots', 'z-h11hist.pdf'))"
   ]
  },
  {
   "cell_type": "code",
   "execution_count": 11,
   "id": "62b2720b",
   "metadata": {
    "execution": {
     "iopub.execute_input": "2024-03-11T18:32:43.399683Z",
     "iopub.status.busy": "2024-03-11T18:32:43.399180Z",
     "iopub.status.idle": "2024-03-11T18:32:44.454301Z",
     "shell.execute_reply": "2024-03-11T18:32:44.453342Z"
    },
    "papermill": {
     "duration": 1.068349,
     "end_time": "2024-03-11T18:32:44.456517",
     "exception": false,
     "start_time": "2024-03-11T18:32:43.388168",
     "status": "completed"
    },
    "tags": []
   },
   "outputs": [
    {
     "data": {
      "image/png": "[encoded data removed]",
      "text/plain": [
       "<Figure size 640x480 with 1 Axes>"
      ]
     },
     "metadata": {},
     "output_type": "display_data"
    }
   ],
   "source": [
    "plt.hist(hodge[:,1], bins=range(h21min, h21max+1), alpha=0.5)\n",
    "plt.xlabel('$h^{(2,1)}$')\n",
    "plt.ylabel('count')\n",
    "plt.yscale('log')\n",
    "plt.savefig(os.path.join('plots', 'z-h21hist.pdf'))"
   ]
  },
  {
   "cell_type": "code",
   "execution_count": 12,
   "id": "7141681f",
   "metadata": {
    "execution": {
     "iopub.execute_input": "2024-03-11T18:32:44.481261Z",
     "iopub.status.busy": "2024-03-11T18:32:44.480914Z",
     "iopub.status.idle": "2024-03-11T18:32:45.964862Z",
     "shell.execute_reply": "2024-03-11T18:32:45.963894Z"
    },
    "papermill": {
     "duration": 1.498909,
     "end_time": "2024-03-11T18:32:45.967090",
     "exception": false,
     "start_time": "2024-03-11T18:32:44.468181",
     "status": "completed"
    },
    "tags": []
   },
   "outputs": [
    {
     "data": {
      "image/png": "[encoded data removed]",
      "text/plain": [
       "<Figure size 640x480 with 1 Axes>"
      ]
     },
     "metadata": {},
     "output_type": "display_data"
    }
   ],
   "source": [
    "plt.hist(hodge[:,2], bins=range(h31min, h31max+1, 2), alpha=0.5)\n",
    "plt.xlabel('$h^{(3,1)}$')\n",
    "plt.ylabel('count')\n",
    "plt.yscale('log')\n",
    "plt.savefig(os.path.join('plots', 'z-h31hist.pdf'))"
   ]
  },
  {
   "cell_type": "code",
   "execution_count": 13,
   "id": "bc50a9be",
   "metadata": {
    "execution": {
     "iopub.execute_input": "2024-03-11T18:32:45.991134Z",
     "iopub.status.busy": "2024-03-11T18:32:45.990231Z",
     "iopub.status.idle": "2024-03-11T18:32:47.502490Z",
     "shell.execute_reply": "2024-03-11T18:32:47.501472Z"
    },
    "papermill": {
     "duration": 1.526047,
     "end_time": "2024-03-11T18:32:47.504395",
     "exception": false,
     "start_time": "2024-03-11T18:32:45.978348",
     "status": "completed"
    },
    "tags": []
   },
   "outputs": [
    {
     "data": {
      "image/png": "[encoded data removed]",
      "text/plain": [
       "<Figure size 640x480 with 1 Axes>"
      ]
     },
     "metadata": {},
     "output_type": "display_data"
    }
   ],
   "source": [
    "plt.hist(hodge[:,3], bins=range(h22min, h22max+1,10), alpha=0.5)\n",
    "plt.xlabel('$h^{(2,2)}$')\n",
    "plt.ylabel('count')\n",
    "plt.yscale('log')\n",
    "plt.savefig(os.path.join('plots', 'z-h22hist.pdf'))"
   ]
  },
  {
   "cell_type": "markdown",
   "id": "9a8b4d1d",
   "metadata": {
    "papermill": {
     "duration": 0.011085,
     "end_time": "2024-03-11T18:32:47.526766",
     "exception": false,
     "start_time": "2024-03-11T18:32:47.515681",
     "status": "completed"
    },
    "tags": []
   },
   "source": [
    "# Predict h11\n",
    "\n",
    "## Custom data generator"
   ]
  },
  {
   "cell_type": "code",
   "execution_count": 14,
   "id": "e1427653",
   "metadata": {
    "execution": {
     "iopub.execute_input": "2024-03-11T18:32:47.550770Z",
     "iopub.status.busy": "2024-03-11T18:32:47.550093Z",
     "iopub.status.idle": "2024-03-11T18:32:47.554764Z",
     "shell.execute_reply": "2024-03-11T18:32:47.553847Z"
    },
    "papermill": {
     "duration": 0.018591,
     "end_time": "2024-03-11T18:32:47.556531",
     "exception": false,
     "start_time": "2024-03-11T18:32:47.537940",
     "status": "completed"
    },
    "tags": []
   },
   "outputs": [],
   "source": [
    "X = conf\n",
    "h11 = hodge[:,0]\n",
    "y = h11"
   ]
  },
  {
   "cell_type": "code",
   "execution_count": 15,
   "id": "42a22941",
   "metadata": {
    "execution": {
     "iopub.execute_input": "2024-03-11T18:32:47.579751Z",
     "iopub.status.busy": "2024-03-11T18:32:47.579451Z",
     "iopub.status.idle": "2024-03-11T18:32:48.842324Z",
     "shell.execute_reply": "2024-03-11T18:32:48.841148Z"
    },
    "papermill": {
     "duration": 1.276848,
     "end_time": "2024-03-11T18:32:48.844421",
     "exception": false,
     "start_time": "2024-03-11T18:32:47.567573",
     "status": "completed"
    },
    "tags": []
   },
   "outputs": [
    {
     "data": {
      "text/plain": [
       "((724547, 16, 20), (724547,), (181137, 16, 20), (181137,))"
      ]
     },
     "execution_count": 15,
     "metadata": {},
     "output_type": "execute_result"
    }
   ],
   "source": [
    "from sklearn.model_selection import train_test_split\n",
    "from sklearn.utils import shuffle\n",
    "X_train,  X_test,y_train, y_test = train_test_split(X, y, test_size = 0.2, random_state = 101, shuffle = True)\n",
    "X_train.shape, y_train.shape, X_test.shape, y_test.shape"
   ]
  },
  {
   "cell_type": "code",
   "execution_count": 16,
   "id": "21ae06e1",
   "metadata": {
    "execution": {
     "iopub.execute_input": "2024-03-11T18:32:48.868067Z",
     "iopub.status.busy": "2024-03-11T18:32:48.867774Z",
     "iopub.status.idle": "2024-03-11T18:32:49.338141Z",
     "shell.execute_reply": "2024-03-11T18:32:49.337113Z"
    },
    "papermill": {
     "duration": 0.485,
     "end_time": "2024-03-11T18:32:49.340676",
     "exception": false,
     "start_time": "2024-03-11T18:32:48.855676",
     "status": "completed"
    },
    "tags": []
   },
   "outputs": [],
   "source": [
    "X_train = torch.from_numpy(X_train.astype(np.float32))\n",
    "y_train = torch.from_numpy(y_train.astype(np.float32).reshape(-1, 1))\n",
    "\n",
    "X_test = torch.from_numpy(X_test.astype(np.float32))\n",
    "y_test = torch.from_numpy(y_test.astype(np.float32).reshape(-1, 1))"
   ]
  },
  {
   "cell_type": "code",
   "execution_count": 17,
   "id": "4f9fe7ed",
   "metadata": {
    "execution": {
     "iopub.execute_input": "2024-03-11T18:32:49.365211Z",
     "iopub.status.busy": "2024-03-11T18:32:49.364475Z",
     "iopub.status.idle": "2024-03-11T18:32:49.370570Z",
     "shell.execute_reply": "2024-03-11T18:32:49.369643Z"
    },
    "papermill": {
     "duration": 0.020376,
     "end_time": "2024-03-11T18:32:49.372645",
     "exception": false,
     "start_time": "2024-03-11T18:32:49.352269",
     "status": "completed"
    },
    "tags": []
   },
   "outputs": [],
   "source": [
    "def data_generator(X, y, bs = 128):\n",
    "    X, y = shuffle(X, y)\n",
    "    n_batches = int(np.ceil(len(y))/bs)\n",
    "    for i in range(n_batches):\n",
    "    #this is to account for the last batch\n",
    "    #which may not be a full size batch\n",
    "        end = min((i+1)*bs, len(y))\n",
    "\n",
    "        X_batch = X[i*bs:end]\n",
    "        y_batch = y[i*bs:end]\n",
    "        \n",
    "        #do not use 'return' since this is a data generator\n",
    "        yield X_batch, y_batch"
   ]
  },
  {
   "cell_type": "code",
   "execution_count": 18,
   "id": "9096ebe8",
   "metadata": {
    "execution": {
     "iopub.execute_input": "2024-03-11T18:32:49.396066Z",
     "iopub.status.busy": "2024-03-11T18:32:49.395788Z",
     "iopub.status.idle": "2024-03-11T18:32:50.017785Z",
     "shell.execute_reply": "2024-03-11T18:32:50.016739Z"
    },
    "papermill": {
     "duration": 0.636537,
     "end_time": "2024-03-11T18:32:50.020440",
     "exception": false,
     "start_time": "2024-03-11T18:32:49.383903",
     "status": "completed"
    },
    "tags": []
   },
   "outputs": [
    {
     "name": "stdout",
     "output_type": "stream",
     "text": [
      "INPUTS:shape: torch.Size([128, 16, 20]) \n",
      " inputs: tensor([[[0.0000, 0.0000, 0.0000, 0.0000, 0.0000, 0.0000, 0.0000, 0.0000,\n",
      "          0.0000, 0.0000, 0.0000, 0.1667, 0.1667, 0.0000, 0.0000, 0.0000,\n",
      "          0.0000, 0.0000, 0.0000, 0.0000],\n",
      "         [0.0000, 0.0000, 0.0000, 0.0000, 0.0000, 0.0000, 0.0000, 0.0000,\n",
      "          0.0000, 0.1667, 0.1667, 0.0000, 0.0000, 0.0000, 0.0000, 0.0000,\n",
      "          0.0000, 0.0000, 0.0000, 0.0000],\n",
      "         [0.0000, 0.0000, 0.0000, 0.0000, 0.0000, 0.0000, 0.0000, 0.1667,\n",
      "          0.1667, 0.0000, 0.0000, 0.0000, 0.0000, 0.0000, 0.0000, 0.0000,\n",
      "          0.0000, 0.0000, 0.0000, 0.0000],\n",
      "         [0.0000, 0.0000, 0.0000, 0.0000, 0.0000, 0.1667, 0.1667, 0.0000,\n",
      "          0.0000, 0.0000, 0.0000, 0.0000, 0.0000, 0.0000, 0.0000, 0.0000,\n",
      "          0.0000, 0.0000, 0.0000, 0.0000],\n",
      "         [0.0000, 0.0000, 0.0000, 0.0000, 0.1667, 0.0000, 0.1667, 0.0000,\n",
      "          0.0000, 0.0000, 0.0000, 0.0000, 0.0000, 0.0000, 0.0000, 0.0000,\n",
      "          0.0000, 0.0000, 0.0000, 0.0000],\n",
      "         [0.0000, 0.0000, 0.0000, 0.1667, 0.0000, 0.1667, 0.0000, 0.0000,\n",
      "          0.0000, 0.0000, 0.0000, 0.0000, 0.0000, 0.0000, 0.0000, 0.0000,\n",
      "          0.0000, 0.0000, 0.0000, 0.0000],\n",
      "         [0.0000, 0.0000, 0.0000, 0.0000, 0.0000, 0.3333, 0.0000, 0.0000,\n",
      "          0.0000, 0.0000, 0.0000, 0.0000, 0.0000, 0.0000, 0.0000, 0.0000,\n",
      "          0.0000, 0.0000, 0.0000, 0.0000],\n",
      "         [0.0000, 0.0000, 0.1667, 0.0000, 0.1667, 0.0000, 0.0000, 0.0000,\n",
      "          0.1667, 0.0000, 0.0000, 0.0000, 0.0000, 0.0000, 0.0000, 0.0000,\n",
      "          0.0000, 0.0000, 0.0000, 0.0000],\n",
      "         [0.0000, 0.0000, 0.1667, 0.0000, 0.0000, 0.0000, 0.1667, 0.0000,\n",
      "          0.0000, 0.0000, 0.1667, 0.0000, 0.0000, 0.0000, 0.0000, 0.0000,\n",
      "          0.0000, 0.0000, 0.0000, 0.0000],\n",
      "         [0.1667, 0.1667, 0.0000, 0.0000, 0.0000, 0.0000, 0.0000, 0.0000,\n",
      "          0.0000, 0.1667, 0.0000, 0.0000, 0.0000, 0.0000, 0.0000, 0.0000,\n",
      "          0.0000, 0.0000, 0.0000, 0.0000],\n",
      "         [0.0000, 0.1667, 0.0000, 0.0000, 0.0000, 0.0000, 0.0000, 0.1667,\n",
      "          0.0000, 0.0000, 0.0000, 0.0000, 0.1667, 0.0000, 0.0000, 0.0000,\n",
      "          0.0000, 0.0000, 0.0000, 0.0000],\n",
      "         [0.1667, 0.0000, 0.0000, 0.1667, 0.0000, 0.0000, 0.0000, 0.0000,\n",
      "          0.0000, 0.0000, 0.0000, 0.1667, 0.0000, 0.0000, 0.0000, 0.0000,\n",
      "          0.0000, 0.0000, 0.0000, 0.0000],\n",
      "         [0.0000, 0.0000, 0.0000, 0.0000, 0.0000, 0.0000, 0.0000, 0.0000,\n",
      "          0.0000, 0.0000, 0.0000, 0.0000, 0.0000, 0.0000, 0.0000, 0.0000,\n",
      "          0.0000, 0.0000, 0.0000, 0.0000],\n",
      "         [0.0000, 0.0000, 0.0000, 0.0000, 0.0000, 0.0000, 0.0000, 0.0000,\n",
      "          0.0000, 0.0000, 0.0000, 0.0000, 0.0000, 0.0000, 0.0000, 0.0000,\n",
      "          0.0000, 0.0000, 0.0000, 0.0000],\n",
      "         [0.0000, 0.0000, 0.0000, 0.0000, 0.0000, 0.0000, 0.0000, 0.0000,\n",
      "          0.0000, 0.0000, 0.0000, 0.0000, 0.0000, 0.0000, 0.0000, 0.0000,\n",
      "          0.0000, 0.0000, 0.0000, 0.0000],\n",
      "         [0.0000, 0.0000, 0.0000, 0.0000, 0.0000, 0.0000, 0.0000, 0.0000,\n",
      "          0.0000, 0.0000, 0.0000, 0.0000, 0.0000, 0.0000, 0.0000, 0.0000,\n",
      "          0.0000, 0.0000, 0.0000, 0.0000]]])\n",
      "TARGETS:shape: torch.Size([128, 1]) \n",
      " targets: tensor([[15.]])\n"
     ]
    }
   ],
   "source": [
    "for inputs, targets in data_generator(X_train, y_train):\n",
    "    print('INPUTS:' 'shape:', inputs.shape, '\\n inputs:', inputs[:1])\n",
    "    print('TARGETS:' 'shape:', targets.shape, '\\n targets:', targets[:1])\n",
    "    break"
   ]
  },
  {
   "cell_type": "code",
   "execution_count": 19,
   "id": "9cdaf1b5",
   "metadata": {
    "execution": {
     "iopub.execute_input": "2024-03-11T18:32:50.045305Z",
     "iopub.status.busy": "2024-03-11T18:32:50.045016Z",
     "iopub.status.idle": "2024-03-11T18:32:50.049224Z",
     "shell.execute_reply": "2024-03-11T18:32:50.048388Z"
    },
    "papermill": {
     "duration": 0.018834,
     "end_time": "2024-03-11T18:32:50.051164",
     "exception": false,
     "start_time": "2024-03-11T18:32:50.032330",
     "status": "completed"
    },
    "tags": []
   },
   "outputs": [],
   "source": [
    "train_gen = lambda: data_generator(X_train, y_train)\n",
    "test_gen = lambda: data_generator(X_test, y_test)"
   ]
  },
  {
   "cell_type": "markdown",
   "id": "5e24b250",
   "metadata": {
    "papermill": {
     "duration": 0.011778,
     "end_time": "2024-03-11T18:32:50.074544",
     "exception": false,
     "start_time": "2024-03-11T18:32:50.062766",
     "status": "completed"
    },
    "tags": []
   },
   "source": [
    "## Training loop"
   ]
  },
  {
   "cell_type": "code",
   "execution_count": 20,
   "id": "b8c75b0a",
   "metadata": {
    "execution": {
     "iopub.execute_input": "2024-03-11T18:32:50.099005Z",
     "iopub.status.busy": "2024-03-11T18:32:50.098690Z",
     "iopub.status.idle": "2024-03-11T18:32:50.108979Z",
     "shell.execute_reply": "2024-03-11T18:32:50.108176Z"
    },
    "papermill": {
     "duration": 0.024739,
     "end_time": "2024-03-11T18:32:50.110946",
     "exception": false,
     "start_time": "2024-03-11T18:32:50.086207",
     "status": "completed"
    },
    "tags": []
   },
   "outputs": [],
   "source": [
    "\n",
    "def batch_gd(model, criterion, optimizer, epochs, batch_size=128, cnn = False):\n",
    "  train_losses = np.zeros(epochs)\n",
    "  test_losses = np.zeros(epochs)\n",
    "\n",
    "  for i in range(epochs):\n",
    "    t0 = datetime.now()\n",
    "    train_loss = []\n",
    "    for inputs, target in train_gen():\n",
    "        if cnn:\n",
    "            inputs = inputs.view(batch_size,1,16,20)\n",
    "        inputs, target = inputs.to(device), target.to(device)\n",
    "\n",
    "        optimizer.zero_grad()\n",
    "        out = model(inputs)\n",
    "        loss = criterion(out, target)\n",
    "        loss.backward()\n",
    "        optimizer.step()\n",
    "\n",
    "        train_loss.append(loss.item())\n",
    "    train_loss = np.mean(train_loss)\n",
    "\n",
    "    test_loss = []\n",
    "    for inputs, target in test_gen():\n",
    "        if cnn:\n",
    "            inputs = inputs.view(batch_size,1,16,20)\n",
    "        inputs, target = inputs.to(device), target.to(device)\n",
    "        out = model(inputs)\n",
    "        loss = criterion(out, target)\n",
    "        test_loss.append(loss.item())\n",
    "        \n",
    "    test_loss = np.mean(test_loss)\n",
    "\n",
    "    train_losses[i] = train_loss\n",
    "    test_losses[i] = test_loss\n",
    "\n",
    "    dt = datetime.now()-t0\n",
    "    print(f'Epoch: {i+1}/{epochs}, train loss: {train_loss: .4f}\\\n",
    "          test_loss: {test_loss: .4f}, duration: {dt}')\n",
    "  return train_losses, test_losses"
   ]
  },
  {
   "cell_type": "code",
   "execution_count": 21,
   "id": "f866f17b",
   "metadata": {
    "execution": {
     "iopub.execute_input": "2024-03-11T18:32:50.135332Z",
     "iopub.status.busy": "2024-03-11T18:32:50.135072Z",
     "iopub.status.idle": "2024-03-11T18:32:50.143442Z",
     "shell.execute_reply": "2024-03-11T18:32:50.142544Z"
    },
    "papermill": {
     "duration": 0.022566,
     "end_time": "2024-03-11T18:32:50.145267",
     "exception": false,
     "start_time": "2024-03-11T18:32:50.122701",
     "status": "completed"
    },
    "tags": []
   },
   "outputs": [],
   "source": [
    "def calc_accuracy(model, cnn = False):\n",
    "    model.eval()\n",
    "    n_correct = 0.\n",
    "    n_total = 0.\n",
    "    batch_size =128\n",
    "    for inputs, target in train_gen():\n",
    "        if cnn:\n",
    "            inputs = inputs.view(batch_size,1,16,20)\n",
    "        inputs, target = inputs.to(device), target.to(device)\n",
    "        #Perform the prediction\n",
    "        ypred = model(inputs)\n",
    "        # update counts\n",
    "        n_correct += (ypred == target).sum().item()\n",
    "        n_total += target.shape[0]\n",
    "    train_acc = n_correct / n_total\n",
    "    \n",
    "    #TEST SET\n",
    "    n_correct = 0.\n",
    "    n_total = 0\n",
    "    for inputs, target in test_gen():\n",
    "        if cnn:\n",
    "            inputs = inputs.view(batch_size,1,16,20)\n",
    "        inputs, target = inputs.to(device), target.to(device)\n",
    "        out = model(inputs)\n",
    "        \n",
    "        # Forward pass\n",
    "        ypred_test = model(inputs)\n",
    "        # update counts\n",
    "        n_correct += (ypred_test == target).sum().item()\n",
    "        n_total += target.shape[0]\n",
    "        \n",
    "        test_acc = n_correct / n_total\n",
    "\n",
    "    return train_acc, test_acc"
   ]
  },
  {
   "cell_type": "markdown",
   "id": "705bea67",
   "metadata": {
    "papermill": {
     "duration": 0.011377,
     "end_time": "2024-03-11T18:32:50.167861",
     "exception": false,
     "start_time": "2024-03-11T18:32:50.156484",
     "status": "completed"
    },
    "tags": []
   },
   "source": [
    "# Predict h11: CNN model"
   ]
  },
  {
   "cell_type": "code",
   "execution_count": 22,
   "id": "8706d974",
   "metadata": {
    "execution": {
     "iopub.execute_input": "2024-03-11T18:32:50.191757Z",
     "iopub.status.busy": "2024-03-11T18:32:50.191456Z",
     "iopub.status.idle": "2024-03-11T18:32:50.199534Z",
     "shell.execute_reply": "2024-03-11T18:32:50.198528Z"
    },
    "papermill": {
     "duration": 0.02201,
     "end_time": "2024-03-11T18:32:50.201441",
     "exception": false,
     "start_time": "2024-03-11T18:32:50.179431",
     "status": "completed"
    },
    "tags": []
   },
   "outputs": [],
   "source": [
    "class CNN_cicy4_h11(nn.Module):\n",
    "    \n",
    "    def __init__(self):\n",
    "        super().__init__()\n",
    "        self.conv1 = nn.Conv2d(1,128, 4, 1)\n",
    "        self.conv2 = nn.Conv2d(128,64, 3, 1)\n",
    "        self.mxpool = nn.MaxPool2d(2,2)\n",
    "        self.flat = nn.Flatten()\n",
    "        self.conv_total = nn.Sequential(\n",
    "            self.conv1,\n",
    "            self.mxpool,\n",
    "            self.conv2,\n",
    "            self.mxpool,\n",
    "        )\n",
    "        self.linear1 = nn.Linear(384,768*2)\n",
    "        self.linear2 = nn.Linear(768*2,512)\n",
    "        self.linear3 = nn.Linear(512,128)\n",
    "        self.linear4 = nn.Linear(128,1)\n",
    "\n",
    "    def forward(self,x):\n",
    "        x = F.relu(self.conv_total(x))\n",
    "        x = self.flat(x)\n",
    "        x = F.relu(self.linear1(x))\n",
    "        x = self.linear2(x)\n",
    "        \n",
    "        return x"
   ]
  },
  {
   "cell_type": "code",
   "execution_count": 23,
   "id": "44bbd486",
   "metadata": {
    "execution": {
     "iopub.execute_input": "2024-03-11T18:32:50.226725Z",
     "iopub.status.busy": "2024-03-11T18:32:50.226466Z",
     "iopub.status.idle": "2024-03-11T18:32:50.252154Z",
     "shell.execute_reply": "2024-03-11T18:32:50.251151Z"
    },
    "papermill": {
     "duration": 0.041464,
     "end_time": "2024-03-11T18:32:50.254031",
     "exception": false,
     "start_time": "2024-03-11T18:32:50.212567",
     "status": "completed"
    },
    "tags": []
   },
   "outputs": [],
   "source": [
    "model = CNN_cicy4_h11()"
   ]
  },
  {
   "cell_type": "code",
   "execution_count": 24,
   "id": "bc37ac84",
   "metadata": {
    "execution": {
     "iopub.execute_input": "2024-03-11T18:32:50.277730Z",
     "iopub.status.busy": "2024-03-11T18:32:50.277161Z",
     "iopub.status.idle": "2024-03-11T18:32:50.569477Z",
     "shell.execute_reply": "2024-03-11T18:32:50.568392Z"
    },
    "papermill": {
     "duration": 0.30631,
     "end_time": "2024-03-11T18:32:50.571676",
     "exception": false,
     "start_time": "2024-03-11T18:32:50.265366",
     "status": "completed"
    },
    "tags": []
   },
   "outputs": [
    {
     "name": "stdout",
     "output_type": "stream",
     "text": [
      "cuda:0\n"
     ]
    },
    {
     "data": {
      "text/plain": [
       "CNN_cicy4_h11(\n",
       "  (conv1): Conv2d(1, 128, kernel_size=(4, 4), stride=(1, 1))\n",
       "  (conv2): Conv2d(128, 64, kernel_size=(3, 3), stride=(1, 1))\n",
       "  (mxpool): MaxPool2d(kernel_size=2, stride=2, padding=0, dilation=1, ceil_mode=False)\n",
       "  (flat): Flatten(start_dim=1, end_dim=-1)\n",
       "  (conv_total): Sequential(\n",
       "    (0): Conv2d(1, 128, kernel_size=(4, 4), stride=(1, 1))\n",
       "    (1): MaxPool2d(kernel_size=2, stride=2, padding=0, dilation=1, ceil_mode=False)\n",
       "    (2): Conv2d(128, 64, kernel_size=(3, 3), stride=(1, 1))\n",
       "    (3): MaxPool2d(kernel_size=2, stride=2, padding=0, dilation=1, ceil_mode=False)\n",
       "  )\n",
       "  (linear1): Linear(in_features=384, out_features=1536, bias=True)\n",
       "  (linear2): Linear(in_features=1536, out_features=512, bias=True)\n",
       "  (linear3): Linear(in_features=512, out_features=128, bias=True)\n",
       "  (linear4): Linear(in_features=128, out_features=1, bias=True)\n",
       ")"
      ]
     },
     "execution_count": 24,
     "metadata": {},
     "output_type": "execute_result"
    }
   ],
   "source": [
    "device = torch.device(\"cuda:0\" if torch.cuda.is_available() else \"cpu\")\n",
    "print(device)\n",
    "model.to(device)"
   ]
  },
  {
   "cell_type": "code",
   "execution_count": 25,
   "id": "85293e28",
   "metadata": {
    "execution": {
     "iopub.execute_input": "2024-03-11T18:32:50.600226Z",
     "iopub.status.busy": "2024-03-11T18:32:50.599360Z",
     "iopub.status.idle": "2024-03-11T18:32:51.679038Z",
     "shell.execute_reply": "2024-03-11T18:32:51.677853Z"
    },
    "papermill": {
     "duration": 1.096284,
     "end_time": "2024-03-11T18:32:51.681351",
     "exception": false,
     "start_time": "2024-03-11T18:32:50.585067",
     "status": "completed"
    },
    "tags": []
   },
   "outputs": [
    {
     "name": "stdout",
     "output_type": "stream",
     "text": [
      "Original shape of the image before passing through the network: \n",
      " torch.Size([16, 20])\n",
      "\n",
      "Reshape the size to take in account the batch number\n",
      "The new size is torch.Size([1, 1, 16, 20])\n",
      "\n",
      "Shape of the image after passing through the whole convolution block: \n",
      " torch.Size([1, 64, 2, 3])\n",
      "\n",
      "Shape of the image after passing through the Flatten(start_dim=1, end_dim=-1): \n",
      " torch.Size([1, 384])\n",
      "\n",
      "Shape of the image after passing through the Linear(in_features=384, out_features=1536, bias=True): \n",
      " torch.Size([1, 1536])\n",
      "\n",
      "Shape of the image after passing through the Linear(in_features=1536, out_features=512, bias=True): \n",
      " torch.Size([1, 512])\n",
      "\n",
      "Shape of the image after passing through the Linear(in_features=512, out_features=128, bias=True): \n",
      " torch.Size([1, 128])\n",
      "\n",
      "Shape of the image after passing through the Linear(in_features=128, out_features=1, bias=True): \n",
      " torch.Size([1, 1])\n",
      "\n"
     ]
    }
   ],
   "source": [
    "X = X_train[0].to(device)\n",
    "print(f'Original shape of the image before passing through the network: \\n {X.shape}\\n')\n",
    "print('Reshape the size to take in account the batch number')\n",
    "X = X.view(1,1,16,20)\n",
    "print(f'The new size is {X.shape}\\n')\n",
    "X = model.conv_total(X)\n",
    "print(f'Shape of the image after passing through the whole convolution block: \\n {X.shape}\\n')\n",
    "\n",
    "X = model.flat(X)\n",
    "print(f'Shape of the image after passing through the {model.flat}: \\n {X.shape}\\n')\n",
    "\n",
    "X = model.linear1(X)\n",
    "print(f'Shape of the image after passing through the {model.linear1}: \\n {X.shape}\\n')\n",
    "\n",
    "X = model.linear2(X)\n",
    "print(f'Shape of the image after passing through the {model.linear2}: \\n {X.shape}\\n')\n",
    "\n",
    "X = model.linear3(X)\n",
    "print(f'Shape of the image after passing through the {model.linear3}: \\n {X.shape}\\n')\n",
    "\n",
    "X = model.linear4(X)\n",
    "print(f'Shape of the image after passing through the {model.linear4}: \\n {X.shape}\\n')"
   ]
  },
  {
   "cell_type": "code",
   "execution_count": 26,
   "id": "33505f43",
   "metadata": {
    "execution": {
     "iopub.execute_input": "2024-03-11T18:32:51.708838Z",
     "iopub.status.busy": "2024-03-11T18:32:51.708291Z",
     "iopub.status.idle": "2024-03-11T18:32:55.748711Z",
     "shell.execute_reply": "2024-03-11T18:32:55.747912Z"
    },
    "papermill": {
     "duration": 4.055352,
     "end_time": "2024-03-11T18:32:55.751031",
     "exception": false,
     "start_time": "2024-03-11T18:32:51.695679",
     "status": "completed"
    },
    "tags": []
   },
   "outputs": [],
   "source": [
    "criterion = nn.MSELoss()\n",
    "optimizer = torch.optim.Adam(model.parameters())"
   ]
  },
  {
   "cell_type": "code",
   "execution_count": 27,
   "id": "26fd0c98",
   "metadata": {
    "execution": {
     "iopub.execute_input": "2024-03-11T18:32:55.777145Z",
     "iopub.status.busy": "2024-03-11T18:32:55.776656Z",
     "iopub.status.idle": "2024-03-11T18:55:54.361377Z",
     "shell.execute_reply": "2024-03-11T18:55:54.360459Z"
    },
    "papermill": {
     "duration": 1378.618209,
     "end_time": "2024-03-11T18:55:54.381695",
     "exception": false,
     "start_time": "2024-03-11T18:32:55.763486",
     "status": "completed"
    },
    "tags": []
   },
   "outputs": [
    {
     "name": "stderr",
     "output_type": "stream",
     "text": [
      "/opt/conda/lib/python3.10/site-packages/torch/nn/modules/loss.py:535: UserWarning: Using a target size (torch.Size([128, 1])) that is different to the input size (torch.Size([128, 512])). This will likely lead to incorrect results due to broadcasting. Please ensure they have the same size.\n",
      "  return F.mse_loss(input, target, reduction=self.reduction)\n"
     ]
    },
    {
     "name": "stdout",
     "output_type": "stream",
     "text": [
      "Epoch: 1/80, train loss:  1.7637          test_loss:  0.9790, duration: 0:00:18.184525\n",
      "Epoch: 2/80, train loss:  0.7722          test_loss:  0.6064, duration: 0:00:17.132458\n",
      "Epoch: 3/80, train loss:  0.5373          test_loss:  0.5913, duration: 0:00:17.246436\n",
      "Epoch: 4/80, train loss:  0.4334          test_loss:  0.4154, duration: 0:00:17.280380\n",
      "Epoch: 5/80, train loss:  0.3711          test_loss:  0.3706, duration: 0:00:17.317673\n",
      "Epoch: 6/80, train loss:  0.3275          test_loss:  0.3527, duration: 0:00:17.396196\n",
      "Epoch: 7/80, train loss:  0.2949          test_loss:  0.3144, duration: 0:00:17.321449\n",
      "Epoch: 8/80, train loss:  0.2698          test_loss:  0.2980, duration: 0:00:17.268864\n",
      "Epoch: 9/80, train loss:  0.2494          test_loss:  0.2804, duration: 0:00:17.205690\n",
      "Epoch: 10/80, train loss:  0.2323          test_loss:  0.2727, duration: 0:00:17.321037\n",
      "Epoch: 11/80, train loss:  0.2189          test_loss:  0.2673, duration: 0:00:17.272669\n",
      "Epoch: 12/80, train loss:  0.2072          test_loss:  0.2327, duration: 0:00:17.390245\n",
      "Epoch: 13/80, train loss:  0.1960          test_loss:  0.2245, duration: 0:00:17.185697\n",
      "Epoch: 14/80, train loss:  0.1863          test_loss:  0.2153, duration: 0:00:17.178827\n",
      "Epoch: 15/80, train loss:  0.1789          test_loss:  0.2136, duration: 0:00:17.285043\n",
      "Epoch: 16/80, train loss:  0.1706          test_loss:  0.2035, duration: 0:00:17.211575\n",
      "Epoch: 17/80, train loss:  0.1649          test_loss:  0.1985, duration: 0:00:17.225489\n",
      "Epoch: 18/80, train loss:  0.1601          test_loss:  0.1897, duration: 0:00:17.223248\n",
      "Epoch: 19/80, train loss:  0.1527          test_loss:  0.2069, duration: 0:00:17.295081\n",
      "Epoch: 20/80, train loss:  0.1481          test_loss:  0.1952, duration: 0:00:17.198374\n",
      "Epoch: 21/80, train loss:  0.1431          test_loss:  0.1824, duration: 0:00:17.328081\n",
      "Epoch: 22/80, train loss:  0.1390          test_loss:  0.1985, duration: 0:00:17.186998\n",
      "Epoch: 23/80, train loss:  0.1352          test_loss:  0.1810, duration: 0:00:17.214981\n",
      "Epoch: 24/80, train loss:  0.1323          test_loss:  0.1880, duration: 0:00:17.176560\n",
      "Epoch: 25/80, train loss:  0.1286          test_loss:  0.1737, duration: 0:00:17.222849\n",
      "Epoch: 26/80, train loss:  0.1251          test_loss:  0.1921, duration: 0:00:17.262210\n",
      "Epoch: 27/80, train loss:  0.1235          test_loss:  0.1612, duration: 0:00:17.195713\n",
      "Epoch: 28/80, train loss:  0.1201          test_loss:  0.1645, duration: 0:00:17.266749\n",
      "Epoch: 29/80, train loss:  0.1173          test_loss:  0.1709, duration: 0:00:17.158312\n",
      "Epoch: 30/80, train loss:  0.1142          test_loss:  0.1650, duration: 0:00:17.199657\n",
      "Epoch: 31/80, train loss:  0.1131          test_loss:  0.1679, duration: 0:00:17.207204\n",
      "Epoch: 32/80, train loss:  0.1104          test_loss:  0.1580, duration: 0:00:17.287921\n",
      "Epoch: 33/80, train loss:  0.1078          test_loss:  0.1583, duration: 0:00:17.256236\n",
      "Epoch: 34/80, train loss:  0.1063          test_loss:  0.1631, duration: 0:00:17.242476\n",
      "Epoch: 35/80, train loss:  0.1041          test_loss:  0.1555, duration: 0:00:17.248293\n",
      "Epoch: 36/80, train loss:  0.1034          test_loss:  0.1489, duration: 0:00:17.251777\n",
      "Epoch: 37/80, train loss:  0.1011          test_loss:  0.1611, duration: 0:00:17.322018\n",
      "Epoch: 38/80, train loss:  0.0999          test_loss:  0.1556, duration: 0:00:17.203141\n",
      "Epoch: 39/80, train loss:  0.0978          test_loss:  0.1548, duration: 0:00:17.282585\n",
      "Epoch: 40/80, train loss:  0.0975          test_loss:  0.1588, duration: 0:00:17.271183\n",
      "Epoch: 41/80, train loss:  0.0955          test_loss:  0.1595, duration: 0:00:17.309517\n",
      "Epoch: 42/80, train loss:  0.0947          test_loss:  0.1624, duration: 0:00:17.145862\n",
      "Epoch: 43/80, train loss:  0.0918          test_loss:  0.1526, duration: 0:00:17.319130\n",
      "Epoch: 44/80, train loss:  0.0916          test_loss:  0.1451, duration: 0:00:17.232597\n",
      "Epoch: 45/80, train loss:  0.0907          test_loss:  0.1549, duration: 0:00:17.233301\n",
      "Epoch: 46/80, train loss:  0.0891          test_loss:  0.1426, duration: 0:00:17.260156\n",
      "Epoch: 47/80, train loss:  0.0880          test_loss:  0.1519, duration: 0:00:17.165136\n",
      "Epoch: 48/80, train loss:  0.0866          test_loss:  0.1434, duration: 0:00:17.258978\n",
      "Epoch: 49/80, train loss:  0.0865          test_loss:  0.1432, duration: 0:00:17.155980\n",
      "Epoch: 50/80, train loss:  0.0846          test_loss:  0.1457, duration: 0:00:17.263868\n",
      "Epoch: 51/80, train loss:  0.0841          test_loss:  0.1438, duration: 0:00:17.243720\n",
      "Epoch: 52/80, train loss:  0.0834          test_loss:  0.1384, duration: 0:00:17.223596\n",
      "Epoch: 53/80, train loss:  0.0823          test_loss:  0.1400, duration: 0:00:17.190979\n",
      "Epoch: 54/80, train loss:  0.0815          test_loss:  0.1568, duration: 0:00:17.170855\n",
      "Epoch: 55/80, train loss:  0.0804          test_loss:  0.1634, duration: 0:00:17.177116\n",
      "Epoch: 56/80, train loss:  0.0800          test_loss:  0.1533, duration: 0:00:17.173865\n",
      "Epoch: 57/80, train loss:  0.0790          test_loss:  0.1513, duration: 0:00:17.283328\n",
      "Epoch: 58/80, train loss:  0.0791          test_loss:  0.1439, duration: 0:00:17.161213\n",
      "Epoch: 59/80, train loss:  0.0770          test_loss:  0.1437, duration: 0:00:17.245172\n",
      "Epoch: 60/80, train loss:  0.0772          test_loss:  0.1535, duration: 0:00:17.181985\n",
      "Epoch: 61/80, train loss:  0.0759          test_loss:  0.1480, duration: 0:00:17.238870\n",
      "Epoch: 62/80, train loss:  0.0755          test_loss:  0.1395, duration: 0:00:17.100189\n",
      "Epoch: 63/80, train loss:  0.0751          test_loss:  0.1434, duration: 0:00:17.218263\n",
      "Epoch: 64/80, train loss:  0.0745          test_loss:  0.1396, duration: 0:00:17.176159\n",
      "Epoch: 65/80, train loss:  0.0729          test_loss:  0.1406, duration: 0:00:17.163748\n",
      "Epoch: 66/80, train loss:  0.0728          test_loss:  0.1546, duration: 0:00:17.150948\n",
      "Epoch: 67/80, train loss:  0.0723          test_loss:  0.1366, duration: 0:00:17.167928\n",
      "Epoch: 68/80, train loss:  0.0718          test_loss:  0.1499, duration: 0:00:17.157881\n",
      "Epoch: 69/80, train loss:  0.0709          test_loss:  0.1360, duration: 0:00:17.207478\n",
      "Epoch: 70/80, train loss:  0.0703          test_loss:  0.1401, duration: 0:00:17.178100\n",
      "Epoch: 71/80, train loss:  0.0700          test_loss:  0.1352, duration: 0:00:17.100956\n",
      "Epoch: 72/80, train loss:  0.0695          test_loss:  0.1573, duration: 0:00:17.151928\n",
      "Epoch: 73/80, train loss:  0.0692          test_loss:  0.1405, duration: 0:00:17.154499\n",
      "Epoch: 74/80, train loss:  0.0689          test_loss:  0.1368, duration: 0:00:17.233814\n",
      "Epoch: 75/80, train loss:  0.0678          test_loss:  0.1333, duration: 0:00:17.147399\n",
      "Epoch: 76/80, train loss:  0.0675          test_loss:  0.1389, duration: 0:00:17.104342\n",
      "Epoch: 77/80, train loss:  0.0675          test_loss:  0.1380, duration: 0:00:17.222864\n",
      "Epoch: 78/80, train loss:  0.0668          test_loss:  0.1329, duration: 0:00:17.090342\n",
      "Epoch: 79/80, train loss:  0.0661          test_loss:  0.1324, duration: 0:00:17.193958\n",
      "Epoch: 80/80, train loss:  0.0649          test_loss:  0.1389, duration: 0:00:17.088450\n"
     ]
    }
   ],
   "source": [
    "train_losses, test_losses=batch_gd(model, criterion, optimizer, 80,  cnn=True)"
   ]
  },
  {
   "cell_type": "code",
   "execution_count": 28,
   "id": "62bf53ea",
   "metadata": {
    "execution": {
     "iopub.execute_input": "2024-03-11T18:55:54.420395Z",
     "iopub.status.busy": "2024-03-11T18:55:54.420021Z",
     "iopub.status.idle": "2024-03-11T18:56:02.208718Z",
     "shell.execute_reply": "2024-03-11T18:56:02.207630Z"
    },
    "papermill": {
     "duration": 7.810576,
     "end_time": "2024-03-11T18:56:02.210971",
     "exception": false,
     "start_time": "2024-03-11T18:55:54.400395",
     "status": "completed"
    },
    "tags": []
   },
   "outputs": [
    {
     "name": "stdout",
     "output_type": "stream",
     "text": [
      "Train acc: 0.0020, Test acc: 0.0016\n"
     ]
    }
   ],
   "source": [
    "train_acc, test_acc = calc_accuracy(model, cnn= True)\n",
    "print(f\"Train acc: {train_acc:.4f}, Test acc: {test_acc:.4f}\")"
   ]
  },
  {
   "cell_type": "code",
   "execution_count": null,
   "id": "ffeb7bfc",
   "metadata": {
    "papermill": {
     "duration": 0.018216,
     "end_time": "2024-03-11T18:56:02.247574",
     "exception": false,
     "start_time": "2024-03-11T18:56:02.229358",
     "status": "completed"
    },
    "tags": []
   },
   "outputs": [],
   "source": []
  }
 ],
 "metadata": {
  "kaggle": {
   "accelerator": "nvidiaTeslaT4",
   "dataSources": [
    {
     "datasetId": 4575883,
     "sourceId": 7813866,
     "sourceType": "datasetVersion"
    }
   ],
   "dockerImageVersionId": 30664,
   "isGpuEnabled": true,
   "isInternetEnabled": true,
   "language": "python",
   "sourceType": "notebook"
  },
  "kernelspec": {
   "display_name": "Python 3",
   "language": "python",
   "name": "python3"
  },
  "language_info": {
   "codemirror_mode": {
    "name": "ipython",
    "version": 3
   },
   "file_extension": ".py",
   "mimetype": "text/x-python",
   "name": "python",
   "nbconvert_exporter": "python",
   "pygments_lexer": "ipython3",
   "version": "3.10.13"
  },
  "papermill": {
   "default_parameters": {},
   "duration": 1435.692512,
   "end_time": "2024-03-11T18:56:05.085001",
   "environment_variables": {},
   "exception": null,
   "input_path": "__notebook__.ipynb",
   "output_path": "__notebook__.ipynb",
   "parameters": {},
   "start_time": "2024-03-11T18:32:09.392489",
   "version": "2.5.0"
  }
 },
 "nbformat": 4,
 "nbformat_minor": 5
}
