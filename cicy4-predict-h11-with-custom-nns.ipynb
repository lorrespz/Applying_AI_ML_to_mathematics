{
 "cells": [
  {
   "cell_type": "markdown",
   "id": "65e58a7b",
   "metadata": {
    "papermill": {
     "duration": 0.015491,
     "end_time": "2024-03-15T10:17:45.175554",
     "exception": false,
     "start_time": "2024-03-15T10:17:45.160063",
     "status": "completed"
    },
    "tags": []
   },
   "source": [
    "# Exploring CICY4 4-folds\n"
   ]
  },
  {
   "cell_type": "code",
   "execution_count": 1,
   "id": "3f148805",
   "metadata": {
    "_cell_guid": "b1076dfc-b9ad-4769-8c92-a6c4dae69d19",
    "_uuid": "8f2839f25d086af736a60e9eeb907d3b93b6e0e5",
    "execution": {
     "iopub.execute_input": "2024-03-15T10:17:45.207936Z",
     "iopub.status.busy": "2024-03-15T10:17:45.207103Z",
     "iopub.status.idle": "2024-03-15T10:17:51.648707Z",
     "shell.execute_reply": "2024-03-15T10:17:51.647854Z"
    },
    "papermill": {
     "duration": 6.460498,
     "end_time": "2024-03-15T10:17:51.651120",
     "exception": false,
     "start_time": "2024-03-15T10:17:45.190622",
     "status": "completed"
    },
    "tags": []
   },
   "outputs": [],
   "source": [
    "import numpy as np\n",
    "import os as os\n",
    "import matplotlib.pyplot as plt\n",
    "import seaborn as sns\n",
    "sns.set_style(\"darkgrid\")\n",
    "from datetime import datetime\n",
    "\n",
    "\n",
    "import torch\n",
    "import torch.nn as nn\n",
    "import torch.nn.functional as F"
   ]
  },
  {
   "cell_type": "code",
   "execution_count": 2,
   "id": "158eb900",
   "metadata": {
    "execution": {
     "iopub.execute_input": "2024-03-15T10:17:51.682140Z",
     "iopub.status.busy": "2024-03-15T10:17:51.681727Z",
     "iopub.status.idle": "2024-03-15T10:18:06.039834Z",
     "shell.execute_reply": "2024-03-15T10:18:06.038895Z"
    },
    "papermill": {
     "duration": 14.376366,
     "end_time": "2024-03-15T10:18:06.042066",
     "exception": false,
     "start_time": "2024-03-15T10:17:51.665700",
     "status": "completed"
    },
    "tags": []
   },
   "outputs": [
    {
     "data": {
      "text/plain": [
       "((921497, 16, 20), (921497, 4), (921497,))"
      ]
     },
     "execution_count": 2,
     "metadata": {},
     "output_type": "execute_result"
    }
   ],
   "source": [
    "# load data\n",
    "path = '/kaggle/input/calabi-yau-cicy-4-folds'\n",
    "conf = np.load(os.path.join(path, 'conf.npy'))\n",
    "hodge = np.load(os.path.join(path, 'hodge.npy'))\n",
    "direct = np.load(os.path.join(path, 'direct.npy'))\n",
    "conf.shape, hodge.shape, direct.shape"
   ]
  },
  {
   "cell_type": "code",
   "execution_count": 3,
   "id": "130bc1b8",
   "metadata": {
    "execution": {
     "iopub.execute_input": "2024-03-15T10:18:06.072639Z",
     "iopub.status.busy": "2024-03-15T10:18:06.072103Z",
     "iopub.status.idle": "2024-03-15T10:18:06.075889Z",
     "shell.execute_reply": "2024-03-15T10:18:06.075084Z"
    },
    "papermill": {
     "duration": 0.020624,
     "end_time": "2024-03-15T10:18:06.077791",
     "exception": false,
     "start_time": "2024-03-15T10:18:06.057167",
     "status": "completed"
    },
    "tags": []
   },
   "outputs": [],
   "source": [
    "# PICK ONLY THOSE WITH 'direct = True'\n",
    "#conf = conf[~direct]\n",
    "#hodge = hodge[~direct]\n",
    "#conf.shape, hodge.shape"
   ]
  },
  {
   "cell_type": "markdown",
   "id": "bbcd9668",
   "metadata": {
    "papermill": {
     "duration": 0.013675,
     "end_time": "2024-03-15T10:18:06.105638",
     "exception": false,
     "start_time": "2024-03-15T10:18:06.091963",
     "status": "completed"
    },
    "tags": []
   },
   "source": [
    "## How many favourable configs are there?"
   ]
  },
  {
   "cell_type": "code",
   "execution_count": 4,
   "id": "ebb26f8d",
   "metadata": {
    "execution": {
     "iopub.execute_input": "2024-03-15T10:18:06.134151Z",
     "iopub.status.busy": "2024-03-15T10:18:06.133856Z",
     "iopub.status.idle": "2024-03-15T10:18:07.214476Z",
     "shell.execute_reply": "2024-03-15T10:18:07.213409Z"
    },
    "papermill": {
     "duration": 1.097092,
     "end_time": "2024-03-15T10:18:07.216456",
     "exception": false,
     "start_time": "2024-03-15T10:18:06.119364",
     "status": "completed"
    },
    "tags": []
   },
   "outputs": [
    {
     "data": {
      "text/plain": [
       "((921497, 16), (921497,))"
      ]
     },
     "execution_count": 4,
     "metadata": {},
     "output_type": "execute_result"
    }
   ],
   "source": [
    "#sum up the last dimension consecutively\n",
    "np.sum(conf, axis=-1).shape, np.sum(np.sum(conf, axis=-1) > 0, axis=-1).shape"
   ]
  },
  {
   "cell_type": "code",
   "execution_count": 5,
   "id": "23e6e7a6",
   "metadata": {
    "execution": {
     "iopub.execute_input": "2024-03-15T10:18:07.246093Z",
     "iopub.status.busy": "2024-03-15T10:18:07.245764Z",
     "iopub.status.idle": "2024-03-15T10:18:07.815552Z",
     "shell.execute_reply": "2024-03-15T10:18:07.814641Z"
    },
    "papermill": {
     "duration": 0.587245,
     "end_time": "2024-03-15T10:18:07.818104",
     "exception": false,
     "start_time": "2024-03-15T10:18:07.230859",
     "status": "completed"
    },
    "tags": []
   },
   "outputs": [
    {
     "name": "stdout",
     "output_type": "stream",
     "text": [
      "The percentage of fav conf is: 0.5355872021287101.\n"
     ]
    }
   ],
   "source": [
    "number_proj = np.sum(np.sum(conf, axis=-1) > 0, axis=-1)\n",
    "n_fav = np.sum(number_proj == hodge[:,0])\n",
    "print('The percentage of fav conf is: {}.'.format(n_fav/len(hodge)))"
   ]
  },
  {
   "cell_type": "code",
   "execution_count": 6,
   "id": "17c4140b",
   "metadata": {
    "execution": {
     "iopub.execute_input": "2024-03-15T10:18:07.848658Z",
     "iopub.status.busy": "2024-03-15T10:18:07.847901Z",
     "iopub.status.idle": "2024-03-15T10:18:07.870408Z",
     "shell.execute_reply": "2024-03-15T10:18:07.869536Z"
    },
    "papermill": {
     "duration": 0.040001,
     "end_time": "2024-03-15T10:18:07.872710",
     "exception": false,
     "start_time": "2024-03-15T10:18:07.832709",
     "status": "completed"
    },
    "tags": []
   },
   "outputs": [
    {
     "data": {
      "text/plain": [
       "(24, 0, 33, 0, 426, 0, 1752, 0)"
      ]
     },
     "execution_count": 6,
     "metadata": {},
     "output_type": "execute_result"
    }
   ],
   "source": [
    "h11max = np.max(hodge[:,0])\n",
    "h11min = np.min(hodge[:,0])\n",
    "h21max = np.max(hodge[:,1])\n",
    "h21min = np.min(hodge[:,1])\n",
    "h31max = np.max(hodge[:,2])\n",
    "h31min = np.min(hodge[:,2])\n",
    "h22max = np.max(hodge[:,3])\n",
    "h22min = np.min(hodge[:,3])\n",
    "h11max, h11min, h21max, h21min, h31max, h31min, h22max, h22min"
   ]
  },
  {
   "cell_type": "markdown",
   "id": "6aca82de",
   "metadata": {
    "papermill": {
     "duration": 0.014467,
     "end_time": "2024-03-15T10:18:07.902147",
     "exception": false,
     "start_time": "2024-03-15T10:18:07.887680",
     "status": "completed"
    },
    "tags": []
   },
   "source": [
    "# Histograms of Hodge numbers"
   ]
  },
  {
   "cell_type": "code",
   "execution_count": 7,
   "id": "579e9e35",
   "metadata": {
    "execution": {
     "iopub.execute_input": "2024-03-15T10:18:07.932535Z",
     "iopub.status.busy": "2024-03-15T10:18:07.932195Z",
     "iopub.status.idle": "2024-03-15T10:18:07.936743Z",
     "shell.execute_reply": "2024-03-15T10:18:07.935772Z"
    },
    "papermill": {
     "duration": 0.022465,
     "end_time": "2024-03-15T10:18:07.938804",
     "exception": false,
     "start_time": "2024-03-15T10:18:07.916339",
     "status": "completed"
    },
    "tags": []
   },
   "outputs": [],
   "source": [
    "if not os.path.exists('plots'):\n",
    "    os.makedirs('plots')"
   ]
  },
  {
   "cell_type": "code",
   "execution_count": 8,
   "id": "78d146e0",
   "metadata": {
    "execution": {
     "iopub.execute_input": "2024-03-15T10:18:07.969377Z",
     "iopub.status.busy": "2024-03-15T10:18:07.969110Z",
     "iopub.status.idle": "2024-03-15T10:18:09.432421Z",
     "shell.execute_reply": "2024-03-15T10:18:09.431507Z"
    },
    "papermill": {
     "duration": 1.480649,
     "end_time": "2024-03-15T10:18:09.434526",
     "exception": false,
     "start_time": "2024-03-15T10:18:07.953877",
     "status": "completed"
    },
    "tags": []
   },
   "outputs": [
    {
     "data": {
      "image/png": "[encoded data removed]",
      "text/plain": [
       "<Figure size 640x480 with 1 Axes>"
      ]
     },
     "metadata": {},
     "output_type": "display_data"
    }
   ],
   "source": [
    "plt.hist(hodge[:,0], bins=range(h11min, h11max+1), alpha=0.5)\n",
    "plt.xlabel('$h^{(1,1)}$')\n",
    "plt.ylabel('count')\n",
    "plt.yscale('log')\n",
    "plt.savefig(os.path.join('plots', 'z-h11hist.pdf'))"
   ]
  },
  {
   "cell_type": "code",
   "execution_count": 9,
   "id": "aeb6d5b7",
   "metadata": {
    "execution": {
     "iopub.execute_input": "2024-03-15T10:18:09.466852Z",
     "iopub.status.busy": "2024-03-15T10:18:09.466353Z",
     "iopub.status.idle": "2024-03-15T10:18:10.539710Z",
     "shell.execute_reply": "2024-03-15T10:18:10.538784Z"
    },
    "papermill": {
     "duration": 1.091954,
     "end_time": "2024-03-15T10:18:10.541847",
     "exception": false,
     "start_time": "2024-03-15T10:18:09.449893",
     "status": "completed"
    },
    "tags": []
   },
   "outputs": [
    {
     "data": {
      "image/png": "[encoded data removed]",
      "text/plain": [
       "<Figure size 640x480 with 1 Axes>"
      ]
     },
     "metadata": {},
     "output_type": "display_data"
    }
   ],
   "source": [
    "plt.hist(hodge[:,1], bins=range(h21min, h21max+1), alpha=0.5)\n",
    "plt.xlabel('$h^{(2,1)}$')\n",
    "plt.ylabel('count')\n",
    "plt.yscale('log')\n",
    "plt.savefig(os.path.join('plots', 'z-h21hist.pdf'))"
   ]
  },
  {
   "cell_type": "code",
   "execution_count": 10,
   "id": "ad95f96d",
   "metadata": {
    "execution": {
     "iopub.execute_input": "2024-03-15T10:18:10.573459Z",
     "iopub.status.busy": "2024-03-15T10:18:10.573134Z",
     "iopub.status.idle": "2024-03-15T10:18:12.052149Z",
     "shell.execute_reply": "2024-03-15T10:18:12.051055Z"
    },
    "papermill": {
     "duration": 1.497517,
     "end_time": "2024-03-15T10:18:12.054556",
     "exception": false,
     "start_time": "2024-03-15T10:18:10.557039",
     "status": "completed"
    },
    "tags": []
   },
   "outputs": [
    {
     "data": {
      "image/png": "[encoded data removed]",
      "text/plain": [
       "<Figure size 640x480 with 1 Axes>"
      ]
     },
     "metadata": {},
     "output_type": "display_data"
    }
   ],
   "source": [
    "plt.hist(hodge[:,2], bins=range(h31min, h31max+1, 2), alpha=0.5)\n",
    "plt.xlabel('$h^{(3,1)}$')\n",
    "plt.ylabel('count')\n",
    "plt.yscale('log')\n",
    "plt.savefig(os.path.join('plots', 'z-h31hist.pdf'))"
   ]
  },
  {
   "cell_type": "code",
   "execution_count": 11,
   "id": "030d9e59",
   "metadata": {
    "execution": {
     "iopub.execute_input": "2024-03-15T10:18:12.088212Z",
     "iopub.status.busy": "2024-03-15T10:18:12.087463Z",
     "iopub.status.idle": "2024-03-15T10:18:13.682674Z",
     "shell.execute_reply": "2024-03-15T10:18:13.681710Z"
    },
    "papermill": {
     "duration": 1.61397,
     "end_time": "2024-03-15T10:18:13.684827",
     "exception": false,
     "start_time": "2024-03-15T10:18:12.070857",
     "status": "completed"
    },
    "tags": []
   },
   "outputs": [
    {
     "data": {
      "image/png": "[encoded data removed]",
      "text/plain": [
       "<Figure size 640x480 with 1 Axes>"
      ]
     },
     "metadata": {},
     "output_type": "display_data"
    }
   ],
   "source": [
    "plt.hist(hodge[:,3], bins=range(h22min, h22max+1,10), alpha=0.5)\n",
    "plt.xlabel('$h^{(2,2)}$')\n",
    "plt.ylabel('count')\n",
    "plt.yscale('log')\n",
    "plt.savefig(os.path.join('plots', 'z-h22hist.pdf'))"
   ]
  },
  {
   "cell_type": "markdown",
   "id": "b0472c8b",
   "metadata": {
    "papermill": {
     "duration": 0.015582,
     "end_time": "2024-03-15T10:18:13.716949",
     "exception": false,
     "start_time": "2024-03-15T10:18:13.701367",
     "status": "completed"
    },
    "tags": []
   },
   "source": [
    "# Custom data generator"
   ]
  },
  {
   "cell_type": "code",
   "execution_count": 12,
   "id": "cfca371a",
   "metadata": {
    "execution": {
     "iopub.execute_input": "2024-03-15T10:18:13.749918Z",
     "iopub.status.busy": "2024-03-15T10:18:13.749615Z",
     "iopub.status.idle": "2024-03-15T10:18:15.225704Z",
     "shell.execute_reply": "2024-03-15T10:18:15.224742Z"
    },
    "papermill": {
     "duration": 1.495215,
     "end_time": "2024-03-15T10:18:15.227732",
     "exception": false,
     "start_time": "2024-03-15T10:18:13.732517",
     "status": "completed"
    },
    "tags": []
   },
   "outputs": [
    {
     "data": {
      "text/plain": [
       "(torch.Size([737197, 16, 20]),\n",
       " torch.Size([737197, 1]),\n",
       " torch.Size([184300, 16, 20]),\n",
       " torch.Size([184300, 1]))"
      ]
     },
     "execution_count": 12,
     "metadata": {},
     "output_type": "execute_result"
    }
   ],
   "source": [
    "X = conf\n",
    "h11 = hodge[:,0]\n",
    "y = h11\n",
    "\n",
    "from sklearn.model_selection import train_test_split\n",
    "from sklearn.utils import shuffle\n",
    "X_train,  X_test,y_train, y_test = train_test_split(X, y, test_size = 0.2, random_state = 101, shuffle = True)\n",
    "\n",
    "\n",
    "X_train = torch.from_numpy(X_train.astype(np.float32))\n",
    "y_train = torch.from_numpy(y_train.astype(np.float32).reshape(-1, 1))\n",
    "\n",
    "X_test = torch.from_numpy(X_test.astype(np.float32))\n",
    "y_test = torch.from_numpy(y_test.astype(np.float32).reshape(-1, 1))\n",
    "\n",
    "X_train.shape, y_train.shape, X_test.shape, y_test.shape"
   ]
  },
  {
   "cell_type": "code",
   "execution_count": 13,
   "id": "96deec86",
   "metadata": {
    "execution": {
     "iopub.execute_input": "2024-03-15T10:18:15.260453Z",
     "iopub.status.busy": "2024-03-15T10:18:15.260153Z",
     "iopub.status.idle": "2024-03-15T10:18:15.265815Z",
     "shell.execute_reply": "2024-03-15T10:18:15.264982Z"
    },
    "papermill": {
     "duration": 0.023933,
     "end_time": "2024-03-15T10:18:15.267764",
     "exception": false,
     "start_time": "2024-03-15T10:18:15.243831",
     "status": "completed"
    },
    "tags": []
   },
   "outputs": [],
   "source": [
    "def data_generator(X, y, bs = 128):\n",
    "    X, y = shuffle(X, y)\n",
    "    n_batches = int(np.ceil(len(y))/bs)\n",
    "    for i in range(n_batches):\n",
    "    #this is to account for the last batch\n",
    "    #which may not be a full size batch\n",
    "        end = min((i+1)*bs, len(y))\n",
    "\n",
    "        X_batch = X[i*bs:end]\n",
    "        y_batch = y[i*bs:end]\n",
    "        \n",
    "        #do not use 'return' since this is a data generator\n",
    "        yield X_batch, y_batch"
   ]
  },
  {
   "cell_type": "code",
   "execution_count": 14,
   "id": "919187d5",
   "metadata": {
    "execution": {
     "iopub.execute_input": "2024-03-15T10:18:15.300819Z",
     "iopub.status.busy": "2024-03-15T10:18:15.300345Z",
     "iopub.status.idle": "2024-03-15T10:18:15.861411Z",
     "shell.execute_reply": "2024-03-15T10:18:15.860330Z"
    },
    "papermill": {
     "duration": 0.580245,
     "end_time": "2024-03-15T10:18:15.864073",
     "exception": false,
     "start_time": "2024-03-15T10:18:15.283828",
     "status": "completed"
    },
    "tags": []
   },
   "outputs": [
    {
     "name": "stdout",
     "output_type": "stream",
     "text": [
      "INPUTS:shape: torch.Size([128, 16, 20]) \n",
      " inputs: tensor([[[0.0000, 0.0000, 0.0000, 0.0000, 0.0000, 0.0000, 0.0000, 0.0000,\n",
      "          0.0000, 0.0000, 0.1667, 0.1667, 0.0000, 0.0000, 0.0000, 0.0000,\n",
      "          0.0000, 0.0000, 0.0000, 0.0000],\n",
      "         [0.0000, 0.0000, 0.0000, 0.0000, 0.0000, 0.0000, 0.0000, 0.0000,\n",
      "          0.1667, 0.1667, 0.0000, 0.0000, 0.0000, 0.0000, 0.0000, 0.0000,\n",
      "          0.0000, 0.0000, 0.0000, 0.0000],\n",
      "         [0.0000, 0.0000, 0.0000, 0.0000, 0.0000, 0.0000, 0.1667, 0.1667,\n",
      "          0.0000, 0.0000, 0.0000, 0.0000, 0.0000, 0.0000, 0.0000, 0.0000,\n",
      "          0.0000, 0.0000, 0.0000, 0.0000],\n",
      "         [0.0000, 0.0000, 0.0000, 0.0000, 0.0000, 0.1667, 0.0000, 0.1667,\n",
      "          0.0000, 0.0000, 0.0000, 0.0000, 0.0000, 0.0000, 0.0000, 0.0000,\n",
      "          0.0000, 0.0000, 0.0000, 0.0000],\n",
      "         [0.0000, 0.0000, 0.0000, 0.0000, 0.1667, 0.0000, 0.0000, 0.0000,\n",
      "          0.0000, 0.1667, 0.0000, 0.0000, 0.0000, 0.0000, 0.0000, 0.0000,\n",
      "          0.0000, 0.0000, 0.0000, 0.0000],\n",
      "         [0.0000, 0.0000, 0.0000, 0.1667, 0.0000, 0.0000, 0.0000, 0.0000,\n",
      "          0.0000, 0.1667, 0.0000, 0.0000, 0.0000, 0.0000, 0.0000, 0.0000,\n",
      "          0.0000, 0.0000, 0.0000, 0.0000],\n",
      "         [0.0000, 0.0000, 0.3333, 0.0000, 0.0000, 0.0000, 0.0000, 0.0000,\n",
      "          0.0000, 0.0000, 0.0000, 0.0000, 0.0000, 0.0000, 0.0000, 0.0000,\n",
      "          0.0000, 0.0000, 0.0000, 0.0000],\n",
      "         [0.0000, 0.1667, 0.0000, 0.1667, 0.0000, 0.0000, 0.1667, 0.0000,\n",
      "          0.0000, 0.0000, 0.0000, 0.0000, 0.0000, 0.0000, 0.0000, 0.0000,\n",
      "          0.0000, 0.0000, 0.0000, 0.0000],\n",
      "         [0.0000, 0.0000, 0.0000, 0.0000, 0.1667, 0.0000, 0.0000, 0.1667,\n",
      "          0.0000, 0.0000, 0.0000, 0.1667, 0.0000, 0.0000, 0.0000, 0.0000,\n",
      "          0.0000, 0.0000, 0.0000, 0.0000],\n",
      "         [0.1667, 0.0000, 0.0000, 0.0000, 0.0000, 0.1667, 0.0000, 0.0000,\n",
      "          0.1667, 0.0000, 0.0000, 0.0000, 0.0000, 0.0000, 0.0000, 0.0000,\n",
      "          0.0000, 0.0000, 0.0000, 0.0000],\n",
      "         [0.1667, 0.1667, 0.1667, 0.0000, 0.0000, 0.0000, 0.0000, 0.0000,\n",
      "          0.0000, 0.0000, 0.1667, 0.0000, 0.0000, 0.0000, 0.0000, 0.0000,\n",
      "          0.0000, 0.0000, 0.0000, 0.0000],\n",
      "         [0.0000, 0.0000, 0.0000, 0.0000, 0.0000, 0.0000, 0.0000, 0.0000,\n",
      "          0.0000, 0.0000, 0.0000, 0.0000, 0.0000, 0.0000, 0.0000, 0.0000,\n",
      "          0.0000, 0.0000, 0.0000, 0.0000],\n",
      "         [0.0000, 0.0000, 0.0000, 0.0000, 0.0000, 0.0000, 0.0000, 0.0000,\n",
      "          0.0000, 0.0000, 0.0000, 0.0000, 0.0000, 0.0000, 0.0000, 0.0000,\n",
      "          0.0000, 0.0000, 0.0000, 0.0000],\n",
      "         [0.0000, 0.0000, 0.0000, 0.0000, 0.0000, 0.0000, 0.0000, 0.0000,\n",
      "          0.0000, 0.0000, 0.0000, 0.0000, 0.0000, 0.0000, 0.0000, 0.0000,\n",
      "          0.0000, 0.0000, 0.0000, 0.0000],\n",
      "         [0.0000, 0.0000, 0.0000, 0.0000, 0.0000, 0.0000, 0.0000, 0.0000,\n",
      "          0.0000, 0.0000, 0.0000, 0.0000, 0.0000, 0.0000, 0.0000, 0.0000,\n",
      "          0.0000, 0.0000, 0.0000, 0.0000],\n",
      "         [0.0000, 0.0000, 0.0000, 0.0000, 0.0000, 0.0000, 0.0000, 0.0000,\n",
      "          0.0000, 0.0000, 0.0000, 0.0000, 0.0000, 0.0000, 0.0000, 0.0000,\n",
      "          0.0000, 0.0000, 0.0000, 0.0000]]])\n",
      "TARGETS:shape: torch.Size([128, 1]) \n",
      " targets: tensor([[12.]])\n"
     ]
    }
   ],
   "source": [
    "for inputs, targets in data_generator(X_train, y_train):\n",
    "    print('INPUTS:' 'shape:', inputs.shape, '\\n inputs:', inputs[:1])\n",
    "    print('TARGETS:' 'shape:', targets.shape, '\\n targets:', targets[:1])\n",
    "    break"
   ]
  },
  {
   "cell_type": "code",
   "execution_count": 15,
   "id": "9fe10ddd",
   "metadata": {
    "execution": {
     "iopub.execute_input": "2024-03-15T10:18:15.899445Z",
     "iopub.status.busy": "2024-03-15T10:18:15.899127Z",
     "iopub.status.idle": "2024-03-15T10:18:15.903338Z",
     "shell.execute_reply": "2024-03-15T10:18:15.902543Z"
    },
    "papermill": {
     "duration": 0.023579,
     "end_time": "2024-03-15T10:18:15.905253",
     "exception": false,
     "start_time": "2024-03-15T10:18:15.881674",
     "status": "completed"
    },
    "tags": []
   },
   "outputs": [],
   "source": [
    "train_gen = lambda: data_generator(X_train, y_train)\n",
    "test_gen = lambda: data_generator(X_test, y_test)"
   ]
  },
  {
   "cell_type": "markdown",
   "id": "cdbdaf19",
   "metadata": {
    "papermill": {
     "duration": 0.016028,
     "end_time": "2024-03-15T10:18:15.937152",
     "exception": false,
     "start_time": "2024-03-15T10:18:15.921124",
     "status": "completed"
    },
    "tags": []
   },
   "source": [
    "# Training loop"
   ]
  },
  {
   "cell_type": "code",
   "execution_count": 16,
   "id": "c9a5140f",
   "metadata": {
    "execution": {
     "iopub.execute_input": "2024-03-15T10:18:15.972060Z",
     "iopub.status.busy": "2024-03-15T10:18:15.971712Z",
     "iopub.status.idle": "2024-03-15T10:18:15.982492Z",
     "shell.execute_reply": "2024-03-15T10:18:15.981560Z"
    },
    "papermill": {
     "duration": 0.031238,
     "end_time": "2024-03-15T10:18:15.984928",
     "exception": false,
     "start_time": "2024-03-15T10:18:15.953690",
     "status": "completed"
    },
    "tags": []
   },
   "outputs": [],
   "source": [
    "def batch_gd(model, criterion, optimizer, epochs, batch_size=128, cnn = False):\n",
    "  train_losses = np.zeros(epochs)\n",
    "  test_losses = np.zeros(epochs)\n",
    "\n",
    "  for i in range(epochs):\n",
    "    t0 = datetime.now()\n",
    "    train_loss = []\n",
    "    for inputs, target in train_gen():\n",
    "        if cnn:\n",
    "            #cnn input is N x C x Hx W\n",
    "            inputs = inputs.view(batch_size,1,16,20)\n",
    "        #if rnn:\n",
    "            #rnn inputs is N x T x D (T: time steps, D: input size)\n",
    "           # inputs = inputs.view(batch_size, 16, 20)\n",
    "        inputs, target = inputs.to(device), target.to(device)\n",
    "\n",
    "        optimizer.zero_grad()\n",
    "        out = model(inputs)\n",
    "        loss = criterion(out, target)\n",
    "        loss.backward()\n",
    "        optimizer.step()\n",
    "\n",
    "        train_loss.append(loss.item())\n",
    "    train_loss = np.mean(train_loss)\n",
    "\n",
    "    test_loss = []\n",
    "    for inputs, target in test_gen():\n",
    "        if cnn:\n",
    "            inputs = inputs.view(batch_size,1,16,20)\n",
    "        inputs, target = inputs.to(device), target.to(device)\n",
    "        out = model(inputs)\n",
    "        loss = criterion(out, target)\n",
    "        test_loss.append(loss.item())\n",
    "        \n",
    "    test_loss = np.mean(test_loss)\n",
    "\n",
    "    train_losses[i] = train_loss\n",
    "    test_losses[i] = test_loss\n",
    "\n",
    "    dt = datetime.now()-t0\n",
    "    if i%10==0:\n",
    "        print(f'Epoch: {i}/{epochs}, train loss: {train_loss: .4f}\\\n",
    "              test_loss: {test_loss: .4f}, duration: {dt}')\n",
    "  return train_losses, test_losses"
   ]
  },
  {
   "cell_type": "code",
   "execution_count": 17,
   "id": "fe34ac69",
   "metadata": {
    "execution": {
     "iopub.execute_input": "2024-03-15T10:18:16.068592Z",
     "iopub.status.busy": "2024-03-15T10:18:16.068211Z",
     "iopub.status.idle": "2024-03-15T10:18:16.078070Z",
     "shell.execute_reply": "2024-03-15T10:18:16.077094Z"
    },
    "papermill": {
     "duration": 0.031943,
     "end_time": "2024-03-15T10:18:16.080310",
     "exception": false,
     "start_time": "2024-03-15T10:18:16.048367",
     "status": "completed"
    },
    "tags": []
   },
   "outputs": [],
   "source": [
    "def calc_accuracy(model, cnn = False):\n",
    "    model.eval()\n",
    "    n_correct = 0.\n",
    "    n_total = 0.\n",
    "    batch_size =128\n",
    "    for inputs, target in train_gen():\n",
    "        if cnn:\n",
    "            inputs = inputs.view(batch_size,1,16,20)\n",
    "        inputs, target = inputs.to(device), target.to(device)\n",
    "        #Perform the prediction\n",
    "        #round up the prediction to the nearest integer\n",
    "        ypred = torch.round(model(inputs))\n",
    "        # update counts\n",
    "        n_correct += (ypred == target).sum().item()\n",
    "        n_total += target.shape[0]\n",
    "    train_acc = n_correct / n_total\n",
    "    \n",
    "    #TEST SET\n",
    "    n_correct = 0.\n",
    "    n_total = 0\n",
    "    for inputs, target in test_gen():\n",
    "        if cnn:\n",
    "            inputs = inputs.view(batch_size,1,16,20)\n",
    "        inputs, target = inputs.to(device), target.to(device)\n",
    "        \n",
    "        # Forward pass\n",
    "        ypred_test = torch.round(model(inputs))\n",
    "        # update counts\n",
    "        n_correct += (ypred_test == target).sum().item()\n",
    "        n_total += target.shape[0]\n",
    "        \n",
    "        test_acc = n_correct / n_total\n",
    "\n",
    "    return train_acc, test_acc"
   ]
  },
  {
   "cell_type": "code",
   "execution_count": 18,
   "id": "c7e105f6",
   "metadata": {
    "execution": {
     "iopub.execute_input": "2024-03-15T10:18:16.118794Z",
     "iopub.status.busy": "2024-03-15T10:18:16.118458Z",
     "iopub.status.idle": "2024-03-15T10:18:16.123712Z",
     "shell.execute_reply": "2024-03-15T10:18:16.122827Z"
    },
    "papermill": {
     "duration": 0.027028,
     "end_time": "2024-03-15T10:18:16.125987",
     "exception": false,
     "start_time": "2024-03-15T10:18:16.098959",
     "status": "completed"
    },
    "tags": []
   },
   "outputs": [],
   "source": [
    "def plot_losses(train_losses, test_losses):\n",
    "    # Plot the train loss and test loss per iteration\n",
    "    plt.plot(train_losses, label='train loss')\n",
    "    plt.plot(test_losses, label='test loss')\n",
    "    plt.legend()\n",
    "    plt.show()"
   ]
  },
  {
   "cell_type": "code",
   "execution_count": 19,
   "id": "7e18e793",
   "metadata": {
    "execution": {
     "iopub.execute_input": "2024-03-15T10:18:16.162432Z",
     "iopub.status.busy": "2024-03-15T10:18:16.162138Z",
     "iopub.status.idle": "2024-03-15T10:18:16.166608Z",
     "shell.execute_reply": "2024-03-15T10:18:16.165822Z"
    },
    "papermill": {
     "duration": 0.024792,
     "end_time": "2024-03-15T10:18:16.168487",
     "exception": false,
     "start_time": "2024-03-15T10:18:16.143695",
     "status": "completed"
    },
    "tags": []
   },
   "outputs": [],
   "source": [
    "if not os.path.exists('saved_models'):\n",
    "    os.makedirs('saved_models')"
   ]
  },
  {
   "cell_type": "code",
   "execution_count": 20,
   "id": "0c83fd2b",
   "metadata": {
    "execution": {
     "iopub.execute_input": "2024-03-15T10:18:16.204051Z",
     "iopub.status.busy": "2024-03-15T10:18:16.203749Z",
     "iopub.status.idle": "2024-03-15T10:18:16.291077Z",
     "shell.execute_reply": "2024-03-15T10:18:16.290183Z"
    },
    "papermill": {
     "duration": 0.107536,
     "end_time": "2024-03-15T10:18:16.293557",
     "exception": false,
     "start_time": "2024-03-15T10:18:16.186021",
     "status": "completed"
    },
    "tags": []
   },
   "outputs": [
    {
     "name": "stdout",
     "output_type": "stream",
     "text": [
      "cuda:0\n"
     ]
    }
   ],
   "source": [
    "device = torch.device(\"cuda:0\" if torch.cuda.is_available() else \"cpu\")\n",
    "print(device)"
   ]
  },
  {
   "cell_type": "markdown",
   "id": "6ca71538",
   "metadata": {
    "papermill": {
     "duration": 0.016453,
     "end_time": "2024-03-15T10:18:16.326740",
     "exception": false,
     "start_time": "2024-03-15T10:18:16.310287",
     "status": "completed"
    },
    "tags": []
   },
   "source": [
    "# ANN model"
   ]
  },
  {
   "cell_type": "code",
   "execution_count": 21,
   "id": "debf6d60",
   "metadata": {
    "execution": {
     "iopub.execute_input": "2024-03-15T10:18:16.359366Z",
     "iopub.status.busy": "2024-03-15T10:18:16.359067Z",
     "iopub.status.idle": "2024-03-15T10:18:16.366251Z",
     "shell.execute_reply": "2024-03-15T10:18:16.365309Z"
    },
    "papermill": {
     "duration": 0.025687,
     "end_time": "2024-03-15T10:18:16.368238",
     "exception": false,
     "start_time": "2024-03-15T10:18:16.342551",
     "status": "completed"
    },
    "tags": []
   },
   "outputs": [],
   "source": [
    "class ANN_cicy4_h11(nn.Module):\n",
    "    \n",
    "    def __init__(self):\n",
    "        super().__init__()\n",
    "        self.flat = nn.Flatten()\n",
    "        self.linear1 = nn.Linear(320,1024) \n",
    "        self.linear2 = nn.Linear(1024,512)\n",
    "        self.linear3 = nn.Linear(512,256)\n",
    "        self.linear4 = nn.Linear(256,128)\n",
    "        self.linear5 = nn.Linear(128,1)\n",
    "\n",
    "    def forward(self,x):\n",
    "        x = self.flat(x)\n",
    "        x = F.relu(self.linear1(x))\n",
    "        x = F.relu(self.linear2(x))\n",
    "        x = F.relu(self.linear3(x))\n",
    "        x = F.relu(self.linear4(x))\n",
    "        x = self.linear5(x)\n",
    "        \n",
    "        return x"
   ]
  },
  {
   "cell_type": "code",
   "execution_count": 22,
   "id": "66fa9edd",
   "metadata": {
    "execution": {
     "iopub.execute_input": "2024-03-15T10:18:16.400929Z",
     "iopub.status.busy": "2024-03-15T10:18:16.400661Z",
     "iopub.status.idle": "2024-03-15T10:18:16.610053Z",
     "shell.execute_reply": "2024-03-15T10:18:16.609081Z"
    },
    "papermill": {
     "duration": 0.22843,
     "end_time": "2024-03-15T10:18:16.612202",
     "exception": false,
     "start_time": "2024-03-15T10:18:16.383772",
     "status": "completed"
    },
    "tags": []
   },
   "outputs": [
    {
     "data": {
      "text/plain": [
       "ANN_cicy4_h11(\n",
       "  (flat): Flatten(start_dim=1, end_dim=-1)\n",
       "  (linear1): Linear(in_features=320, out_features=1024, bias=True)\n",
       "  (linear2): Linear(in_features=1024, out_features=512, bias=True)\n",
       "  (linear3): Linear(in_features=512, out_features=256, bias=True)\n",
       "  (linear4): Linear(in_features=256, out_features=128, bias=True)\n",
       "  (linear5): Linear(in_features=128, out_features=1, bias=True)\n",
       ")"
      ]
     },
     "execution_count": 22,
     "metadata": {},
     "output_type": "execute_result"
    }
   ],
   "source": [
    "model = ANN_cicy4_h11()\n",
    "model.to(device)"
   ]
  },
  {
   "cell_type": "code",
   "execution_count": 23,
   "id": "f282999b",
   "metadata": {
    "execution": {
     "iopub.execute_input": "2024-03-15T10:18:16.647156Z",
     "iopub.status.busy": "2024-03-15T10:18:16.646819Z",
     "iopub.status.idle": "2024-03-15T10:18:16.652432Z",
     "shell.execute_reply": "2024-03-15T10:18:16.651494Z"
    },
    "papermill": {
     "duration": 0.025473,
     "end_time": "2024-03-15T10:18:16.654838",
     "exception": false,
     "start_time": "2024-03-15T10:18:16.629365",
     "status": "completed"
    },
    "tags": []
   },
   "outputs": [
    {
     "name": "stdout",
     "output_type": "stream",
     "text": [
      "  327680\n",
      "    1024\n",
      "  524288\n",
      "     512\n",
      "  131072\n",
      "     256\n",
      "   32768\n",
      "     128\n",
      "     128\n",
      "       1\n",
      "________\n",
      " 1017857\n"
     ]
    }
   ],
   "source": [
    "#count the number of parameters in the model\n",
    "params = [p.numel() for p in model.parameters() if p.requires_grad]\n",
    "for item in params:\n",
    "    print(f'{item:>8}')\n",
    "print(f'________\\n{sum(params):>8}')"
   ]
  },
  {
   "cell_type": "code",
   "execution_count": 24,
   "id": "7187f4f6",
   "metadata": {
    "execution": {
     "iopub.execute_input": "2024-03-15T10:18:16.689444Z",
     "iopub.status.busy": "2024-03-15T10:18:16.689162Z",
     "iopub.status.idle": "2024-03-15T10:18:16.818670Z",
     "shell.execute_reply": "2024-03-15T10:18:16.817680Z"
    },
    "papermill": {
     "duration": 0.149562,
     "end_time": "2024-03-15T10:18:16.820885",
     "exception": false,
     "start_time": "2024-03-15T10:18:16.671323",
     "status": "completed"
    },
    "tags": []
   },
   "outputs": [
    {
     "name": "stdout",
     "output_type": "stream",
     "text": [
      "Original shape of the image before passing through the network: \n",
      " torch.Size([16, 20])\n",
      "\n",
      "Reshape the size to take in account the batch number\n",
      "The new size is torch.Size([1, 1, 16, 20])\n",
      "\n",
      "Original shape of the image after passing through Flatten(start_dim=1, end_dim=-1): \n",
      " torch.Size([1, 320])\n",
      "\n",
      "Shape of the image after passing through the Linear(in_features=320, out_features=1024, bias=True): \n",
      " torch.Size([1, 1024])\n",
      "\n",
      "Shape of the image after passing through the Linear(in_features=1024, out_features=512, bias=True): \n",
      " torch.Size([1, 512])\n",
      "\n",
      "Shape of the image after passing through the Linear(in_features=512, out_features=256, bias=True): \n",
      " torch.Size([1, 256])\n",
      "\n",
      "Shape of the image after passing through the Linear(in_features=256, out_features=128, bias=True): \n",
      " torch.Size([1, 128])\n",
      "\n",
      "Shape of the image after passing through the Linear(in_features=128, out_features=1, bias=True): \n",
      " torch.Size([1, 1])\n",
      "\n"
     ]
    }
   ],
   "source": [
    "X = X_train[0].to(device)\n",
    "print(f'Original shape of the image before passing through the network: \\n {X.shape}\\n')\n",
    "\n",
    "print('Reshape the size to take in account the batch number')\n",
    "X = X.view(1,1,16,20)\n",
    "print(f'The new size is {X.shape}\\n')\n",
    "\n",
    "X = model.flat(X)\n",
    "print(f'Original shape of the image after passing through {model.flat}: \\n {X.shape}\\n')\n",
    "\n",
    "X = model.linear1(X)\n",
    "print(f'Shape of the image after passing through the {model.linear1}: \\n {X.shape}\\n')\n",
    "\n",
    "X = model.linear2(X)\n",
    "print(f'Shape of the image after passing through the {model.linear2}: \\n {X.shape}\\n')\n",
    "\n",
    "X = model.linear3(X)\n",
    "print(f'Shape of the image after passing through the {model.linear3}: \\n {X.shape}\\n')\n",
    "\n",
    "X = model.linear4(X)\n",
    "print(f'Shape of the image after passing through the {model.linear4}: \\n {X.shape}\\n')\n",
    "\n",
    "X = model.linear5(X)\n",
    "print(f'Shape of the image after passing through the {model.linear5}: \\n {X.shape}\\n')"
   ]
  },
  {
   "cell_type": "code",
   "execution_count": 25,
   "id": "2636b033",
   "metadata": {
    "execution": {
     "iopub.execute_input": "2024-03-15T10:18:16.856150Z",
     "iopub.status.busy": "2024-03-15T10:18:16.855824Z",
     "iopub.status.idle": "2024-03-15T10:18:19.597482Z",
     "shell.execute_reply": "2024-03-15T10:18:19.596495Z"
    },
    "papermill": {
     "duration": 2.761369,
     "end_time": "2024-03-15T10:18:19.599776",
     "exception": false,
     "start_time": "2024-03-15T10:18:16.838407",
     "status": "completed"
    },
    "tags": []
   },
   "outputs": [],
   "source": [
    "criterion = nn.MSELoss()\n",
    "optimizer = torch.optim.Adam(model.parameters())"
   ]
  },
  {
   "cell_type": "code",
   "execution_count": 26,
   "id": "62f593f8",
   "metadata": {
    "execution": {
     "iopub.execute_input": "2024-03-15T10:18:19.634583Z",
     "iopub.status.busy": "2024-03-15T10:18:19.634086Z",
     "iopub.status.idle": "2024-03-15T10:29:23.488535Z",
     "shell.execute_reply": "2024-03-15T10:29:23.487612Z"
    },
    "papermill": {
     "duration": 663.874579,
     "end_time": "2024-03-15T10:29:23.491255",
     "exception": false,
     "start_time": "2024-03-15T10:18:19.616676",
     "status": "completed"
    },
    "tags": []
   },
   "outputs": [
    {
     "name": "stdout",
     "output_type": "stream",
     "text": [
      "Epoch: 0/50, train loss:  3.1988              test_loss:  2.0024, duration: 0:00:13.777824\n",
      "Epoch: 10/50, train loss:  0.1832              test_loss:  0.2499, duration: 0:00:13.149324\n",
      "Epoch: 20/50, train loss:  0.0691              test_loss:  0.1435, duration: 0:00:13.379903\n",
      "Epoch: 30/50, train loss:  0.0398              test_loss:  0.1113, duration: 0:00:13.223703\n",
      "Epoch: 40/50, train loss:  0.0288              test_loss:  0.1054, duration: 0:00:13.083585\n"
     ]
    }
   ],
   "source": [
    "train_losses, test_losses=batch_gd(model, criterion, optimizer, 50, 128, cnn=False)"
   ]
  },
  {
   "cell_type": "code",
   "execution_count": 27,
   "id": "586044be",
   "metadata": {
    "execution": {
     "iopub.execute_input": "2024-03-15T10:29:23.529490Z",
     "iopub.status.busy": "2024-03-15T10:29:23.529008Z",
     "iopub.status.idle": "2024-03-15T10:29:23.871640Z",
     "shell.execute_reply": "2024-03-15T10:29:23.870559Z"
    },
    "papermill": {
     "duration": 0.364339,
     "end_time": "2024-03-15T10:29:23.873902",
     "exception": false,
     "start_time": "2024-03-15T10:29:23.509563",
     "status": "completed"
    },
    "tags": []
   },
   "outputs": [
    {
     "data": {
      "image/png": "[encoded data removed]",
      "text/plain": [
       "<Figure size 640x480 with 1 Axes>"
      ]
     },
     "metadata": {},
     "output_type": "display_data"
    }
   ],
   "source": [
    "plot_losses(train_losses, test_losses)"
   ]
  },
  {
   "cell_type": "code",
   "execution_count": 28,
   "id": "712f15e7",
   "metadata": {
    "execution": {
     "iopub.execute_input": "2024-03-15T10:29:23.909730Z",
     "iopub.status.busy": "2024-03-15T10:29:23.909409Z",
     "iopub.status.idle": "2024-03-15T10:29:28.393570Z",
     "shell.execute_reply": "2024-03-15T10:29:28.392549Z"
    },
    "papermill": {
     "duration": 4.504517,
     "end_time": "2024-03-15T10:29:28.396062",
     "exception": false,
     "start_time": "2024-03-15T10:29:23.891545",
     "status": "completed"
    },
    "tags": []
   },
   "outputs": [
    {
     "name": "stdout",
     "output_type": "stream",
     "text": [
      "Train acc: 0.9892, Test acc: 0.9742\n"
     ]
    }
   ],
   "source": [
    "train_acc, test_acc = calc_accuracy(model, cnn= False)\n",
    "print(f\"Train acc: {train_acc:.4f}, Test acc: {test_acc:.4f}\")"
   ]
  },
  {
   "cell_type": "code",
   "execution_count": 29,
   "id": "cb2909ce",
   "metadata": {
    "execution": {
     "iopub.execute_input": "2024-03-15T10:29:28.438013Z",
     "iopub.status.busy": "2024-03-15T10:29:28.437678Z",
     "iopub.status.idle": "2024-03-15T10:29:29.284879Z",
     "shell.execute_reply": "2024-03-15T10:29:29.283469Z"
    },
    "papermill": {
     "duration": 0.871039,
     "end_time": "2024-03-15T10:29:29.287311",
     "exception": false,
     "start_time": "2024-03-15T10:29:28.416272",
     "status": "completed"
    },
    "tags": []
   },
   "outputs": [
    {
     "name": "stdout",
     "output_type": "stream",
     "text": [
      "tensor([[14.],\n",
      "        [ 6.],\n",
      "        [ 8.],\n",
      "        [13.],\n",
      "        [ 8.]], device='cuda:0')\n",
      "tensor([[13.9950],\n",
      "        [ 5.9707],\n",
      "        [ 8.0007],\n",
      "        [12.5157],\n",
      "        [ 7.9831]], device='cuda:0', grad_fn=<SliceBackward0>)\n"
     ]
    }
   ],
   "source": [
    "#PRINT OUT SOME OUTPUTS TO COMPARE BETWEEN PREDICTIONS AND TARGETS\n",
    "for inputs, target in train_gen():\n",
    "    inputs, target = inputs.to(device), target.to(device)\n",
    "    #Perform the prediction\n",
    "    #ypred = torch.round(model(inputs))\n",
    "    ypred = (model(inputs))\n",
    "    print(target[:5])\n",
    "    print(ypred[:5])\n",
    "    break"
   ]
  },
  {
   "cell_type": "code",
   "execution_count": 30,
   "id": "d84d3506",
   "metadata": {
    "execution": {
     "iopub.execute_input": "2024-03-15T10:29:29.327627Z",
     "iopub.status.busy": "2024-03-15T10:29:29.327322Z",
     "iopub.status.idle": "2024-03-15T10:29:29.346571Z",
     "shell.execute_reply": "2024-03-15T10:29:29.345610Z"
    },
    "papermill": {
     "duration": 0.041264,
     "end_time": "2024-03-15T10:29:29.348580",
     "exception": false,
     "start_time": "2024-03-15T10:29:29.307316",
     "status": "completed"
    },
    "tags": []
   },
   "outputs": [],
   "source": [
    "# SAVE MODEL FOR INFERENCE\n",
    "#https://pytorch.org/tutorials/beginner/saving_loading_models.html\n",
    "torch.save(model, '/kaggle/working/saved_models/ANN_cicy4_h11.pt')"
   ]
  },
  {
   "cell_type": "markdown",
   "id": "d04975c7",
   "metadata": {
    "papermill": {
     "duration": 0.01818,
     "end_time": "2024-03-15T10:29:29.385362",
     "exception": false,
     "start_time": "2024-03-15T10:29:29.367182",
     "status": "completed"
    },
    "tags": []
   },
   "source": [
    "# CNN model"
   ]
  },
  {
   "cell_type": "code",
   "execution_count": 31,
   "id": "3bbc02f7",
   "metadata": {
    "execution": {
     "iopub.execute_input": "2024-03-15T10:29:29.423980Z",
     "iopub.status.busy": "2024-03-15T10:29:29.423640Z",
     "iopub.status.idle": "2024-03-15T10:29:29.432285Z",
     "shell.execute_reply": "2024-03-15T10:29:29.431364Z"
    },
    "papermill": {
     "duration": 0.029958,
     "end_time": "2024-03-15T10:29:29.434284",
     "exception": false,
     "start_time": "2024-03-15T10:29:29.404326",
     "status": "completed"
    },
    "tags": []
   },
   "outputs": [],
   "source": [
    "class CNN_cicy4_h11(nn.Module):\n",
    "    \n",
    "    def __init__(self):\n",
    "        super().__init__()\n",
    "        self.conv1 = nn.Conv2d(1,128, 4, 1)\n",
    "        self.conv2 = nn.Conv2d(128,64, 3, 1)\n",
    "        self.mxpool = nn.MaxPool2d(2,2)\n",
    "        self.flat = nn.Flatten()\n",
    "        self.conv_total = nn.Sequential(\n",
    "            self.conv1,\n",
    "            self.mxpool,\n",
    "            self.conv2,\n",
    "            self.mxpool,\n",
    "        )\n",
    "        self.linear1 = nn.Linear(384,512)\n",
    "        self.linear2 = nn.Linear(512,256)\n",
    "        self.linear3 = nn.Linear(256,1)\n",
    "\n",
    "\n",
    "    def forward(self,x):\n",
    "        x = F.relu(self.conv_total(x))\n",
    "        x = self.flat(x)\n",
    "        x = F.relu(self.linear1(x))\n",
    "        x = F.relu(self.linear2(x))\n",
    "        x = self.linear3(x)\n",
    "        \n",
    "        return x"
   ]
  },
  {
   "cell_type": "code",
   "execution_count": 32,
   "id": "b7d01f98",
   "metadata": {
    "execution": {
     "iopub.execute_input": "2024-03-15T10:29:29.471837Z",
     "iopub.status.busy": "2024-03-15T10:29:29.471549Z",
     "iopub.status.idle": "2024-03-15T10:29:29.483634Z",
     "shell.execute_reply": "2024-03-15T10:29:29.482696Z"
    },
    "papermill": {
     "duration": 0.033311,
     "end_time": "2024-03-15T10:29:29.485785",
     "exception": false,
     "start_time": "2024-03-15T10:29:29.452474",
     "status": "completed"
    },
    "tags": []
   },
   "outputs": [
    {
     "data": {
      "text/plain": [
       "CNN_cicy4_h11(\n",
       "  (conv1): Conv2d(1, 128, kernel_size=(4, 4), stride=(1, 1))\n",
       "  (conv2): Conv2d(128, 64, kernel_size=(3, 3), stride=(1, 1))\n",
       "  (mxpool): MaxPool2d(kernel_size=2, stride=2, padding=0, dilation=1, ceil_mode=False)\n",
       "  (flat): Flatten(start_dim=1, end_dim=-1)\n",
       "  (conv_total): Sequential(\n",
       "    (0): Conv2d(1, 128, kernel_size=(4, 4), stride=(1, 1))\n",
       "    (1): MaxPool2d(kernel_size=2, stride=2, padding=0, dilation=1, ceil_mode=False)\n",
       "    (2): Conv2d(128, 64, kernel_size=(3, 3), stride=(1, 1))\n",
       "    (3): MaxPool2d(kernel_size=2, stride=2, padding=0, dilation=1, ceil_mode=False)\n",
       "  )\n",
       "  (linear1): Linear(in_features=384, out_features=512, bias=True)\n",
       "  (linear2): Linear(in_features=512, out_features=256, bias=True)\n",
       "  (linear3): Linear(in_features=256, out_features=1, bias=True)\n",
       ")"
      ]
     },
     "execution_count": 32,
     "metadata": {},
     "output_type": "execute_result"
    }
   ],
   "source": [
    "model = CNN_cicy4_h11()\n",
    "model.to(device)"
   ]
  },
  {
   "cell_type": "code",
   "execution_count": 33,
   "id": "4bb16843",
   "metadata": {
    "execution": {
     "iopub.execute_input": "2024-03-15T10:29:29.525565Z",
     "iopub.status.busy": "2024-03-15T10:29:29.525258Z",
     "iopub.status.idle": "2024-03-15T10:29:29.531267Z",
     "shell.execute_reply": "2024-03-15T10:29:29.530218Z"
    },
    "papermill": {
     "duration": 0.028646,
     "end_time": "2024-03-15T10:29:29.533512",
     "exception": false,
     "start_time": "2024-03-15T10:29:29.504866",
     "status": "completed"
    },
    "tags": []
   },
   "outputs": [
    {
     "name": "stdout",
     "output_type": "stream",
     "text": [
      "    2048\n",
      "     128\n",
      "   73728\n",
      "      64\n",
      "  196608\n",
      "     512\n",
      "  131072\n",
      "     256\n",
      "     256\n",
      "       1\n",
      "________\n",
      "  404673\n"
     ]
    }
   ],
   "source": [
    "#count the number of parameters in the model\n",
    "params = [p.numel() for p in model.parameters() if p.requires_grad]\n",
    "for item in params:\n",
    "    print(f'{item:>8}')\n",
    "print(f'________\\n{sum(params):>8}')"
   ]
  },
  {
   "cell_type": "code",
   "execution_count": 34,
   "id": "9da683d5",
   "metadata": {
    "execution": {
     "iopub.execute_input": "2024-03-15T10:29:29.572390Z",
     "iopub.status.busy": "2024-03-15T10:29:29.572058Z",
     "iopub.status.idle": "2024-03-15T10:29:30.151962Z",
     "shell.execute_reply": "2024-03-15T10:29:30.151065Z"
    },
    "papermill": {
     "duration": 0.60182,
     "end_time": "2024-03-15T10:29:30.154373",
     "exception": false,
     "start_time": "2024-03-15T10:29:29.552553",
     "status": "completed"
    },
    "tags": []
   },
   "outputs": [
    {
     "name": "stdout",
     "output_type": "stream",
     "text": [
      "Original shape of the image before passing through the network: \n",
      " torch.Size([16, 20])\n",
      "\n",
      "Reshape the size to take in account the batch number\n",
      "The new size is torch.Size([1, 1, 16, 20])\n",
      "\n",
      "Shape of the image after passing through the whole convolution block: \n",
      " torch.Size([1, 64, 2, 3])\n",
      "\n",
      "Shape of the image after passing through the Flatten(start_dim=1, end_dim=-1): \n",
      " torch.Size([1, 384])\n",
      "\n",
      "Shape of the image after passing through the Linear(in_features=384, out_features=512, bias=True): \n",
      " torch.Size([1, 512])\n",
      "\n",
      "Shape of the image after passing through the Linear(in_features=512, out_features=256, bias=True): \n",
      " torch.Size([1, 256])\n",
      "\n",
      "Shape of the image after passing through the Linear(in_features=256, out_features=1, bias=True): \n",
      " torch.Size([1, 1])\n",
      "\n"
     ]
    }
   ],
   "source": [
    "X = X_train[0].to(device)\n",
    "print(f'Original shape of the image before passing through the network: \\n {X.shape}\\n')\n",
    "print('Reshape the size to take in account the batch number')\n",
    "X = X.view(1,1,16,20)\n",
    "print(f'The new size is {X.shape}\\n')\n",
    "X = model.conv_total(X)\n",
    "print(f'Shape of the image after passing through the whole convolution block: \\n {X.shape}\\n')\n",
    "\n",
    "X = model.flat(X)\n",
    "print(f'Shape of the image after passing through the {model.flat}: \\n {X.shape}\\n')\n",
    "\n",
    "X = model.linear1(X)\n",
    "print(f'Shape of the image after passing through the {model.linear1}: \\n {X.shape}\\n')\n",
    "\n",
    "X = model.linear2(X)\n",
    "print(f'Shape of the image after passing through the {model.linear2}: \\n {X.shape}\\n')\n",
    "\n",
    "X = model.linear3(X)\n",
    "print(f'Shape of the image after passing through the {model.linear3}: \\n {X.shape}\\n')"
   ]
  },
  {
   "cell_type": "code",
   "execution_count": 35,
   "id": "c7ef90a0",
   "metadata": {
    "execution": {
     "iopub.execute_input": "2024-03-15T10:29:30.192651Z",
     "iopub.status.busy": "2024-03-15T10:29:30.192352Z",
     "iopub.status.idle": "2024-03-15T10:29:30.197287Z",
     "shell.execute_reply": "2024-03-15T10:29:30.196547Z"
    },
    "papermill": {
     "duration": 0.026469,
     "end_time": "2024-03-15T10:29:30.199241",
     "exception": false,
     "start_time": "2024-03-15T10:29:30.172772",
     "status": "completed"
    },
    "tags": []
   },
   "outputs": [],
   "source": [
    "criterion = nn.MSELoss()\n",
    "optimizer = torch.optim.Adam(model.parameters())"
   ]
  },
  {
   "cell_type": "code",
   "execution_count": 36,
   "id": "c7ae9835",
   "metadata": {
    "execution": {
     "iopub.execute_input": "2024-03-15T10:29:30.237412Z",
     "iopub.status.busy": "2024-03-15T10:29:30.236815Z",
     "iopub.status.idle": "2024-03-15T10:43:02.483534Z",
     "shell.execute_reply": "2024-03-15T10:43:02.482519Z"
    },
    "papermill": {
     "duration": 812.268317,
     "end_time": "2024-03-15T10:43:02.486052",
     "exception": false,
     "start_time": "2024-03-15T10:29:30.217735",
     "status": "completed"
    },
    "tags": []
   },
   "outputs": [
    {
     "name": "stdout",
     "output_type": "stream",
     "text": [
      "Epoch: 0/50, train loss:  3.2272              test_loss:  1.6668, duration: 0:00:16.672443\n",
      "Epoch: 10/50, train loss:  0.3237              test_loss:  0.3722, duration: 0:00:16.319192\n",
      "Epoch: 20/50, train loss:  0.1940              test_loss:  0.2972, duration: 0:00:16.232235\n",
      "Epoch: 30/50, train loss:  0.1422              test_loss:  0.2454, duration: 0:00:16.221931\n",
      "Epoch: 40/50, train loss:  0.1079              test_loss:  0.1789, duration: 0:00:16.160851\n"
     ]
    }
   ],
   "source": [
    "train_losses, test_losses=batch_gd(model, criterion, optimizer, 50,  cnn=True)"
   ]
  },
  {
   "cell_type": "code",
   "execution_count": 37,
   "id": "3ac2e56b",
   "metadata": {
    "execution": {
     "iopub.execute_input": "2024-03-15T10:43:02.526833Z",
     "iopub.status.busy": "2024-03-15T10:43:02.525941Z",
     "iopub.status.idle": "2024-03-15T10:43:02.857899Z",
     "shell.execute_reply": "2024-03-15T10:43:02.857008Z"
    },
    "papermill": {
     "duration": 0.354128,
     "end_time": "2024-03-15T10:43:02.860071",
     "exception": false,
     "start_time": "2024-03-15T10:43:02.505943",
     "status": "completed"
    },
    "tags": []
   },
   "outputs": [
    {
     "data": {
      "image/png": "[encoded data removed]",
      "text/plain": [
       "<Figure size 640x480 with 1 Axes>"
      ]
     },
     "metadata": {},
     "output_type": "display_data"
    }
   ],
   "source": [
    "plot_losses(train_losses, test_losses)"
   ]
  },
  {
   "cell_type": "code",
   "execution_count": 38,
   "id": "ff96779c",
   "metadata": {
    "execution": {
     "iopub.execute_input": "2024-03-15T10:43:02.899211Z",
     "iopub.status.busy": "2024-03-15T10:43:02.898608Z",
     "iopub.status.idle": "2024-03-15T10:43:09.146470Z",
     "shell.execute_reply": "2024-03-15T10:43:09.145450Z"
    },
    "papermill": {
     "duration": 6.269831,
     "end_time": "2024-03-15T10:43:09.148808",
     "exception": false,
     "start_time": "2024-03-15T10:43:02.878977",
     "status": "completed"
    },
    "tags": []
   },
   "outputs": [
    {
     "name": "stdout",
     "output_type": "stream",
     "text": [
      "Train acc: 0.9456, Test acc: 0.9303\n"
     ]
    }
   ],
   "source": [
    "train_acc, test_acc = calc_accuracy(model, cnn= True)\n",
    "print(f\"Train acc: {train_acc:.4f}, Test acc: {test_acc:.4f}\")"
   ]
  },
  {
   "cell_type": "code",
   "execution_count": 39,
   "id": "92b16490",
   "metadata": {
    "execution": {
     "iopub.execute_input": "2024-03-15T10:43:09.192188Z",
     "iopub.status.busy": "2024-03-15T10:43:09.191537Z",
     "iopub.status.idle": "2024-03-15T10:43:09.201250Z",
     "shell.execute_reply": "2024-03-15T10:43:09.200293Z"
    },
    "papermill": {
     "duration": 0.033475,
     "end_time": "2024-03-15T10:43:09.203320",
     "exception": false,
     "start_time": "2024-03-15T10:43:09.169845",
     "status": "completed"
    },
    "tags": []
   },
   "outputs": [],
   "source": [
    "torch.save(model, '/kaggle/working/saved_models/CNN_cicy4_h11.pt')"
   ]
  },
  {
   "cell_type": "markdown",
   "id": "8d216984",
   "metadata": {
    "papermill": {
     "duration": 0.018153,
     "end_time": "2024-03-15T10:43:09.240945",
     "exception": false,
     "start_time": "2024-03-15T10:43:09.222792",
     "status": "completed"
    },
    "tags": []
   },
   "source": [
    "# RNN/LSTM Model"
   ]
  },
  {
   "cell_type": "code",
   "execution_count": 40,
   "id": "871bbc3b",
   "metadata": {
    "execution": {
     "iopub.execute_input": "2024-03-15T10:43:09.280355Z",
     "iopub.status.busy": "2024-03-15T10:43:09.279569Z",
     "iopub.status.idle": "2024-03-15T10:43:09.287541Z",
     "shell.execute_reply": "2024-03-15T10:43:09.286716Z"
    },
    "papermill": {
     "duration": 0.029084,
     "end_time": "2024-03-15T10:43:09.289482",
     "exception": false,
     "start_time": "2024-03-15T10:43:09.260398",
     "status": "completed"
    },
    "tags": []
   },
   "outputs": [],
   "source": [
    "class RNN_cicy4_h11(nn.Module):\n",
    "    def __init__(self, n_inputs, n_hidden, n_rnnlayers, n_outputs):\n",
    "        super(RNN_cicy4_h11,self).__init__()\n",
    "        self.D = n_inputs\n",
    "        self.M = n_hidden\n",
    "        self.K = n_outputs\n",
    "        self.L = n_rnnlayers\n",
    "\n",
    "        self.rnn = nn.LSTM(input_size = self.D,\n",
    "                           hidden_size = self.M,\n",
    "                           num_layers = self.L,\n",
    "                           batch_first = True)\n",
    "        self.fc = nn.Linear(self.M, self.K)\n",
    "       \n",
    "    def forward(self, X):\n",
    "         #initial hidden states\n",
    "        h0 = torch.zeros(self.L, X.size(0), self.M).to(device)\n",
    "        c0 = torch.zeros(self.L, X.size(0), self.M).to(device)\n",
    "        #get LSTM unit output:\n",
    "        out, _ = self.rnn(X, (h0,c0))\n",
    "\n",
    "        #we only want h(T) at the final time step\n",
    "        out = self.fc(out[:, -1, :])\n",
    "\n",
    "        return out"
   ]
  },
  {
   "cell_type": "code",
   "execution_count": 41,
   "id": "de1d069d",
   "metadata": {
    "execution": {
     "iopub.execute_input": "2024-03-15T10:43:09.329160Z",
     "iopub.status.busy": "2024-03-15T10:43:09.328318Z",
     "iopub.status.idle": "2024-03-15T10:43:09.372167Z",
     "shell.execute_reply": "2024-03-15T10:43:09.371327Z"
    },
    "papermill": {
     "duration": 0.066001,
     "end_time": "2024-03-15T10:43:09.374148",
     "exception": false,
     "start_time": "2024-03-15T10:43:09.308147",
     "status": "completed"
    },
    "tags": []
   },
   "outputs": [
    {
     "data": {
      "text/plain": [
       "RNN_cicy4_h11(\n",
       "  (rnn): LSTM(20, 80, num_layers=5, batch_first=True)\n",
       "  (fc): Linear(in_features=80, out_features=1, bias=True)\n",
       ")"
      ]
     },
     "execution_count": 41,
     "metadata": {},
     "output_type": "execute_result"
    }
   ],
   "source": [
    "#( n_inputs, n_hidden, n_rnnlayers, n_outputs)\n",
    "# n_inputs = D = # of columns: 20, T = 16\n",
    "#input shape is NxTxD: Nx16x20\n",
    "model = RNN_cicy4_h11(20, 80, 5, 1 )\n",
    "model.to(device)"
   ]
  },
  {
   "cell_type": "code",
   "execution_count": 42,
   "id": "a68e09b7",
   "metadata": {
    "execution": {
     "iopub.execute_input": "2024-03-15T10:43:09.414751Z",
     "iopub.status.busy": "2024-03-15T10:43:09.414112Z",
     "iopub.status.idle": "2024-03-15T10:43:09.419568Z",
     "shell.execute_reply": "2024-03-15T10:43:09.418801Z"
    },
    "papermill": {
     "duration": 0.027868,
     "end_time": "2024-03-15T10:43:09.421736",
     "exception": false,
     "start_time": "2024-03-15T10:43:09.393868",
     "status": "completed"
    },
    "tags": []
   },
   "outputs": [
    {
     "name": "stdout",
     "output_type": "stream",
     "text": [
      "    6400\n",
      "   25600\n",
      "     320\n",
      "     320\n",
      "   25600\n",
      "   25600\n",
      "     320\n",
      "     320\n",
      "   25600\n",
      "   25600\n",
      "     320\n",
      "     320\n",
      "   25600\n",
      "   25600\n",
      "     320\n",
      "     320\n",
      "   25600\n",
      "   25600\n",
      "     320\n",
      "     320\n",
      "      80\n",
      "       1\n",
      "________\n",
      "  240081\n"
     ]
    }
   ],
   "source": [
    "#count the number of parameters in the model\n",
    "params = [p.numel() for p in model.parameters() if p.requires_grad]\n",
    "for item in params:\n",
    "    print(f'{item:>8}')\n",
    "print(f'________\\n{sum(params):>8}')"
   ]
  },
  {
   "cell_type": "code",
   "execution_count": 43,
   "id": "9b686e58",
   "metadata": {
    "execution": {
     "iopub.execute_input": "2024-03-15T10:43:09.462236Z",
     "iopub.status.busy": "2024-03-15T10:43:09.461919Z",
     "iopub.status.idle": "2024-03-15T10:43:09.556229Z",
     "shell.execute_reply": "2024-03-15T10:43:09.555266Z"
    },
    "papermill": {
     "duration": 0.117207,
     "end_time": "2024-03-15T10:43:09.558612",
     "exception": false,
     "start_time": "2024-03-15T10:43:09.441405",
     "status": "completed"
    },
    "tags": []
   },
   "outputs": [
    {
     "name": "stdout",
     "output_type": "stream",
     "text": [
      "Original shape of the image before passing through the network: \n",
      " torch.Size([16, 20])\n",
      "\n",
      "Reshape the size to take in account the batch number\n",
      "The new size is torch.Size([1, 16, 20])\n",
      "\n",
      "Hidden states h0, c0: (torch.Size([5, 1, 80]), torch.Size([5, 1, 80]))\n",
      "Shape of the image after passing through the LSTM(20, 80, num_layers=5, batch_first=True): \n",
      " torch.Size([1, 16, 80])\n",
      "\n",
      "Shape of the image after passing through the Linear(in_features=80, out_features=1, bias=True): \n",
      " torch.Size([1, 16, 1])\n",
      "\n"
     ]
    }
   ],
   "source": [
    "X = X_train[0].to(device)\n",
    "print(f'Original shape of the image before passing through the network: \\n {X.shape}\\n')\n",
    "print('Reshape the size to take in account the batch number')\n",
    "X = X.view(1,16,20)\n",
    "print(f'The new size is {X.shape}\\n')\n",
    "\n",
    " #initial hidden states\n",
    "h0 = torch.zeros(model.L, X.size(0), model.M).to(device)\n",
    "c0 = torch.zeros(model.L, X.size(0), model.M).to(device)\n",
    "print(f'Hidden states h0, c0: {h0.shape, c0.shape}')\n",
    "\n",
    "X, _ = model.rnn(X, (h0, c0))\n",
    "print(f'Shape of the image after passing through the {model.rnn}: \\n {X.shape}\\n')\n",
    "\n",
    "X = model.fc(X)\n",
    "print(f'Shape of the image after passing through the {model.fc}: \\n {X.shape}\\n')"
   ]
  },
  {
   "cell_type": "code",
   "execution_count": 44,
   "id": "b6fb3ded",
   "metadata": {
    "execution": {
     "iopub.execute_input": "2024-03-15T10:43:09.600119Z",
     "iopub.status.busy": "2024-03-15T10:43:09.599462Z",
     "iopub.status.idle": "2024-03-15T10:43:10.115441Z",
     "shell.execute_reply": "2024-03-15T10:43:10.114583Z"
    },
    "papermill": {
     "duration": 0.538834,
     "end_time": "2024-03-15T10:43:10.117540",
     "exception": false,
     "start_time": "2024-03-15T10:43:09.578706",
     "status": "completed"
    },
    "tags": []
   },
   "outputs": [
    {
     "name": "stdout",
     "output_type": "stream",
     "text": [
      "torch.Size([128, 1]) torch.Size([128, 1])\n",
      "tensor([[ 7.],\n",
      "        [11.],\n",
      "        [ 8.],\n",
      "        [10.],\n",
      "        [13.]], device='cuda:0')\n",
      "tensor([[0.0223],\n",
      "        [0.0223],\n",
      "        [0.0223],\n",
      "        [0.0223],\n",
      "        [0.0223]], device='cuda:0', grad_fn=<SliceBackward0>)\n"
     ]
    }
   ],
   "source": [
    "#PRINT OUT SOME OUTPUTS TO COMPARE BETWEEN PREDICTIONS AND TARGETS\n",
    "for inputs, target in train_gen():\n",
    "    inputs, target = inputs.to(device), target.to(device)\n",
    "    #Perform the prediction\n",
    "    #ypred = torch.round(model(inputs))\n",
    "    ypred = (model(inputs))\n",
    "    print(target.shape, ypred.shape)\n",
    "    print(target[:5])\n",
    "    print(ypred[:5])\n",
    "    break"
   ]
  },
  {
   "cell_type": "markdown",
   "id": "e663d2e9",
   "metadata": {
    "papermill": {
     "duration": 0.018827,
     "end_time": "2024-03-15T10:43:10.155462",
     "exception": false,
     "start_time": "2024-03-15T10:43:10.136635",
     "status": "completed"
    },
    "tags": []
   },
   "source": [
    "## Training loop for RNN"
   ]
  },
  {
   "cell_type": "code",
   "execution_count": 45,
   "id": "96c47b9b",
   "metadata": {
    "execution": {
     "iopub.execute_input": "2024-03-15T10:43:10.196354Z",
     "iopub.status.busy": "2024-03-15T10:43:10.195775Z",
     "iopub.status.idle": "2024-03-15T10:43:10.200529Z",
     "shell.execute_reply": "2024-03-15T10:43:10.199745Z"
    },
    "papermill": {
     "duration": 0.027363,
     "end_time": "2024-03-15T10:43:10.202517",
     "exception": false,
     "start_time": "2024-03-15T10:43:10.175154",
     "status": "completed"
    },
    "tags": []
   },
   "outputs": [],
   "source": [
    "criterion = nn.MSELoss()\n",
    "optimizer = torch.optim.Adam(model.parameters())"
   ]
  },
  {
   "cell_type": "code",
   "execution_count": 46,
   "id": "608bcaa9",
   "metadata": {
    "execution": {
     "iopub.execute_input": "2024-03-15T10:43:10.242254Z",
     "iopub.status.busy": "2024-03-15T10:43:10.241591Z",
     "iopub.status.idle": "2024-03-15T11:01:21.955707Z",
     "shell.execute_reply": "2024-03-15T11:01:21.954460Z"
    },
    "papermill": {
     "duration": 1091.736835,
     "end_time": "2024-03-15T11:01:21.958446",
     "exception": false,
     "start_time": "2024-03-15T10:43:10.221611",
     "status": "completed"
    },
    "tags": []
   },
   "outputs": [
    {
     "name": "stdout",
     "output_type": "stream",
     "text": [
      "Epoch: 0/50, train loss:  7.8485              test_loss:  7.5075, duration: 0:00:21.846371\n",
      "Epoch: 10/50, train loss:  0.5377              test_loss:  0.4341, duration: 0:00:21.807478\n",
      "Epoch: 20/50, train loss:  0.1728              test_loss:  0.1494, duration: 0:00:21.873519\n",
      "Epoch: 30/50, train loss:  0.1262              test_loss:  0.0938, duration: 0:00:21.879619\n",
      "Epoch: 40/50, train loss:  0.0738              test_loss:  0.0572, duration: 0:00:21.948795\n"
     ]
    }
   ],
   "source": [
    "train_losses, test_losses=batch_gd(model, criterion, optimizer, 50,  cnn=False)"
   ]
  },
  {
   "cell_type": "code",
   "execution_count": 47,
   "id": "dcba6c57",
   "metadata": {
    "execution": {
     "iopub.execute_input": "2024-03-15T11:01:21.999644Z",
     "iopub.status.busy": "2024-03-15T11:01:21.999312Z",
     "iopub.status.idle": "2024-03-15T11:01:22.337282Z",
     "shell.execute_reply": "2024-03-15T11:01:22.336420Z"
    },
    "papermill": {
     "duration": 0.360721,
     "end_time": "2024-03-15T11:01:22.339517",
     "exception": false,
     "start_time": "2024-03-15T11:01:21.978796",
     "status": "completed"
    },
    "tags": []
   },
   "outputs": [
    {
     "data": {
      "image/png": "[encoded data removed]",
      "text/plain": [
       "<Figure size 640x480 with 1 Axes>"
      ]
     },
     "metadata": {},
     "output_type": "display_data"
    }
   ],
   "source": [
    "plot_losses(train_losses, test_losses)"
   ]
  },
  {
   "cell_type": "code",
   "execution_count": 48,
   "id": "6a590971",
   "metadata": {
    "execution": {
     "iopub.execute_input": "2024-03-15T11:01:22.380980Z",
     "iopub.status.busy": "2024-03-15T11:01:22.380712Z",
     "iopub.status.idle": "2024-03-15T11:01:34.126469Z",
     "shell.execute_reply": "2024-03-15T11:01:34.125529Z"
    },
    "papermill": {
     "duration": 11.76832,
     "end_time": "2024-03-15T11:01:34.128516",
     "exception": false,
     "start_time": "2024-03-15T11:01:22.360196",
     "status": "completed"
    },
    "tags": []
   },
   "outputs": [
    {
     "name": "stdout",
     "output_type": "stream",
     "text": [
      "Train acc: 0.9804, Test acc: 0.9755\n"
     ]
    }
   ],
   "source": [
    "train_acc, test_acc = calc_accuracy(model, cnn= False)\n",
    "print(f\"Train acc: {train_acc:.4f}, Test acc: {test_acc:.4f}\")"
   ]
  },
  {
   "cell_type": "code",
   "execution_count": 49,
   "id": "9e6e9b6b",
   "metadata": {
    "execution": {
     "iopub.execute_input": "2024-03-15T11:01:34.169537Z",
     "iopub.status.busy": "2024-03-15T11:01:34.168848Z",
     "iopub.status.idle": "2024-03-15T11:01:34.176594Z",
     "shell.execute_reply": "2024-03-15T11:01:34.175835Z"
    },
    "papermill": {
     "duration": 0.029812,
     "end_time": "2024-03-15T11:01:34.178374",
     "exception": false,
     "start_time": "2024-03-15T11:01:34.148562",
     "status": "completed"
    },
    "tags": []
   },
   "outputs": [],
   "source": [
    "torch.save(model, '/kaggle/working/saved_models/RNN_cicy4_h11.pt')"
   ]
  }
 ],
 "metadata": {
  "kaggle": {
   "accelerator": "nvidiaTeslaT4",
   "dataSources": [
    {
     "datasetId": 4575883,
     "sourceId": 7824074,
     "sourceType": "datasetVersion"
    }
   ],
   "dockerImageVersionId": 30664,
   "isGpuEnabled": true,
   "isInternetEnabled": true,
   "language": "python",
   "sourceType": "notebook"
  },
  "kernelspec": {
   "display_name": "Python 3",
   "language": "python",
   "name": "python3"
  },
  "language_info": {
   "codemirror_mode": {
    "name": "ipython",
    "version": 3
   },
   "file_extension": ".py",
   "mimetype": "text/x-python",
   "name": "python",
   "nbconvert_exporter": "python",
   "pygments_lexer": "ipython3",
   "version": "3.10.13"
  },
  "papermill": {
   "default_parameters": {},
   "duration": 2634.400832,
   "end_time": "2024-03-15T11:01:36.571327",
   "environment_variables": {},
   "exception": null,
   "input_path": "__notebook__.ipynb",
   "output_path": "__notebook__.ipynb",
   "parameters": {},
   "start_time": "2024-03-15T10:17:42.170495",
   "version": "2.5.0"
  }
 },
 "nbformat": 4,
 "nbformat_minor": 5
}
